{
 "cells": [
  {
   "cell_type": "markdown",
   "id": "dbf87237-524d-4782-b5e8-de6f0a2c56a9",
   "metadata": {
    "tags": []
   },
   "source": [
    "Copyright ENEOS, Corp. and  Preferred Computational Chemistry as contributors to Matlantis contrib project  \n",
    ":2023/10/30 ENEOS Ibuka  \n",
    "\n",
    "This document was machine translated from Japanese to English.\n",
    "\n",
    "### Matviewer  \n",
    " \n",
    "Matviewer is a tool in Matlantis that provides a graphical user interface (GUI) for obtaining molecule and crystal structures, processing data, and conducting analyses such as OPT, NEB, and VIB.\\\n",
    "Once you execute the installation with Install.ipynb, you can run it in other folders. It is compatible with Python 3.8 and 3.9."
   ]
  },
  {
   "cell_type": "markdown",
   "id": "5d6126fc-5c15-41a3-b9ab-7c9fc23930a9",
   "metadata": {},
   "source": [
    "Feature Description"
   ]
  },
  {
   "cell_type": "markdown",
   "id": "2f6deb85-bccd-4021-98a6-264510f54ef5",
   "metadata": {
    "tags": []
   },
   "source": [
    "・Overall Usage\\\n",
    "　　・Initially on the left, [Setting] is displayed where you can configure Calc, surface size, color. Full-screen mode is also supported.\\\n",
    "　　・In Matviewer, displays, edits, and calculations are managed by Traj numbers # and image numbers within Traj ##.\\\n",
    "　　・To manage multiple structures, use Add# and Add## buttons to reserve update area numbers. You can delete the displayed areas with Del# and Del##.\\\n",
    "　　・For Traj# with multiple ##, you can display epot and force by pressing the plot button.\\\n",
    "　　・[Save] All current registrations will be saved. This will be loaded the next time you start (it is also zipped, allowing for restoration of past saves).\\\n",
    "　　・Click on the checkbox labeled \"calc\" to display the current energy and maximum force.\\\n",
    "　　　The set button shows the difference in energy dE compared to the registered values, which is convenient for NEB and adsorption studies.\n",
    "\n",
    "・ADD MENU\\\n",
    "　　・[FILE] Loads existing Atoms or traj files. Supports multiple structures.\\\n",
    "　　・[SMILES or Draw] You can create Atoms from molecular drawings with JSME or from SMILES.\\\n",
    "  　　　　The Conformer button allows you to search for other structures with the same SMILES.\\\n",
    "　　・[Crystal] You can search and load from Materials Project data (mp.gz). After searching, you can display and load by clicking the view button.\n",
    "\n",
    "・EDIT MENU\\\n",
    "　　・[Move] You can move and rotate specified index atoms, and you can also move them by setting atomic distances. Undo is supported.\\\n",
    "　　　　　Index specification can be done by position index or conect, where you can set the molecule connected to the specified number (-1 for the last atom).\\\n",
    "　　　　　mult allows you to control the connection determination value.\\\n",
    "　　・[Utiledit] Allows atom substitution, deletion, and also sorting of numbers and wrap.\\\n",
    "　　・[Repeat] This is the function of atoms.repeat. It is automatically set for non-pbc molecules, but you can set the size with allowance.\\\n",
    "　　・[Cell] Displays and allows setting the Cell information.\\\n",
    "　　・[Surface] This is the functionality of pymatgen's SlabGenerator. The function creates a small slab in x and y axes so it is better to perform Repeat([2,2,1]) afterwards.\\\n",
    "　　・[Attach] Creates a combined Atoms by specifying the distance between a0 of Atoms0 and a1 of Atoms1.\\\n",
    "　　　　　An automated rotation and translation structure is created to avoid as much interference between other atoms as possible.\\\n",
    "　　　　　It can be used for NEB initial and final structure creation, monomer-to-dimer-to-oligomer creation, adding molecules to slabs, etc.\\\n",
    "　　　　　If OPT is set to a number greater than 1, an opt with fixed distance can be performed. Simply combining A + B (cell follows A) is also possible.\\\n",
    "　　・[Liquid] Creates a liquid structure by specifying the molecule count and density. This uses the liquid_generator developed by PFN and included in Matlantis contrib.\\\n",
    "　　・[Traj] Allows you to copy and add or swap specified Traj numbers # and image numbers ##.\n",
    "\n",
    "\n",
    "・CALC MENU\\\n",
    "　　・[Setting] Settings for Calc or screen size (right side), color settings (for the entire app, NGL) are possible. Full-screen mode is also supported.\\\n",
    "　　・[OPT] Performs structure optimization with LGBFS. Cell opt is also selectable. Results are also saved in ./output/opt. Constraint only supports FixAtoms.\\\n",
    "　　・[VIB] Conducts vibration analysis. You can also check the movement for the specified vibration mode in the view. Temperature can be set as well.\\\n",
    "　　　　VIB information from the last performed atoms or traj in ./output/vib/ can be read.\\\n",
    "　　・[Thermo] Energy calculations under Thermo, HARMONIC conditions are possible with atoms that have VIB settings.\\\n",
    "　　・[MD_NVT] NVT can be performed. Operation has only been confirmed for a few thousand iterations."
   ]
  },
  {
   "cell_type": "code",
   "execution_count": null,
   "id": "1d5ae962-571e-4cff-8bec-8cd9d5b230e1",
   "metadata": {
    "tags": []
   },
   "outputs": [],
   "source": [
    "import matviewer "
   ]
  },
  {
   "cell_type": "code",
   "execution_count": null,
   "id": "73c3477c-c8f9-4cfa-93e5-e5fd669a5398",
   "metadata": {
    "tags": []
   },
   "outputs": [],
   "source": [
    "matv = matviewer.Matviewer()"
   ]
  },
  {
   "cell_type": "code",
   "execution_count": null,
   "id": "44eee976-61fe-453c-ae1c-26c753b5ace5",
   "metadata": {
    "tags": []
   },
   "outputs": [],
   "source": [
    "matv"
   ]
  },
  {
   "cell_type": "code",
   "execution_count": null,
   "id": "cb7644b7-85ee-4365-b314-8ce2f0eb355f",
   "metadata": {
    "tags": []
   },
   "outputs": [],
   "source": [
    "matv.atoms"
   ]
  },
  {
   "cell_type": "code",
   "execution_count": null,
   "id": "21b1bab8-a8db-4551-9df2-3bdaad46988d",
   "metadata": {
    "tags": []
   },
   "outputs": [],
   "source": [
    "#latoms_list ADD# List of lists of Atoms registered in ##.\n",
    "matv.latoms_list[-1][0]"
   ]
  },
  {
   "cell_type": "code",
   "execution_count": null,
   "id": "eb165644-7514-47b0-bf29-0d2b8d1c5c22",
   "metadata": {
    "tags": []
   },
   "outputs": [],
   "source": [
    "#Add Atoms from separate work\n",
    "import ase\n",
    "o2 = ase.Atoms(\"O2\",[[0,0,0],[0,0,1]])\n",
    "matv + o2 \n",
    "#matv.add_atoms(o2) 　でも可能"
   ]
  },
  {
   "cell_type": "code",
   "execution_count": null,
   "id": "df414776-52ff-4a06-ad5c-9691f0532124",
   "metadata": {
    "tags": []
   },
   "outputs": [],
   "source": [
    "#Add Atoms list from separate work\n",
    "h2 = ase.Atoms(\"H2\",[[0,0,0],[0,0,0.75]])\n",
    "matv.add_atoms([h2,o2])\n",
    "#matv + [o2,h2] also available"
   ]
  },
  {
   "cell_type": "code",
   "execution_count": null,
   "id": "5c98d09b-239d-4346-9590-51476793c6de",
   "metadata": {
    "tags": []
   },
   "outputs": [],
   "source": [
    "#ADD-Crystal after search\n",
    "display(\"results\",matv.crystalsearch.cands.head())\n",
    "display(\"mp-db all\",matv.crystalsearch.df.head())"
   ]
  },
  {
   "cell_type": "code",
   "execution_count": null,
   "id": "ac3db7f1-d040-48b0-a54c-1f84db0abb38",
   "metadata": {
    "tags": []
   },
   "outputs": [],
   "source": [
    "#ADD-MOF after search\n",
    "display(\"results\",matv.mofsearch.cands.head())\n",
    "display(\"mof-db all\",matv.mofsearch.df.head())"
   ]
  },
  {
   "cell_type": "markdown",
   "id": "fdc1e03a-c5c5-4d67-9e2d-dd4a60646d38",
   "metadata": {},
   "source": [
    "Update History"
   ]
  },
  {
   "cell_type": "markdown",
   "id": "95a5d05d-50e6-4059-9dec-6174a729eaee",
   "metadata": {
    "tags": []
   },
   "source": [
    "2023/8/1  :v0.0.1 Initial release\\\n",
    "2023/8/16 :v0.0.2\\\n",
    "・[Setting] Adjustments to Calc settings, screen size, full-screen mode, color compatibility, visibility in Light Mode\\\n",
    "・Installer for autodE and cython added for those who don't already have it\\\n",
    "・Liquidgenerator moved to a separate file (torch import requires a large amount of memory only when executed)\\\n",
    "2023/8/18 :v0.0.3\\\n",
    "・Added fixbond to OPT, various screen fine-tuning, nglview memory deletion to avoid sluggish performance\\\n",
    "2023/8/24 :v0.0.4:\\\n",
    "・Screen adjustments; sliders shown only for traj with atoms, plot button also added\\\n",
    "・Added OPT, NEB, graph display features; particularly valuable for speed. Traj plots also accelerated with parallel computation\\\n",
    "・Run plotly first time in background with tread to avoid slowness\\\n",
    "・Attach feature supports PBC, making it usable for catalyst surface adsorption\\\n",
    "2023/9/12 :v0.1.0\\\n",
    "・OOM max value setting: Atoms 20000, Traj count 500, file display 500, 500MB for Liq, 1000 atoms for vib\\\n",
    "・Molecule SMILES conformer supported\\\n",
    "・Save and load functionality for vib (delta and H written in atoms.info of Atoms)\\\n",
    "・Thermo support for IDEAL and HARMONIC (not yet CRYSTAL), graph display included\\\n",
    "・ULITEDIT:wrap feature, EDIT CELL settings, Traj: Traj editing, and Attach:A + B (maintaining A cell) added to EDIT\\\n",
    "・For processes returning multiple images, Traj# is added, and otherwise, # ## is overwritten\\\n",
    "2023/10/30 :v0.1.1\\\n",
    "・Python 3.9 compatibility (Pandas pickle compatibility)\\\n",
    "・Search possible by Crystal ID and Formula\\\n",
    "・MOFs added\\\n",
    "\n",
    "2024/11/25 :v0.1.2\\\n",
    "・Update for ASE 3.23 (FixSymmetry, NEB etc.)  \n",
    "・Change GUI background color"
   ]
  },
  {
   "cell_type": "markdown",
   "id": "d2ea2130-a779-418e-a378-1ce84e6c6cc2",
   "metadata": {},
   "source": [
    "Known Issues\\\n",
    "・onsumes around 1 GB of memory or more. Error handling is insufficient. Please use at your own risk."
   ]
  }
 ],
 "metadata": {
  "kernelspec": {
   "display_name": "Python 3.9",
   "language": "python",
   "name": "python39"
  },
  "language_info": {
   "codemirror_mode": {
    "name": "ipython",
    "version": 3
   },
   "file_extension": ".py",
   "mimetype": "text/x-python",
   "name": "python",
   "nbconvert_exporter": "python",
   "pygments_lexer": "ipython3",
   "version": "3.9.16"
  },
  "widgets": {
   "application/vnd.jupyter.widget-state+json": {
    "state": {},
    "version_major": 2,
    "version_minor": 0
   }
  }
 },
 "nbformat": 4,
 "nbformat_minor": 5
}
