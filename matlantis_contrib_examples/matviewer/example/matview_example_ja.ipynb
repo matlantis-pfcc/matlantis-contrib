{
 "cells": [
  {
   "cell_type": "markdown",
   "id": "dbf87237-524d-4782-b5e8-de6f0a2c56a9",
   "metadata": {
    "tags": []
   },
   "source": [
    "Copyright ENEOS, Corp. and  Preferred Computational Chemistry as contributors to Matlantis contrib project  \n",
    ":2023/10/30 ENEOS Ibuka  \n",
    "### Matviewer  \n",
    " Matlantis で分子、結晶構造の取得、加工、OPT,NEB,VIB などの解析をGUIで行うツールです。  \n",
    " インストールをInstall.ipynbで一度実行すれば他のフォルダでも実行出来ます。  Python3.8,3.9に対応しています"
   ]
  },
  {
   "cell_type": "markdown",
   "id": "5d6126fc-5c15-41a3-b9ab-7c9fc23930a9",
   "metadata": {},
   "source": [
    "機能説明  "
   ]
  },
  {
   "cell_type": "markdown",
   "id": "2f6deb85-bccd-4021-98a6-264510f54ef5",
   "metadata": {
    "tags": []
   },
   "source": [
    "・全体  \n",
    "　　・初期左側　[Setting] が表示されCalc,面サイズ,色を設定できます。全画面モードも対応しています  \n",
    "　　・MatviewerではTraj番号#　とTraj内のimage番号##で表示、編集、計算を管理しています  \n",
    "　　・複数の構造を管理するためにはAdd# Add##　ボタンで更新領域Noを確保します。  \n",
    "　　　Del#,Del##で表示されている領域を削除できます。  \n",
    "　　・複数の##を持つTraj#ではplot ボタンを押すことでepot ,force を表示できます。  \n",
    "　　・[Save]  現在の登録すべてが保存されます。　次回起動するときはこれが読み込まれます。(zip化も同時にされ過去復元も可能）  \n",
    "　　・下のチェックボックスcalcで現在のenergy と max forceが表示されます。  \n",
    "　　　setボタンで登録した値との差分dEも表示されるのでNEBや吸着で便利です  \n",
    "  \n",
    "・ADD MENU  \n",
    "　　[FILE] 既存のAtoms または　traj ファイルを読込みます。複数構造に対応しています  \n",
    "　　[SILES or Draw]    JSMEによる分子描画またはSMILESからAtoms作成できます。  \n",
    "　　　　Conformer ボタンで同一SMILESでの他の構造を探索できます。  \n",
    "　　[Crystal]   Materials Project のデータ（mp.gz)から検索読込できます。serach後　view ボタンclick で表示読込できます。  \n",
    "  \n",
    "・EDIT MENU  \n",
    "　　[Move] 指定したindexの原子を移動、回転できます。　また原子距離を指定した移動もできます。　undo 対応しています  \n",
    "  　　　　index指定方法はpotistion index また conectでは指定番号とつながった分子の設定ができます（-1で最終原子指定可能）  \n",
    "  　　　　mult で接続判定値を制御できます  \n",
    "　　[Utiledit]  原子置換、削除が可能です。また番号のソートやwrap も可能です。   \n",
    "　　[Repeat]    atoms.repeat の機能です。　pbc=False の分子の場合自動で設定されますが、allowanceでサイズを設定できます   \n",
    "　　[Cell]    Cell の情報表示と設定が可能です  \n",
    "　　[Surface]  pymatgenのSlabGeneratorの機能です。 x,yは小さいスラブができるのでその後Repeat([2,2,1])等行うとよいです  \n",
    "　　[Attach]  Atoms0のa0 とAtoms1 のa1 の距離を指定して合体したAtoms を作成します。  \n",
    "　　　　他の原子同士の干渉ができるだけ無いように自動回転・移動した構造が作成されます。  \n",
    "　　　　NEBの初終構造作成や　モノマー→ダイマー→オリゴマー作成, スラブへの分子追加等で利用できます。  \n",
    "　　　　OPTを1以上の数設定すると距離固定のoptをすることができます。単純にA＋B(cellはAを踏襲）することもできます  \n",
    "　　[Liquid] 分子と数および密度を指定し液体構造を作成します。PFN社が開発したliquid_generator Matlantis contrib を利用しています <br/> \n",
    "　　[Traj] Traj番号# image番号##を指定したコピー追加やスワップができます。 \n",
    "\n",
    "  ・CALC MENU  \n",
    "　　[Setting]    Calcの設定　や画面サイズ（右側）、色（アプリ全体　NGL）設定できます。　全画面モードも対応しています。         \n",
    "　　[OPT]    LGBFS での構造最適化を行います。cellopt も選択可能。結果は./output/optにも保存.constraint はFixAtomsのみに対応 <br/> \n",
    "　　[VIB]  　振動解析を行います。 view で指定した振動モードの動きも確認できます。温度も設定できます。  \n",
    "　　　　　前回実施したatoms および./output/vib/内のtrajではVIB情報をREAD可能です。  \n",
    "　　[Thermo]  VIB設定されているatoms でThermo、HARMONIC条件でのエネルギー計算が可能です。  \n",
    "　　[MD_NVT]  NVTができます。数千イタレーション以内での実行のみ動作確認しています。  "
   ]
  },
  {
   "cell_type": "code",
   "execution_count": null,
   "id": "1d5ae962-571e-4cff-8bec-8cd9d5b230e1",
   "metadata": {
    "tags": []
   },
   "outputs": [],
   "source": [
    "import matviewer "
   ]
  },
  {
   "cell_type": "code",
   "execution_count": null,
   "id": "73c3477c-c8f9-4cfa-93e5-e5fd669a5398",
   "metadata": {
    "tags": []
   },
   "outputs": [],
   "source": [
    "matv = matviewer.Matviewer()"
   ]
  },
  {
   "cell_type": "code",
   "execution_count": null,
   "id": "44eee976-61fe-453c-ae1c-26c753b5ace5",
   "metadata": {
    "tags": []
   },
   "outputs": [],
   "source": [
    "matv"
   ]
  },
  {
   "cell_type": "code",
   "execution_count": null,
   "id": "cb7644b7-85ee-4365-b314-8ce2f0eb355f",
   "metadata": {
    "tags": []
   },
   "outputs": [],
   "source": [
    "#表示しているatoms\n",
    "matv.atoms"
   ]
  },
  {
   "cell_type": "code",
   "execution_count": null,
   "id": "21b1bab8-a8db-4551-9df2-3bdaad46988d",
   "metadata": {
    "tags": []
   },
   "outputs": [],
   "source": [
    "#latoms_list　ADD# ##で登録したAtoms のリストのリスト\n",
    "matv.latoms_list[-1][0]"
   ]
  },
  {
   "cell_type": "code",
   "execution_count": null,
   "id": "eb165644-7514-47b0-bf29-0d2b8d1c5c22",
   "metadata": {
    "tags": []
   },
   "outputs": [],
   "source": [
    "#別作業からのAtomsの追加\n",
    "import ase\n",
    "o2 = ase.Atoms(\"O2\",[[0,0,0],[0,0,1]])\n",
    "matv + o2 \n",
    "#matv.add_atoms(o2) 　でも可能"
   ]
  },
  {
   "cell_type": "code",
   "execution_count": null,
   "id": "df414776-52ff-4a06-ad5c-9691f0532124",
   "metadata": {
    "tags": []
   },
   "outputs": [],
   "source": [
    "#別作業からのAtoms listの追加\n",
    "h2 = ase.Atoms(\"H2\",[[0,0,0],[0,0,0.75]])\n",
    "matv.add_atoms([h2,o2])\n",
    "#matv + [o2,h2] 出も可能"
   ]
  },
  {
   "cell_type": "code",
   "execution_count": null,
   "id": "5c98d09b-239d-4346-9590-51476793c6de",
   "metadata": {
    "tags": []
   },
   "outputs": [],
   "source": [
    "#ADD-Crystal で検索後\n",
    "display(\"results\",matv.crystalsearch.cands.head())\n",
    "display(\"mp-db all\",matv.crystalsearch.df.head())"
   ]
  },
  {
   "cell_type": "code",
   "execution_count": null,
   "id": "ac3db7f1-d040-48b0-a54c-1f84db0abb38",
   "metadata": {
    "tags": []
   },
   "outputs": [],
   "source": [
    "#ADD-MOF で検索後\n",
    "display(\"results\",matv.mofsearch.cands.head())\n",
    "display(\"mof-db all\",matv.mofsearch.df.head())"
   ]
  },
  {
   "cell_type": "markdown",
   "id": "fdc1e03a-c5c5-4d67-9e2d-dd4a60646d38",
   "metadata": {},
   "source": [
    "更新履歴"
   ]
  },
  {
   "cell_type": "markdown",
   "id": "95a5d05d-50e6-4059-9dec-6174a729eaee",
   "metadata": {
    "tags": []
   },
   "source": [
    "2023/8/1  :v0.0.1 初回リリース  \n",
    "2023/8/16 :v0.0.2  \n",
    "・[Setting] Calcの設定　や画面サイズ,全画面モード,色対応、LightMode可視対応  \n",
    "・Installer autodE およびcython もない人が入るように 追加  \n",
    "・Liquidgenerator を別ファイルに（torch  import メモリが大きく必要なときのみ実行）   \n",
    "2023/8/18 :v0.0.3  \n",
    "・OPTにfixbond 追加、　画面各種微修正、nglview メモリ削除し、動作重くなる問題回避  \n",
    "2023/8/24 :v0.0.4:  \n",
    "・画面修正　trajあるもののみスライダー表示するようにし　そこにplotボタンも追加  \n",
    "・OPT,NEB,グラフ表示機能追加　、特に速さを体感する上でも価値あり。またTrajのplotも並列計算で高速化   \n",
    "・plotly 一回目遅い問題回避のため、treadバックグラウンド実行  \n",
    "・AttachのPBC対応 触媒表面吸着でも利用できるように  \n",
    "2023/9/12 :v0.1.0  \n",
    " ・OOM対応最大値設定 Atoms:20000原子:Traj数500:ファイル表示500,500MB Liq:1000原子,vib500原子  \n",
    " ・分子　SMILES conformer 対応  \n",
    " ・vib 保存・読込機能　（Atoms の atoms.info にdeltaやH等書き込み  \n",
    " ・thermo 対応 IDEAL と HARMO （CRYSTALは未）　グラフも表示  \n",
    " ・EDITにULITEDIT:wrap機能,EDIT CELL設定機能,Traj:Traj編集機能,Attach:A＋B（Aセル保持）を追加  \n",
    " ・複数のイメージを返す処理は　Ｔraj# を追加し、それ以外は　# ## を上書きするように設定   \n",
    "2023/10/30 :v0.1.1  \n",
    "  ・Python3.9に対応（Pandas pikcle 互換)  \n",
    "  ・Crystal IDやFormulaでも検索可能とした  \n",
    "  ・MOFS追加  \n",
    "2024/11/25 : v0.1.2  \n",
    "  ・ASE 3.23に対応 (FixSymmetry, NEB等)  \n",
    "  ・GUIの背景色を変更  "
   ]
  },
  {
   "cell_type": "markdown",
   "id": "d2ea2130-a779-418e-a378-1ce84e6c6cc2",
   "metadata": {},
   "source": [
    "既知の問題\n",
    "  ・メモリ１G以上程度消費します。エラー処理は不十分。自己責任にてご利用ください"
   ]
  }
 ],
 "metadata": {
  "kernelspec": {
   "display_name": "Python 3.9",
   "language": "python",
   "name": "python39"
  },
  "language_info": {
   "codemirror_mode": {
    "name": "ipython",
    "version": 3
   },
   "file_extension": ".py",
   "mimetype": "text/x-python",
   "name": "python",
   "nbconvert_exporter": "python",
   "pygments_lexer": "ipython3",
   "version": "3.9.16"
  },
  "widgets": {
   "application/vnd.jupyter.widget-state+json": {
    "state": {
     "0004ce9b04fb4c9fb41380a1747b5d3a": {
      "model_module": "@jupyter-widgets/controls",
      "model_module_version": "1.5.0",
      "model_name": "DropdownModel",
      "state": {
       "_options_labels": [
        "EDIT",
        "Move",
        "Utiledit",
        "Repeat",
        "Cell",
        "Surface",
        "Attach",
        "Liquid",
        "Traj"
       ],
       "index": 0,
       "layout": "IPY_MODEL_5360ab3b93f14419b79118d341f2c895",
       "style": "IPY_MODEL_cfcf63bdb3e04ec283e8974109dbd4a0"
      }
     },
     "005310b0791b4caf9db1f508d83f2208": {
      "model_module": "@jupyter-widgets/controls",
      "model_module_version": "1.5.0",
      "model_name": "ButtonModel",
      "state": {
       "description": "Harmonic",
       "layout": "IPY_MODEL_5c9460e4fd3a463c842902c87e5e1d9e",
       "style": "IPY_MODEL_a1f3409e804a496c8996e85230ef2271"
      }
     },
     "009148cd830d465da0913dbd67418f8e": {
      "model_module": "@jupyter-widgets/base",
      "model_module_version": "1.2.0",
      "model_name": "LayoutModel",
      "state": {
       "width": "125px"
      }
     },
     "0100be15c93b4a76a9a6fec5427394cd": {
      "model_module": "@jupyter-widgets/base",
      "model_module_version": "1.2.0",
      "model_name": "LayoutModel",
      "state": {
       "width": "50px"
      }
     },
     "01555a23888b4d978b302604e66d420a": {
      "model_module": "@jupyter-widgets/controls",
      "model_module_version": "1.5.0",
      "model_name": "DescriptionStyleModel",
      "state": {
       "description_width": ""
      }
     },
     "018da09414bb441d908f036b6ca2404d": {
      "model_module": "@jupyter-widgets/base",
      "model_module_version": "1.2.0",
      "model_name": "LayoutModel",
      "state": {}
     },
     "01c84266f3e34861b8607868de50682f": {
      "model_module": "@jupyter-widgets/controls",
      "model_module_version": "1.5.0",
      "model_name": "DescriptionStyleModel",
      "state": {
       "description_width": "25px"
      }
     },
     "021468ac623745299deb75bbe3fd9cad": {
      "model_module": "@jupyter-widgets/controls",
      "model_module_version": "1.5.0",
      "model_name": "ButtonModel",
      "state": {
       "description": "Connect",
       "layout": "IPY_MODEL_bd2697bbb0e041c7a2cf32471d6db3bc",
       "style": "IPY_MODEL_f58e941df2634ab0961349068c2c5118"
      }
     },
     "022ff83ad765459b8217c0db41d5c80b": {
      "model_module": "@jupyter-widgets/controls",
      "model_module_version": "1.5.0",
      "model_name": "TextModel",
      "state": {
       "description": "path",
       "layout": "IPY_MODEL_d5817418ac3845869623410e33b134e2",
       "style": "IPY_MODEL_94beed439a8348dfa2362a573260aba4",
       "value": "./output/md/NVT_"
      }
     },
     "027169a196e347bf8a36905380ca49fe": {
      "model_module": "@jupyter-widgets/controls",
      "model_module_version": "1.5.0",
      "model_name": "ButtonStyleModel",
      "state": {}
     },
     "02721a2c90594571b8741e69db688b74": {
      "model_module": "@jupyter-widgets/base",
      "model_module_version": "1.2.0",
      "model_name": "LayoutModel",
      "state": {
       "width": "90px"
      }
     },
     "028671f4ce244847ad66341572ffd932": {
      "model_module": "@jupyter-widgets/base",
      "model_module_version": "1.2.0",
      "model_name": "LayoutModel",
      "state": {
       "width": "110px"
      }
     },
     "029d190b719f480f8a70dfd1ac1d1c4f": {
      "model_module": "@jupyter-widgets/controls",
      "model_module_version": "1.5.0",
      "model_name": "CheckboxModel",
      "state": {
       "description": "order by z",
       "disabled": false,
       "layout": "IPY_MODEL_c28f8a575a8e426e86df3ab366c5ec37",
       "style": "IPY_MODEL_a0f374a804014f4faac2a3571cfbc3ac",
       "value": false
      }
     },
     "02b0ec2a98e84dcaad9e287b3597732e": {
      "model_module": "@jupyter-widgets/controls",
      "model_module_version": "1.5.0",
      "model_name": "LabelModel",
      "state": {
       "layout": "IPY_MODEL_2fce9b801ac44dd3a2c31e284d3e8392",
       "style": "IPY_MODEL_096e4f2430f64b2ab091e8aeccaa7bef",
       "value": "For Move/Rote"
      }
     },
     "02ede84cc7854c1490bcebf1140f7992": {
      "model_module": "@jupyter-widgets/controls",
      "model_module_version": "1.5.0",
      "model_name": "HBoxModel",
      "state": {
       "children": [
        "IPY_MODEL_f84107dd55734f7997517e732c66f3e8",
        "IPY_MODEL_966c6ec81ef648d38b120bdd86f3ea0c"
       ],
       "layout": "IPY_MODEL_f0da9bc487f4421ebd7ace82d81cd7df"
      }
     },
     "039ca96572ca4fac814da3604d74602d": {
      "model_module": "@jupyter-widgets/base",
      "model_module_version": "1.2.0",
      "model_name": "LayoutModel",
      "state": {
       "width": "380px"
      }
     },
     "03a4014bd768433aa086a5bd1707fe02": {
      "model_module": "@jupyter-widgets/base",
      "model_module_version": "1.2.0",
      "model_name": "LayoutModel",
      "state": {
       "width": "300px"
      }
     },
     "040cf0a6a334468eaa7558c0ace3dc31": {
      "model_module": "@jupyter-widgets/controls",
      "model_module_version": "1.5.0",
      "model_name": "ButtonModel",
      "state": {
       "description": "Add##",
       "layout": "IPY_MODEL_7b5b7f00949e47748a971c2921fa71c1",
       "style": "IPY_MODEL_fabb051a91664b449a0e8e2a828b05ed"
      }
     },
     "04859999c73a437299f0df8affd90f45": {
      "model_module": "@jupyter-widgets/controls",
      "model_module_version": "1.5.0",
      "model_name": "ButtonStyleModel",
      "state": {}
     },
     "04920e7e569e4e43be2737440eeb2d39": {
      "model_module": "@jupyter-widgets/controls",
      "model_module_version": "1.5.0",
      "model_name": "IntTextModel",
      "state": {
       "description": "min_slab",
       "layout": "IPY_MODEL_9d6e7993d7484a0c8523160994edcc82",
       "step": 1,
       "style": "IPY_MODEL_c05b3422e448488cb1ef81bd26927f94",
       "value": 15
      }
     },
     "04b82d6c93f34af3b3bfafcd4be671fb": {
      "model_module": "@jupyter-widgets/base",
      "model_module_version": "1.2.0",
      "model_name": "LayoutModel",
      "state": {}
     },
     "04ee17ffdbf14f6a9de9cf7e55ed4e1b": {
      "model_module": "@jupyter-widgets/controls",
      "model_module_version": "1.5.0",
      "model_name": "DescriptionStyleModel",
      "state": {
       "description_width": ""
      }
     },
     "04fc5b9a76614443a0eb12517a9fa20e": {
      "model_module": "@jupyter-widgets/controls",
      "model_module_version": "1.5.0",
      "model_name": "IntTextModel",
      "state": {
       "description": "from",
       "layout": "IPY_MODEL_d3a7424acdcb45319d4e197679dc4cba",
       "step": 1,
       "style": "IPY_MODEL_cdc55055ca9c4a95a3a81cc0db21f159"
      }
     },
     "0576782b79774de28cb1067ffe5fffb6": {
      "model_module": "@jupyter-widgets/base",
      "model_module_version": "1.2.0",
      "model_name": "LayoutModel",
      "state": {
       "width": "140px"
      }
     },
     "06174373a1774069a5eda09e2bf5bf6d": {
      "model_module": "@jupyter-widgets/base",
      "model_module_version": "1.2.0",
      "model_name": "LayoutModel",
      "state": {}
     },
     "0674f0ea0c0b4d70950a033fde7cbca7": {
      "model_module": "@jupyter-widgets/controls",
      "model_module_version": "1.5.0",
      "model_name": "DropdownModel",
      "state": {
       "_options_labels": [
        "0",
        "1",
        "2",
        "3",
        "4",
        "5"
       ],
       "description": "millery",
       "index": 1,
       "layout": "IPY_MODEL_d792ac86ec244f24a2a412e8a4804ff0",
       "style": "IPY_MODEL_1522b0ecccbb4b6baaa90c6c5ccb3560"
      }
     },
     "079a529745444861bf928e976826ec0c": {
      "model_module": "@jupyter-widgets/controls",
      "model_module_version": "1.5.0",
      "model_name": "DescriptionStyleModel",
      "state": {
       "description_width": "35px"
      }
     },
     "079ae19420504c12828e48c1fed3f61b": {
      "model_module": "@jupyter-widgets/controls",
      "model_module_version": "1.5.0",
      "model_name": "HBoxModel",
      "state": {
       "children": [
        "IPY_MODEL_9bd1e1b4d9bb4b17b9702d9b1484c2a3",
        "IPY_MODEL_fa0f334472c340b68f905faa610acf82",
        "IPY_MODEL_bf7a10e70d73463ba14315da54f58300",
        "IPY_MODEL_d2153d4365a84eac9a5e8049fa4a1236",
        "IPY_MODEL_63e9c1b3d91b41168420dd65afc66aa3"
       ],
       "layout": "IPY_MODEL_b8c7a63c2f394cb8a3f65251e0a28f6c"
      }
     },
     "07a50bc664604d608499a85dbd41b778": {
      "model_module": "@jupyter-widgets/controls",
      "model_module_version": "1.5.0",
      "model_name": "DescriptionStyleModel",
      "state": {
       "description_width": ""
      }
     },
     "0873323eea8647019bea5fad0a8bc243": {
      "model_module": "@jupyter-widgets/base",
      "model_module_version": "1.2.0",
      "model_name": "LayoutModel",
      "state": {}
     },
     "087f70778af348668669c5f2ad0502b1": {
      "model_module": "@jupyter-widgets/controls",
      "model_module_version": "1.5.0",
      "model_name": "IntTextModel",
      "state": {
       "description": "steps",
       "layout": "IPY_MODEL_009148cd830d465da0913dbd67418f8e",
       "step": 5,
       "style": "IPY_MODEL_195bf929cae148c695c708b6e2034e2d",
       "value": 50
      }
     },
     "08a832934a554c75ac1a3ae0dc186f1c": {
      "model_module": "@jupyter-widgets/base",
      "model_module_version": "1.2.0",
      "model_name": "LayoutModel",
      "state": {
       "width": "370px"
      }
     },
     "08e98514a65443ff86f38e1edf91637d": {
      "model_module": "@jupyter-widgets/base",
      "model_module_version": "1.2.0",
      "model_name": "LayoutModel",
      "state": {
       "height": "290px",
       "width": "385px"
      }
     },
     "08fef53e88cf4e5a8980a75a2288b734": {
      "model_module": "@jupyter-widgets/base",
      "model_module_version": "1.2.0",
      "model_name": "LayoutModel",
      "state": {
       "width": "140px"
      }
     },
     "096e4f2430f64b2ab091e8aeccaa7bef": {
      "model_module": "@jupyter-widgets/controls",
      "model_module_version": "1.5.0",
      "model_name": "DescriptionStyleModel",
      "state": {
       "description_width": ""
      }
     },
     "098ae2e19528413fb6158e3cf6ce6950": {
      "model_module": "@jupyter-widgets/controls",
      "model_module_version": "1.5.0",
      "model_name": "DescriptionStyleModel",
      "state": {
       "description_width": "30px"
      }
     },
     "099bbd934dbd48a9befa683b0eb16044": {
      "model_module": "@jupyter-widgets/controls",
      "model_module_version": "1.5.0",
      "model_name": "DescriptionStyleModel",
      "state": {
       "description_width": "50px"
      }
     },
     "09c76fb1d7084e9c888e7baad1bd4c93": {
      "model_module": "@jupyter-widgets/controls",
      "model_module_version": "1.5.0",
      "model_name": "ButtonModel",
      "state": {
       "description": "wrap this",
       "layout": "IPY_MODEL_cd53af87605c4bfa8cf522ab368aa9be",
       "style": "IPY_MODEL_1078659b5c694184bd1e10cce3ed781a"
      }
     },
     "09cbbbe882b14a068e6cb0531ca5b5e8": {
      "model_module": "@jupyter-widgets/base",
      "model_module_version": "1.2.0",
      "model_name": "LayoutModel",
      "state": {}
     },
     "09cf8896bd434b92afcd7874ed1fc392": {
      "model_module": "@jupyter-widgets/controls",
      "model_module_version": "1.5.0",
      "model_name": "ButtonStyleModel",
      "state": {}
     },
     "09efd0dd7502439eb6872528cb056474": {
      "model_module": "@jupyter-widgets/base",
      "model_module_version": "1.2.0",
      "model_name": "LayoutModel",
      "state": {}
     },
     "0a82c969e4e849888af77c575f8a6f02": {
      "model_module": "@jupyter-widgets/base",
      "model_module_version": "1.2.0",
      "model_name": "LayoutModel",
      "state": {
       "width": "80px"
      }
     },
     "0aa5aac7b07d4e99858f9b0fb3e5472c": {
      "model_module": "@jupyter-widgets/base",
      "model_module_version": "1.2.0",
      "model_name": "LayoutModel",
      "state": {}
     },
     "0bf81cb53bf54db28a2cd53b4dd1d418": {
      "model_module": "@jupyter-widgets/controls",
      "model_module_version": "1.5.0",
      "model_name": "DescriptionStyleModel",
      "state": {
       "description_width": "8px"
      }
     },
     "0bf8c4811e5a421594806100a609904b": {
      "model_module": "@jupyter-widgets/base",
      "model_module_version": "1.2.0",
      "model_name": "LayoutModel",
      "state": {
       "width": "150px"
      }
     },
     "0c2389dbbbab41b29284ac4031bb5e53": {
      "model_module": "@jupyter-widgets/base",
      "model_module_version": "1.2.0",
      "model_name": "LayoutModel",
      "state": {
       "width": "120px"
      }
     },
     "0c6ef86e3e754532b1425b9f36983cbc": {
      "model_module": "@jupyter-widgets/base",
      "model_module_version": "1.2.0",
      "model_name": "LayoutModel",
      "state": {
       "width": "130px"
      }
     },
     "0cb23258e4b445e6abae8f7af121d5e8": {
      "model_module": "@jupyter-widgets/controls",
      "model_module_version": "1.5.0",
      "model_name": "ButtonModel",
      "state": {
       "icon": "compress",
       "layout": "IPY_MODEL_1758176d58244c018bf3a349ba0c3a3f",
       "style": "IPY_MODEL_d448f20d91134f7d9db62e94a2175442"
      }
     },
     "0cde07ce93354002904031ef48260dbc": {
      "model_module": "@jupyter-widgets/controls",
      "model_module_version": "1.5.0",
      "model_name": "IntSliderModel",
      "state": {
       "description": "No",
       "layout": "IPY_MODEL_a18f75390a9e4922894f3d221b71e8b9",
       "max": 243,
       "style": "IPY_MODEL_24158686b6c54d7bbc69b818cbd2f921"
      }
     },
     "0ce846331faa4fe0877e22683abd8dfa": {
      "model_module": "@jupyter-widgets/base",
      "model_module_version": "1.2.0",
      "model_name": "LayoutModel",
      "state": {}
     },
     "0d3da6ca38db49709bb9e5be877b8b2a": {
      "model_module": "@jupyter-widgets/controls",
      "model_module_version": "1.5.0",
      "model_name": "ButtonModel",
      "state": {
       "description": "Connect",
       "layout": "IPY_MODEL_02721a2c90594571b8741e69db688b74",
       "style": "IPY_MODEL_991ebe821d1840219832d21065376884"
      }
     },
     "0e5c3e0e98c34ba3b0f47233bfaccd12": {
      "model_module": "@jupyter-widgets/controls",
      "model_module_version": "1.5.0",
      "model_name": "SliderStyleModel",
      "state": {
       "description_width": ""
      }
     },
     "0eaae0a79b1b430687934b8bbbafa6ae": {
      "model_module": "@jupyter-widgets/controls",
      "model_module_version": "1.5.0",
      "model_name": "DropdownModel",
      "state": {
       "_options_labels": [
        "v6.0.0",
        "v5.0.0",
        "v4.0.0",
        "v3.0.0",
        "v2.0.0",
        "v1.1.0",
        "v1.0.0",
        "v0.0.0",
        "latest"
       ],
       "description": "version",
       "index": 0,
       "layout": "IPY_MODEL_ddc1cf57df3f45c385e1439437ed80b4",
       "style": "IPY_MODEL_99882652413b44f8a071a25e419ccd6b"
      }
     },
     "0f431195766c4123b02e4ab19aa3ce5b": {
      "model_module": "@jupyter-widgets/controls",
      "model_module_version": "1.5.0",
      "model_name": "HBoxModel",
      "state": {
       "children": [
        "IPY_MODEL_4661de74f9ff4a71b3c226fcfd731660",
        "IPY_MODEL_6a3a3b6d1d5e4522b9d5c305f9987c2f"
       ],
       "layout": "IPY_MODEL_fd19a3bee94d47f38bbe4a3e048246cf"
      }
     },
     "0f94ba5d1db346af95bab47faec039f3": {
      "model_module": "@jupyter-widgets/base",
      "model_module_version": "1.2.0",
      "model_name": "LayoutModel",
      "state": {}
     },
     "0fe584ed2af14689a30b6116b4f07938": {
      "model_module": "@jupyter-widgets/controls",
      "model_module_version": "1.5.0",
      "model_name": "HBoxModel",
      "state": {
       "children": [
        "IPY_MODEL_60664f2d4ddd4072b1bd2bd1829c2b8b",
        "IPY_MODEL_96828d09d8554ac1870c7f35351e95b1",
        "IPY_MODEL_a41069253971485ea2ee8fd395c3bf62"
       ],
       "layout": "IPY_MODEL_c4553c29da9e4c7483da425e905595de"
      }
     },
     "101e802c77cf40a99372bd54cf92aae7": {
      "model_module": "@jupyter-widgets/controls",
      "model_module_version": "1.5.0",
      "model_name": "DescriptionStyleModel",
      "state": {
       "description_width": "45px"
      }
     },
     "10220ea3aea64bd6b3c4d73f0869beb0": {
      "model_module": "@jupyter-widgets/base",
      "model_module_version": "1.2.0",
      "model_name": "LayoutModel",
      "state": {}
     },
     "1023e93099134ae6bd0a4375a8ef09a6": {
      "model_module": "@jupyter-widgets/base",
      "model_module_version": "1.2.0",
      "model_name": "LayoutModel",
      "state": {
       "width": "150px"
      }
     },
     "1060319231e6464f962eb26d67ce8e42": {
      "model_module": "@jupyter-widgets/controls",
      "model_module_version": "1.5.0",
      "model_name": "ButtonModel",
      "state": {
       "description": "Del##",
       "layout": "IPY_MODEL_b3abbdf29a31413a8efd934f085e3ae6",
       "style": "IPY_MODEL_63595541acf54d75ae0a215d677100ba"
      }
     },
     "1078659b5c694184bd1e10cce3ed781a": {
      "model_module": "@jupyter-widgets/controls",
      "model_module_version": "1.5.0",
      "model_name": "ButtonStyleModel",
      "state": {}
     },
     "10c4a282a37f42c6849b8e5b6c82ef9b": {
      "model_module": "@jupyter-widgets/controls",
      "model_module_version": "1.5.0",
      "model_name": "FloatTextModel",
      "state": {
       "description": "tempK",
       "layout": "IPY_MODEL_b630acc707c3446498cedaa9607c27ce",
       "step": null,
       "style": "IPY_MODEL_3446bd4fd45a45b2b951d58198dac244",
       "value": 297.15
      }
     },
     "10ee3afbe4d54baa8845347faff4aa50": {
      "model_module": "@jupyter-widgets/base",
      "model_module_version": "1.2.0",
      "model_name": "LayoutModel",
      "state": {
       "width": "80px"
      }
     },
     "110ea8c493bf4c108956404db7dd8087": {
      "model_module": "@jupyter-widgets/controls",
      "model_module_version": "1.5.0",
      "model_name": "DescriptionStyleModel",
      "state": {
       "description_width": "40px"
      }
     },
     "1117bb4e3dea4ec99b51aa091d9c7ce4": {
      "model_module": "@jupyter-widgets/base",
      "model_module_version": "1.2.0",
      "model_name": "LayoutModel",
      "state": {
       "width": "150px"
      }
     },
     "1208645c69414e7ca193249fab7ba12f": {
      "model_module": "@jupyter-widgets/controls",
      "model_module_version": "1.5.0",
      "model_name": "DescriptionStyleModel",
      "state": {
       "description_width": "35px"
      }
     },
     "12d7f7d0720b4057a9d112881ebd77cb": {
      "model_module": "@jupyter-widgets/base",
      "model_module_version": "1.2.0",
      "model_name": "LayoutModel",
      "state": {
       "width": "160px"
      }
     },
     "1308c0558a574b1a826dc0d93ecb571b": {
      "model_module": "@jupyter-widgets/controls",
      "model_module_version": "1.5.0",
      "model_name": "IntTextModel",
      "state": {
       "description": "##",
       "layout": "IPY_MODEL_952665c290d24b018ffa09ba420cd1b4",
       "step": 1,
       "style": "IPY_MODEL_6c7b65b2534245c49931d6bdeb7f01f8"
      }
     },
     "132266efde43460eaaf80e767bacb7cd": {
      "model_module": "@jupyter-widgets/base",
      "model_module_version": "1.2.0",
      "model_name": "LayoutModel",
      "state": {
       "height": "30px",
       "width": "170px"
      }
     },
     "1323dc2f08054c61bfc21a522ee76204": {
      "model_module": "@jupyter-widgets/output",
      "model_module_version": "1.0.0",
      "model_name": "OutputModel",
      "state": {
       "layout": "IPY_MODEL_e24eb8fb9329458db8535b41ba1568a9"
      }
     },
     "135b405477d04222839ec8ab44980360": {
      "model_module": "@jupyter-widgets/base",
      "model_module_version": "1.2.0",
      "model_name": "LayoutModel",
      "state": {}
     },
     "1378329d627541aaa6732a248e2d6397": {
      "model_module": "@jupyter-widgets/base",
      "model_module_version": "1.2.0",
      "model_name": "LayoutModel",
      "state": {
       "height": "500px",
       "width": "900px"
      }
     },
     "13d4986da734447aaaa1c0d839d13d65": {
      "model_module": "@jupyter-widgets/controls",
      "model_module_version": "1.5.0",
      "model_name": "DescriptionStyleModel",
      "state": {
       "description_width": "55px"
      }
     },
     "13ea1c199ae44d5296e85632569b963a": {
      "model_module": "@jupyter-widgets/controls",
      "model_module_version": "1.5.0",
      "model_name": "IntTextModel",
      "state": {
       "description": "md_steps",
       "layout": "IPY_MODEL_dfdd16002abb4fc694e73555542a775a",
       "step": 100,
       "style": "IPY_MODEL_5c65e36ccdfb4ef3a2fe939338935462",
       "value": 1000
      }
     },
     "140ebae77a2044ce84db3e622f46edc4": {
      "model_module": "@jupyter-widgets/controls",
      "model_module_version": "1.5.0",
      "model_name": "CheckboxModel",
      "state": {
       "description": "calc",
       "disabled": false,
       "indent": false,
       "layout": "IPY_MODEL_b5c328fea21d4ff6851add3243562d5b",
       "style": "IPY_MODEL_4f76886b6e8343ae8bdf14bd3d047828",
       "value": false
      }
     },
     "142395ab38b442eb9a3f4688c41dfec5": {
      "model_module": "@jupyter-widgets/base",
      "model_module_version": "1.2.0",
      "model_name": "LayoutModel",
      "state": {}
     },
     "14461ff272d4422fa7f1fde52599f84d": {
      "model_module": "@jupyter-widgets/controls",
      "model_module_version": "1.5.0",
      "model_name": "ButtonModel",
      "state": {
       "description": "H",
       "layout": "IPY_MODEL_ec10af40dafa40ff9aa3459c17370fdb",
       "style": "IPY_MODEL_2032974a78644deca2c67aabd5af17d0"
      }
     },
     "1483ee4226914094b27f18bfd9778d7b": {
      "model_module": "@jupyter-widgets/controls",
      "model_module_version": "1.5.0",
      "model_name": "VBoxModel",
      "state": {
       "children": [
        "IPY_MODEL_beb37cd883a441af916b1a3b57a4cc16",
        "IPY_MODEL_e69cef3b4ef74ec0a28493e2c9b8073a",
        "IPY_MODEL_e695a1f5ba6b47dc9d7e6b9ef8c856ef"
       ],
       "layout": "IPY_MODEL_af98001bd6824eb09841114e5de6acbf"
      }
     },
     "14c782d1a9044c7ea56ef93c9b6d6720": {
      "model_module": "@jupyter-widgets/base",
      "model_module_version": "1.2.0",
      "model_name": "LayoutModel",
      "state": {}
     },
     "14c96140077e423aa23ebd1bebc58a24": {
      "model_module": "@jupyter-widgets/controls",
      "model_module_version": "1.5.0",
      "model_name": "IntTextModel",
      "state": {
       "description": "from",
       "layout": "IPY_MODEL_57a0fc5b43794751a47aeba247e33d2f",
       "step": 1,
       "style": "IPY_MODEL_494702a5720c4c99a009851a8cffbd54"
      }
     },
     "1522b0ecccbb4b6baaa90c6c5ccb3560": {
      "model_module": "@jupyter-widgets/controls",
      "model_module_version": "1.5.0",
      "model_name": "DescriptionStyleModel",
      "state": {
       "description_width": ""
      }
     },
     "1527187d497e4c208dec15f5b454fbed": {
      "model_module": "@jupyter-widgets/controls",
      "model_module_version": "1.5.0",
      "model_name": "DescriptionStyleModel",
      "state": {
       "description_width": ""
      }
     },
     "159b14bf6c8548d98f0b5c8b85dbf1ae": {
      "model_module": "@jupyter-widgets/controls",
      "model_module_version": "1.5.0",
      "model_name": "ButtonStyleModel",
      "state": {}
     },
     "17074b45fb1f47f4835f773800397aa4": {
      "model_module": "@jupyter-widgets/controls",
      "model_module_version": "1.5.0",
      "model_name": "ButtonModel",
      "state": {
       "description": " Screenshot",
       "icon": "camera",
       "layout": "IPY_MODEL_09cbbbe882b14a068e6cb0531ca5b5e8",
       "style": "IPY_MODEL_7047be989749443d914c251265daa92a"
      }
     },
     "17311ada72ec4f648824d920d3851a27": {
      "model_module": "@jupyter-widgets/base",
      "model_module_version": "1.2.0",
      "model_name": "LayoutModel",
      "state": {
       "height": "300px",
       "overflow_x": "hidden",
       "overflow_y": "scroll",
       "width": "385px"
      }
     },
     "1733746532734f00aa1a1931a3b685cb": {
      "model_module": "@jupyter-widgets/base",
      "model_module_version": "1.2.0",
      "model_name": "LayoutModel",
      "state": {
       "width": "170px"
      }
     },
     "1758176d58244c018bf3a349ba0c3a3f": {
      "model_module": "@jupyter-widgets/base",
      "model_module_version": "1.2.0",
      "model_name": "LayoutModel",
      "state": {
       "width": "34px"
      }
     },
     "1762d704fff54665bb15aaaa2335c3e5": {
      "model_module": "@jupyter-widgets/controls",
      "model_module_version": "1.5.0",
      "model_name": "DescriptionStyleModel",
      "state": {
       "description_width": ""
      }
     },
     "178b9aedb15f4d6dbdfc6b7bc8f13abb": {
      "model_module": "@jupyter-widgets/base",
      "model_module_version": "1.2.0",
      "model_name": "LayoutModel",
      "state": {
       "width": "130px"
      }
     },
     "17dd08899ee448c7bca7e75b7e425b3e": {
      "model_module": "@jupyter-widgets/controls",
      "model_module_version": "1.5.0",
      "model_name": "FloatTextModel",
      "state": {
       "description": "scale",
       "layout": "IPY_MODEL_2b9d989f50e64ca38f554c80c29b3a6f",
       "step": 0.001,
       "style": "IPY_MODEL_6306c4e6fa6e4f979a0293d80f8cf96a",
       "value": 1.01
      }
     },
     "182310beff2747c29b89c699b3fb5f4b": {
      "model_module": "@jupyter-widgets/controls",
      "model_module_version": "1.5.0",
      "model_name": "ButtonModel",
      "state": {
       "description": "SET",
       "layout": "IPY_MODEL_4358dc548ebf4c3daf6cbf02685d1564",
       "style": "IPY_MODEL_79f2038afe0d4ceeb47e9d516f4efa7f"
      }
     },
     "187448c9779a45719803f81dfe61ef34": {
      "model_module": "@jupyter-widgets/controls",
      "model_module_version": "1.5.0",
      "model_name": "DescriptionStyleModel",
      "state": {
       "description_width": ""
      }
     },
     "18ce9685c43b41a784853802a512d390": {
      "model_module": "@jupyter-widgets/controls",
      "model_module_version": "1.5.0",
      "model_name": "DescriptionStyleModel",
      "state": {
       "description_width": "30px"
      }
     },
     "18d17c9dec0d47a28896783c5766b402": {
      "model_module": "@jupyter-widgets/controls",
      "model_module_version": "1.5.0",
      "model_name": "DescriptionStyleModel",
      "state": {
       "description_width": "25px"
      }
     },
     "18dec1f9e1984eb2bd259059187ccd36": {
      "model_module": "@jupyter-widgets/controls",
      "model_module_version": "1.5.0",
      "model_name": "DescriptionStyleModel",
      "state": {
       "description_width": ""
      }
     },
     "195bf929cae148c695c708b6e2034e2d": {
      "model_module": "@jupyter-widgets/controls",
      "model_module_version": "1.5.0",
      "model_name": "DescriptionStyleModel",
      "state": {
       "description_width": "50px"
      }
     },
     "198fed28df044ed4b09c8cedf497d76a": {
      "model_module": "@jupyter-widgets/controls",
      "model_module_version": "1.5.0",
      "model_name": "TextareaModel",
      "state": {
       "layout": "IPY_MODEL_f7725e4de9534f06b48c6eff6f67ce0e",
       "style": "IPY_MODEL_412b9b9ec1c04c6e8bd42fd4c9f322b8"
      }
     },
     "19cef73a8e6244fb998c8b89105c00b7": {
      "model_module": "@jupyter-widgets/base",
      "model_module_version": "1.2.0",
      "model_name": "LayoutModel",
      "state": {}
     },
     "19d6dc5c11af4f68a59c08b79a3a5d84": {
      "model_module": "@jupyter-widgets/controls",
      "model_module_version": "1.5.0",
      "model_name": "HBoxModel",
      "state": {
       "children": [
        "IPY_MODEL_021468ac623745299deb75bbe3fd9cad",
        "IPY_MODEL_b6ca8ed80dee42c98feb2eca01df1554",
        "IPY_MODEL_4f7698cb9cef4430ac21cf6bb37c2ff9"
       ],
       "layout": "IPY_MODEL_8f81272b35ad48a0a3dcf0472e584c6f"
      }
     },
     "1a0b271a39f94422976e2ecc5307bd16": {
      "model_module": "@jupyter-widgets/controls",
      "model_module_version": "1.5.0",
      "model_name": "ButtonStyleModel",
      "state": {}
     },
     "1a4a12015bbb4c309c2a1a553d804e6a": {
      "model_module": "@jupyter-widgets/controls",
      "model_module_version": "1.5.0",
      "model_name": "ButtonModel",
      "state": {
       "description": "search",
       "layout": "IPY_MODEL_cc1eb96397cb4de396dba7b4795ee484",
       "style": "IPY_MODEL_83ad634720864bbc80156b8d3674e8b1"
      }
     },
     "1a8f6b146abe402484c71b65bf080b08": {
      "model_module": "@jupyter-widgets/base",
      "model_module_version": "1.2.0",
      "model_name": "LayoutModel",
      "state": {}
     },
     "1aef117bc2454452842ccacf38c7f607": {
      "model_module": "@jupyter-widgets/controls",
      "model_module_version": "1.5.0",
      "model_name": "DropdownModel",
      "state": {
       "_options_labels": [
        "x",
        "y",
        "z",
        "i"
       ],
       "index": 2,
       "layout": "IPY_MODEL_26fd83cd86374ee7976042f559b413aa",
       "style": "IPY_MODEL_d3c6fcbf34be41acae01587a59f37e23"
      }
     },
     "1b0fdffdadeb4ea2ad3353408738be18": {
      "model_module": "@jupyter-widgets/controls",
      "model_module_version": "1.5.0",
      "model_name": "DescriptionStyleModel",
      "state": {
       "description_width": "80px"
      }
     },
     "1b8504c1bf564a30ad525742169ed7f0": {
      "model_module": "@jupyter-widgets/base",
      "model_module_version": "1.2.0",
      "model_name": "LayoutModel",
      "state": {}
     },
     "1babc2d957214476ae6b1e2aa955e9e9": {
      "model_module": "@jupyter-widgets/base",
      "model_module_version": "1.2.0",
      "model_name": "LayoutModel",
      "state": {}
     },
     "1bba72278a8c4d6d84251f139deed796": {
      "model_module": "@jupyter-widgets/base",
      "model_module_version": "1.2.0",
      "model_name": "LayoutModel",
      "state": {}
     },
     "1c03b892272747338aea4d1c1bf150e2": {
      "model_module": "@jupyter-widgets/controls",
      "model_module_version": "1.5.0",
      "model_name": "ButtonStyleModel",
      "state": {}
     },
     "1c06e2d3941b467cac3d3dd92f4b16be": {
      "model_module": "@jupyter-widgets/base",
      "model_module_version": "1.2.0",
      "model_name": "LayoutModel",
      "state": {
       "width": "200px"
      }
     },
     "1c2f6ccab0b84115b1356e00b2c3ab35": {
      "model_module": "@jupyter-widgets/controls",
      "model_module_version": "1.5.0",
      "model_name": "DescriptionStyleModel",
      "state": {
       "description_width": ""
      }
     },
     "1c7ea0c01c4b4c1b8606cbf82a91b03f": {
      "model_module": "@jupyter-widgets/controls",
      "model_module_version": "1.5.0",
      "model_name": "DescriptionStyleModel",
      "state": {
       "description_width": ""
      }
     },
     "1c8c6fba5dc74a57acfeaf0868a33523": {
      "model_module": "@jupyter-widgets/controls",
      "model_module_version": "1.5.0",
      "model_name": "ButtonModel",
      "state": {
       "description": "NVT run",
       "layout": "IPY_MODEL_08fef53e88cf4e5a8980a75a2288b734",
       "style": "IPY_MODEL_968145d1642d4193b148cb7e6df0bf16"
      }
     },
     "1ca0eb3ae5aa45179d28e1cc98ceb121": {
      "model_module": "@jupyter-widgets/base",
      "model_module_version": "1.2.0",
      "model_name": "LayoutModel",
      "state": {
       "width": "180px"
      }
     },
     "1cd7dd6d03ec4466b955d39715d2175d": {
      "model_module": "@jupyter-widgets/controls",
      "model_module_version": "1.5.0",
      "model_name": "DescriptionStyleModel",
      "state": {
       "description_width": "35px"
      }
     },
     "1cf04521aa39410da6224668b36a517f": {
      "model_module": "@jupyter-widgets/controls",
      "model_module_version": "1.5.0",
      "model_name": "BoxModel",
      "state": {
       "children": [
        "IPY_MODEL_1de2b53cefd34778918d4173ea815d14"
       ],
       "layout": "IPY_MODEL_7c0f772a63be4403aef1486c971e732c"
      }
     },
     "1d8794f81e1c48e6b69c13d2d23ab0e5": {
      "model_module": "@jupyter-widgets/base",
      "model_module_version": "1.2.0",
      "model_name": "LayoutModel",
      "state": {}
     },
     "1de2b53cefd34778918d4173ea815d14": {
      "model_module": "@jupyter-widgets/controls",
      "model_module_version": "1.5.0",
      "model_name": "VBoxModel",
      "state": {
       "children": [
        "IPY_MODEL_7a172662e7814f6baf4c57b619fe11ee",
        "IPY_MODEL_b717a774391e4dfc94d08231c6b27593"
       ],
       "layout": "IPY_MODEL_f1ed497ff3d74ff89be023a98209b5fe"
      }
     },
     "1e8ed77c6f3840129794c2aa2d1db707": {
      "model_module": "@jupyter-widgets/controls",
      "model_module_version": "1.5.0",
      "model_name": "PlayModel",
      "state": {
       "layout": "IPY_MODEL_ed933dad490f47478941a4e2e21b0bc6",
       "max": 0,
       "style": "IPY_MODEL_7a2b7f43196946af91919eb67cba81df"
      }
     },
     "1ef9d373c71e46609c7aad857bf9d210": {
      "model_module": "@jupyter-widgets/controls",
      "model_module_version": "1.5.0",
      "model_name": "IntTextModel",
      "state": {
       "description": "from",
       "layout": "IPY_MODEL_7ff5ef2609104e7d8d9753af25c23293",
       "step": 1,
       "style": "IPY_MODEL_6d954236250a44cab5f195c5d21de4de"
      }
     },
     "1f864346eb214ab19d22e285d77a7fb6": {
      "model_module": "@jupyter-widgets/controls",
      "model_module_version": "1.5.0",
      "model_name": "ButtonStyleModel",
      "state": {}
     },
     "1fdf67e181ec4179903095c89775f4ee": {
      "model_module": "@jupyter-widgets/controls",
      "model_module_version": "1.5.0",
      "model_name": "FloatTextModel",
      "state": {
       "description": "time_step fs",
       "layout": "IPY_MODEL_e90e7fc8c69540aeb5fcaafb8f0da565",
       "step": 0.5,
       "style": "IPY_MODEL_4e9c29d78cc24f8d8bdf3bee798578c8",
       "value": 1
      }
     },
     "2032974a78644deca2c67aabd5af17d0": {
      "model_module": "@jupyter-widgets/controls",
      "model_module_version": "1.5.0",
      "model_name": "ButtonStyleModel",
      "state": {}
     },
     "20a6b920e1fd46a589027ba83ee2c8f6": {
      "model_module": "@jupyter-widgets/controls",
      "model_module_version": "1.5.0",
      "model_name": "HBoxModel",
      "state": {
       "children": [
        "IPY_MODEL_a74f14e261d4453d9889de2436bfd72b",
        "IPY_MODEL_c5566b541637408b87989d6bdf2e48fa"
       ],
       "layout": "IPY_MODEL_ee5a72d42512432a8a72abf95603b307"
      }
     },
     "20fd16da1d03410a84782ae87c5e3901": {
      "model_module": "@jupyter-widgets/base",
      "model_module_version": "1.2.0",
      "model_name": "LayoutModel",
      "state": {}
     },
     "2119aa41f5e646708d10eb426b92ddf0": {
      "model_module": "@jupyter-widgets/base",
      "model_module_version": "1.2.0",
      "model_name": "LayoutModel",
      "state": {
       "width": "100px"
      }
     },
     "212db2a07d724c4282135d3a6bde2793": {
      "model_module": "@jupyter-widgets/controls",
      "model_module_version": "1.5.0",
      "model_name": "DescriptionStyleModel",
      "state": {
       "description_width": ""
      }
     },
     "21a5a0eaeaa449ceb3c321bb627d1ac1": {
      "model_module": "@jupyter-widgets/controls",
      "model_module_version": "1.5.0",
      "model_name": "BoxModel",
      "state": {
       "children": [
        "IPY_MODEL_5c68c8fe6b3a416db225114eff529af8",
        "IPY_MODEL_884001a001214de7a8ce1194b4374d5f"
       ],
       "layout": "IPY_MODEL_a8f1db440484453291e254024ce58332"
      }
     },
     "21d8945adf694604836c1e848fee4bdf": {
      "model_module": "@jupyter-widgets/base",
      "model_module_version": "1.2.0",
      "model_name": "LayoutModel",
      "state": {}
     },
     "21e9ab8b385f4c5abcb22b0878e9a8fa": {
      "model_module": "@jupyter-widgets/controls",
      "model_module_version": "1.5.0",
      "model_name": "BoxModel",
      "state": {
       "children": [
        "IPY_MODEL_3de2bff3f18d4e9d95f1d4e9aad34ea5",
        "IPY_MODEL_21a5a0eaeaa449ceb3c321bb627d1ac1",
        "IPY_MODEL_454da20f028844ecb026793dea0af508",
        "IPY_MODEL_3f86e805cfc842d798bfb7aef318335b",
        "IPY_MODEL_956be4b2ac674c04ad4ddcec5ee8c279"
       ],
       "layout": "IPY_MODEL_38f621bba89a40e78902b5eb9b1e56b4"
      }
     },
     "22ff50dcc8f644fc8b1d1aba457eef7d": {
      "model_module": "@jupyter-widgets/controls",
      "model_module_version": "1.5.0",
      "model_name": "DropdownModel",
      "state": {
       "_options_labels": [
        "<",
        ">="
       ],
       "index": 0,
       "layout": "IPY_MODEL_0100be15c93b4a76a9a6fec5427394cd",
       "style": "IPY_MODEL_47ccff3840194b08aa7e3c4b6b160ef5"
      }
     },
     "23a7ae2b150b40f9944478189342ff5c": {
      "model_module": "@jupyter-widgets/base",
      "model_module_version": "1.2.0",
      "model_name": "LayoutModel",
      "state": {
       "width": "170px"
      }
     },
     "23b7094130cb40e0a9f9a971e5b871ff": {
      "model_module": "@jupyter-widgets/controls",
      "model_module_version": "1.5.0",
      "model_name": "DropdownModel",
      "state": {
       "_options_labels": [
        "<",
        ">="
       ],
       "index": 0,
       "layout": "IPY_MODEL_a4f4e1b43859407d84daa7a8b9981c46",
       "style": "IPY_MODEL_54dbf009e57d4e139bd4927cdb83c2f4"
      }
     },
     "23fe74d212e448bdacc9e19befb40edd": {
      "model_module": "@jupyter-widgets/controls",
      "model_module_version": "1.5.0",
      "model_name": "ButtonStyleModel",
      "state": {}
     },
     "24090d6575434f95abd8a8a850053270": {
      "model_module": "@jupyter-widgets/base",
      "model_module_version": "1.2.0",
      "model_name": "LayoutModel",
      "state": {
       "width": "100px"
      }
     },
     "24158686b6c54d7bbc69b818cbd2f921": {
      "model_module": "@jupyter-widgets/controls",
      "model_module_version": "1.5.0",
      "model_name": "SliderStyleModel",
      "state": {
       "description_width": ""
      }
     },
     "2447b54d03664ef2b7674c009b8d773c": {
      "model_module": "@jupyter-widgets/base",
      "model_module_version": "1.2.0",
      "model_name": "LayoutModel",
      "state": {}
     },
     "247761c53c0148f68efa1771cf1f577e": {
      "model_module": "@jupyter-widgets/base",
      "model_module_version": "1.2.0",
      "model_name": "LayoutModel",
      "state": {
       "width": "130px"
      }
     },
     "247c95035ad4482b98a0df17e57cf6e2": {
      "model_module": "@jupyter-widgets/base",
      "model_module_version": "1.2.0",
      "model_name": "LayoutModel",
      "state": {
       "width": "80px"
      }
     },
     "25d2b34d44da47578ef7ab8218efe6da": {
      "model_module": "@jupyter-widgets/controls",
      "model_module_version": "1.5.0",
      "model_name": "IntSliderModel",
      "state": {
       "description": "Opt_n",
       "layout": "IPY_MODEL_40467050a7254cd5b1fad24d1052ef12",
       "style": "IPY_MODEL_4cb46756b5ec4e02a569475b9aae7d5d"
      }
     },
     "25e587d43136487c89db7fdd37e886c7": {
      "model_module": "@jupyter-widgets/controls",
      "model_module_version": "1.5.0",
      "model_name": "SliderStyleModel",
      "state": {
       "description_width": ""
      }
     },
     "26038ce3fd00474cbc9724300afe6ea5": {
      "model_module": "@jupyter-widgets/base",
      "model_module_version": "1.2.0",
      "model_name": "LayoutModel",
      "state": {
       "width": "180px"
      }
     },
     "2660ae6cf33846549daec26eea00bb88": {
      "model_module": "@jupyter-widgets/base",
      "model_module_version": "1.2.0",
      "model_name": "LayoutModel",
      "state": {}
     },
     "266d9df9bf904e82a087c98df12605f0": {
      "model_module": "@jupyter-widgets/base",
      "model_module_version": "1.2.0",
      "model_name": "LayoutModel",
      "state": {
       "width": "350px"
      }
     },
     "26fd83cd86374ee7976042f559b413aa": {
      "model_module": "@jupyter-widgets/base",
      "model_module_version": "1.2.0",
      "model_name": "LayoutModel",
      "state": {
       "width": "50px"
      }
     },
     "271d17a8b8ab4f92a62b9d37aa10ecef": {
      "model_module": "@jupyter-widgets/controls",
      "model_module_version": "1.5.0",
      "model_name": "IntTextModel",
      "state": {
       "description": "width",
       "layout": "IPY_MODEL_247761c53c0148f68efa1771cf1f577e",
       "step": 50,
       "style": "IPY_MODEL_ce6eeaaa12ed4327aba98bd1020383a6",
       "value": 900
      }
     },
     "27324425e3bd4be983ac6ffd46929004": {
      "model_module": "@jupyter-widgets/controls",
      "model_module_version": "1.5.0",
      "model_name": "CheckboxModel",
      "state": {
       "description": "scale atoms",
       "disabled": false,
       "layout": "IPY_MODEL_e9fc7f6175aa460b97d418ef2a8b0e3b",
       "style": "IPY_MODEL_cbc2dfc3dfa04890a804a388992d4142",
       "value": false
      }
     },
     "27ff5be4a35146bc9bd206c984fe948d": {
      "model_module": "@jupyter-widgets/controls",
      "model_module_version": "1.5.0",
      "model_name": "VBoxModel",
      "state": {
       "children": [
        "IPY_MODEL_c7f45e22078044b5bc269bc4d754d506",
        "IPY_MODEL_61156bc8ee484fe4874cad7241b9b21e",
        "IPY_MODEL_ab00791068014f26a0547ffb3b16d0b4",
        "IPY_MODEL_c7171aab46714cb1858fc4cfdca2c9b7",
        "IPY_MODEL_f9212be305594274aa15fd587c8b329c",
        "IPY_MODEL_e5e67ec963824ac2a699441c5ba7ae38",
        "IPY_MODEL_d1b42a5704a447f492c915d1e7ddfe23",
        "IPY_MODEL_6fe674682dfb41afaab8e7fda5d282ef"
       ],
       "layout": "IPY_MODEL_c33ce6ce92494274bcddda20d527eacc"
      }
     },
     "2849d15bdde0473397102ef2cc24186e": {
      "model_module": "@jupyter-widgets/controls",
      "model_module_version": "1.5.0",
      "model_name": "IntSliderModel",
      "state": {
       "layout": "IPY_MODEL_c8cf6435c8b8487cb12432c1868fb3fe",
       "max": 0,
       "style": "IPY_MODEL_25e587d43136487c89db7fdd37e886c7"
      }
     },
     "284ed9ac2eac4262b503b869993446d1": {
      "model_module": "@jupyter-widgets/controls",
      "model_module_version": "1.5.0",
      "model_name": "VBoxModel",
      "state": {
       "children": [
        "IPY_MODEL_fa6269825eed4249b656351880ad8183",
        "IPY_MODEL_661c91707b244d22993e4e42ce67dc44",
        "IPY_MODEL_54dda3a1ec6a4cbea750ba30ad343ff6",
        "IPY_MODEL_02ede84cc7854c1490bcebf1140f7992",
        "IPY_MODEL_dc284b99f9594ce5a53a3cdb0e4e7139",
        "IPY_MODEL_f300b34a6ac04c43b3f3b605a3fc03a7",
        "IPY_MODEL_25d2b34d44da47578ef7ab8218efe6da",
        "IPY_MODEL_9c93b3a2a79f445fa089abe9f4dde364",
        "IPY_MODEL_a9f6c5c7f14a4eda831b7129799b2ec3",
        "IPY_MODEL_44c14ad58c7346c788442d7ffe4c43b2",
        "IPY_MODEL_4249d195ce954ccc9be8aedd36c07156"
       ],
       "layout": "IPY_MODEL_5bff19a6286e4b0f96c5337d0a3b50a2"
      }
     },
     "288cfa7039a64da289e5cdeddfa44d41": {
      "model_module": "@jupyter-widgets/controls",
      "model_module_version": "1.5.0",
      "model_name": "IntTextModel",
      "state": {
       "description": "reNEB images",
       "layout": "IPY_MODEL_1023e93099134ae6bd0a4375a8ef09a6",
       "step": 1,
       "style": "IPY_MODEL_5527b0ba5c9c40f78404fa492cc10d47"
      }
     },
     "28ddda0807af4d69ba8888bd4c2e3d85": {
      "model_module": "@jupyter-widgets/controls",
      "model_module_version": "1.5.0",
      "model_name": "DescriptionStyleModel",
      "state": {
       "description_width": ""
      }
     },
     "29af0ca4f15a4a798106a6d20228fc9d": {
      "model_module": "@jupyter-widgets/controls",
      "model_module_version": "1.5.0",
      "model_name": "ButtonStyleModel",
      "state": {}
     },
     "29b4834271ae4be69d78e49f1ccd7412": {
      "model_module": "@jupyter-widgets/controls",
      "model_module_version": "1.5.0",
      "model_name": "ButtonModel",
      "state": {
       "description": "Insert allB after A[##]",
       "layout": "IPY_MODEL_857019d063fd4c14b71cccb633f3b7e9",
       "style": "IPY_MODEL_c3be0fd8fee14585bc66d9415705bdc9"
      }
     },
     "2a0e5bbf524a428dba0be5ab4ff7540a": {
      "model_module": "@jupyter-widgets/controls",
      "model_module_version": "1.5.0",
      "model_name": "ButtonStyleModel",
      "state": {}
     },
     "2ad358178d9d49baaf27bc9538ab2853": {
      "model_module": "@jupyter-widgets/controls",
      "model_module_version": "1.5.0",
      "model_name": "LabelModel",
      "state": {
       "layout": "IPY_MODEL_9ba2cab01b8d46a9aa1ee18af74eafde",
       "style": "IPY_MODEL_af44d43f4bf94f8ca612596377105347",
       "value": "ex 'tobacco','Cu12C84'"
      }
     },
     "2b3f30ae76ea4ef28b1d643c87b6f9c7": {
      "model_module": "@jupyter-widgets/controls",
      "model_module_version": "1.5.0",
      "model_name": "DescriptionStyleModel",
      "state": {
       "description_width": ""
      }
     },
     "2b5a1fa2b4e844d6878e0c65fc6d31a7": {
      "model_module": "@jupyter-widgets/base",
      "model_module_version": "1.2.0",
      "model_name": "LayoutModel",
      "state": {
       "height": "350px",
       "width": "880px"
      }
     },
     "2b9d989f50e64ca38f554c80c29b3a6f": {
      "model_module": "@jupyter-widgets/base",
      "model_module_version": "1.2.0",
      "model_name": "LayoutModel",
      "state": {
       "width": "220px"
      }
     },
     "2bdad8cd35b143cda4e2c53d61dd2774": {
      "model_module": "@jupyter-widgets/base",
      "model_module_version": "1.2.0",
      "model_name": "LayoutModel",
      "state": {}
     },
     "2c8ad749b7e846ee868782cae5bcba3b": {
      "model_module": "@jupyter-widgets/controls",
      "model_module_version": "1.5.0",
      "model_name": "DescriptionStyleModel",
      "state": {
       "description_width": ""
      }
     },
     "2ca57316864e4886957de7c75fe1c8c8": {
      "model_module": "@jupyter-widgets/base",
      "model_module_version": "1.2.0",
      "model_name": "LayoutModel",
      "state": {
       "width": "50px"
      }
     },
     "2d08142830c644c482f45b4661a3024e": {
      "model_module": "@jupyter-widgets/base",
      "model_module_version": "1.2.0",
      "model_name": "LayoutModel",
      "state": {
       "width": "110px"
      }
     },
     "2d13ef6030ce400882d2fe5a3ce387cf": {
      "model_module": "@jupyter-widgets/controls",
      "model_module_version": "1.5.0",
      "model_name": "HBoxModel",
      "state": {
       "children": [
        "IPY_MODEL_76fa4d03197d4d3d971f1664295f905a",
        "IPY_MODEL_22ff50dcc8f644fc8b1d1aba457eef7d",
        "IPY_MODEL_aa9be01300cc4722bcaa3f1133424262"
       ],
       "layout": "IPY_MODEL_4adda42a85fa406d9732b6779c91474f"
      }
     },
     "2d972713ec274396b1b20f2343bd23a8": {
      "model_module": "@jupyter-widgets/controls",
      "model_module_version": "1.5.0",
      "model_name": "ButtonModel",
      "state": {
       "description": "wrap traj",
       "layout": "IPY_MODEL_adefd31985534e32bbeda32090725424",
       "style": "IPY_MODEL_5b553cf657634b29b9fbb116e30447fb"
      }
     },
     "2dd456ab2b484faebcbd5fe900905331": {
      "model_module": "@jupyter-widgets/base",
      "model_module_version": "1.2.0",
      "model_name": "LayoutModel",
      "state": {
       "width": "140px"
      }
     },
     "2e1916ff78e745f380fa7046981520e9": {
      "model_module": "@jupyter-widgets/base",
      "model_module_version": "1.2.0",
      "model_name": "LayoutModel",
      "state": {}
     },
     "2e81cfc32f394fc49bd280d7c5316419": {
      "model_module": "@jupyter-widgets/base",
      "model_module_version": "1.2.0",
      "model_name": "LayoutModel",
      "state": {}
     },
     "2eb917dcec03450eabac37ec9d0fd0d6": {
      "model_module": "@jupyter-widgets/controls",
      "model_module_version": "1.5.0",
      "model_name": "CheckboxModel",
      "state": {
       "description": "opt_cell",
       "disabled": false,
       "indent": false,
       "layout": "IPY_MODEL_f9fcf24ee9084681aaef749fb6398101",
       "style": "IPY_MODEL_1527187d497e4c208dec15f5b454fbed",
       "value": false
      }
     },
     "2f2c1ac495ca47beba2982eb41738e1e": {
      "model_module": "@jupyter-widgets/controls",
      "model_module_version": "1.5.0",
      "model_name": "DescriptionStyleModel",
      "state": {
       "description_width": ""
      }
     },
     "2f5f783033c34c398f70548e520b6de9": {
      "model_module": "@jupyter-widgets/controls",
      "model_module_version": "1.5.0",
      "model_name": "LabelModel",
      "state": {
       "layout": "IPY_MODEL_ddfe4c65b85c47208b86c22d25912d9c",
       "style": "IPY_MODEL_6e77a7c3fe36418e82657fc37f899396",
       "value": "camera"
      }
     },
     "2fad421ae29c45f8a30cc146ff21e391": {
      "model_module": "@jupyter-widgets/base",
      "model_module_version": "1.2.0",
      "model_name": "LayoutModel",
      "state": {
       "width": "170px"
      }
     },
     "2fce9b801ac44dd3a2c31e284d3e8392": {
      "model_module": "@jupyter-widgets/base",
      "model_module_version": "1.2.0",
      "model_name": "LayoutModel",
      "state": {}
     },
     "2ff2554d9d4745e3bafd7245db7ad037": {
      "model_module": "@jupyter-widgets/controls",
      "model_module_version": "1.5.0",
      "model_name": "DropdownModel",
      "state": {
       "_options_labels": [
        "0",
        "1",
        "2",
        "3",
        "4",
        "5"
       ],
       "description": "millerx",
       "index": 1,
       "layout": "IPY_MODEL_9464ac07fb834ad09337e11c50e10ce6",
       "style": "IPY_MODEL_c157fa1adf914d7bb5283cd0ff585618"
      }
     },
     "30135f0a73534d55a8f9e72b279235b0": {
      "model_module": "@jupyter-widgets/base",
      "model_module_version": "1.2.0",
      "model_name": "LayoutModel",
      "state": {
       "width": "140px"
      }
     },
     "303e6ad3505f44f79ff71d918bf3559a": {
      "model_module": "@jupyter-widgets/controls",
      "model_module_version": "1.5.0",
      "model_name": "ButtonModel",
      "state": {
       "layout": "IPY_MODEL_20fd16da1d03410a84782ae87c5e3901",
       "style": "IPY_MODEL_cd7dddccda7d4c438315e5270d741347"
      }
     },
     "3079b864f0724bb4b241606adb89eb2d": {
      "model_module": "@jupyter-widgets/controls",
      "model_module_version": "1.5.0",
      "model_name": "ButtonModel",
      "state": {
       "description": "Save",
       "layout": "IPY_MODEL_e7b78c7b71b74f329cfe865463cb702a",
       "style": "IPY_MODEL_ef1319b97d1241e694295e04fa119d7c"
      }
     },
     "30808821bac54d00a6354fe175659e4a": {
      "model_module": "@jupyter-widgets/controls",
      "model_module_version": "1.5.0",
      "model_name": "DescriptionStyleModel",
      "state": {
       "description_width": ""
      }
     },
     "30dc00def9df4664a167cde1759802c1": {
      "model_module": "@jupyter-widgets/controls",
      "model_module_version": "1.5.0",
      "model_name": "HBoxModel",
      "state": {
       "children": [
        "IPY_MODEL_c94fcfa609ed4afe877b7942a3e65169",
        "IPY_MODEL_1308c0558a574b1a826dc0d93ecb571b"
       ],
       "layout": "IPY_MODEL_c632a2f5c94c422b80eff697061cfcf7"
      }
     },
     "31b204663a784ff2bc338bb7c67d27c2": {
      "model_module": "@jupyter-widgets/controls",
      "model_module_version": "1.5.0",
      "model_name": "DropdownModel",
      "state": {
       "_options_labels": [
        "CRYSTAL",
        "CRYSTAL_PLUS_D3",
        "CRYSTAL_U0",
        "CRYSTAL_U0_PLUS_D3",
        "MOLECULE"
       ],
       "description": "mode",
       "index": 2,
       "layout": "IPY_MODEL_95992fa884c34d828811b7e06eae41e6",
       "style": "IPY_MODEL_8ac633df696146c7924622c73f44b51d"
      }
     },
     "31c7aa5626a34824b08fcdf3b3b76e7a": {
      "model_module": "@jupyter-widgets/controls",
      "model_module_version": "1.5.0",
      "model_name": "DescriptionStyleModel",
      "state": {
       "description_width": ""
      }
     },
     "327ff398815b495698185751ffa4f2ce": {
      "model_module": "@jupyter-widgets/controls",
      "model_module_version": "1.5.0",
      "model_name": "DescriptionStyleModel",
      "state": {
       "description_width": ""
      }
     },
     "3280048b48c4455daeb165ceb221cd1d": {
      "model_module": "@jupyter-widgets/base",
      "model_module_version": "1.2.0",
      "model_name": "LayoutModel",
      "state": {}
     },
     "32f1569e3c8e4daa89e241ebbb5d1272": {
      "model_module": "@jupyter-widgets/controls",
      "model_module_version": "1.5.0",
      "model_name": "FloatSliderModel",
      "state": {
       "layout": "IPY_MODEL_b08e9783cc17465bac26412c1c5eb926",
       "readout_format": ".1f",
       "step": 0.1,
       "style": "IPY_MODEL_ccbac1adb05b4634be2e2efe161bca6c",
       "value": 5
      }
     },
     "32f8b34dd318486ea64b09fba864b31d": {
      "model_module": "@jupyter-widgets/controls",
      "model_module_version": "1.5.0",
      "model_name": "SliderStyleModel",
      "state": {
       "description_width": "55px"
      }
     },
     "332fa541750c44a38b7422705b6b9fd6": {
      "model_module": "@jupyter-widgets/base",
      "model_module_version": "1.2.0",
      "model_name": "LayoutModel",
      "state": {}
     },
     "33ab5a7ef2794fd8b9edaa7f8d813d26": {
      "model_module": "@jupyter-widgets/base",
      "model_module_version": "1.2.0",
      "model_name": "LayoutModel",
      "state": {
       "width": "125px"
      }
     },
     "3417369635ca44cf86d64351e799686e": {
      "model_module": "@jupyter-widgets/base",
      "model_module_version": "1.2.0",
      "model_name": "LayoutModel",
      "state": {}
     },
     "3432ef253b664820b17c7a24c13e91f2": {
      "model_module": "@jupyter-widgets/controls",
      "model_module_version": "1.5.0",
      "model_name": "FloatTextModel",
      "state": {
       "description": "mult",
       "layout": "IPY_MODEL_ea80ce92662d490c93fb4dc7bd4537cd",
       "step": 0.05,
       "style": "IPY_MODEL_fdad7e70777b4914809b09b7fc900cab",
       "value": 1
      }
     },
     "3446bd4fd45a45b2b951d58198dac244": {
      "model_module": "@jupyter-widgets/controls",
      "model_module_version": "1.5.0",
      "model_name": "DescriptionStyleModel",
      "state": {
       "description_width": "55px"
      }
     },
     "348ee441dd174731ac29fdb5a790c013": {
      "model_module": "@jupyter-widgets/base",
      "model_module_version": "1.2.0",
      "model_name": "LayoutModel",
      "state": {}
     },
     "35f4826e379f4ce3ac554306e2625467": {
      "model_module": "@jupyter-widgets/controls",
      "model_module_version": "1.5.0",
      "model_name": "HBoxModel",
      "state": {
       "children": [
        "IPY_MODEL_1a4a12015bbb4c309c2a1a553d804e6a",
        "IPY_MODEL_e859daf01a004182a5a1a10c305e47e5"
       ],
       "layout": "IPY_MODEL_0f94ba5d1db346af95bab47faec039f3"
      }
     },
     "367ee81eceb34dadadbd7d51e3bf1438": {
      "model_module": "@jupyter-widgets/base",
      "model_module_version": "1.2.0",
      "model_name": "LayoutModel",
      "state": {
       "width": "110px"
      }
     },
     "36bc7f9fd01d47189c4085a0eda0ef56": {
      "model_module": "@jupyter-widgets/controls",
      "model_module_version": "1.5.0",
      "model_name": "DescriptionStyleModel",
      "state": {
       "description_width": ""
      }
     },
     "36c58640a44049f7a564447993d6a6ec": {
      "model_module": "@jupyter-widgets/controls",
      "model_module_version": "1.5.0",
      "model_name": "LabelModel",
      "state": {
       "layout": "IPY_MODEL_7c63fef0b15b4f219e2ab9256592f03e",
       "style": "IPY_MODEL_a3c9a1941c70430181da7cf145eb5861",
       "value": "PFP setting"
      }
     },
     "36f579bf56124ece8c8586cf2cdd003d": {
      "model_module": "@jupyter-widgets/controls",
      "model_module_version": "1.5.0",
      "model_name": "DescriptionStyleModel",
      "state": {
       "description_width": ""
      }
     },
     "386afd9cc8974874af48b507f749d71e": {
      "model_module": "@jupyter-widgets/controls",
      "model_module_version": "1.5.0",
      "model_name": "ButtonModel",
      "state": {
       "description": "Swap A[##] and B[##]",
       "layout": "IPY_MODEL_ef681dfbf3744f16b9ceb7ca958c3e5f",
       "style": "IPY_MODEL_2a0e5bbf524a428dba0be5ab4ff7540a"
      }
     },
     "386b3a4723c54ecc91e799de78b5f9d9": {
      "model_module": "@jupyter-widgets/controls",
      "model_module_version": "1.5.0",
      "model_name": "ButtonStyleModel",
      "state": {}
     },
     "386eeec99abc42168855f8e51be31868": {
      "model_module": "@jupyter-widgets/controls",
      "model_module_version": "1.5.0",
      "model_name": "TextareaModel",
      "state": {
       "layout": "IPY_MODEL_e475688753604bfda2ec8183cc7c66d4",
       "style": "IPY_MODEL_3d5e7efeea1c4475b7f7be91fcccddef"
      }
     },
     "38a798ebb12e474dbe1b7f754ebc16af": {
      "model_module": "@jupyter-widgets/controls",
      "model_module_version": "1.5.0",
      "model_name": "DescriptionStyleModel",
      "state": {
       "description_width": ""
      }
     },
     "38f621bba89a40e78902b5eb9b1e56b4": {
      "model_module": "@jupyter-widgets/base",
      "model_module_version": "1.2.0",
      "model_name": "LayoutModel",
      "state": {
       "align_items": "stretch",
       "display": "flex",
       "flex_flow": "column",
       "width": "100%"
      }
     },
     "39d1b24aa3ec4693af622761c04afb89": {
      "model_module": "@jupyter-widgets/controls",
      "model_module_version": "1.5.0",
      "model_name": "IntTextModel",
      "state": {
       "description": "a1",
       "layout": "IPY_MODEL_367ee81eceb34dadadbd7d51e3bf1438",
       "step": 1,
       "style": "IPY_MODEL_01c84266f3e34861b8607868de50682f"
      }
     },
     "3a197e5bc0bf4c14a7886b5fd3921817": {
      "model_module": "@jupyter-widgets/controls",
      "model_module_version": "1.5.0",
      "model_name": "DescriptionStyleModel",
      "state": {
       "description_width": "30px"
      }
     },
     "3a5f8f3f818144e7af860ae596332f3c": {
      "model_module": "@jupyter-widgets/base",
      "model_module_version": "1.2.0",
      "model_name": "LayoutModel",
      "state": {}
     },
     "3c76691608be46ea9aebc9b959713df1": {
      "model_module": "@jupyter-widgets/controls",
      "model_module_version": "1.5.0",
      "model_name": "HBoxModel",
      "state": {
       "children": [
        "IPY_MODEL_5bdf6645f2194b2bbc87354e184d2063",
        "IPY_MODEL_967af469629d416c95697a7ebb7e6bd0"
       ],
       "layout": "IPY_MODEL_85d55ebe0f8c4ee8828ec08b3103fb29"
      }
     },
     "3ca6ee6054c7414bb0c1e9173853962c": {
      "model_module": "@jupyter-widgets/controls",
      "model_module_version": "1.5.0",
      "model_name": "VBoxModel",
      "state": {
       "children": [
        "IPY_MODEL_b5029ef2460f4388a640a3e4a9b20edf",
        "IPY_MODEL_4114d3a8eea24938b74edd03e9bb6ed3",
        "IPY_MODEL_9f098086d6c04b65ba3c92ed017460fc",
        "IPY_MODEL_97aeca86747244868d222ca4d47b422a",
        "IPY_MODEL_5161b1ba2f464e3db666deb47e9579e8",
        "IPY_MODEL_7ef46449a752473cb9eab7d815243b0e"
       ],
       "layout": "IPY_MODEL_b809c189d2694fce88b01ab4134f33fe"
      }
     },
     "3d0251b0dc2f43c18c3593b5d919b345": {
      "model_module": "@jupyter-widgets/base",
      "model_module_version": "1.2.0",
      "model_name": "LayoutModel",
      "state": {
       "width": "50px"
      }
     },
     "3d335b292ddb4568ba133d04fecc0ff9": {
      "model_module": "@jupyter-widgets/controls",
      "model_module_version": "1.5.0",
      "model_name": "HBoxModel",
      "state": {
       "children": [
        "IPY_MODEL_fcbbdba2c60741bfb53abf2f0ad488e2"
       ],
       "layout": "IPY_MODEL_91d2e700e1374d7c908ce87c17b012ec"
      }
     },
     "3d5e7efeea1c4475b7f7be91fcccddef": {
      "model_module": "@jupyter-widgets/controls",
      "model_module_version": "1.5.0",
      "model_name": "DescriptionStyleModel",
      "state": {
       "description_width": ""
      }
     },
     "3d7641c15e6544c6ae3b03b8a2d4cdcd": {
      "model_module": "@jupyter-widgets/base",
      "model_module_version": "1.2.0",
      "model_name": "LayoutModel",
      "state": {
       "height": "40px",
       "width": "370px"
      }
     },
     "3d7ec569fd74466ea1aa2e349dae7529": {
      "model_module": "@jupyter-widgets/controls",
      "model_module_version": "1.5.0",
      "model_name": "VBoxModel",
      "state": {
       "children": [
        "IPY_MODEL_67e2d3835eda40c5a2a4be4ee1a8363f",
        "IPY_MODEL_6b546d966104449db9bc637ca13d88e7",
        "IPY_MODEL_ecf15df95a8a48a0b55de8875faf5b70"
       ],
       "layout": "IPY_MODEL_cd7169b77eac4464a4ce1366f1f96fd9"
      }
     },
     "3de2bff3f18d4e9d95f1d4e9aad34ea5": {
      "model_module": "@jupyter-widgets/controls",
      "model_module_version": "1.5.0",
      "model_name": "BoxModel",
      "state": {
       "children": [
        "IPY_MODEL_ed3c297ff2cc44d391744af35a881bd6",
        "IPY_MODEL_b63a400b5074485ab7f881150422081c"
       ],
       "layout": "IPY_MODEL_a8f1db440484453291e254024ce58332"
      }
     },
     "3e04110727ca4b5f99e338abbdf1e872": {
      "model_module": "@jupyter-widgets/base",
      "model_module_version": "1.2.0",
      "model_name": "LayoutModel",
      "state": {}
     },
     "3ebe73bed7f748f29efc8dad9d9e5e6b": {
      "model_module": "@jupyter-widgets/base",
      "model_module_version": "1.2.0",
      "model_name": "LayoutModel",
      "state": {
       "width": "140px"
      }
     },
     "3f03353798dd4ef4a81d181d7e98e95c": {
      "model_module": "@jupyter-widgets/controls",
      "model_module_version": "1.5.0",
      "model_name": "LabelModel",
      "state": {
       "layout": "IPY_MODEL_8002d8a60853409cb6134253792fa429",
       "style": "IPY_MODEL_65221672bfdf482bb549eec5ac1c1236",
       "value": "VIB Atoms indices.If None,all atoms are targeted."
      }
     },
     "3f132576d7344606aedb76e2b4ea07c1": {
      "model_module": "@jupyter-widgets/controls",
      "model_module_version": "1.5.0",
      "model_name": "ButtonStyleModel",
      "state": {}
     },
     "3f2b5680c0cb49439adc225e757bfd2a": {
      "model_module": "@jupyter-widgets/controls",
      "model_module_version": "1.5.0",
      "model_name": "TextareaModel",
      "state": {
       "layout": "IPY_MODEL_4c9ab5400fc34987a6652c8668e5207d",
       "style": "IPY_MODEL_5a121e94fca148ef891ed2e7dd1aaf91",
       "value": "C, H, N ,Cu "
      }
     },
     "3f41a88ba1244e8f9c26aae0bc42fc2c": {
      "model_module": "@jupyter-widgets/base",
      "model_module_version": "1.2.0",
      "model_name": "LayoutModel",
      "state": {
       "width": "140px"
      }
     },
     "3f86e805cfc842d798bfb7aef318335b": {
      "model_module": "@jupyter-widgets/controls",
      "model_module_version": "1.5.0",
      "model_name": "BoxModel",
      "state": {
       "children": [
        "IPY_MODEL_2f5f783033c34c398f70548e520b6de9",
        "IPY_MODEL_5e00ee580dba4505b27947fbed51dd01"
       ],
       "layout": "IPY_MODEL_a8f1db440484453291e254024ce58332"
      }
     },
     "40467050a7254cd5b1fad24d1052ef12": {
      "model_module": "@jupyter-widgets/base",
      "model_module_version": "1.2.0",
      "model_name": "LayoutModel",
      "state": {}
     },
     "408b9784b888422597cb085dffcbb350": {
      "model_module": "@jupyter-widgets/controls",
      "model_module_version": "1.5.0",
      "model_name": "ButtonModel",
      "state": {
       "description": "Add#",
       "layout": "IPY_MODEL_ebe70503555a4781a175613e42fe77d8",
       "style": "IPY_MODEL_7480225de9ee4d659825800a087060fe"
      }
     },
     "40cef2e5fbeb44f69c09659c622f08fb": {
      "model_module": "@jupyter-widgets/controls",
      "model_module_version": "1.5.0",
      "model_name": "ButtonStyleModel",
      "state": {}
     },
     "4114d3a8eea24938b74edd03e9bb6ed3": {
      "model_module": "@jupyter-widgets/controls",
      "model_module_version": "1.5.0",
      "model_name": "HBoxModel",
      "state": {
       "children": [
        "IPY_MODEL_739624401fed4836ae7513f77883ff97",
        "IPY_MODEL_2eb917dcec03450eabac37ec9d0fd0d6"
       ],
       "layout": "IPY_MODEL_21d8945adf694604836c1e848fee4bdf"
      }
     },
     "412b67c9e6244384b1c3d74694abdf1d": {
      "model_module": "@jupyter-widgets/controls",
      "model_module_version": "1.5.0",
      "model_name": "IntTextModel",
      "state": {
       "description": "min_vacuum",
       "layout": "IPY_MODEL_52f3d261eb744b0ebec8a75e019b8776",
       "step": 1,
       "style": "IPY_MODEL_2c8ad749b7e846ee868782cae5bcba3b",
       "value": 30
      }
     },
     "412b9b9ec1c04c6e8bd42fd4c9f322b8": {
      "model_module": "@jupyter-widgets/controls",
      "model_module_version": "1.5.0",
      "model_name": "DescriptionStyleModel",
      "state": {
       "description_width": ""
      }
     },
     "412e63f21a3f4c5a8dfd59ddda222ce6": {
      "model_module": "@jupyter-widgets/controls",
      "model_module_version": "1.5.0",
      "model_name": "IntTextModel",
      "state": {
       "description": "fix ",
       "layout": "IPY_MODEL_d71b5d4fa6834cb2b6d8312aa5feb260",
       "step": 1,
       "style": "IPY_MODEL_4aafd6bb6b1843eb9abda32e37999f6e"
      }
     },
     "41b26b80b01d48e2a7944aef294655c1": {
      "model_module": "@jupyter-widgets/base",
      "model_module_version": "1.2.0",
      "model_name": "LayoutModel",
      "state": {}
     },
     "41d561d2d3e14232859d1e63f2c371bf": {
      "model_module": "@jupyter-widgets/controls",
      "model_module_version": "1.5.0",
      "model_name": "IntTextModel",
      "state": {
       "description": "#",
       "layout": "IPY_MODEL_5fd760bfeacd4084874642b7846ec451",
       "step": 1,
       "style": "IPY_MODEL_5f146c1639a84257a73100dfe9e60b85"
      }
     },
     "421c82f5d0aa4e689f1186b8981e58da": {
      "model_module": "@jupyter-widgets/base",
      "model_module_version": "1.2.0",
      "model_name": "LayoutModel",
      "state": {}
     },
     "421fea302e244eb6a41eb33bd05547f8": {
      "model_module": "@jupyter-widgets/controls",
      "model_module_version": "1.5.0",
      "model_name": "FloatTextModel",
      "state": {
       "description": "P_kPa ",
       "layout": "IPY_MODEL_743c7540f13b4ad382a7ea0bcab44a3d",
       "step": null,
       "style": "IPY_MODEL_4e618037f9e240648fab473b1259485a",
       "value": 101.3
      }
     },
     "4249d195ce954ccc9be8aedd36c07156": {
      "model_module": "@jupyter-widgets/output",
      "model_module_version": "1.0.0",
      "model_name": "OutputModel",
      "state": {
       "layout": "IPY_MODEL_ba9c622849e6400481bae1e1c9a3a550"
      }
     },
     "4358dc548ebf4c3daf6cbf02685d1564": {
      "model_module": "@jupyter-widgets/base",
      "model_module_version": "1.2.0",
      "model_name": "LayoutModel",
      "state": {
       "width": "60px"
      }
     },
     "44687242c86f4943b2fc52de88280ef4": {
      "model_module": "@jupyter-widgets/base",
      "model_module_version": "1.2.0",
      "model_name": "LayoutModel",
      "state": {}
     },
     "447dfbfb265944fe9ce68b36e8a3de66": {
      "model_module": "@jupyter-widgets/base",
      "model_module_version": "1.2.0",
      "model_name": "LayoutModel",
      "state": {}
     },
     "44c14ad58c7346c788442d7ffe4c43b2": {
      "model_module": "@jupyter-widgets/controls",
      "model_module_version": "1.5.0",
      "model_name": "ButtonModel",
      "state": {
       "description": "Undo",
       "layout": "IPY_MODEL_df88148b9a934546b74724743b650550",
       "style": "IPY_MODEL_1c03b892272747338aea4d1c1bf150e2"
      }
     },
     "452b1787532c4db1b0abcc4d8b4d03c1": {
      "model_module": "@jupyter-widgets/controls",
      "model_module_version": "1.5.0",
      "model_name": "DescriptionStyleModel",
      "state": {
       "description_width": "35px"
      }
     },
     "453dbce837994445bc7bdbf7aed03189": {
      "model_module": "@jupyter-widgets/controls",
      "model_module_version": "1.5.0",
      "model_name": "ButtonModel",
      "state": {
       "description": " Center",
       "icon": "bullseye",
       "layout": "IPY_MODEL_41b26b80b01d48e2a7944aef294655c1",
       "style": "IPY_MODEL_04859999c73a437299f0df8affd90f45"
      }
     },
     "454da20f028844ecb026793dea0af508": {
      "model_module": "@jupyter-widgets/controls",
      "model_module_version": "1.5.0",
      "model_name": "BoxModel",
      "state": {
       "children": [
        "IPY_MODEL_fc3c51fd6d064eadb3148b78f81599d4",
        "IPY_MODEL_9f172dec0243427ba309d9448b7d5981"
       ],
       "layout": "IPY_MODEL_a8f1db440484453291e254024ce58332"
      }
     },
     "45853e79802346dfaf727c8441427026": {
      "model_module": "@jupyter-widgets/controls",
      "model_module_version": "1.5.0",
      "model_name": "IntTextModel",
      "state": {
       "description": "move",
       "layout": "IPY_MODEL_ca43fbe721c742299a0114ffda7605ae",
       "step": 1,
       "style": "IPY_MODEL_13d4986da734447aaaa1c0d839d13d65"
      }
     },
     "4589dbb0bbdd4c2a9d95026067f886dc": {
      "model_module": "@jupyter-widgets/controls",
      "model_module_version": "1.5.0",
      "model_name": "VBoxModel",
      "state": {
       "children": [
        "IPY_MODEL_7177b99dfe16407f8914c625d7199014",
        "IPY_MODEL_473ef8bccc0544239de6ad7965802850"
       ],
       "layout": "IPY_MODEL_6f2d3fc692ff49848ea92f684ead6a56"
      }
     },
     "4635bb68538740fda1b4a7fe51ceb501": {
      "model_module": "@jupyter-widgets/controls",
      "model_module_version": "1.5.0",
      "model_name": "FloatSliderModel",
      "state": {
       "layout": "IPY_MODEL_78d45e4be9f34d1bb40ec72897500750",
       "readout_format": ".1f",
       "step": 0.1,
       "style": "IPY_MODEL_561180f92a5242938dc9bc61ced3d522",
       "value": 5
      }
     },
     "4661de74f9ff4a71b3c226fcfd731660": {
      "model_module": "@jupyter-widgets/controls",
      "model_module_version": "1.5.0",
      "model_name": "IntTextModel",
      "state": {
       "description": "fin #",
       "layout": "IPY_MODEL_dd9bea25bb38446e89a7e1e4b4d5b5ec",
       "step": 1,
       "style": "IPY_MODEL_938aaf97699d402cbce15fce0226ec9b"
      }
     },
     "46627d02d13d4520814446bb4822c92a": {
      "model_module": "@jupyter-widgets/controls",
      "model_module_version": "1.5.0",
      "model_name": "ButtonModel",
      "state": {
       "layout": "IPY_MODEL_09efd0dd7502439eb6872528cb056474",
       "style": "IPY_MODEL_b32c100ecb3240469545368c3f08d5ed"
      }
     },
     "467f600eb2e24d0faf9685b5b94ec699": {
      "model_module": "@jupyter-widgets/output",
      "model_module_version": "1.0.0",
      "model_name": "OutputModel",
      "state": {
       "layout": "IPY_MODEL_54476e5cf8404e4bb7a31a32497964e4"
      }
     },
     "4680733180e84dc3ae4579ee76f6fade": {
      "model_module": "@jupyter-widgets/base",
      "model_module_version": "1.2.0",
      "model_name": "LayoutModel",
      "state": {}
     },
     "473ef8bccc0544239de6ad7965802850": {
      "model_module": "@jupyter-widgets/controls",
      "model_module_version": "1.5.0",
      "model_name": "HBoxModel",
      "state": {
       "children": [
        "IPY_MODEL_1cf04521aa39410da6224668b36a517f",
        "IPY_MODEL_716fe54b358c46bfbe0ab44fd2a86b15"
       ],
       "layout": "IPY_MODEL_018da09414bb441d908f036b6ca2404d"
      }
     },
     "477b04c3b1a846bfa10181e63167028d": {
      "model_module": "@jupyter-widgets/controls",
      "model_module_version": "1.5.0",
      "model_name": "DescriptionStyleModel",
      "state": {
       "description_width": ""
      }
     },
     "478f0400d11248f6b3d3a0a4b087befb": {
      "model_module": "@jupyter-widgets/controls",
      "model_module_version": "1.5.0",
      "model_name": "LabelModel",
      "state": {
       "layout": "IPY_MODEL_04b82d6c93f34af3b3bfafcd4be671fb",
       "style": "IPY_MODEL_18dec1f9e1984eb2bd259059187ccd36",
       "value": "For Set distance"
      }
     },
     "47ccff3840194b08aa7e3c4b6b160ef5": {
      "model_module": "@jupyter-widgets/controls",
      "model_module_version": "1.5.0",
      "model_name": "DescriptionStyleModel",
      "state": {
       "description_width": ""
      }
     },
     "47de2b8c95e94334b07e5e0b0d70d856": {
      "model_module": "@jupyter-widgets/base",
      "model_module_version": "1.2.0",
      "model_name": "LayoutModel",
      "state": {
       "width": "120px"
      }
     },
     "4832d3f9491b4e529af85759ce510a1e": {
      "model_module": "@jupyter-widgets/controls",
      "model_module_version": "1.5.0",
      "model_name": "ButtonModel",
      "state": {
       "layout": "IPY_MODEL_135b405477d04222839ec8ab44980360",
       "style": "IPY_MODEL_23fe74d212e448bdacc9e19befb40edd"
      }
     },
     "4885c31e1b0a4355b903c51c24f7a72d": {
      "model_module": "@jupyter-widgets/base",
      "model_module_version": "1.2.0",
      "model_name": "LayoutModel",
      "state": {
       "width": "50px"
      }
     },
     "489af171159e4e6085cefe3510b2d025": {
      "model_module": "@jupyter-widgets/controls",
      "model_module_version": "1.5.0",
      "model_name": "FloatTextModel",
      "state": {
       "description": "temp_k",
       "layout": "IPY_MODEL_12d7f7d0720b4057a9d112881ebd77cb",
       "step": null,
       "style": "IPY_MODEL_ee7843488a204382ab90e3a19b646f2a",
       "value": 298
      }
     },
     "494702a5720c4c99a009851a8cffbd54": {
      "model_module": "@jupyter-widgets/controls",
      "model_module_version": "1.5.0",
      "model_name": "DescriptionStyleModel",
      "state": {
       "description_width": "35px"
      }
     },
     "496b9bddc86c43f2bf8a3281186e2014": {
      "model_module": "@jupyter-widgets/base",
      "model_module_version": "1.2.0",
      "model_name": "LayoutModel",
      "state": {
       "width": "50px"
      }
     },
     "49995a55cd19481e9f9519009a3ca47b": {
      "model_module": "@jupyter-widgets/base",
      "model_module_version": "1.2.0",
      "model_name": "LayoutModel",
      "state": {
       "width": "180px"
      }
     },
     "499a3539664344e399d43a1b5c15f926": {
      "model_module": "@jupyter-widgets/controls",
      "model_module_version": "1.5.0",
      "model_name": "DescriptionStyleModel",
      "state": {
       "description_width": ""
      }
     },
     "4a6637fb7c234f46832b489f39ee8fe7": {
      "model_module": "@jupyter-widgets/base",
      "model_module_version": "1.2.0",
      "model_name": "LayoutModel",
      "state": {}
     },
     "4a74a6a7e951440891085217b8af58d7": {
      "model_module": "@jupyter-widgets/controls",
      "model_module_version": "1.5.0",
      "model_name": "ButtonStyleModel",
      "state": {}
     },
     "4aafd6bb6b1843eb9abda32e37999f6e": {
      "model_module": "@jupyter-widgets/controls",
      "model_module_version": "1.5.0",
      "model_name": "DescriptionStyleModel",
      "state": {
       "description_width": "55px"
      }
     },
     "4adda42a85fa406d9732b6779c91474f": {
      "model_module": "@jupyter-widgets/base",
      "model_module_version": "1.2.0",
      "model_name": "LayoutModel",
      "state": {}
     },
     "4adf9d7e505342eab36a3f502171a192": {
      "model_module": "@jupyter-widgets/base",
      "model_module_version": "1.2.0",
      "model_name": "LayoutModel",
      "state": {}
     },
     "4b7a4b06a9f341f69f90498916015574": {
      "model_module": "@jupyter-widgets/base",
      "model_module_version": "1.2.0",
      "model_name": "LayoutModel",
      "state": {
       "width": "130px"
      }
     },
     "4c0022e5713b4257883253d49d226598": {
      "model_module": "@jupyter-widgets/controls",
      "model_module_version": "1.5.0",
      "model_name": "DropdownModel",
      "state": {
       "_options_labels": [
        "0",
        "1",
        "2",
        "3",
        "4",
        "5",
        "6",
        "7",
        "8",
        "9",
        "10",
        "11",
        "12",
        "13",
        "14",
        "15",
        "16",
        "17",
        "18",
        "19",
        "20",
        "21",
        "22",
        "23",
        "24",
        "25",
        "26",
        "27",
        "28",
        "29",
        "30",
        "31",
        "32",
        "33",
        "34",
        "35",
        "36",
        "37",
        "38",
        "39",
        "40",
        "41",
        "42",
        "43",
        "44",
        "45",
        "46",
        "47",
        "48",
        "49",
        "50",
        "51",
        "52",
        "53",
        "54",
        "55",
        "56",
        "57",
        "58",
        "59"
       ],
       "description": "mode",
       "index": 0,
       "layout": "IPY_MODEL_49995a55cd19481e9f9519009a3ca47b",
       "style": "IPY_MODEL_477b04c3b1a846bfa10181e63167028d"
      }
     },
     "4c6164d9ee034cfa837205e08a1c3413": {
      "model_module": "@jupyter-widgets/controls",
      "model_module_version": "1.5.0",
      "model_name": "ButtonStyleModel",
      "state": {}
     },
     "4c9ab5400fc34987a6652c8668e5207d": {
      "model_module": "@jupyter-widgets/base",
      "model_module_version": "1.2.0",
      "model_name": "LayoutModel",
      "state": {
       "height": "30px",
       "width": "175px"
      }
     },
     "4ca299c431ba4fa29aeb96bc6cb2b2fa": {
      "model_module": "@jupyter-widgets/base",
      "model_module_version": "1.2.0",
      "model_name": "LayoutModel",
      "state": {
       "width": "180px"
      }
     },
     "4cae6a6d0fee4653ad18e76de4f0a6c8": {
      "model_module": "@jupyter-widgets/base",
      "model_module_version": "1.2.0",
      "model_name": "LayoutModel",
      "state": {}
     },
     "4cb46756b5ec4e02a569475b9aae7d5d": {
      "model_module": "@jupyter-widgets/controls",
      "model_module_version": "1.5.0",
      "model_name": "SliderStyleModel",
      "state": {
       "description_width": ""
      }
     },
     "4ce75e680ea74089b418e39916ddacba": {
      "model_module": "@jupyter-widgets/controls",
      "model_module_version": "1.5.0",
      "model_name": "ButtonModel",
      "state": {
       "description": "Idealgas ",
       "layout": "IPY_MODEL_4d7f513e4c5a4852a05bed58d554583f",
       "style": "IPY_MODEL_c4372ed50f8441048d409159df85e4a0"
      }
     },
     "4ceff2f5ef2e461c974f4641d7d353b8": {
      "model_module": "@jupyter-widgets/controls",
      "model_module_version": "1.5.0",
      "model_name": "HBoxModel",
      "state": {
       "children": [
        "IPY_MODEL_eccfd7a7913945adade6c151682ddd23",
        "IPY_MODEL_ad42a38fd4674e93b3a1ffdacbdcf4d4",
        "IPY_MODEL_087f70778af348668669c5f2ad0502b1"
       ],
       "layout": "IPY_MODEL_86679d9e840848ce8eaa7e071545909a"
      }
     },
     "4d150169c5004c158a7030c40b3aa623": {
      "model_module": "@jupyter-widgets/controls",
      "model_module_version": "1.5.0",
      "model_name": "ButtonModel",
      "state": {
       "description": "search",
       "layout": "IPY_MODEL_5fb65ee9c632406788a4d0c3df4210a7",
       "style": "IPY_MODEL_88150251f0ec437cbd729172d844c7e0"
      }
     },
     "4d7f513e4c5a4852a05bed58d554583f": {
      "model_module": "@jupyter-widgets/base",
      "model_module_version": "1.2.0",
      "model_name": "LayoutModel",
      "state": {
       "width": "80px"
      }
     },
     "4e618037f9e240648fab473b1259485a": {
      "model_module": "@jupyter-widgets/controls",
      "model_module_version": "1.5.0",
      "model_name": "DescriptionStyleModel",
      "state": {
       "description_width": ""
      }
     },
     "4e9c29d78cc24f8d8bdf3bee798578c8": {
      "model_module": "@jupyter-widgets/controls",
      "model_module_version": "1.5.0",
      "model_name": "DescriptionStyleModel",
      "state": {
       "description_width": ""
      }
     },
     "4f0a9cf69c294d00862c5ac2b04ae740": {
      "model_module": "@jupyter-widgets/base",
      "model_module_version": "1.2.0",
      "model_name": "LayoutModel",
      "state": {
       "height": "40px",
       "width": "370px"
      }
     },
     "4f59e116a3b447f983627d596e9a006a": {
      "model_module": "@jupyter-widgets/controls",
      "model_module_version": "1.5.0",
      "model_name": "DescriptionStyleModel",
      "state": {
       "description_width": ""
      }
     },
     "4f76886b6e8343ae8bdf14bd3d047828": {
      "model_module": "@jupyter-widgets/controls",
      "model_module_version": "1.5.0",
      "model_name": "DescriptionStyleModel",
      "state": {
       "description_width": ""
      }
     },
     "4f7698cb9cef4430ac21cf6bb37c2ff9": {
      "model_module": "@jupyter-widgets/controls",
      "model_module_version": "1.5.0",
      "model_name": "FloatTextModel",
      "state": {
       "description": "mult",
       "layout": "IPY_MODEL_2119aa41f5e646708d10eb426b92ddf0",
       "step": 0.05,
       "style": "IPY_MODEL_7e4ddf6cfbce450481fb12932fad1f73",
       "value": 1
      }
     },
     "4fd0c54f726a43b9b0f32311e47e7fd4": {
      "model_module": "@jupyter-widgets/controls",
      "model_module_version": "1.5.0",
      "model_name": "DescriptionStyleModel",
      "state": {
       "description_width": ""
      }
     },
     "5054e5114e294e4e9b15ca677500e282": {
      "model_module": "@jupyter-widgets/base",
      "model_module_version": "1.2.0",
      "model_name": "LayoutModel",
      "state": {
       "width": "250px"
      }
     },
     "508f2edcbcae4b38ab84b35497532c31": {
      "model_module": "@jupyter-widgets/base",
      "model_module_version": "1.2.0",
      "model_name": "LayoutModel",
      "state": {
       "width": "140px"
      }
     },
     "50c52c920b334ae0b5b4d61ec3995d2f": {
      "model_module": "@jupyter-widgets/output",
      "model_module_version": "1.0.0",
      "model_name": "OutputModel",
      "state": {
       "layout": "IPY_MODEL_a51708c773e84cdb8a751185af0fadeb"
      }
     },
     "5106ac0986f342feb8fdecb70a12966d": {
      "model_module": "@jupyter-widgets/controls",
      "model_module_version": "1.5.0",
      "model_name": "DescriptionStyleModel",
      "state": {
       "description_width": ""
      }
     },
     "5161b1ba2f464e3db666deb47e9579e8": {
      "model_module": "@jupyter-widgets/controls",
      "model_module_version": "1.5.0",
      "model_name": "HBoxModel",
      "state": {
       "children": [
        "IPY_MODEL_7f9a055c423944cb918fd4a9e16c7d90",
        "IPY_MODEL_f43d5ff869e04f2ea1d4cecb656ba258",
        "IPY_MODEL_39d1b24aa3ec4693af622761c04afb89"
       ],
       "layout": "IPY_MODEL_ac7aa8cb04d140078defa55505a1bedc"
      }
     },
     "516eba9e631f4bc692124b0b49ba5be3": {
      "model_module": "@jupyter-widgets/base",
      "model_module_version": "1.2.0",
      "model_name": "LayoutModel",
      "state": {}
     },
     "52474f3ff2654e5cb7d53e2e7fce5632": {
      "model_module": "@jupyter-widgets/controls",
      "model_module_version": "1.5.0",
      "model_name": "DescriptionStyleModel",
      "state": {
       "description_width": "30px"
      }
     },
     "524b48a9d66d441d997bad974c0cce00": {
      "model_module": "@jupyter-widgets/base",
      "model_module_version": "1.2.0",
      "model_name": "LayoutModel",
      "state": {
       "width": "100px"
      }
     },
     "52d6fe0c6bd940688ade8cea146eb830": {
      "model_module": "@jupyter-widgets/controls",
      "model_module_version": "1.5.0",
      "model_name": "VBoxModel",
      "state": {
       "children": [
        "IPY_MODEL_f6a4965374434d5196464067e82987b3",
        "IPY_MODEL_f1db1631ed0f4784a08c18b08fa2bfac",
        "IPY_MODEL_02b0ec2a98e84dcaad9e287b3597732e",
        "IPY_MODEL_e0c38cf22be447078815dabe26471f67",
        "IPY_MODEL_6875d88e344f4352b217ed87e0d47192",
        "IPY_MODEL_6f16290008674230b221ee6ee1a512e6",
        "IPY_MODEL_a410061d18ba435d9edd1b664b33bb59",
        "IPY_MODEL_478f0400d11248f6b3d3a0a4b087befb",
        "IPY_MODEL_7c13a21e3ae24ac2aed37d00b3b3f2ba",
        "IPY_MODEL_bc145524bc754ed4b55155bc52ff44fb",
        "IPY_MODEL_3d335b292ddb4568ba133d04fecc0ff9"
       ],
       "layout": "IPY_MODEL_2660ae6cf33846549daec26eea00bb88"
      }
     },
     "52f3d261eb744b0ebec8a75e019b8776": {
      "model_module": "@jupyter-widgets/base",
      "model_module_version": "1.2.0",
      "model_name": "LayoutModel",
      "state": {
       "width": "140px"
      }
     },
     "53357a5390ac4b6892d943e6cdbc9312": {
      "model_module": "@jupyter-widgets/base",
      "model_module_version": "1.2.0",
      "model_name": "LayoutModel",
      "state": {
       "height": "200px",
       "overflow_x": "hidden",
       "overflow_y": "scroll",
       "width": "385px"
      }
     },
     "5360ab3b93f14419b79118d341f2c895": {
      "model_module": "@jupyter-widgets/base",
      "model_module_version": "1.2.0",
      "model_name": "LayoutModel",
      "state": {
       "width": "140px"
      }
     },
     "543dd0d64a9040faa4ccabe7226f12b2": {
      "model_module": "@jupyter-widgets/base",
      "model_module_version": "1.2.0",
      "model_name": "LayoutModel",
      "state": {
       "width": "80px"
      }
     },
     "54476e5cf8404e4bb7a31a32497964e4": {
      "model_module": "@jupyter-widgets/base",
      "model_module_version": "1.2.0",
      "model_name": "LayoutModel",
      "state": {
       "height": "380px",
       "overflow_x": "hidden",
       "overflow_y": "scroll",
       "width": "385px"
      }
     },
     "54619d7a954e49048a890abb9def83f7": {
      "model_module": "@jupyter-widgets/base",
      "model_module_version": "1.2.0",
      "model_name": "LayoutModel",
      "state": {
       "height": "360px",
       "overflow_x": "hidden",
       "overflow_y": "hidden",
       "width": "385px"
      }
     },
     "54dbf009e57d4e139bd4927cdb83c2f4": {
      "model_module": "@jupyter-widgets/controls",
      "model_module_version": "1.5.0",
      "model_name": "DescriptionStyleModel",
      "state": {
       "description_width": ""
      }
     },
     "54dda3a1ec6a4cbea750ba30ad343ff6": {
      "model_module": "@jupyter-widgets/controls",
      "model_module_version": "1.5.0",
      "model_name": "IntTextModel",
      "state": {
       "description": "a",
       "layout": "IPY_MODEL_9c9fe8399d0f4290b4d0a2af049ea663",
       "step": 1,
       "style": "IPY_MODEL_36bc7f9fd01d47189c4085a0eda0ef56"
      }
     },
     "550ca2c5228c4c18a88db68651427e0c": {
      "model_module": "@jupyter-widgets/base",
      "model_module_version": "1.2.0",
      "model_name": "LayoutModel",
      "state": {
       "width": "125px"
      }
     },
     "5527b0ba5c9c40f78404fa492cc10d47": {
      "model_module": "@jupyter-widgets/controls",
      "model_module_version": "1.5.0",
      "model_name": "DescriptionStyleModel",
      "state": {
       "description_width": ""
      }
     },
     "552a40b41e5c44cda6be1d7254ede97d": {
      "model_module": "@jupyter-widgets/base",
      "model_module_version": "1.2.0",
      "model_name": "LayoutModel",
      "state": {
       "width": "40px"
      }
     },
     "555174def015427894bff37aae1c525f": {
      "model_module": "@jupyter-widgets/controls",
      "model_module_version": "1.5.0",
      "model_name": "VBoxModel",
      "state": {
       "children": [
        "IPY_MODEL_386eeec99abc42168855f8e51be31868",
        "IPY_MODEL_6102798b3b17463193dac4ab704295cb",
        "IPY_MODEL_a94693bf760846f6a6317c99534e4e30"
       ],
       "layout": "IPY_MODEL_a05f8176157240fc85fb65564a9643e4"
      }
     },
     "55ad5fd670524bb68b5ce9776b78f802": {
      "model_module": "@jupyter-widgets/controls",
      "model_module_version": "1.5.0",
      "model_name": "ButtonStyleModel",
      "state": {}
     },
     "55cd47209d1c4b62a3547c660a3c43a6": {
      "model_module": "@jupyter-widgets/base",
      "model_module_version": "1.2.0",
      "model_name": "LayoutModel",
      "state": {
       "height": "30px",
       "width": "50px"
      }
     },
     "561180f92a5242938dc9bc61ced3d522": {
      "model_module": "@jupyter-widgets/controls",
      "model_module_version": "1.5.0",
      "model_name": "SliderStyleModel",
      "state": {
       "description_width": ""
      }
     },
     "56850a604c814888b0d47b8c5f61b82d": {
      "model_module": "@jupyter-widgets/controls",
      "model_module_version": "1.5.0",
      "model_name": "DropdownModel",
      "state": {
       "_options_labels": [
        "PFVM",
        "MNCORE_ACCURATE",
        "MNCORE_FAST",
        "MNCORE"
       ],
       "description": "method",
       "index": 0,
       "layout": "IPY_MODEL_1d8794f81e1c48e6b69c13d2d23ab0e5",
       "style": "IPY_MODEL_c81614c77b7244ca86c5cb5338eb7472"
      }
     },
     "56ba5c0aaa594623b567bffe1d77cafa": {
      "model_module": "@jupyter-widgets/controls",
      "model_module_version": "1.5.0",
      "model_name": "HBoxModel",
      "state": {
       "children": [
        "IPY_MODEL_eae5b26173a5443692757f6818cfd854",
        "IPY_MODEL_656ad50291e047d98cfc16d6bee02c91"
       ],
       "layout": "IPY_MODEL_a7d00792469c4e349bfa935fe6627733"
      }
     },
     "56c9ba42f745464b9bf742a4c814f5c6": {
      "model_module": "@jupyter-widgets/base",
      "model_module_version": "1.2.0",
      "model_name": "LayoutModel",
      "state": {
       "width": "150px"
      }
     },
     "57a0fc5b43794751a47aeba247e33d2f": {
      "model_module": "@jupyter-widgets/base",
      "model_module_version": "1.2.0",
      "model_name": "LayoutModel",
      "state": {
       "width": "100px"
      }
     },
     "57a40d26ea074c0db380d0a059449c4b": {
      "model_module": "@jupyter-widgets/controls",
      "model_module_version": "1.5.0",
      "model_name": "LinkModel",
      "state": {
       "source": [
        "IPY_MODEL_1e8ed77c6f3840129794c2aa2d1db707",
        "value"
       ],
       "target": [
        "IPY_MODEL_8e7529eef7ca4a17a4539b5fa96216d1",
        "frame"
       ]
      }
     },
     "582ef62b4f6c4e819d853514e8127d82": {
      "model_module": "@jupyter-widgets/base",
      "model_module_version": "1.2.0",
      "model_name": "LayoutModel",
      "state": {
       "width": "80px"
      }
     },
     "58514cf5bc8b4cf7bc2b788779516d70": {
      "model_module": "@jupyter-widgets/base",
      "model_module_version": "1.2.0",
      "model_name": "LayoutModel",
      "state": {}
     },
     "587c5b20b7924aec9e42ad8dc4c474ae": {
      "model_module": "@jupyter-widgets/base",
      "model_module_version": "1.2.0",
      "model_name": "LayoutModel",
      "state": {
       "width": "100px"
      }
     },
     "596b48e4213444f5829f671418407913": {
      "model_module": "@jupyter-widgets/controls",
      "model_module_version": "1.5.0",
      "model_name": "DescriptionStyleModel",
      "state": {
       "description_width": ""
      }
     },
     "5994e1b04ab948adaf3388ff15ad45cc": {
      "model_module": "@jupyter-widgets/base",
      "model_module_version": "1.2.0",
      "model_name": "LayoutModel",
      "state": {
       "width": "130px"
      }
     },
     "59ae3642303248b4b354809e287b0b10": {
      "model_module": "@jupyter-widgets/controls",
      "model_module_version": "1.5.0",
      "model_name": "VBoxModel",
      "state": {
       "children": [
        "IPY_MODEL_87cb56feff104b68bbbdcb1c45fbf5dd",
        "IPY_MODEL_a7f96b9dedd3443bb845db6194a0e723",
        "IPY_MODEL_eb5fd648a31b4fa4ba7847cfa2e97713"
       ],
       "layout": "IPY_MODEL_5f6a4fd5ab054009ba772bfd72ef31a8"
      }
     },
     "5a121e94fca148ef891ed2e7dd1aaf91": {
      "model_module": "@jupyter-widgets/controls",
      "model_module_version": "1.5.0",
      "model_name": "DescriptionStyleModel",
      "state": {
       "description_width": ""
      }
     },
     "5a55753450a04d9693bcebd9a94e295e": {
      "model_module": "@jupyter-widgets/controls",
      "model_module_version": "1.5.0",
      "model_name": "HBoxModel",
      "state": {
       "children": [
        "IPY_MODEL_3f2b5680c0cb49439adc225e757bfd2a",
        "IPY_MODEL_2ad358178d9d49baaf27bc9538ab2853"
       ],
       "layout": "IPY_MODEL_4a6637fb7c234f46832b489f39ee8fe7"
      }
     },
     "5aa4ac62c72e45d0962c4d117dfc62a7": {
      "model_module": "@jupyter-widgets/controls",
      "model_module_version": "1.5.0",
      "model_name": "DescriptionStyleModel",
      "state": {
       "description_width": "55px"
      }
     },
     "5ab68b3b087a4b12b2ca82c7570ba1ed": {
      "model_module": "@jupyter-widgets/controls",
      "model_module_version": "1.5.0",
      "model_name": "HBoxModel",
      "state": {
       "children": [
        "IPY_MODEL_6f6826378a7b4356b6b4bb72dcc958a7",
        "IPY_MODEL_a258a7d6469044ea9b7596609f7d0474"
       ],
       "layout": "IPY_MODEL_5ddf7da974c340e5af066d1db5d508a7"
      }
     },
     "5b3f0ec005cb4f3382b84c4080381e47": {
      "model_module": "@jupyter-widgets/base",
      "model_module_version": "1.2.0",
      "model_name": "LayoutModel",
      "state": {
       "width": "60px"
      }
     },
     "5b553cf657634b29b9fbb116e30447fb": {
      "model_module": "@jupyter-widgets/controls",
      "model_module_version": "1.5.0",
      "model_name": "ButtonStyleModel",
      "state": {}
     },
     "5b5ffe4809b842e9ac0b3468e3500b3e": {
      "model_module": "@jupyter-widgets/controls",
      "model_module_version": "1.5.0",
      "model_name": "BoxModel",
      "state": {
       "layout": "IPY_MODEL_2e81cfc32f394fc49bd280d7c5316419"
      }
     },
     "5bdf6645f2194b2bbc87354e184d2063": {
      "model_module": "@jupyter-widgets/controls",
      "model_module_version": "1.5.0",
      "model_name": "TextareaModel",
      "state": {
       "layout": "IPY_MODEL_db30873aaf014f21a9e05aacc8f3da41",
       "style": "IPY_MODEL_e2c81d6106534024bcbd77722c7a0380",
       "value": "Fe,O"
      }
     },
     "5becea7e587844f5ba2096a6f6956215": {
      "model_module": "@jupyter-widgets/base",
      "model_module_version": "1.2.0",
      "model_name": "LayoutModel",
      "state": {}
     },
     "5bff19a6286e4b0f96c5337d0a3b50a2": {
      "model_module": "@jupyter-widgets/base",
      "model_module_version": "1.2.0",
      "model_name": "LayoutModel",
      "state": {}
     },
     "5c65e36ccdfb4ef3a2fe939338935462": {
      "model_module": "@jupyter-widgets/controls",
      "model_module_version": "1.5.0",
      "model_name": "DescriptionStyleModel",
      "state": {
       "description_width": ""
      }
     },
     "5c660691da4342cda415c54083295850": {
      "model_module": "@jupyter-widgets/controls",
      "model_module_version": "1.5.0",
      "model_name": "ButtonStyleModel",
      "state": {}
     },
     "5c68c8fe6b3a416db225114eff529af8": {
      "model_module": "@jupyter-widgets/controls",
      "model_module_version": "1.5.0",
      "model_name": "LabelModel",
      "state": {
       "layout": "IPY_MODEL_5f54cd268c174f49afd9e031621781a0",
       "style": "IPY_MODEL_c14e218e1236454eb64bc642c2c45134",
       "value": "delay"
      }
     },
     "5c9460e4fd3a463c842902c87e5e1d9e": {
      "model_module": "@jupyter-widgets/base",
      "model_module_version": "1.2.0",
      "model_name": "LayoutModel",
      "state": {
       "width": "80px"
      }
     },
     "5d5e9b6909e74889856cc039130ebd2f": {
      "model_module": "@jupyter-widgets/controls",
      "model_module_version": "1.5.0",
      "model_name": "VBoxModel",
      "state": {
       "children": [
        "IPY_MODEL_ce2ee4c8398a4f088be0d8bed8ef83f4",
        "IPY_MODEL_555174def015427894bff37aae1c525f",
        "IPY_MODEL_b2d5b2d399464983b2417e9e71060062",
        "IPY_MODEL_64888635be8248ca85ad21bc686569bd",
        "IPY_MODEL_44c14ad58c7346c788442d7ffe4c43b2",
        "IPY_MODEL_a44781a52a86425e83a1865d2d322010",
        "IPY_MODEL_5ab68b3b087a4b12b2ca82c7570ba1ed",
        "IPY_MODEL_a3ac62be54c348ba8214be5ea63a02ae",
        "IPY_MODEL_6b40419cc5594874b9e61e6ad6cd1325",
        "IPY_MODEL_09c76fb1d7084e9c888e7baad1bd4c93",
        "IPY_MODEL_ca460502409643ca94f26c87f3276d55"
       ],
       "layout": "IPY_MODEL_44687242c86f4943b2fc52de88280ef4"
      }
     },
     "5d64ac4a877e458cad4b35f1b5ce2bf0": {
      "model_module": "@jupyter-widgets/base",
      "model_module_version": "1.2.0",
      "model_name": "LayoutModel",
      "state": {
       "width": "125px"
      }
     },
     "5d9b3604939040878cb49604cea77796": {
      "model_module": "@jupyter-widgets/controls",
      "model_module_version": "1.5.0",
      "model_name": "TextareaModel",
      "state": {
       "layout": "IPY_MODEL_3d7641c15e6544c6ae3b03b8a2d4cdcd",
       "style": "IPY_MODEL_64c8fed8836344ba9b29e893ae6b2443"
      }
     },
     "5ddf7da974c340e5af066d1db5d508a7": {
      "model_module": "@jupyter-widgets/base",
      "model_module_version": "1.2.0",
      "model_name": "LayoutModel",
      "state": {}
     },
     "5e00ee580dba4505b27947fbed51dd01": {
      "model_module": "@jupyter-widgets/controls",
      "model_module_version": "1.5.0",
      "model_name": "DropdownModel",
      "state": {
       "_options_labels": [
        "perspective",
        "orthographic"
       ],
       "index": 1,
       "layout": "IPY_MODEL_ec887d53ca154c13ad3b71bf00023d4b",
       "style": "IPY_MODEL_c52157cacc5c41daab5e82affe3946fd"
      }
     },
     "5eb2028b5c5a416eb1d9e91223fcf20f": {
      "model_module": "@jupyter-widgets/controls",
      "model_module_version": "1.5.0",
      "model_name": "DescriptionStyleModel",
      "state": {
       "description_width": ""
      }
     },
     "5f146c1639a84257a73100dfe9e60b85": {
      "model_module": "@jupyter-widgets/controls",
      "model_module_version": "1.5.0",
      "model_name": "DescriptionStyleModel",
      "state": {
       "description_width": "50px"
      }
     },
     "5f54cd268c174f49afd9e031621781a0": {
      "model_module": "@jupyter-widgets/base",
      "model_module_version": "1.2.0",
      "model_name": "LayoutModel",
      "state": {}
     },
     "5f6a4fd5ab054009ba772bfd72ef31a8": {
      "model_module": "@jupyter-widgets/base",
      "model_module_version": "1.2.0",
      "model_name": "LayoutModel",
      "state": {}
     },
     "5f7a356d41b14e4b94a3c14575db3c8a": {
      "model_module": "@jupyter-widgets/base",
      "model_module_version": "1.2.0",
      "model_name": "LayoutModel",
      "state": {}
     },
     "5fb65ee9c632406788a4d0c3df4210a7": {
      "model_module": "@jupyter-widgets/base",
      "model_module_version": "1.2.0",
      "model_name": "LayoutModel",
      "state": {
       "height": "30px",
       "width": "80px"
      }
     },
     "5fd1c4e0f00748688912d5a57b7d6f84": {
      "model_module": "@jupyter-widgets/base",
      "model_module_version": "1.2.0",
      "model_name": "LayoutModel",
      "state": {
       "height": "400px",
       "width": "380px"
      }
     },
     "5fd760bfeacd4084874642b7846ec451": {
      "model_module": "@jupyter-widgets/base",
      "model_module_version": "1.2.0",
      "model_name": "LayoutModel",
      "state": {
       "width": "90px"
      }
     },
     "5fe8bc668ebc47d6b90a2a62d6bcd8da": {
      "model_module": "@jupyter-widgets/base",
      "model_module_version": "1.2.0",
      "model_name": "LayoutModel",
      "state": {}
     },
     "5feca343c0354d1aa596ed30d16f1b01": {
      "model_module": "@jupyter-widgets/controls",
      "model_module_version": "1.5.0",
      "model_name": "VBoxModel",
      "state": {
       "children": [
        "IPY_MODEL_8e7529eef7ca4a17a4539b5fa96216d1",
        "IPY_MODEL_079ae19420504c12828e48c1fed3f61b",
        "IPY_MODEL_d393dcd3e5e248ac87e8ab96a878008b",
        "IPY_MODEL_60e4dea6fff4442fa12f8f3c12d58bc8"
       ],
       "layout": "IPY_MODEL_2bdad8cd35b143cda4e2c53d61dd2774"
      }
     },
     "60664f2d4ddd4072b1bd2bd1829c2b8b": {
      "model_module": "@jupyter-widgets/controls",
      "model_module_version": "1.5.0",
      "model_name": "ButtonModel",
      "state": {
       "description": "Connect",
       "layout": "IPY_MODEL_630bf49aeec6445ca561623f2da7d69b",
       "style": "IPY_MODEL_9c280702836a4b85970bfa6ef2efa0ba"
      }
     },
     "60e4dea6fff4442fa12f8f3c12d58bc8": {
      "model_module": "@jupyter-widgets/controls",
      "model_module_version": "1.5.0",
      "model_name": "HBoxModel",
      "state": {
       "children": [
        "IPY_MODEL_a45ac379f6cb4b988557f52593d7f7c3",
        "IPY_MODEL_7e87cb3012554efe970b71b8ac5ba987",
        "IPY_MODEL_9fefabf4ef544e62b33a3edac8ce8be1"
       ],
       "layout": "IPY_MODEL_8dce57275995419fa52d6451f746f9a0"
      }
     },
     "6102798b3b17463193dac4ab704295cb": {
      "model_module": "@jupyter-widgets/controls",
      "model_module_version": "1.5.0",
      "model_name": "HBoxModel",
      "state": {
       "children": [
        "IPY_MODEL_c5f2a60ac856465dbf35b6f79fd85ad1",
        "IPY_MODEL_9e3cbbf12822462cbacfb779191c49d2",
        "IPY_MODEL_f64ef2ad6a644d3e82a0d34d5a3ed34d"
       ],
       "layout": "IPY_MODEL_1a8f6b146abe402484c71b65bf080b08"
      }
     },
     "61156bc8ee484fe4874cad7241b9b21e": {
      "model_module": "@jupyter-widgets/controls",
      "model_module_version": "1.5.0",
      "model_name": "DropdownModel",
      "state": {
       "_options_labels": [
        "0",
        "1",
        "2",
        "3",
        "4",
        "5",
        "6",
        "7",
        "8",
        "9",
        "10",
        "11",
        "12",
        "13",
        "14",
        "15",
        "16",
        "17",
        "18",
        "19"
       ],
       "description": "Atoms0",
       "index": 0,
       "layout": "IPY_MODEL_4ca299c431ba4fa29aeb96bc6cb2b2fa",
       "style": "IPY_MODEL_212db2a07d724c4282135d3a6bde2793"
      }
     },
     "61b00ba922ed4de4940eae1a66125112": {
      "model_module": "@jupyter-widgets/base",
      "model_module_version": "1.2.0",
      "model_name": "LayoutModel",
      "state": {
       "width": "50px"
      }
     },
     "6304a2ee3fe045ccba9e4a06a90784fa": {
      "model_module": "@jupyter-widgets/base",
      "model_module_version": "1.2.0",
      "model_name": "LayoutModel",
      "state": {
       "width": "180px"
      }
     },
     "6306c4e6fa6e4f979a0293d80f8cf96a": {
      "model_module": "@jupyter-widgets/controls",
      "model_module_version": "1.5.0",
      "model_name": "DescriptionStyleModel",
      "state": {
       "description_width": "70px"
      }
     },
     "630bf49aeec6445ca561623f2da7d69b": {
      "model_module": "@jupyter-widgets/base",
      "model_module_version": "1.2.0",
      "model_name": "LayoutModel",
      "state": {
       "width": "90px"
      }
     },
     "6344aed18aaf41da94cfab5ac395c256": {
      "model_module": "@jupyter-widgets/base",
      "model_module_version": "1.2.0",
      "model_name": "LayoutModel",
      "state": {}
     },
     "63595541acf54d75ae0a215d677100ba": {
      "model_module": "@jupyter-widgets/controls",
      "model_module_version": "1.5.0",
      "model_name": "ButtonStyleModel",
      "state": {}
     },
     "636d5aee441b49f8bc97fdbde2eb611a": {
      "model_module": "@jupyter-widgets/controls",
      "model_module_version": "1.5.0",
      "model_name": "ButtonStyleModel",
      "state": {}
     },
     "63e9c1b3d91b41168420dd65afc66aa3": {
      "model_module": "@jupyter-widgets/controls",
      "model_module_version": "1.5.0",
      "model_name": "CheckboxModel",
      "state": {
       "description": "chage",
       "disabled": false,
       "indent": false,
       "layout": "IPY_MODEL_10ee3afbe4d54baa8845347faff4aa50",
       "style": "IPY_MODEL_abfda7ac1d234a71882b7c889b5700cc",
       "value": false
      }
     },
     "63f083b1d1e34f91ba4e001b92211b04": {
      "model_module": "@jupyter-widgets/controls",
      "model_module_version": "1.5.0",
      "model_name": "ButtonModel",
      "state": {
       "description": "get_cellinfo",
       "layout": "IPY_MODEL_9b1bd93719b94b8ca911dab7b1501748",
       "style": "IPY_MODEL_5c660691da4342cda415c54083295850"
      }
     },
     "6463e621a2d84329a72b633529843038": {
      "model_module": "@jupyter-widgets/controls",
      "model_module_version": "1.5.0",
      "model_name": "DescriptionStyleModel",
      "state": {
       "description_width": ""
      }
     },
     "64888635be8248ca85ad21bc686569bd": {
      "model_module": "@jupyter-widgets/controls",
      "model_module_version": "1.5.0",
      "model_name": "HBoxModel",
      "state": {
       "children": [
        "IPY_MODEL_84e0112fa4a349ea8ca67c518dd53286",
        "IPY_MODEL_fb7dc859b03145c38abe747acf8d044e"
       ],
       "layout": "IPY_MODEL_4adf9d7e505342eab36a3f502171a192"
      }
     },
     "64c725554a464fbb85183c73cd55d0f7": {
      "model_module": "@jupyter-widgets/controls",
      "model_module_version": "1.5.0",
      "model_name": "HBoxModel",
      "state": {
       "children": [
        "IPY_MODEL_a82bb57ee75141b09caf0799ceb5a522",
        "IPY_MODEL_9df3beb41780461e832028465bb97ea8"
       ],
       "layout": "IPY_MODEL_2447b54d03664ef2b7674c009b8d773c"
      }
     },
     "64c8fed8836344ba9b29e893ae6b2443": {
      "model_module": "@jupyter-widgets/controls",
      "model_module_version": "1.5.0",
      "model_name": "DescriptionStyleModel",
      "state": {
       "description_width": ""
      }
     },
     "65017dfbd89947278226885a21a3aa68": {
      "model_module": "@jupyter-widgets/controls",
      "model_module_version": "1.5.0",
      "model_name": "TabModel",
      "state": {
       "_titles": {
        "0": "General",
        "1": "Representation",
        "2": "Preference",
        "3": "Extra"
       },
       "children": [
        "IPY_MODEL_79d58cdaa2344a6590c669062f08246b",
        "IPY_MODEL_5b5ffe4809b842e9ac0b3468e3500b3e",
        "IPY_MODEL_ba92f2dfbe654fe5b77cbe8f387451ad",
        "IPY_MODEL_a15b7ad77d714069ac58d3ec9ee5657d"
       ],
       "layout": "IPY_MODEL_ccaac96e2b10400abc79116dbeb494b4"
      }
     },
     "65221672bfdf482bb549eec5ac1c1236": {
      "model_module": "@jupyter-widgets/controls",
      "model_module_version": "1.5.0",
      "model_name": "DescriptionStyleModel",
      "state": {
       "description_width": ""
      }
     },
     "6563bac70b7144e8a76afd634076c385": {
      "model_module": "@jupyter-widgets/controls",
      "model_module_version": "1.5.0",
      "model_name": "VBoxModel",
      "state": {
       "children": [
        "IPY_MODEL_b26d4227933d4453bbff4d0572d0b44e",
        "IPY_MODEL_a735e30ba8df49a7846b443d64077f75"
       ],
       "layout": "IPY_MODEL_5becea7e587844f5ba2096a6f6956215"
      }
     },
     "656ad50291e047d98cfc16d6bee02c91": {
      "model_module": "@jupyter-widgets/controls",
      "model_module_version": "1.5.0",
      "model_name": "ButtonModel",
      "state": {
       "description": "Bigger",
       "layout": "IPY_MODEL_72f03eb46a144d03b45a1e9ba323e1c5",
       "style": "IPY_MODEL_ce333f2b5bfb493c922c308fd107fe8c"
      }
     },
     "658d08664a074d4ca4f1e77f3119c82e": {
      "model_module": "@jupyter-widgets/base",
      "model_module_version": "1.2.0",
      "model_name": "LayoutModel",
      "state": {}
     },
     "65c08689c6de49d992722844ba87e066": {
      "model_module": "@jupyter-widgets/base",
      "model_module_version": "1.2.0",
      "model_name": "LayoutModel",
      "state": {
       "flex": "1 1 auto",
       "width": "auto"
      }
     },
     "65c4ada3d4424461afde80fc6ceaad7e": {
      "model_module": "@jupyter-widgets/controls",
      "model_module_version": "1.5.0",
      "model_name": "FloatTextModel",
      "state": {
       "description": "delta",
       "layout": "IPY_MODEL_6304a2ee3fe045ccba9e4a06a90784fa",
       "step": null,
       "style": "IPY_MODEL_5106ac0986f342feb8fdecb70a12966d",
       "value": 0.1
      }
     },
     "661c91707b244d22993e4e42ce67dc44": {
      "model_module": "@jupyter-widgets/controls",
      "model_module_version": "1.5.0",
      "model_name": "HBoxModel",
      "state": {
       "children": [
        "IPY_MODEL_acd6388889c54bc584c3d42ef40dd5d7",
        "IPY_MODEL_a91684f7a57d40ae8543998fcdae2ddc"
       ],
       "layout": "IPY_MODEL_f4dc7c2cc5984ef1a5a474a1a627f7a9"
      }
     },
     "661db7cf489f465c9ed943d02fa265ac": {
      "model_module": "@jupyter-widgets/base",
      "model_module_version": "1.2.0",
      "model_name": "LayoutModel",
      "state": {}
     },
     "6725c614659d417cb316152b7568f847": {
      "model_module": "@jupyter-widgets/controls",
      "model_module_version": "1.5.0",
      "model_name": "SliderStyleModel",
      "state": {
       "description_width": "55px"
      }
     },
     "6762d3fef09b4ee9b8a8ed6fc42ca3d7": {
      "model_module": "@jupyter-widgets/controls",
      "model_module_version": "1.5.0",
      "model_name": "DescriptionStyleModel",
      "state": {
       "description_width": ""
      }
     },
     "67d9e8006a954eddab8f38f1c62bf33d": {
      "model_module": "@jupyter-widgets/base",
      "model_module_version": "1.2.0",
      "model_name": "LayoutModel",
      "state": {
       "width": "50px"
      }
     },
     "67e2d3835eda40c5a2a4be4ee1a8363f": {
      "model_module": "@jupyter-widgets/controls",
      "model_module_version": "1.5.0",
      "model_name": "TextareaModel",
      "state": {
       "layout": "IPY_MODEL_afdb9c9e3a7a4a4da0dabe5731dc3a20",
       "style": "IPY_MODEL_ab57a8b6dfa3412ea231776753622dfa"
      }
     },
     "681ab5f2b54c45aabb31861db3a4de86": {
      "model_module": "@jupyter-widgets/controls",
      "model_module_version": "1.5.0",
      "model_name": "DropdownModel",
      "state": {
       "_options_labels": [
        "1",
        "2",
        "3",
        "4",
        "5"
       ],
       "description": "y",
       "index": 1,
       "layout": "IPY_MODEL_582ef62b4f6c4e819d853514e8127d82",
       "style": "IPY_MODEL_a0cb52ecb7c345dfa91b250ec3c356ce"
      }
     },
     "682d72e1cd4a41a891fcfcea633ac8d9": {
      "model_module": "@jupyter-widgets/controls",
      "model_module_version": "1.5.0",
      "model_name": "IntTextModel",
      "state": {
       "description": "ini #",
       "layout": "IPY_MODEL_178b9aedb15f4d6dbdfc6b7bc8f13abb",
       "step": 1,
       "style": "IPY_MODEL_df9881f2b1e84e5eb36cc7d988df8021"
      }
     },
     "6875d88e344f4352b217ed87e0d47192": {
      "model_module": "@jupyter-widgets/controls",
      "model_module_version": "1.5.0",
      "model_name": "FloatSliderModel",
      "state": {
       "description": "move",
       "layout": "IPY_MODEL_6bf95de46b4b49beb3727ccf752a6730",
       "max": 5,
       "min": -5,
       "step": 0.1,
       "style": "IPY_MODEL_32f8b34dd318486ea64b09fba864b31d"
      }
     },
     "69f4c5c205a440e2b820e3ec530805bd": {
      "model_module": "@jupyter-widgets/controls",
      "model_module_version": "1.5.0",
      "model_name": "HBoxModel",
      "state": {
       "children": [
        "IPY_MODEL_1e8ed77c6f3840129794c2aa2d1db707",
        "IPY_MODEL_2849d15bdde0473397102ef2cc24186e"
       ],
       "layout": "IPY_MODEL_6a282fd2ea244760ad0a7c9fc6b26a5c"
      }
     },
     "6a282fd2ea244760ad0a7c9fc6b26a5c": {
      "model_module": "@jupyter-widgets/base",
      "model_module_version": "1.2.0",
      "model_name": "LayoutModel",
      "state": {}
     },
     "6a3a3b6d1d5e4522b9d5c305f9987c2f": {
      "model_module": "@jupyter-widgets/controls",
      "model_module_version": "1.5.0",
      "model_name": "IntTextModel",
      "state": {
       "description": "##",
       "layout": "IPY_MODEL_5994e1b04ab948adaf3388ff15ad45cc",
       "step": 1,
       "style": "IPY_MODEL_098ae2e19528413fb6158e3cf6ce6950"
      }
     },
     "6aafe4031a544b8495741d8b8753e73f": {
      "model_module": "@jupyter-widgets/controls",
      "model_module_version": "1.5.0",
      "model_name": "LabelModel",
      "state": {
       "layout": "IPY_MODEL_6f521753a8cc4a56be7732682df8e6e9",
       "style": "IPY_MODEL_7a750f5fe6e94ffa8b55b40b77cdcad7",
       "value": "pbc allowance for no pbc atoms"
      }
     },
     "6b0f249371d1486991a4b19b70615ce5": {
      "model_module": "@jupyter-widgets/base",
      "model_module_version": "1.2.0",
      "model_name": "LayoutModel",
      "state": {}
     },
     "6b40419cc5594874b9e61e6ad6cd1325": {
      "model_module": "@jupyter-widgets/controls",
      "model_module_version": "1.5.0",
      "model_name": "LabelModel",
      "state": {
       "layout": "IPY_MODEL_db489a473589426192e890902860d722",
       "style": "IPY_MODEL_aa6787f56c2e446d88182d23f51d794e",
       "value": "wrap Atoms"
      }
     },
     "6b4d7291133d49c8928b099fe320759f": {
      "model_module": "@jupyter-widgets/controls",
      "model_module_version": "1.5.0",
      "model_name": "FloatTextModel",
      "state": {
       "description": "allowance",
       "layout": "IPY_MODEL_7c82ed24529840169e8d039e1f826d8d",
       "step": 0.5,
       "style": "IPY_MODEL_719f2021029f40d3a0ecbf973d016f60",
       "value": 3
      }
     },
     "6b546d966104449db9bc637ca13d88e7": {
      "model_module": "@jupyter-widgets/controls",
      "model_module_version": "1.5.0",
      "model_name": "HBoxModel",
      "state": {
       "children": [
        "IPY_MODEL_dcabbfd833f147d2bb273968fef2a625",
        "IPY_MODEL_f5c13c60030b4c10ae88a892a36fcdfa",
        "IPY_MODEL_32f1569e3c8e4daa89e241ebbb5d1272"
       ],
       "layout": "IPY_MODEL_9d900d658f474b82be36c7e6d1274f8f"
      }
     },
     "6bbed053b54540479c017f4effc447c9": {
      "model_module": "@jupyter-widgets/controls",
      "model_module_version": "1.5.0",
      "model_name": "DescriptionStyleModel",
      "state": {
       "description_width": ""
      }
     },
     "6bf95de46b4b49beb3727ccf752a6730": {
      "model_module": "@jupyter-widgets/base",
      "model_module_version": "1.2.0",
      "model_name": "LayoutModel",
      "state": {}
     },
     "6c7b65b2534245c49931d6bdeb7f01f8": {
      "model_module": "@jupyter-widgets/controls",
      "model_module_version": "1.5.0",
      "model_name": "DescriptionStyleModel",
      "state": {
       "description_width": "30px"
      }
     },
     "6d50864a03af48b1a55220561ab734b3": {
      "model_module": "@jupyter-widgets/controls",
      "model_module_version": "1.5.0",
      "model_name": "IntTextModel",
      "state": {
       "description": "interval",
       "layout": "IPY_MODEL_9ad6e98637444f67813b328876e48405",
       "step": 50,
       "style": "IPY_MODEL_892f8d1ee8df4c3391050aca733fc937",
       "value": 50
      }
     },
     "6d954236250a44cab5f195c5d21de4de": {
      "model_module": "@jupyter-widgets/controls",
      "model_module_version": "1.5.0",
      "model_name": "DescriptionStyleModel",
      "state": {
       "description_width": "35px"
      }
     },
     "6e77a7c3fe36418e82657fc37f899396": {
      "model_module": "@jupyter-widgets/controls",
      "model_module_version": "1.5.0",
      "model_name": "DescriptionStyleModel",
      "state": {
       "description_width": ""
      }
     },
     "6f16290008674230b221ee6ee1a512e6": {
      "model_module": "@jupyter-widgets/controls",
      "model_module_version": "1.5.0",
      "model_name": "IntSliderModel",
      "state": {
       "description": "rote",
       "layout": "IPY_MODEL_e6566c9d615640898f5bbb46ed20c629",
       "max": 359,
       "style": "IPY_MODEL_6725c614659d417cb316152b7568f847"
      }
     },
     "6f2d3fc692ff49848ea92f684ead6a56": {
      "model_module": "@jupyter-widgets/base",
      "model_module_version": "1.2.0",
      "model_name": "LayoutModel",
      "state": {
       "width": "1330px"
      }
     },
     "6f521753a8cc4a56be7732682df8e6e9": {
      "model_module": "@jupyter-widgets/base",
      "model_module_version": "1.2.0",
      "model_name": "LayoutModel",
      "state": {}
     },
     "6f6826378a7b4356b6b4bb72dcc958a7": {
      "model_module": "@jupyter-widgets/controls",
      "model_module_version": "1.5.0",
      "model_name": "ButtonModel",
      "state": {
       "description": "by pos z",
       "layout": "IPY_MODEL_0ce846331faa4fe0877e22683abd8dfa",
       "style": "IPY_MODEL_d218e2f6c41c416bbc327496f927d3a3"
      }
     },
     "6fe674682dfb41afaab8e7fda5d282ef": {
      "model_module": "@jupyter-widgets/output",
      "model_module_version": "1.0.0",
      "model_name": "OutputModel",
      "state": {
       "layout": "IPY_MODEL_17311ada72ec4f648824d920d3851a27"
      }
     },
     "6fe6b160b59740f18a7133aa25b42acc": {
      "model_module": "@jupyter-widgets/base",
      "model_module_version": "1.2.0",
      "model_name": "LayoutModel",
      "state": {
       "width": "180px"
      }
     },
     "7047be989749443d914c251265daa92a": {
      "model_module": "@jupyter-widgets/controls",
      "model_module_version": "1.5.0",
      "model_name": "ButtonStyleModel",
      "state": {}
     },
     "7064c67683474b74b40efabcc7632d96": {
      "model_module": "@jupyter-widgets/base",
      "model_module_version": "1.2.0",
      "model_name": "LayoutModel",
      "state": {
       "width": "80px"
      }
     },
     "713ed77391a74e66973eb3de9425a2cb": {
      "model_module": "@jupyter-widgets/base",
      "model_module_version": "1.2.0",
      "model_name": "LayoutModel",
      "state": {
       "width": "100px"
      }
     },
     "716fe54b358c46bfbe0ab44fd2a86b15": {
      "model_module": "@jupyter-widgets/controls",
      "model_module_version": "1.5.0",
      "model_name": "VBoxModel",
      "state": {
       "children": [
        "IPY_MODEL_de65b6ab1eff4a318de305fc8946dbe9",
        "IPY_MODEL_5feca343c0354d1aa596ed30d16f1b01"
       ],
       "layout": "IPY_MODEL_1378329d627541aaa6732a248e2d6397"
      }
     },
     "7177b99dfe16407f8914c625d7199014": {
      "model_module": "@jupyter-widgets/controls",
      "model_module_version": "1.5.0",
      "model_name": "HBoxModel",
      "state": {
       "children": [
        "IPY_MODEL_ad14df45f3fa4e9c8f9b1849a2c5ced3",
        "IPY_MODEL_0004ce9b04fb4c9fb41380a1747b5d3a",
        "IPY_MODEL_7dced452113946edb2d206aca0c03b6b",
        "IPY_MODEL_3079b864f0724bb4b241606adb89eb2d",
        "IPY_MODEL_cf8ca23b37e3428b8d4c46c4ccfed405"
       ],
       "layout": "IPY_MODEL_1b8504c1bf564a30ad525742169ed7f0"
      }
     },
     "719aaf9b70db451bb2afbc6e071094b0": {
      "model_module": "@jupyter-widgets/base",
      "model_module_version": "1.2.0",
      "model_name": "LayoutModel",
      "state": {}
     },
     "719f2021029f40d3a0ecbf973d016f60": {
      "model_module": "@jupyter-widgets/controls",
      "model_module_version": "1.5.0",
      "model_name": "DescriptionStyleModel",
      "state": {
       "description_width": ""
      }
     },
     "71ad1f7d55a54bb689f6ccd4f3df9693": {
      "model_module": "@jupyter-widgets/base",
      "model_module_version": "1.2.0",
      "model_name": "LayoutModel",
      "state": {}
     },
     "71b42b2d88e54d62b5df8e2a7727f0e1": {
      "model_module": "@jupyter-widgets/base",
      "model_module_version": "1.2.0",
      "model_name": "LayoutModel",
      "state": {
       "width": "80px"
      }
     },
     "721e93219a3543c5bdd726d98b56b18c": {
      "model_module": "@jupyter-widgets/controls",
      "model_module_version": "1.5.0",
      "model_name": "DescriptionStyleModel",
      "state": {
       "description_width": ""
      }
     },
     "722e8a7660c24c48a98e398fb382b4ed": {
      "model_module": "@jupyter-widgets/base",
      "model_module_version": "1.2.0",
      "model_name": "LayoutModel",
      "state": {
       "width": "120px"
      }
     },
     "723dc790652048e7876d9dc4b059429d": {
      "model_module": "@jupyter-widgets/controls",
      "model_module_version": "1.5.0",
      "model_name": "DescriptionStyleModel",
      "state": {
       "description_width": ""
      }
     },
     "72f03eb46a144d03b45a1e9ba323e1c5": {
      "model_module": "@jupyter-widgets/base",
      "model_module_version": "1.2.0",
      "model_name": "LayoutModel",
      "state": {
       "width": "120px"
      }
     },
     "7309ee72704646b694cfb26207290c90": {
      "model_module": "@jupyter-widgets/controls",
      "model_module_version": "1.5.0",
      "model_name": "DescriptionStyleModel",
      "state": {
       "description_width": ""
      }
     },
     "7324ff95f9c84387bbd1297a061e1ebd": {
      "model_module": "@jupyter-widgets/base",
      "model_module_version": "1.2.0",
      "model_name": "LayoutModel",
      "state": {
       "height": "320px",
       "overflow_x": "hidden",
       "overflow_y": "scroll",
       "width": "385px"
      }
     },
     "7336efb7d9904846935bba5b2f03b5b7": {
      "model_module": "@jupyter-widgets/base",
      "model_module_version": "1.2.0",
      "model_name": "LayoutModel",
      "state": {
       "width": "140px"
      }
     },
     "739624401fed4836ae7513f77883ff97": {
      "model_module": "@jupyter-widgets/controls",
      "model_module_version": "1.5.0",
      "model_name": "ButtonModel",
      "state": {
       "description": "opt",
       "layout": "IPY_MODEL_ef519148023647bb98b243241b237a36",
       "style": "IPY_MODEL_89e35291ffd247e69e6c7198947da726"
      }
     },
     "743c7540f13b4ad382a7ea0bcab44a3d": {
      "model_module": "@jupyter-widgets/base",
      "model_module_version": "1.2.0",
      "model_name": "LayoutModel",
      "state": {
       "width": "160px"
      }
     },
     "7480225de9ee4d659825800a087060fe": {
      "model_module": "@jupyter-widgets/controls",
      "model_module_version": "1.5.0",
      "model_name": "ButtonStyleModel",
      "state": {}
     },
     "7610a461fcf54c92bc40d3502c088779": {
      "model_module": "@jupyter-widgets/base",
      "model_module_version": "1.2.0",
      "model_name": "LayoutModel",
      "state": {
       "height": "360px",
       "overflow_x": "hidden",
       "overflow_y": "hidden",
       "width": "385px"
      }
     },
     "766523766ade4e729bc210bb6f777e4e": {
      "model_module": "@jupyter-widgets/controls",
      "model_module_version": "1.5.0",
      "model_name": "ButtonStyleModel",
      "state": {}
     },
     "76fa4d03197d4d3d971f1664295f905a": {
      "model_module": "@jupyter-widgets/controls",
      "model_module_version": "1.5.0",
      "model_name": "DropdownModel",
      "state": {
       "_options_labels": [
        "x",
        "y",
        "z",
        "i"
       ],
       "index": 2,
       "layout": "IPY_MODEL_4885c31e1b0a4355b903c51c24f7a72d",
       "style": "IPY_MODEL_779665ec3a37439e8f095a0593629d70"
      }
     },
     "779665ec3a37439e8f095a0593629d70": {
      "model_module": "@jupyter-widgets/controls",
      "model_module_version": "1.5.0",
      "model_name": "DescriptionStyleModel",
      "state": {
       "description_width": ""
      }
     },
     "78216c7eae4643dfa5f38a66d8702cc0": {
      "model_module": "@jupyter-widgets/base",
      "model_module_version": "1.2.0",
      "model_name": "LayoutModel",
      "state": {}
     },
     "78bfae9442594f4d9d20f72af3aed4bb": {
      "model_module": "@jupyter-widgets/controls",
      "model_module_version": "1.5.0",
      "model_name": "ButtonModel",
      "state": {
       "description": "Full screen",
       "layout": "IPY_MODEL_7f0d8e49535a42d283fc9f01b555e406",
       "style": "IPY_MODEL_e759453c1c544a91b9ec1cfe2f1d621b"
      }
     },
     "78d45e4be9f34d1bb40ec72897500750": {
      "model_module": "@jupyter-widgets/base",
      "model_module_version": "1.2.0",
      "model_name": "LayoutModel",
      "state": {
       "width": "170px"
      }
     },
     "79d58cdaa2344a6590c669062f08246b": {
      "model_module": "@jupyter-widgets/controls",
      "model_module_version": "1.5.0",
      "model_name": "BoxModel",
      "state": {
       "children": [
        "IPY_MODEL_21e9ab8b385f4c5abcb22b0878e9a8fa"
       ],
       "layout": "IPY_MODEL_3e04110727ca4b5f99e338abbdf1e872"
      }
     },
     "79f2038afe0d4ceeb47e9d516f4efa7f": {
      "model_module": "@jupyter-widgets/controls",
      "model_module_version": "1.5.0",
      "model_name": "ButtonStyleModel",
      "state": {}
     },
     "79fda031ab564a54ab68d72255716f4e": {
      "model_module": "@jupyter-widgets/base",
      "model_module_version": "1.2.0",
      "model_name": "LayoutModel",
      "state": {
       "width": "140px"
      }
     },
     "7a172662e7814f6baf4c57b619fe11ee": {
      "model_module": "@jupyter-widgets/controls",
      "model_module_version": "1.5.0",
      "model_name": "VBoxModel",
      "state": {
       "children": [
        "IPY_MODEL_5a55753450a04d9693bcebd9a94e295e",
        "IPY_MODEL_e4f4a93b8a61409e99a1e052e72ebb12",
        "IPY_MODEL_35f4826e379f4ce3ac554306e2625467"
       ],
       "layout": "IPY_MODEL_6b0f249371d1486991a4b19b70615ce5"
      }
     },
     "7a2b7f43196946af91919eb67cba81df": {
      "model_module": "@jupyter-widgets/controls",
      "model_module_version": "1.5.0",
      "model_name": "DescriptionStyleModel",
      "state": {
       "description_width": ""
      }
     },
     "7a750f5fe6e94ffa8b55b40b77cdcad7": {
      "model_module": "@jupyter-widgets/controls",
      "model_module_version": "1.5.0",
      "model_name": "DescriptionStyleModel",
      "state": {
       "description_width": ""
      }
     },
     "7aa033e08a0c4ca0a452556ec1aceb45": {
      "model_module": "@jupyter-widgets/controls",
      "model_module_version": "1.5.0",
      "model_name": "ButtonModel",
      "state": {
       "description": "set_cell_from_cellpar",
       "layout": "IPY_MODEL_945cb465dc384ce4aae70aeece2d174e",
       "style": "IPY_MODEL_efa82c6ca35f4c1e8291757e685b9f6e"
      }
     },
     "7b44a24576a14002bba248743332cac1": {
      "model_module": "@jupyter-widgets/base",
      "model_module_version": "1.2.0",
      "model_name": "LayoutModel",
      "state": {}
     },
     "7b5635ff9c8641b08c48d3b0b43a0b2d": {
      "model_module": "@jupyter-widgets/controls",
      "model_module_version": "1.5.0",
      "model_name": "DescriptionStyleModel",
      "state": {
       "description_width": ""
      }
     },
     "7b5b7f00949e47748a971c2921fa71c1": {
      "model_module": "@jupyter-widgets/base",
      "model_module_version": "1.2.0",
      "model_name": "LayoutModel",
      "state": {
       "height": "30px",
       "width": "60px"
      }
     },
     "7b8a9eb12f02465ab1bd9e85a4ba0b78": {
      "model_module": "@jupyter-widgets/controls",
      "model_module_version": "1.5.0",
      "model_name": "ButtonModel",
      "state": {
       "description": "read const",
       "layout": "IPY_MODEL_a3a8f36b062f4045ad50500668e057ef",
       "style": "IPY_MODEL_766523766ade4e729bc210bb6f777e4e"
      }
     },
     "7b91754f0a7945ae8144eb1b9ab41fe1": {
      "model_module": "@jupyter-widgets/controls",
      "model_module_version": "1.5.0",
      "model_name": "ButtonStyleModel",
      "state": {}
     },
     "7c0f772a63be4403aef1486c971e732c": {
      "model_module": "@jupyter-widgets/base",
      "model_module_version": "1.2.0",
      "model_name": "LayoutModel",
      "state": {
       "height": "500px",
       "width": "400px"
      }
     },
     "7c13a21e3ae24ac2aed37d00b3b3f2ba": {
      "model_module": "@jupyter-widgets/controls",
      "model_module_version": "1.5.0",
      "model_name": "HBoxModel",
      "state": {
       "children": [
        "IPY_MODEL_412e63f21a3f4c5a8dfd59ddda222ce6",
        "IPY_MODEL_45853e79802346dfaf727c8441427026"
       ],
       "layout": "IPY_MODEL_19cef73a8e6244fb998c8b89105c00b7"
      }
     },
     "7c530e87505041cfaf363e0d9413af6c": {
      "model_module": "@jupyter-widgets/controls",
      "model_module_version": "1.5.0",
      "model_name": "ButtonStyleModel",
      "state": {}
     },
     "7c63fef0b15b4f219e2ab9256592f03e": {
      "model_module": "@jupyter-widgets/base",
      "model_module_version": "1.2.0",
      "model_name": "LayoutModel",
      "state": {}
     },
     "7c82ed24529840169e8d039e1f826d8d": {
      "model_module": "@jupyter-widgets/base",
      "model_module_version": "1.2.0",
      "model_name": "LayoutModel",
      "state": {
       "width": "140px"
      }
     },
     "7dced452113946edb2d206aca0c03b6b": {
      "model_module": "@jupyter-widgets/controls",
      "model_module_version": "1.5.0",
      "model_name": "DropdownModel",
      "state": {
       "_options_labels": [
        "CALC",
        "Setting",
        "OPT",
        "NEB",
        "VIB",
        "THERMO",
        "MD_NVT"
       ],
       "index": 0,
       "layout": "IPY_MODEL_7336efb7d9904846935bba5b2f03b5b7",
       "style": "IPY_MODEL_721e93219a3543c5bdd726d98b56b18c"
      }
     },
     "7e4ddf6cfbce450481fb12932fad1f73": {
      "model_module": "@jupyter-widgets/controls",
      "model_module_version": "1.5.0",
      "model_name": "DescriptionStyleModel",
      "state": {
       "description_width": "35px"
      }
     },
     "7e87cb3012554efe970b71b8ac5ba987": {
      "model_module": "@jupyter-widgets/controls",
      "model_module_version": "1.5.0",
      "model_name": "ButtonModel",
      "state": {
       "description": "sideview",
       "layout": "IPY_MODEL_3ebe73bed7f748f29efc8dad9d9e5e6b",
       "style": "IPY_MODEL_3f132576d7344606aedb76e2b4ea07c1"
      }
     },
     "7eca7497181542c98482f4f917a24c9e": {
      "model_module": "@jupyter-widgets/base",
      "model_module_version": "1.2.0",
      "model_name": "LayoutModel",
      "state": {}
     },
     "7ee4db0ac34b4d5aa9eb258e29d7648a": {
      "model_module": "@jupyter-widgets/controls",
      "model_module_version": "1.5.0",
      "model_name": "DescriptionStyleModel",
      "state": {
       "description_width": ""
      }
     },
     "7ef46449a752473cb9eab7d815243b0e": {
      "model_module": "@jupyter-widgets/output",
      "model_module_version": "1.0.0",
      "model_name": "OutputModel",
      "state": {
       "layout": "IPY_MODEL_8954e040487441a883b2965a099b54b7"
      }
     },
     "7f0d8e49535a42d283fc9f01b555e406": {
      "model_module": "@jupyter-widgets/base",
      "model_module_version": "1.2.0",
      "model_name": "LayoutModel",
      "state": {
       "width": "120px"
      }
     },
     "7f719db95b4b46d8930ac1e6ca2bf681": {
      "model_module": "@jupyter-widgets/controls",
      "model_module_version": "1.5.0",
      "model_name": "VBoxModel",
      "state": {
       "children": [
        "IPY_MODEL_e63be80317cb42d88831b93e09daccf8",
        "IPY_MODEL_1fdf67e181ec4179903095c89775f4ee",
        "IPY_MODEL_eca623fc82ec4921ae452f1028c5b62e",
        "IPY_MODEL_13ea1c199ae44d5296e85632569b963a",
        "IPY_MODEL_6d50864a03af48b1a55220561ab734b3",
        "IPY_MODEL_dfb3b86fae59447b95014f372b53d80c",
        "IPY_MODEL_022ff83ad765459b8217c0db41d5c80b",
        "IPY_MODEL_1c8c6fba5dc74a57acfeaf0868a33523",
        "IPY_MODEL_50c52c920b334ae0b5b4d61ec3995d2f"
       ],
       "layout": "IPY_MODEL_6344aed18aaf41da94cfab5ac395c256"
      }
     },
     "7f9a055c423944cb918fd4a9e16c7d90": {
      "model_module": "@jupyter-widgets/controls",
      "model_module_version": "1.5.0",
      "model_name": "LabelModel",
      "state": {
       "layout": "IPY_MODEL_b697a1eceb4f4225996c19c51cf0750f",
       "style": "IPY_MODEL_28ddda0807af4d69ba8888bd4c2e3d85",
       "value": "FIX Bond"
      }
     },
     "7ff5ef2609104e7d8d9753af25c23293": {
      "model_module": "@jupyter-widgets/base",
      "model_module_version": "1.2.0",
      "model_name": "LayoutModel",
      "state": {
       "width": "100px"
      }
     },
     "8002d8a60853409cb6134253792fa429": {
      "model_module": "@jupyter-widgets/base",
      "model_module_version": "1.2.0",
      "model_name": "LayoutModel",
      "state": {}
     },
     "8023d0710b364aa1ba137825d4886e05": {
      "model_module": "@jupyter-widgets/controls",
      "model_module_version": "1.5.0",
      "model_name": "HBoxModel",
      "state": {
       "children": [
        "IPY_MODEL_c90fd39f6c8543f0b7814e2503396370",
        "IPY_MODEL_453dbce837994445bc7bdbf7aed03189",
        "IPY_MODEL_17074b45fb1f47f4835f773800397aa4"
       ],
       "layout": "IPY_MODEL_65c08689c6de49d992722844ba87e066"
      }
     },
     "81403618617e4ce2821e1af88df8c8ce": {
      "model_module": "@jupyter-widgets/base",
      "model_module_version": "1.2.0",
      "model_name": "LayoutModel",
      "state": {
       "width": "120px"
      }
     },
     "817ad69b44724ab69dcdb6e3388d55da": {
      "model_module": "@jupyter-widgets/controls",
      "model_module_version": "1.5.0",
      "model_name": "VBoxModel",
      "state": {
       "children": [
        "IPY_MODEL_63f083b1d1e34f91ba4e001b92211b04",
        "IPY_MODEL_e207a9be509d47be9766fe73f6478668",
        "IPY_MODEL_27324425e3bd4be983ac6ffd46929004",
        "IPY_MODEL_ce34bb317eb84af08863a002ddcf19f7",
        "IPY_MODEL_7aa033e08a0c4ca0a452556ec1aceb45",
        "IPY_MODEL_bd4b1c7e159b43caa912eaf63f1bc1f9",
        "IPY_MODEL_44c14ad58c7346c788442d7ffe4c43b2"
       ],
       "layout": "IPY_MODEL_fe333a79dc854a7093dd7c526ba602d3"
      }
     },
     "82341ddaa2aa4430b2c99f704d7b5c33": {
      "model_module": "@jupyter-widgets/base",
      "model_module_version": "1.2.0",
      "model_name": "LayoutModel",
      "state": {
       "width": "35px"
      }
     },
     "82e80a60b8cf445b9e328e366fda9ea7": {
      "model_module": "@jupyter-widgets/controls",
      "model_module_version": "1.5.0",
      "model_name": "DescriptionStyleModel",
      "state": {
       "description_width": ""
      }
     },
     "8348131df2204b98891f347ca11c7bc0": {
      "model_module": "@jupyter-widgets/controls",
      "model_module_version": "1.5.0",
      "model_name": "ButtonModel",
      "state": {
       "description": "scale cell",
       "layout": "IPY_MODEL_722e8a7660c24c48a98e398fb382b4ed",
       "style": "IPY_MODEL_09cf8896bd434b92afcd7874ed1fc392"
      }
     },
     "83ad634720864bbc80156b8d3674e8b1": {
      "model_module": "@jupyter-widgets/controls",
      "model_module_version": "1.5.0",
      "model_name": "ButtonStyleModel",
      "state": {}
     },
     "83ca10b02a2c40e1b9f01991493a29c0": {
      "model_module": "@jupyter-widgets/base",
      "model_module_version": "1.2.0",
      "model_name": "LayoutModel",
      "state": {
       "width": "100px"
      }
     },
     "847b1bc066054cf685e228f6ed74e2fc": {
      "model_module": "@jupyter-widgets/controls",
      "model_module_version": "1.5.0",
      "model_name": "ButtonModel",
      "state": {
       "description": "Insert B[##] after A[##]",
       "layout": "IPY_MODEL_aaa28c71e4f74fb480aed0d52e4c34d2",
       "style": "IPY_MODEL_9c982141721b4ed792f05e194b7a99db"
      }
     },
     "84bdcc9a6b1642a0b54741ce98023ba5": {
      "model_module": "@jupyter-widgets/controls",
      "model_module_version": "1.5.0",
      "model_name": "ButtonStyleModel",
      "state": {}
     },
     "84e0112fa4a349ea8ca67c518dd53286": {
      "model_module": "@jupyter-widgets/controls",
      "model_module_version": "1.5.0",
      "model_name": "ButtonModel",
      "state": {
       "description": "Replace to",
       "layout": "IPY_MODEL_dfb814ef8185434d991c0a24a1bda54d",
       "style": "IPY_MODEL_027169a196e347bf8a36905380ca49fe"
      }
     },
     "857019d063fd4c14b71cccb633f3b7e9": {
      "model_module": "@jupyter-widgets/base",
      "model_module_version": "1.2.0",
      "model_name": "LayoutModel",
      "state": {
       "width": "380px"
      }
     },
     "85d55ebe0f8c4ee8828ec08b3103fb29": {
      "model_module": "@jupyter-widgets/base",
      "model_module_version": "1.2.0",
      "model_name": "LayoutModel",
      "state": {}
     },
     "860596326df7408cbdd05a53d41d7e09": {
      "model_module": "@jupyter-widgets/controls",
      "model_module_version": "1.5.0",
      "model_name": "VBoxModel",
      "state": {
       "children": [
        "IPY_MODEL_e35d33d4e6784292bcec83c8e34d4993",
        "IPY_MODEL_0f431195766c4123b02e4ab19aa3ce5b",
        "IPY_MODEL_64c725554a464fbb85183c73cd55d0f7",
        "IPY_MODEL_4ceff2f5ef2e461c974f4641d7d353b8",
        "IPY_MODEL_cc100c038fe140a1a45f31fd088d542d",
        "IPY_MODEL_f9e7a8897a804f1ea8fad57d5506003c",
        "IPY_MODEL_8617bebb4a434b018df63dd8c8c397cb"
       ],
       "layout": "IPY_MODEL_3280048b48c4455daeb165ceb221cd1d"
      }
     },
     "8617bebb4a434b018df63dd8c8c397cb": {
      "model_module": "@jupyter-widgets/output",
      "model_module_version": "1.0.0",
      "model_name": "OutputModel",
      "state": {
       "layout": "IPY_MODEL_7324ff95f9c84387bbd1297a061e1ebd"
      }
     },
     "86679d9e840848ce8eaa7e071545909a": {
      "model_module": "@jupyter-widgets/base",
      "model_module_version": "1.2.0",
      "model_name": "LayoutModel",
      "state": {}
     },
     "8690e33101b44c68a8e9f2f7c8f454c2": {
      "model_module": "@jupyter-widgets/controls",
      "model_module_version": "1.5.0",
      "model_name": "ButtonStyleModel",
      "state": {}
     },
     "86b52c5ceb09410e886a4e3315723bd3": {
      "model_module": "@jupyter-widgets/controls",
      "model_module_version": "1.5.0",
      "model_name": "TextareaModel",
      "state": {
       "layout": "IPY_MODEL_03a4014bd768433aa086a5bd1707fe02",
       "placeholder": "path",
       "style": "IPY_MODEL_4f59e116a3b447f983627d596e9a006a",
       "value": "/home/jovyan/tmp/matlantis-contrib/matlantis_contrib_examples/matviewer/example"
      }
     },
     "87cb56feff104b68bbbdcb1c45fbf5dd": {
      "model_module": "@jupyter-widgets/output",
      "model_module_version": "1.0.0",
      "model_name": "OutputModel",
      "state": {
       "layout": "IPY_MODEL_08e98514a65443ff86f38e1edf91637d",
       "outputs": [
        {
         "data": {
          "text/html": "\n        <html><head>\n        <script type=\"text/javascript\" language=\"javascript\" src=\"https://pfcc.matlantis.com/nb/4de55fn39i8b0xgl/default/files/.py39/lib/python3.9/site-packages/matviewer/data/jsme/jsme.nocache.js\"></script>\n        <script>    \n        function jsmeOnLoad() {  jsmeApplet = new JSApplet.JSME(\"20240621114809\", \"380px\",\"285px\");           \n        jsmeApplet.setCallBack(\"AfterStructureModified\", show_smiles);        }        \n        function show_smiles(event) {\n         smiles = event.src.smiles();            \n         el = document.querySelector(\"input[placeholder='20240621114809']\");           \n         el.value = smiles.replace(\"/\\[([A-Za-z][a-z]?)H?\\d*:\\d+\\]/g\",smiles);           \n         el.dispatchEvent(new Event('input',{'bubbles': true,'cancelable': true}));        \n        }\n        </script></head><body><div id=\"20240621114809\"></div></body></html>\n        ",
          "text/plain": "<IPython.core.display.HTML object>"
         },
         "metadata": {},
         "output_type": "display_data"
        }
       ]
      }
     },
     "87d738ee5f12481cac3bdad3b73021bb": {
      "model_module": "@jupyter-widgets/controls",
      "model_module_version": "1.5.0",
      "model_name": "ButtonModel",
      "state": {
       "layout": "IPY_MODEL_e9b92bb0266d443abd6805bf87299f64",
       "style": "IPY_MODEL_4a74a6a7e951440891085217b8af58d7"
      }
     },
     "88150251f0ec437cbd729172d844c7e0": {
      "model_module": "@jupyter-widgets/controls",
      "model_module_version": "1.5.0",
      "model_name": "ButtonStyleModel",
      "state": {}
     },
     "884001a001214de7a8ce1194b4374d5f": {
      "model_module": "@jupyter-widgets/controls",
      "model_module_version": "1.5.0",
      "model_name": "IntSliderModel",
      "state": {
       "layout": "IPY_MODEL_f6b99bb2ab6d446097c646071cd543da",
       "max": 1000,
       "min": 10,
       "style": "IPY_MODEL_971ef15018f144129415497aa896eae7",
       "value": 100
      }
     },
     "892f8d1ee8df4c3391050aca733fc937": {
      "model_module": "@jupyter-widgets/controls",
      "model_module_version": "1.5.0",
      "model_name": "DescriptionStyleModel",
      "state": {
       "description_width": ""
      }
     },
     "894446b4387545afaffb8384880d7e7b": {
      "model_module": "@jupyter-widgets/controls",
      "model_module_version": "1.5.0",
      "model_name": "VBoxModel",
      "state": {
       "children": [
        "IPY_MODEL_36c58640a44049f7a564447993d6a6ec",
        "IPY_MODEL_0eaae0a79b1b430687934b8bbbafa6ae",
        "IPY_MODEL_31b204663a784ff2bc338bb7c67d27c2",
        "IPY_MODEL_56850a604c814888b0d47b8c5f61b82d",
        "IPY_MODEL_cad883e5019d4264b152ea97521f05b8",
        "IPY_MODEL_9ce04a8a8f304411bfd9522b58c16670"
       ],
       "layout": "IPY_MODEL_08a832934a554c75ac1a3ae0dc186f1c"
      }
     },
     "8954e040487441a883b2965a099b54b7": {
      "model_module": "@jupyter-widgets/base",
      "model_module_version": "1.2.0",
      "model_name": "LayoutModel",
      "state": {
       "height": "250px",
       "overflow_x": "hidden",
       "overflow_y": "scroll",
       "width": "385px"
      }
     },
     "897cb94efd314dac8d2dcb9d78a01117": {
      "model_module": "@jupyter-widgets/controls",
      "model_module_version": "1.5.0",
      "model_name": "IntSliderModel",
      "state": {
       "description": "Opt_n",
       "layout": "IPY_MODEL_516eba9e631f4bc692124b0b49ba5be3",
       "style": "IPY_MODEL_de89073058144fb094e609566b294d42"
      }
     },
     "89e35291ffd247e69e6c7198947da726": {
      "model_module": "@jupyter-widgets/controls",
      "model_module_version": "1.5.0",
      "model_name": "ButtonStyleModel",
      "state": {}
     },
     "89e394e24e264dbb9aaadab8a8f93fe8": {
      "model_module": "@jupyter-widgets/base",
      "model_module_version": "1.2.0",
      "model_name": "LayoutModel",
      "state": {
       "height": "45px",
       "width": "360px"
      }
     },
     "8a6b1522ec1a4dd5942f3cf513f4c8a8": {
      "model_module": "@jupyter-widgets/controls",
      "model_module_version": "1.5.0",
      "model_name": "DescriptionStyleModel",
      "state": {
       "description_width": "50px"
      }
     },
     "8a8dbea431c244529d2a1cec547456b9": {
      "model_module": "@jupyter-widgets/base",
      "model_module_version": "1.2.0",
      "model_name": "LayoutModel",
      "state": {}
     },
     "8ac633df696146c7924622c73f44b51d": {
      "model_module": "@jupyter-widgets/controls",
      "model_module_version": "1.5.0",
      "model_name": "DescriptionStyleModel",
      "state": {
       "description_width": ""
      }
     },
     "8b8c0ede056c4b7eac59c7adaf28d7bc": {
      "model_module": "@jupyter-widgets/base",
      "model_module_version": "1.2.0",
      "model_name": "LayoutModel",
      "state": {
       "width": "140px"
      }
     },
     "8c6171f129a2462baeb48435472173bf": {
      "model_module": "@jupyter-widgets/controls",
      "model_module_version": "1.5.0",
      "model_name": "DescriptionStyleModel",
      "state": {
       "description_width": ""
      }
     },
     "8dce57275995419fa52d6451f746f9a0": {
      "model_module": "@jupyter-widgets/base",
      "model_module_version": "1.2.0",
      "model_name": "LayoutModel",
      "state": {
       "height": "40px"
      }
     },
     "8e7529eef7ca4a17a4539b5fa96216d1": {
      "model_module": "nglview-js-widgets",
      "model_module_version": "3.0.1",
      "model_name": "NGLModel",
      "state": {
       "_camera_orientation": [
        11.786627753786497,
        0,
        0,
        0,
        0,
        11.786627753786497,
        0,
        0,
        0,
        0,
        11.786627753786497,
        0,
        0,
        0,
        -0.375,
        1
       ],
       "_camera_str": "orthographic",
       "_gui_theme": null,
       "_ibtn_fullscreen": "IPY_MODEL_0cb23258e4b445e6abae8f7af121d5e8",
       "_igui": "IPY_MODEL_65017dfbd89947278226885a21a3aa68",
       "_iplayer": "IPY_MODEL_69f4c5c205a440e2b820e3ec530805bd",
       "_ngl_color_dict": {},
       "_ngl_coordinate_resource": {},
       "_ngl_full_stage_parameters": {
        "ambientColor": 14540253,
        "ambientIntensity": 0.2,
        "backgroundColor": "white",
        "cameraEyeSep": 0.3,
        "cameraFov": 40,
        "cameraType": "orthographic",
        "clipDist": 10,
        "clipFar": 100,
        "clipNear": 0,
        "fogFar": 100,
        "fogNear": 50,
        "hoverTimeout": 0,
        "impostor": true,
        "lightColor": 14540253,
        "lightIntensity": 1,
        "mousePreset": "default",
        "panSpeed": 1,
        "quality": "medium",
        "rotateSpeed": 2,
        "sampleLevel": 0,
        "tooltip": true,
        "workerDefault": true,
        "zoomSpeed": 1.2
       },
       "_ngl_msg_archive": [
        {
         "args": [
          {
           "binary": false,
           "data": "MODEL     1\nATOM      1    H MOL     1       0.000   0.000   0.000  1.00  0.00           H  \nATOM      2    H MOL     1       0.000   0.000   0.750  1.00  0.00           H  \nENDMDL\n",
           "type": "blob"
          }
         ],
         "kwargs": {
          "defaultRepresentation": true,
          "ext": "pdb"
         },
         "methodName": "loadFile",
         "reconstruc_color_scheme": false,
         "target": "Stage",
         "type": "call_method"
        },
        {
         "args": [
          "label"
         ],
         "component_index": 0,
         "kwargs": {
          "attachment": "middle_center",
          "color": "black",
          "labelType": "atomindex",
          "radius": 1.5,
          "sele": "all",
          "zOffset": 1
         },
         "methodName": "addRepresentation",
         "reconstruc_color_scheme": false,
         "target": "compList",
         "type": "call_method"
        }
       ],
       "_ngl_original_stage_parameters": {
        "ambientColor": 14540253,
        "ambientIntensity": 0.2,
        "backgroundColor": "white",
        "cameraEyeSep": 0.3,
        "cameraFov": 40,
        "cameraType": "perspective",
        "clipDist": 10,
        "clipFar": 100,
        "clipNear": 0,
        "fogFar": 100,
        "fogNear": 50,
        "hoverTimeout": 0,
        "impostor": true,
        "lightColor": 14540253,
        "lightIntensity": 1,
        "mousePreset": "default",
        "panSpeed": 1,
        "quality": "medium",
        "rotateSpeed": 2,
        "sampleLevel": 0,
        "tooltip": true,
        "workerDefault": true,
        "zoomSpeed": 1.2
       },
       "_ngl_repr_dict": {
        "0": {
         "0": {
          "params": {
           "aspectRatio": 1.5,
           "assembly": "default",
           "bondScale": 0.3,
           "bondSpacing": 0.75,
           "clipCenter": {
            "x": 0,
            "y": 0,
            "z": 0
           },
           "clipNear": 0,
           "clipRadius": 0,
           "colorMode": "hcl",
           "colorReverse": false,
           "colorScale": "",
           "colorScheme": "element",
           "colorValue": 9474192,
           "cylinderOnly": false,
           "defaultAssembly": "",
           "depthWrite": true,
           "diffuse": 16777215,
           "diffuseInterior": false,
           "disableImpostor": false,
           "disablePicking": false,
           "flatShaded": false,
           "interiorColor": 2236962,
           "interiorDarkening": 0,
           "lazy": false,
           "lineOnly": false,
           "linewidth": 2,
           "matrix": {
            "elements": [
             1,
             0,
             0,
             0,
             0,
             1,
             0,
             0,
             0,
             0,
             1,
             0,
             0,
             0,
             0,
             1
            ]
           },
           "metalness": 0,
           "multipleBond": "off",
           "opacity": 1,
           "openEnded": true,
           "quality": "high",
           "radialSegments": 20,
           "radiusData": {},
           "radiusScale": 2,
           "radiusSize": 0.15,
           "radiusType": "size",
           "roughness": 0.4,
           "sele": "",
           "side": "double",
           "sphereDetail": 2,
           "useInteriorColor": true,
           "visible": true,
           "wireframe": false
          },
          "type": "ball+stick"
         },
         "1": {
          "params": {
           "assembly": "default",
           "attachment": "middle_center",
           "backgroundColor": "lightgrey",
           "backgroundMargin": 0.5,
           "backgroundOpacity": 1,
           "borderColor": "lightgrey",
           "borderWidth": 0.15,
           "clipCenter": {
            "x": 0,
            "y": 0,
            "z": 0
           },
           "clipNear": 0,
           "clipRadius": 0,
           "colorMode": "hcl",
           "colorReverse": false,
           "colorScale": "",
           "colorScheme": "uniform",
           "colorValue": 0,
           "defaultAssembly": "",
           "depthWrite": true,
           "diffuseInterior": false,
           "disablePicking": false,
           "fixedSize": false,
           "fontFamily": "sans-serif",
           "fontStyle": "normal",
           "fontWeight": "bold",
           "interiorColor": 2236962,
           "interiorDarkening": 0,
           "labelFormat": "",
           "labelGrouping": "atom",
           "labelText": {},
           "labelType": "atomindex",
           "lazy": false,
           "matrix": {
            "elements": [
             1,
             0,
             0,
             0,
             0,
             1,
             0,
             0,
             0,
             0,
             1,
             0,
             0,
             0,
             0,
             1
            ]
           },
           "opacity": 1,
           "quality": "medium",
           "radiusData": {},
           "radiusScale": 1,
           "radiusSize": 1.5,
           "radiusType": "size",
           "sele": "all",
           "showBackground": false,
           "showBorder": false,
           "useInteriorColor": false,
           "visible": true,
           "xOffset": 0,
           "yOffset": 0,
           "zOffset": 1
          },
          "type": "label"
         }
        }
       },
       "_ngl_serialize": false,
       "_ngl_version": "2.0.0-dev.36",
       "_ngl_view_id": [
        "C9408EB8-1A6B-4423-BD7C-907FE5F8A831"
       ],
       "_player_dict": {},
       "_scene_position": {},
       "_scene_rotation": {},
       "_synced_model_ids": [],
       "_synced_repr_model_ids": [],
       "_view_height": "340px",
       "_view_width": "",
       "background": "white",
       "frame": 0,
       "gui_style": null,
       "layout": "IPY_MODEL_2b5a1fa2b4e844d6878e0c65fc6d31a7",
       "max_frame": 0,
       "n_components": 1,
       "picked": {}
      }
     },
     "8e9d4ac2594547a4b3ab5d5cba868891": {
      "model_module": "@jupyter-widgets/base",
      "model_module_version": "1.2.0",
      "model_name": "LayoutModel",
      "state": {
       "width": "170px"
      }
     },
     "8f0675d01fbe4a61a500879ad0730689": {
      "model_module": "@jupyter-widgets/base",
      "model_module_version": "1.2.0",
      "model_name": "LayoutModel",
      "state": {
       "height": "30px",
       "width": "57px"
      }
     },
     "8f81272b35ad48a0a3dcf0472e584c6f": {
      "model_module": "@jupyter-widgets/base",
      "model_module_version": "1.2.0",
      "model_name": "LayoutModel",
      "state": {}
     },
     "90c4091d51e947b194d00eb79588474d": {
      "model_module": "@jupyter-widgets/base",
      "model_module_version": "1.2.0",
      "model_name": "LayoutModel",
      "state": {}
     },
     "91d2e700e1374d7c908ce87c17b012ec": {
      "model_module": "@jupyter-widgets/base",
      "model_module_version": "1.2.0",
      "model_name": "LayoutModel",
      "state": {}
     },
     "92e3dafb3c8f4fce9d32fadb6f92cecb": {
      "model_module": "@jupyter-widgets/base",
      "model_module_version": "1.2.0",
      "model_name": "LayoutModel",
      "state": {}
     },
     "930ca067e45844c7b54407d717e98bc2": {
      "model_module": "@jupyter-widgets/base",
      "model_module_version": "1.2.0",
      "model_name": "LayoutModel",
      "state": {}
     },
     "9311f58c7d214334b15d4829d37542ec": {
      "model_module": "@jupyter-widgets/controls",
      "model_module_version": "1.5.0",
      "model_name": "HBoxModel",
      "state": {
       "children": [
        "IPY_MODEL_1aef117bc2454452842ccacf38c7f607",
        "IPY_MODEL_23b7094130cb40e0a9f9a971e5b871ff",
        "IPY_MODEL_c2cdd0bb90da4dfc92e586a1b1dcac7a"
       ],
       "layout": "IPY_MODEL_e97408a982ab44a49a135df333bf1ccd"
      }
     },
     "9361a377276c445c8eca34c86f003f5b": {
      "model_module": "@jupyter-widgets/controls",
      "model_module_version": "1.5.0",
      "model_name": "DropdownModel",
      "state": {
       "_options_labels": [
        "1",
        "2",
        "3",
        "4",
        "5"
       ],
       "description": "z",
       "index": 0,
       "layout": "IPY_MODEL_0a82c969e4e849888af77c575f8a6f02",
       "style": "IPY_MODEL_c661c27e6a544aa2a959adb824feb5e8"
      }
     },
     "938aaf97699d402cbce15fce0226ec9b": {
      "model_module": "@jupyter-widgets/controls",
      "model_module_version": "1.5.0",
      "model_name": "DescriptionStyleModel",
      "state": {
       "description_width": "50px"
      }
     },
     "93984b13dc4644948b896f76a371040c": {
      "model_module": "@jupyter-widgets/controls",
      "model_module_version": "1.5.0",
      "model_name": "DropdownModel",
      "state": {
       "_options_labels": [
        "1",
        "2",
        "3",
        "4",
        "5"
       ],
       "description": "x",
       "index": 1,
       "layout": "IPY_MODEL_a0597621655c468586f8da96ab9a0c54",
       "style": "IPY_MODEL_95d0c240322145b5a3300ca63b1bea13"
      }
     },
     "945cb465dc384ce4aae70aeece2d174e": {
      "model_module": "@jupyter-widgets/base",
      "model_module_version": "1.2.0",
      "model_name": "LayoutModel",
      "state": {
       "width": "340px"
      }
     },
     "9464ac07fb834ad09337e11c50e10ce6": {
      "model_module": "@jupyter-widgets/base",
      "model_module_version": "1.2.0",
      "model_name": "LayoutModel",
      "state": {
       "width": "140px"
      }
     },
     "94b56dcba23c47528ca14d6adbf064fc": {
      "model_module": "@jupyter-widgets/base",
      "model_module_version": "1.2.0",
      "model_name": "LayoutModel",
      "state": {}
     },
     "94beed439a8348dfa2362a573260aba4": {
      "model_module": "@jupyter-widgets/controls",
      "model_module_version": "1.5.0",
      "model_name": "DescriptionStyleModel",
      "state": {
       "description_width": ""
      }
     },
     "94c7e20061e340adaa912e786fe3b128": {
      "model_module": "@jupyter-widgets/controls",
      "model_module_version": "1.5.0",
      "model_name": "DescriptionStyleModel",
      "state": {
       "description_width": ""
      }
     },
     "952665c290d24b018ffa09ba420cd1b4": {
      "model_module": "@jupyter-widgets/base",
      "model_module_version": "1.2.0",
      "model_name": "LayoutModel",
      "state": {
       "width": "150px"
      }
     },
     "95270577ce024810b3372ab911f0e2c8": {
      "model_module": "@jupyter-widgets/controls",
      "model_module_version": "1.5.0",
      "model_name": "ButtonModel",
      "state": {
       "description": "plot",
       "layout": "IPY_MODEL_1117bb4e3dea4ec99b51aa091d9c7ce4",
       "style": "IPY_MODEL_4c6164d9ee034cfa837205e08a1c3413"
      }
     },
     "9542e1d476054f3a9155f2f9d8c09a67": {
      "model_module": "@jupyter-widgets/controls",
      "model_module_version": "1.5.0",
      "model_name": "VBoxModel",
      "state": {
       "children": [
        "IPY_MODEL_ad71f145c960498d91bef0639370381d",
        "IPY_MODEL_fc4a10b6e7b94f13aefaab67faee17a3",
        "IPY_MODEL_467f600eb2e24d0faf9685b5b94ec699"
       ],
       "layout": "IPY_MODEL_b834fe7f669947d49cedd4e9c7832273"
      }
     },
     "9554f688abb84979996fd6644c644680": {
      "model_module": "@jupyter-widgets/base",
      "model_module_version": "1.2.0",
      "model_name": "LayoutModel",
      "state": {
       "width": "120px"
      }
     },
     "956be4b2ac674c04ad4ddcec5ee8c279": {
      "model_module": "@jupyter-widgets/controls",
      "model_module_version": "1.5.0",
      "model_name": "BoxModel",
      "state": {
       "children": [
        "IPY_MODEL_c9243607094442d9b1d2f3335d322a45",
        "IPY_MODEL_8023d0710b364aa1ba137825d4886e05"
       ],
       "layout": "IPY_MODEL_a8f1db440484453291e254024ce58332"
      }
     },
     "95992fa884c34d828811b7e06eae41e6": {
      "model_module": "@jupyter-widgets/base",
      "model_module_version": "1.2.0",
      "model_name": "LayoutModel",
      "state": {}
     },
     "95d0c240322145b5a3300ca63b1bea13": {
      "model_module": "@jupyter-widgets/controls",
      "model_module_version": "1.5.0",
      "model_name": "DescriptionStyleModel",
      "state": {
       "description_width": "20px"
      }
     },
     "965a8e0b563a465e921dd615a822f59c": {
      "model_module": "@jupyter-widgets/base",
      "model_module_version": "1.2.0",
      "model_name": "LayoutModel",
      "state": {}
     },
     "966c6ec81ef648d38b120bdd86f3ea0c": {
      "model_module": "@jupyter-widgets/controls",
      "model_module_version": "1.5.0",
      "model_name": "IntTextModel",
      "state": {
       "description": "##",
       "layout": "IPY_MODEL_56c9ba42f745464b9bf742a4c814f5c6",
       "step": 1,
       "style": "IPY_MODEL_3a197e5bc0bf4c14a7886b5fd3921817"
      }
     },
     "967af469629d416c95697a7ebb7e6bd0": {
      "model_module": "@jupyter-widgets/controls",
      "model_module_version": "1.5.0",
      "model_name": "LabelModel",
      "state": {
       "layout": "IPY_MODEL_b630e3ce88f547e683fab9037c9c8360",
       "style": "IPY_MODEL_94c7e20061e340adaa912e786fe3b128",
       "value": "ex 'mp-1143','Al2O3'"
      }
     },
     "968145d1642d4193b148cb7e6df0bf16": {
      "model_module": "@jupyter-widgets/controls",
      "model_module_version": "1.5.0",
      "model_name": "ButtonStyleModel",
      "state": {}
     },
     "96828d09d8554ac1870c7f35351e95b1": {
      "model_module": "@jupyter-widgets/controls",
      "model_module_version": "1.5.0",
      "model_name": "IntTextModel",
      "state": {
       "description": "from",
       "layout": "IPY_MODEL_524b48a9d66d441d997bad974c0cce00",
       "step": 1,
       "style": "IPY_MODEL_1208645c69414e7ca193249fab7ba12f"
      }
     },
     "969d5678800445aab7a395ef4c2fad1c": {
      "model_module": "@jupyter-widgets/controls",
      "model_module_version": "1.5.0",
      "model_name": "FloatTextModel",
      "state": {
       "description": "fmax",
       "layout": "IPY_MODEL_9554f688abb84979996fd6644c644680",
       "step": 0.001,
       "style": "IPY_MODEL_5aa4ac62c72e45d0962c4d117dfc62a7",
       "value": 0.01
      }
     },
     "96c5613dc5c841a9b2fc25f0efab7fe7": {
      "model_module": "@jupyter-widgets/controls",
      "model_module_version": "1.5.0",
      "model_name": "LabelModel",
      "state": {
       "layout": "IPY_MODEL_a6f7e98d5d6d4ab4b5ee3981f762535c",
       "style": "IPY_MODEL_a0d46ba9b07942c2a56818ec7bd2ce58",
       "value": "FIX Atoms indices"
      }
     },
     "971ef15018f144129415497aa896eae7": {
      "model_module": "@jupyter-widgets/controls",
      "model_module_version": "1.5.0",
      "model_name": "SliderStyleModel",
      "state": {
       "description_width": ""
      }
     },
     "97aeca86747244868d222ca4d47b422a": {
      "model_module": "@jupyter-widgets/controls",
      "model_module_version": "1.5.0",
      "model_name": "VBoxModel",
      "state": {
       "children": [
        "IPY_MODEL_198fed28df044ed4b09c8cedf497d76a",
        "IPY_MODEL_2d13ef6030ce400882d2fe5a3ce387cf",
        "IPY_MODEL_0fe584ed2af14689a30b6116b4f07938"
       ],
       "layout": "IPY_MODEL_421c82f5d0aa4e689f1186b8981e58da"
      }
     },
     "981d5bab1e7c4d6a9965651da20a90be": {
      "model_module": "@jupyter-widgets/controls",
      "model_module_version": "1.5.0",
      "model_name": "DescriptionStyleModel",
      "state": {
       "description_width": ""
      }
     },
     "991ebe821d1840219832d21065376884": {
      "model_module": "@jupyter-widgets/controls",
      "model_module_version": "1.5.0",
      "model_name": "ButtonStyleModel",
      "state": {}
     },
     "99882652413b44f8a071a25e419ccd6b": {
      "model_module": "@jupyter-widgets/controls",
      "model_module_version": "1.5.0",
      "model_name": "DescriptionStyleModel",
      "state": {
       "description_width": ""
      }
     },
     "99ce5f51fa9148b18759793b5af41a58": {
      "model_module": "@jupyter-widgets/base",
      "model_module_version": "1.2.0",
      "model_name": "LayoutModel",
      "state": {
       "width": "170px"
      }
     },
     "9a719c5feaa04ca88eb6504b84023d64": {
      "model_module": "@jupyter-widgets/controls",
      "model_module_version": "1.5.0",
      "model_name": "LabelModel",
      "state": {
       "layout": "IPY_MODEL_348ee441dd174731ac29fdb5a790c013",
       "style": "IPY_MODEL_5eb2028b5c5a416eb1d9e91223fcf20f",
       "value": "Display setting"
      }
     },
     "9ac4ff0f70d04524a284aaf456dfe52c": {
      "model_module": "@jupyter-widgets/base",
      "model_module_version": "1.2.0",
      "model_name": "LayoutModel",
      "state": {
       "width": "180px"
      }
     },
     "9ad6e98637444f67813b328876e48405": {
      "model_module": "@jupyter-widgets/base",
      "model_module_version": "1.2.0",
      "model_name": "LayoutModel",
      "state": {
       "width": "180px"
      }
     },
     "9b1bd93719b94b8ca911dab7b1501748": {
      "model_module": "@jupyter-widgets/base",
      "model_module_version": "1.2.0",
      "model_name": "LayoutModel",
      "state": {
       "width": "240px"
      }
     },
     "9b679777361c4e99b8742bb97fa39534": {
      "model_module": "@jupyter-widgets/controls",
      "model_module_version": "1.5.0",
      "model_name": "FloatTextModel",
      "state": {
       "description": "base",
       "layout": "IPY_MODEL_028671f4ce244847ad66341572ffd932",
       "step": null,
       "style": "IPY_MODEL_18ce9685c43b41a784853802a512d390"
      }
     },
     "9ba2cab01b8d46a9aa1ee18af74eafde": {
      "model_module": "@jupyter-widgets/base",
      "model_module_version": "1.2.0",
      "model_name": "LayoutModel",
      "state": {}
     },
     "9bd1e1b4d9bb4b17b9702d9b1484c2a3": {
      "model_module": "@jupyter-widgets/controls",
      "model_module_version": "1.5.0",
      "model_name": "CheckboxModel",
      "state": {
       "description": "index",
       "disabled": false,
       "indent": false,
       "layout": "IPY_MODEL_7064c67683474b74b40efabcc7632d96",
       "style": "IPY_MODEL_82e80a60b8cf445b9e328e366fda9ea7",
       "value": true
      }
     },
     "9bd931aa2368445db5dcec51bbf18036": {
      "model_module": "@jupyter-widgets/controls",
      "model_module_version": "1.5.0",
      "model_name": "ButtonStyleModel",
      "state": {}
     },
     "9c0cdc5ed9c747a9b05237fd288309f9": {
      "model_module": "@jupyter-widgets/controls",
      "model_module_version": "1.5.0",
      "model_name": "VBoxModel",
      "state": {
       "children": [
        "IPY_MODEL_9a719c5feaa04ca88eb6504b84023d64",
        "IPY_MODEL_b640f9bafc19404e80f676c24b3de5bf",
        "IPY_MODEL_78bfae9442594f4d9d20f72af3aed4bb",
        "IPY_MODEL_56ba5c0aaa594623b567bffe1d77cafa",
        "IPY_MODEL_fffad1172786455aa48e732b51a2d179",
        "IPY_MODEL_9f172dec0243427ba309d9448b7d5981",
        "IPY_MODEL_5e00ee580dba4505b27947fbed51dd01"
       ],
       "layout": "IPY_MODEL_4680733180e84dc3ae4579ee76f6fade"
      }
     },
     "9c280702836a4b85970bfa6ef2efa0ba": {
      "model_module": "@jupyter-widgets/controls",
      "model_module_version": "1.5.0",
      "model_name": "ButtonStyleModel",
      "state": {}
     },
     "9c2946ea152f4a92bdbe094a02248e94": {
      "model_module": "@jupyter-widgets/base",
      "model_module_version": "1.2.0",
      "model_name": "LayoutModel",
      "state": {
       "width": "90px"
      }
     },
     "9c5a8c3d7c4945a583b076364be9939e": {
      "model_module": "@jupyter-widgets/controls",
      "model_module_version": "1.5.0",
      "model_name": "ButtonStyleModel",
      "state": {}
     },
     "9c93b3a2a79f445fa089abe9f4dde364": {
      "model_module": "@jupyter-widgets/controls",
      "model_module_version": "1.5.0",
      "model_name": "ButtonModel",
      "state": {
       "description": "Attach",
       "layout": "IPY_MODEL_9f9d4b52f9204d86b2afc3765ce30412",
       "style": "IPY_MODEL_9bd931aa2368445db5dcec51bbf18036"
      }
     },
     "9c982141721b4ed792f05e194b7a99db": {
      "model_module": "@jupyter-widgets/controls",
      "model_module_version": "1.5.0",
      "model_name": "ButtonStyleModel",
      "state": {}
     },
     "9c9fe8399d0f4290b4d0a2af049ea663": {
      "model_module": "@jupyter-widgets/base",
      "model_module_version": "1.2.0",
      "model_name": "LayoutModel",
      "state": {
       "width": "180px"
      }
     },
     "9cc97af18ac046da927efc318789adf3": {
      "model_module": "@jupyter-widgets/base",
      "model_module_version": "1.2.0",
      "model_name": "LayoutModel",
      "state": {
       "height": "40px"
      }
     },
     "9ce04a8a8f304411bfd9522b58c16670": {
      "model_module": "@jupyter-widgets/output",
      "model_module_version": "1.0.0",
      "model_name": "OutputModel",
      "state": {
       "layout": "IPY_MODEL_266d9df9bf904e82a087c98df12605f0",
       "outputs": [
        {
         "name": "stdout",
         "output_type": "stream",
         "text": "from   v6.0.0 EstimatorCalcMode.CRYSTAL_U0 PFVM\n"
        }
       ]
      }
     },
     "9d6e7993d7484a0c8523160994edcc82": {
      "model_module": "@jupyter-widgets/base",
      "model_module_version": "1.2.0",
      "model_name": "LayoutModel",
      "state": {
       "width": "140px"
      }
     },
     "9d900d658f474b82be36c7e6d1274f8f": {
      "model_module": "@jupyter-widgets/base",
      "model_module_version": "1.2.0",
      "model_name": "LayoutModel",
      "state": {}
     },
     "9db92df9f76549729b18a98b2f39ccc0": {
      "model_module": "@jupyter-widgets/controls",
      "model_module_version": "1.5.0",
      "model_name": "ButtonModel",
      "state": {
       "description": "Del#",
       "layout": "IPY_MODEL_8f0675d01fbe4a61a500879ad0730689",
       "style": "IPY_MODEL_1f864346eb214ab19d22e285d77a7fb6"
      }
     },
     "9df3beb41780461e832028465bb97ea8": {
      "model_module": "@jupyter-widgets/controls",
      "model_module_version": "1.5.0",
      "model_name": "CheckboxModel",
      "state": {
       "description": "climb",
       "disabled": false,
       "layout": "IPY_MODEL_33ab5a7ef2794fd8b9edaa7f8d813d26",
       "style": "IPY_MODEL_8a6b1522ec1a4dd5942f3cf513f4c8a8",
       "value": true
      }
     },
     "9e3cbbf12822462cbacfb779191c49d2": {
      "model_module": "@jupyter-widgets/controls",
      "model_module_version": "1.5.0",
      "model_name": "DropdownModel",
      "state": {
       "_options_labels": [
        "<",
        ">="
       ],
       "index": 0,
       "layout": "IPY_MODEL_496b9bddc86c43f2bf8a3281186e2014",
       "style": "IPY_MODEL_981d5bab1e7c4d6a9965651da20a90be"
      }
     },
     "9ea7aa7920db4d77beb5555170c02561": {
      "model_module": "@jupyter-widgets/base",
      "model_module_version": "1.2.0",
      "model_name": "LayoutModel",
      "state": {}
     },
     "9ebc786862c44b219f346960159c96e6": {
      "model_module": "@jupyter-widgets/base",
      "model_module_version": "1.2.0",
      "model_name": "LayoutModel",
      "state": {
       "width": "140px"
      }
     },
     "9f098086d6c04b65ba3c92ed017460fc": {
      "model_module": "@jupyter-widgets/controls",
      "model_module_version": "1.5.0",
      "model_name": "HBoxModel",
      "state": {
       "children": [
        "IPY_MODEL_96c5613dc5c841a9b2fc25f0efab7fe7",
        "IPY_MODEL_7b8a9eb12f02465ab1bd9e85a4ba0b78"
       ],
       "layout": "IPY_MODEL_d225034a7bf1426e9f37097d1472608f"
      }
     },
     "9f1009e52ce34b8d864e37e237458375": {
      "model_module": "@jupyter-widgets/base",
      "model_module_version": "1.2.0",
      "model_name": "LayoutModel",
      "state": {}
     },
     "9f172dec0243427ba309d9448b7d5981": {
      "model_module": "@jupyter-widgets/controls",
      "model_module_version": "1.5.0",
      "model_name": "ColorPickerModel",
      "state": {
       "description": "NGL back",
       "disabled": false,
       "layout": "IPY_MODEL_5fe8bc668ebc47d6b90a2a62d6bcd8da",
       "style": "IPY_MODEL_8c6171f129a2462baeb48435472173bf",
       "value": "white"
      }
     },
     "9f9d4b52f9204d86b2afc3765ce30412": {
      "model_module": "@jupyter-widgets/base",
      "model_module_version": "1.2.0",
      "model_name": "LayoutModel",
      "state": {
       "width": "80px"
      }
     },
     "9fb24950a33e43a18dc50648e8189866": {
      "model_module": "@jupyter-widgets/controls",
      "model_module_version": "1.5.0",
      "model_name": "SliderStyleModel",
      "state": {
       "description_width": ""
      }
     },
     "9fefabf4ef544e62b33a3edac8ce8be1": {
      "model_module": "@jupyter-widgets/controls",
      "model_module_version": "1.5.0",
      "model_name": "ButtonModel",
      "state": {
       "description": "topview",
       "layout": "IPY_MODEL_8b8c0ede056c4b7eac59c7adaf28d7bc",
       "style": "IPY_MODEL_baddd85f7dad4d668fbbb3b4f2c17a02"
      }
     },
     "a02b836d072d425a9f3f2e355c65c262": {
      "model_module": "@jupyter-widgets/base",
      "model_module_version": "1.2.0",
      "model_name": "LayoutModel",
      "state": {
       "height": "350px",
       "width": "390px"
      }
     },
     "a0597621655c468586f8da96ab9a0c54": {
      "model_module": "@jupyter-widgets/base",
      "model_module_version": "1.2.0",
      "model_name": "LayoutModel",
      "state": {
       "width": "80px"
      }
     },
     "a05f8176157240fc85fb65564a9643e4": {
      "model_module": "@jupyter-widgets/base",
      "model_module_version": "1.2.0",
      "model_name": "LayoutModel",
      "state": {}
     },
     "a0cb52ecb7c345dfa91b250ec3c356ce": {
      "model_module": "@jupyter-widgets/controls",
      "model_module_version": "1.5.0",
      "model_name": "DescriptionStyleModel",
      "state": {
       "description_width": "20px"
      }
     },
     "a0d46ba9b07942c2a56818ec7bd2ce58": {
      "model_module": "@jupyter-widgets/controls",
      "model_module_version": "1.5.0",
      "model_name": "DescriptionStyleModel",
      "state": {
       "description_width": ""
      }
     },
     "a0e601183be14f879cfa3cf47339774d": {
      "model_module": "@jupyter-widgets/base",
      "model_module_version": "1.2.0",
      "model_name": "LayoutModel",
      "state": {
       "width": "100px"
      }
     },
     "a0f374a804014f4faac2a3571cfbc3ac": {
      "model_module": "@jupyter-widgets/controls",
      "model_module_version": "1.5.0",
      "model_name": "DescriptionStyleModel",
      "state": {
       "description_width": "5px"
      }
     },
     "a15b7ad77d714069ac58d3ec9ee5657d": {
      "model_module": "@jupyter-widgets/controls",
      "model_module_version": "1.5.0",
      "model_name": "BoxModel",
      "state": {
       "layout": "IPY_MODEL_9f1009e52ce34b8d864e37e237458375"
      }
     },
     "a15fa67583fe490c9f3601e89c79bd4c": {
      "model_module": "@jupyter-widgets/base",
      "model_module_version": "1.2.0",
      "model_name": "LayoutModel",
      "state": {}
     },
     "a18f75390a9e4922894f3d221b71e8b9": {
      "model_module": "@jupyter-widgets/base",
      "model_module_version": "1.2.0",
      "model_name": "LayoutModel",
      "state": {}
     },
     "a1aec726253e4d68aab16b756d9f6861": {
      "model_module": "@jupyter-widgets/controls",
      "model_module_version": "1.5.0",
      "model_name": "LinkModel",
      "state": {
       "source": [
        "IPY_MODEL_1e8ed77c6f3840129794c2aa2d1db707",
        "max"
       ],
       "target": [
        "IPY_MODEL_8e7529eef7ca4a17a4539b5fa96216d1",
        "max_frame"
       ]
      }
     },
     "a1e46684a0e74285a72f14492d86c255": {
      "model_module": "@jupyter-widgets/controls",
      "model_module_version": "1.5.0",
      "model_name": "DescriptionStyleModel",
      "state": {
       "description_width": "30px"
      }
     },
     "a1f3409e804a496c8996e85230ef2271": {
      "model_module": "@jupyter-widgets/controls",
      "model_module_version": "1.5.0",
      "model_name": "ButtonStyleModel",
      "state": {}
     },
     "a22049e373ef40a7b9bf57ac5fbac399": {
      "model_module": "@jupyter-widgets/controls",
      "model_module_version": "1.5.0",
      "model_name": "ButtonModel",
      "state": {
       "description": "Plot",
       "layout": "IPY_MODEL_55cd47209d1c4b62a3547c660a3c43a6",
       "style": "IPY_MODEL_e3781b82b32d4c3f83ec0f684d596541"
      }
     },
     "a23fc24b9ae74b0eb68ad3578c39d545": {
      "model_module": "@jupyter-widgets/base",
      "model_module_version": "1.2.0",
      "model_name": "LayoutModel",
      "state": {
       "height": "220px",
       "overflow_x": "hidden",
       "overflow_y": "scroll",
       "width": "385px"
      }
     },
     "a258a7d6469044ea9b7596609f7d0474": {
      "model_module": "@jupyter-widgets/controls",
      "model_module_version": "1.5.0",
      "model_name": "FloatTextModel",
      "state": {
       "description": "pos_allow",
       "layout": "IPY_MODEL_b6665726f63d482ea1ce79e5d2522430",
       "step": 0.05,
       "style": "IPY_MODEL_7b5635ff9c8641b08c48d3b0b43a0b2d",
       "value": 0.1
      }
     },
     "a25cf130ca9c43a79aa89a0f5d1ad7b8": {
      "model_module": "@jupyter-widgets/controls",
      "model_module_version": "1.5.0",
      "model_name": "SliderStyleModel",
      "state": {
       "description_width": ""
      }
     },
     "a3a83a650a9f464bb2e0e0adbf1f707d": {
      "model_module": "@jupyter-widgets/controls",
      "model_module_version": "1.5.0",
      "model_name": "DescriptionStyleModel",
      "state": {
       "description_width": ""
      }
     },
     "a3a8f36b062f4045ad50500668e057ef": {
      "model_module": "@jupyter-widgets/base",
      "model_module_version": "1.2.0",
      "model_name": "LayoutModel",
      "state": {
       "width": "140px"
      }
     },
     "a3ac62be54c348ba8214be5ea63a02ae": {
      "model_module": "@jupyter-widgets/controls",
      "model_module_version": "1.5.0",
      "model_name": "ButtonModel",
      "state": {
       "description": "by symbols",
       "layout": "IPY_MODEL_bc50c8a341844df1a44392963eef4a6f",
       "style": "IPY_MODEL_cb6cf5097c2c49908ef280f36312d102"
      }
     },
     "a3c4780892a244d48e108ef736be6043": {
      "model_module": "@jupyter-widgets/base",
      "model_module_version": "1.2.0",
      "model_name": "LayoutModel",
      "state": {}
     },
     "a3c9a1941c70430181da7cf145eb5861": {
      "model_module": "@jupyter-widgets/controls",
      "model_module_version": "1.5.0",
      "model_name": "DescriptionStyleModel",
      "state": {
       "description_width": ""
      }
     },
     "a410061d18ba435d9edd1b664b33bb59": {
      "model_module": "@jupyter-widgets/controls",
      "model_module_version": "1.5.0",
      "model_name": "HBoxModel",
      "state": {
       "children": [
        "IPY_MODEL_b54644f781c145ceb591d0115fe19bd9",
        "IPY_MODEL_44c14ad58c7346c788442d7ffe4c43b2"
       ],
       "layout": "IPY_MODEL_58514cf5bc8b4cf7bc2b788779516d70"
      }
     },
     "a41069253971485ea2ee8fd395c3bf62": {
      "model_module": "@jupyter-widgets/controls",
      "model_module_version": "1.5.0",
      "model_name": "FloatTextModel",
      "state": {
       "description": "mult",
       "layout": "IPY_MODEL_24090d6575434f95abd8a8a850053270",
       "step": 0.05,
       "style": "IPY_MODEL_c70839ffc1c242f99253aa2d97d62020",
       "value": 1
      }
     },
     "a44781a52a86425e83a1865d2d322010": {
      "model_module": "@jupyter-widgets/controls",
      "model_module_version": "1.5.0",
      "model_name": "LabelModel",
      "state": {
       "layout": "IPY_MODEL_af8a1d73afba4606a28e170080594651",
       "style": "IPY_MODEL_6463e621a2d84329a72b633529843038",
       "value": "Sort all Atoms"
      }
     },
     "a45ac379f6cb4b988557f52593d7f7c3": {
      "model_module": "@jupyter-widgets/controls",
      "model_module_version": "1.5.0",
      "model_name": "ButtonModel",
      "state": {
       "description": "frontview",
       "layout": "IPY_MODEL_9ebc786862c44b219f346960159c96e6",
       "style": "IPY_MODEL_8690e33101b44c68a8e9f2f7c8f454c2"
      }
     },
     "a4f4e1b43859407d84daa7a8b9981c46": {
      "model_module": "@jupyter-widgets/base",
      "model_module_version": "1.2.0",
      "model_name": "LayoutModel",
      "state": {
       "width": "50px"
      }
     },
     "a51708c773e84cdb8a751185af0fadeb": {
      "model_module": "@jupyter-widgets/base",
      "model_module_version": "1.2.0",
      "model_name": "LayoutModel",
      "state": {
       "height": "220px",
       "overflow_x": "hidden",
       "overflow_y": "scroll",
       "width": "385px"
      }
     },
     "a57ff5fcdf8f46bbb82a268133e4f621": {
      "model_module": "@jupyter-widgets/base",
      "model_module_version": "1.2.0",
      "model_name": "LayoutModel",
      "state": {}
     },
     "a587e1de6c6d416a91b99ec26ce9f846": {
      "model_module": "@jupyter-widgets/controls",
      "model_module_version": "1.5.0",
      "model_name": "SliderStyleModel",
      "state": {
       "description_width": ""
      }
     },
     "a60fe46f9cdf4e7695ed7bfcef58f80a": {
      "model_module": "@jupyter-widgets/base",
      "model_module_version": "1.2.0",
      "model_name": "LayoutModel",
      "state": {
       "width": "140px"
      }
     },
     "a6f7e98d5d6d4ab4b5ee3981f762535c": {
      "model_module": "@jupyter-widgets/base",
      "model_module_version": "1.2.0",
      "model_name": "LayoutModel",
      "state": {}
     },
     "a735e30ba8df49a7846b443d64077f75": {
      "model_module": "@jupyter-widgets/controls",
      "model_module_version": "1.5.0",
      "model_name": "SelectModel",
      "state": {
       "_options_labels": [
        "--- atoms file------------------------------",
        "--- dirs   ---------------------------------",
        "output"
       ],
       "index": 0,
       "layout": "IPY_MODEL_5fd1c4e0f00748688912d5a57b7d6f84",
       "style": "IPY_MODEL_7ee4db0ac34b4d5aa9eb258e29d7648a"
      }
     },
     "a74f14e261d4453d9889de2436bfd72b": {
      "model_module": "@jupyter-widgets/controls",
      "model_module_version": "1.5.0",
      "model_name": "IntTextModel",
      "state": {
       "description": "B#",
       "layout": "IPY_MODEL_8e9d4ac2594547a4b3ab5d5cba868891",
       "step": 1,
       "style": "IPY_MODEL_f13dbffa47104ffaa33498651e0ceea7"
      }
     },
     "a7d00792469c4e349bfa935fe6627733": {
      "model_module": "@jupyter-widgets/base",
      "model_module_version": "1.2.0",
      "model_name": "LayoutModel",
      "state": {}
     },
     "a7f96b9dedd3443bb845db6194a0e723": {
      "model_module": "@jupyter-widgets/controls",
      "model_module_version": "1.5.0",
      "model_name": "TextModel",
      "state": {
       "description": "SMILES",
       "layout": "IPY_MODEL_89e394e24e264dbb9aaadab8a8f93fe8",
       "placeholder": "20240621114809",
       "style": "IPY_MODEL_101e802c77cf40a99372bd54cf92aae7"
      }
     },
     "a82bb57ee75141b09caf0799ceb5a522": {
      "model_module": "@jupyter-widgets/controls",
      "model_module_version": "1.5.0",
      "model_name": "IntTextModel",
      "state": {
       "description": "nimages",
       "layout": "IPY_MODEL_5d64ac4a877e458cad4b35f1b5ce2bf0",
       "step": 5,
       "style": "IPY_MODEL_ae11e8a719424386b1275ad2a70fe93d",
       "value": 15
      }
     },
     "a8f1db440484453291e254024ce58332": {
      "model_module": "@jupyter-widgets/base",
      "model_module_version": "1.2.0",
      "model_name": "LayoutModel",
      "state": {
       "display": "flex",
       "flex_flow": "row",
       "justify_content": "space-between"
      }
     },
     "a91684f7a57d40ae8543998fcdae2ddc": {
      "model_module": "@jupyter-widgets/controls",
      "model_module_version": "1.5.0",
      "model_name": "IntTextModel",
      "state": {
       "description": "##",
       "layout": "IPY_MODEL_cb749ac7755740f99c81ca542f2f459e",
       "step": 1,
       "style": "IPY_MODEL_52474f3ff2654e5cb7d53e2e7fce5632"
      }
     },
     "a94693bf760846f6a6317c99534e4e30": {
      "model_module": "@jupyter-widgets/controls",
      "model_module_version": "1.5.0",
      "model_name": "HBoxModel",
      "state": {
       "children": [
        "IPY_MODEL_bef01925f97549a99d048e95ae170352",
        "IPY_MODEL_04fc5b9a76614443a0eb12517a9fa20e",
        "IPY_MODEL_f7ae47e2fac64f6e9b6485e95df2493f"
       ],
       "layout": "IPY_MODEL_ef570a7c899548fbb4e57c2d223bb62e"
      }
     },
     "a9f6c5c7f14a4eda831b7129799b2ec3": {
      "model_module": "@jupyter-widgets/controls",
      "model_module_version": "1.5.0",
      "model_name": "ButtonModel",
      "state": {
       "description": "Just A+B",
       "layout": "IPY_MODEL_543dd0d64a9040faa4ccabe7226f12b2",
       "style": "IPY_MODEL_af74354f85654c47856b1250eeef6cde"
      }
     },
     "aa6787f56c2e446d88182d23f51d794e": {
      "model_module": "@jupyter-widgets/controls",
      "model_module_version": "1.5.0",
      "model_name": "DescriptionStyleModel",
      "state": {
       "description_width": ""
      }
     },
     "aa9be01300cc4722bcaa3f1133424262": {
      "model_module": "@jupyter-widgets/controls",
      "model_module_version": "1.5.0",
      "model_name": "FloatSliderModel",
      "state": {
       "layout": "IPY_MODEL_23a7ae2b150b40f9944478189342ff5c",
       "readout_format": ".1f",
       "step": 0.1,
       "style": "IPY_MODEL_a587e1de6c6d416a91b99ec26ce9f846",
       "value": 5
      }
     },
     "aaa28c71e4f74fb480aed0d52e4c34d2": {
      "model_module": "@jupyter-widgets/base",
      "model_module_version": "1.2.0",
      "model_name": "LayoutModel",
      "state": {
       "width": "380px"
      }
     },
     "ab00791068014f26a0547ffb3b16d0b4": {
      "model_module": "@jupyter-widgets/controls",
      "model_module_version": "1.5.0",
      "model_name": "IntTextModel",
      "state": {
       "description": "*N",
       "layout": "IPY_MODEL_6fe6b160b59740f18a7133aa25b42acc",
       "step": 1,
       "style": "IPY_MODEL_e0283c6abfce4f838ffcac64f5cd1d63",
       "value": 10
      }
     },
     "ab57a8b6dfa3412ea231776753622dfa": {
      "model_module": "@jupyter-widgets/controls",
      "model_module_version": "1.5.0",
      "model_name": "DescriptionStyleModel",
      "state": {
       "description_width": ""
      }
     },
     "abfda7ac1d234a71882b7c889b5700cc": {
      "model_module": "@jupyter-widgets/controls",
      "model_module_version": "1.5.0",
      "model_name": "DescriptionStyleModel",
      "state": {
       "description_width": ""
      }
     },
     "ac46c62fccea452a9bf57bd8cf4d4de7": {
      "model_module": "@jupyter-widgets/controls",
      "model_module_version": "1.5.0",
      "model_name": "LinkModel",
      "state": {
       "source": [
        "IPY_MODEL_1e8ed77c6f3840129794c2aa2d1db707",
        "value"
       ],
       "target": [
        "IPY_MODEL_2849d15bdde0473397102ef2cc24186e",
        "value"
       ]
      }
     },
     "ac47a1a13cfe452996c87fe021adff3b": {
      "model_module": "@jupyter-widgets/base",
      "model_module_version": "1.2.0",
      "model_name": "LayoutModel",
      "state": {}
     },
     "ac7aa8cb04d140078defa55505a1bedc": {
      "model_module": "@jupyter-widgets/base",
      "model_module_version": "1.2.0",
      "model_name": "LayoutModel",
      "state": {}
     },
     "acd183897dc8463c9b453a76dd884f3d": {
      "model_module": "@jupyter-widgets/controls",
      "model_module_version": "1.5.0",
      "model_name": "DropdownModel",
      "state": {
       "_options_labels": [
        "x",
        "y",
        "z",
        "i"
       ],
       "index": 2,
       "layout": "IPY_MODEL_61b00ba922ed4de4940eae1a66125112",
       "style": "IPY_MODEL_327ff398815b495698185751ffa4f2ce"
      }
     },
     "acd6388889c54bc584c3d42ef40dd5d7": {
      "model_module": "@jupyter-widgets/controls",
      "model_module_version": "1.5.0",
      "model_name": "IntTextModel",
      "state": {
       "description": "A#",
       "layout": "IPY_MODEL_2fad421ae29c45f8a30cc146ff21e391",
       "step": 1,
       "style": "IPY_MODEL_e47e4719299b4a69ab7ec2a05a88faf5"
      }
     },
     "ad14df45f3fa4e9c8f9b1849a2c5ced3": {
      "model_module": "@jupyter-widgets/controls",
      "model_module_version": "1.5.0",
      "model_name": "DropdownModel",
      "state": {
       "_options_labels": [
        "ADD",
        "File",
        "SMILES or Draw",
        "Crystal",
        "MOF"
       ],
       "index": 4,
       "layout": "IPY_MODEL_79fda031ab564a54ab68d72255716f4e",
       "style": "IPY_MODEL_c8897007635f4a308a676d4b799a2e9d"
      }
     },
     "ad42a38fd4674e93b3a1ffdacbdcf4d4": {
      "model_module": "@jupyter-widgets/controls",
      "model_module_version": "1.5.0",
      "model_name": "FloatTextModel",
      "state": {
       "description": "fmax",
       "layout": "IPY_MODEL_550ca2c5228c4c18a88db68651427e0c",
       "step": 0.01,
       "style": "IPY_MODEL_c29c17c484c542618582ef3dbbeb2a68",
       "value": 0.1
      }
     },
     "ad71f145c960498d91bef0639370381d": {
      "model_module": "@jupyter-widgets/controls",
      "model_module_version": "1.5.0",
      "model_name": "HBoxModel",
      "state": {
       "children": [
        "IPY_MODEL_4ce75e680ea74089b418e39916ddacba",
        "IPY_MODEL_005310b0791b4caf9db1f508d83f2208"
       ],
       "layout": "IPY_MODEL_d45bfb9da74647f2b22661399ec57718"
      }
     },
     "adefd31985534e32bbeda32090725424": {
      "model_module": "@jupyter-widgets/base",
      "model_module_version": "1.2.0",
      "model_name": "LayoutModel",
      "state": {}
     },
     "ae11e8a719424386b1275ad2a70fe93d": {
      "model_module": "@jupyter-widgets/controls",
      "model_module_version": "1.5.0",
      "model_name": "DescriptionStyleModel",
      "state": {
       "description_width": "50px"
      }
     },
     "ae139fb6c24d48b9bfc30eaa7d841016": {
      "model_module": "@jupyter-widgets/controls",
      "model_module_version": "1.5.0",
      "model_name": "VBoxModel",
      "state": {
       "children": [
        "IPY_MODEL_b63a400b5074485ab7f881150422081c",
        "IPY_MODEL_884001a001214de7a8ce1194b4374d5f",
        "IPY_MODEL_9f172dec0243427ba309d9448b7d5981",
        "IPY_MODEL_5e00ee580dba4505b27947fbed51dd01",
        "IPY_MODEL_8023d0710b364aa1ba137825d4886e05"
       ],
       "layout": "IPY_MODEL_3a5f8f3f818144e7af860ae596332f3c"
      }
     },
     "aecf241b2c474df7affc12f66e5d55b3": {
      "model_module": "@jupyter-widgets/controls",
      "model_module_version": "1.5.0",
      "model_name": "HBoxModel",
      "state": {
       "children": [
        "IPY_MODEL_f5b950b53a634bceb3972e1ed36e76f7",
        "IPY_MODEL_e689107620b64d58ba23763268d7c82b"
       ],
       "layout": "IPY_MODEL_661db7cf489f465c9ed943d02fa265ac"
      }
     },
     "af3df70cf6e049b89fe3598be2aeb0dc": {
      "model_module": "@jupyter-widgets/controls",
      "model_module_version": "1.5.0",
      "model_name": "ButtonStyleModel",
      "state": {}
     },
     "af44d43f4bf94f8ca612596377105347": {
      "model_module": "@jupyter-widgets/controls",
      "model_module_version": "1.5.0",
      "model_name": "DescriptionStyleModel",
      "state": {
       "description_width": ""
      }
     },
     "af74354f85654c47856b1250eeef6cde": {
      "model_module": "@jupyter-widgets/controls",
      "model_module_version": "1.5.0",
      "model_name": "ButtonStyleModel",
      "state": {}
     },
     "af8a1d73afba4606a28e170080594651": {
      "model_module": "@jupyter-widgets/base",
      "model_module_version": "1.2.0",
      "model_name": "LayoutModel",
      "state": {}
     },
     "af98001bd6824eb09841114e5de6acbf": {
      "model_module": "@jupyter-widgets/base",
      "model_module_version": "1.2.0",
      "model_name": "LayoutModel",
      "state": {}
     },
     "afdb9c9e3a7a4a4da0dabe5731dc3a20": {
      "model_module": "@jupyter-widgets/base",
      "model_module_version": "1.2.0",
      "model_name": "LayoutModel",
      "state": {
       "height": "40px",
       "width": "370px"
      }
     },
     "afe682addcd34855be488c8de972bf30": {
      "model_module": "@jupyter-widgets/controls",
      "model_module_version": "1.5.0",
      "model_name": "ButtonModel",
      "state": {
       "description": "set",
       "layout": "IPY_MODEL_552a40b41e5c44cda6be1d7254ede97d",
       "style": "IPY_MODEL_636d5aee441b49f8bc97fdbde2eb611a"
      }
     },
     "b08e9783cc17465bac26412c1c5eb926": {
      "model_module": "@jupyter-widgets/base",
      "model_module_version": "1.2.0",
      "model_name": "LayoutModel",
      "state": {
       "width": "170px"
      }
     },
     "b09b7dcad9d54cbc9b4958dc19fb31c6": {
      "model_module": "@jupyter-widgets/controls",
      "model_module_version": "1.5.0",
      "model_name": "HBoxModel",
      "state": {
       "children": [
        "IPY_MODEL_4c0022e5713b4257883253d49d226598",
        "IPY_MODEL_10c4a282a37f42c6849b8e5b6c82ef9b"
       ],
       "layout": "IPY_MODEL_c40d018a8a964868b7af4716f1fb04e9"
      }
     },
     "b1ef24ade6bf40cc89307e8bb97f5378": {
      "model_module": "@jupyter-widgets/controls",
      "model_module_version": "1.5.0",
      "model_name": "DescriptionStyleModel",
      "state": {
       "description_width": ""
      }
     },
     "b26d4227933d4453bbff4d0572d0b44e": {
      "model_module": "@jupyter-widgets/controls",
      "model_module_version": "1.5.0",
      "model_name": "HBoxModel",
      "state": {
       "children": [
        "IPY_MODEL_86b52c5ceb09410e886a4e3315723bd3",
        "IPY_MODEL_df633d53fd2c44448e96b1814d316223",
        "IPY_MODEL_14461ff272d4422fa7f1fde52599f84d"
       ],
       "layout": "IPY_MODEL_b27cc92b76e64e0180e02807df5d9a52"
      }
     },
     "b273e9b2704443e08fcb6ce85b764db6": {
      "model_module": "@jupyter-widgets/base",
      "model_module_version": "1.2.0",
      "model_name": "LayoutModel",
      "state": {
       "height": "1px",
       "width": "1px"
      }
     },
     "b27cc92b76e64e0180e02807df5d9a52": {
      "model_module": "@jupyter-widgets/base",
      "model_module_version": "1.2.0",
      "model_name": "LayoutModel",
      "state": {}
     },
     "b2d5b2d399464983b2417e9e71060062": {
      "model_module": "@jupyter-widgets/controls",
      "model_module_version": "1.5.0",
      "model_name": "ButtonModel",
      "state": {
       "description": "Delete",
       "layout": "IPY_MODEL_eb3a46a5625746e4924aa21d7251a095",
       "style": "IPY_MODEL_9c5a8c3d7c4945a583b076364be9939e"
      }
     },
     "b32c100ecb3240469545368c3f08d5ed": {
      "model_module": "@jupyter-widgets/controls",
      "model_module_version": "1.5.0",
      "model_name": "ButtonStyleModel",
      "state": {}
     },
     "b339277ee7424497bf41e0e211002fd5": {
      "model_module": "@jupyter-widgets/base",
      "model_module_version": "1.2.0",
      "model_name": "LayoutModel",
      "state": {}
     },
     "b3abbdf29a31413a8efd934f085e3ae6": {
      "model_module": "@jupyter-widgets/base",
      "model_module_version": "1.2.0",
      "model_name": "LayoutModel",
      "state": {
       "height": "30px",
       "width": "57px"
      }
     },
     "b3c7a14cc1304e8dbc94fd991a8a3d28": {
      "model_module": "@jupyter-widgets/base",
      "model_module_version": "1.2.0",
      "model_name": "LayoutModel",
      "state": {}
     },
     "b47dd6944bc74ffdaca64f1464c3aafe": {
      "model_module": "@jupyter-widgets/controls",
      "model_module_version": "1.5.0",
      "model_name": "DescriptionStyleModel",
      "state": {
       "description_width": "55px"
      }
     },
     "b4ee5529d4744dc298dcb05c6bddaf41": {
      "model_module": "@jupyter-widgets/controls",
      "model_module_version": "1.5.0",
      "model_name": "SliderStyleModel",
      "state": {
       "description_width": ""
      }
     },
     "b5029ef2460f4388a640a3e4a9b20edf": {
      "model_module": "@jupyter-widgets/controls",
      "model_module_version": "1.5.0",
      "model_name": "HBoxModel",
      "state": {
       "children": [
        "IPY_MODEL_969d5678800445aab7a395ef4c2fad1c",
        "IPY_MODEL_d76017979add43489d4a647524248df0",
        "IPY_MODEL_e5a742e58edd4b2593ad7ff7987c2e06"
       ],
       "layout": "IPY_MODEL_658d08664a074d4ca4f1e77f3119c82e"
      }
     },
     "b513ea9ce455423ba84282fafe419379": {
      "model_module": "@jupyter-widgets/controls",
      "model_module_version": "1.5.0",
      "model_name": "IntSliderModel",
      "state": {
       "layout": "IPY_MODEL_132266efde43460eaaf80e767bacb7cd",
       "max": 1,
       "style": "IPY_MODEL_a25cf130ca9c43a79aa89a0f5d1ad7b8"
      }
     },
     "b54644f781c145ceb591d0115fe19bd9": {
      "model_module": "@jupyter-widgets/controls",
      "model_module_version": "1.5.0",
      "model_name": "ButtonModel",
      "state": {
       "description": "move",
       "layout": "IPY_MODEL_a60fe46f9cdf4e7695ed7bfcef58f80a",
       "style": "IPY_MODEL_e7a8abeab32b4687843b890b5afd6dc0"
      }
     },
     "b5c328fea21d4ff6851add3243562d5b": {
      "model_module": "@jupyter-widgets/base",
      "model_module_version": "1.2.0",
      "model_name": "LayoutModel",
      "state": {
       "width": "270px"
      }
     },
     "b62a16eca83c4c9195240a3a53d87d58": {
      "model_module": "@jupyter-widgets/controls",
      "model_module_version": "1.5.0",
      "model_name": "BoundedFloatTextModel",
      "state": {
       "description": "hullabove<",
       "layout": "IPY_MODEL_db30873aaf014f21a9e05aacc8f3da41",
       "step": 0.05,
       "style": "IPY_MODEL_38a798ebb12e474dbe1b7f754ebc16af",
       "value": 0.3
      }
     },
     "b630acc707c3446498cedaa9607c27ce": {
      "model_module": "@jupyter-widgets/base",
      "model_module_version": "1.2.0",
      "model_name": "LayoutModel",
      "state": {
       "width": "150px"
      }
     },
     "b630e3ce88f547e683fab9037c9c8360": {
      "model_module": "@jupyter-widgets/base",
      "model_module_version": "1.2.0",
      "model_name": "LayoutModel",
      "state": {}
     },
     "b63a400b5074485ab7f881150422081c": {
      "model_module": "@jupyter-widgets/controls",
      "model_module_version": "1.5.0",
      "model_name": "IntSliderModel",
      "state": {
       "layout": "IPY_MODEL_7eca7497181542c98482f4f917a24c9e",
       "min": -100,
       "style": "IPY_MODEL_f3d11f2552ec49c8912c318156ed6af4",
       "value": 1
      }
     },
     "b640f9bafc19404e80f676c24b3de5bf": {
      "model_module": "@jupyter-widgets/controls",
      "model_module_version": "1.5.0",
      "model_name": "HBoxModel",
      "state": {
       "children": [
        "IPY_MODEL_271d17a8b8ab4f92a62b9d37aa10ecef",
        "IPY_MODEL_cae614757d31481894ab51e51750b21a",
        "IPY_MODEL_182310beff2747c29b89c699b3fb5f4b"
       ],
       "layout": "IPY_MODEL_a3c4780892a244d48e108ef736be6043"
      }
     },
     "b6469a0f3fa74350aff0f537f5c46a36": {
      "model_module": "@jupyter-widgets/controls",
      "model_module_version": "1.5.0",
      "model_name": "DescriptionStyleModel",
      "state": {
       "description_width": ""
      }
     },
     "b6665726f63d482ea1ce79e5d2522430": {
      "model_module": "@jupyter-widgets/base",
      "model_module_version": "1.2.0",
      "model_name": "LayoutModel",
      "state": {}
     },
     "b6957847cdcf4d329d3cf95259673665": {
      "model_module": "@jupyter-widgets/controls",
      "model_module_version": "1.5.0",
      "model_name": "ButtonStyleModel",
      "state": {}
     },
     "b697a1eceb4f4225996c19c51cf0750f": {
      "model_module": "@jupyter-widgets/base",
      "model_module_version": "1.2.0",
      "model_name": "LayoutModel",
      "state": {}
     },
     "b6ca8ed80dee42c98feb2eca01df1554": {
      "model_module": "@jupyter-widgets/controls",
      "model_module_version": "1.5.0",
      "model_name": "IntTextModel",
      "state": {
       "description": "from",
       "layout": "IPY_MODEL_587c5b20b7924aec9e42ad8dc4c474ae",
       "step": 1,
       "style": "IPY_MODEL_1cd7dd6d03ec4466b955d39715d2175d"
      }
     },
     "b6fdc2fb9a064a19ae14e7a00736ebeb": {
      "model_module": "@jupyter-widgets/output",
      "model_module_version": "1.0.0",
      "model_name": "OutputModel",
      "state": {
       "layout": "IPY_MODEL_53357a5390ac4b6892d943e6cdbc9312"
      }
     },
     "b717a774391e4dfc94d08231c6b27593": {
      "model_module": "@jupyter-widgets/controls",
      "model_module_version": "1.5.0",
      "model_name": "VBoxModel",
      "state": {
       "children": [
        "IPY_MODEL_0cde07ce93354002904031ef48260dbc",
        "IPY_MODEL_df7eefba9b0d43ca934ab3699dd9c72d"
       ],
       "layout": "IPY_MODEL_9ea7aa7920db4d77beb5555170c02561"
      }
     },
     "b809c189d2694fce88b01ab4134f33fe": {
      "model_module": "@jupyter-widgets/base",
      "model_module_version": "1.2.0",
      "model_name": "LayoutModel",
      "state": {}
     },
     "b834fe7f669947d49cedd4e9c7832273": {
      "model_module": "@jupyter-widgets/base",
      "model_module_version": "1.2.0",
      "model_name": "LayoutModel",
      "state": {}
     },
     "b88105a977e5415dbb23fc81c144c20f": {
      "model_module": "nglview-js-widgets",
      "model_module_version": "3.0.1",
      "model_name": "ColormakerRegistryModel",
      "state": {
       "_msg_ar": [],
       "_msg_q": [],
       "_ready": true,
       "layout": "IPY_MODEL_b3c7a14cc1304e8dbc94fd991a8a3d28"
      }
     },
     "b8c7a63c2f394cb8a3f65251e0a28f6c": {
      "model_module": "@jupyter-widgets/base",
      "model_module_version": "1.2.0",
      "model_name": "LayoutModel",
      "state": {
       "height": "38px",
       "width": "380px"
      }
     },
     "b938d115f6e841f4b9129e58e3949d4f": {
      "model_module": "@jupyter-widgets/controls",
      "model_module_version": "1.5.0",
      "model_name": "IntTextModel",
      "state": {
       "description": "##",
       "layout": "IPY_MODEL_0c6ef86e3e754532b1425b9f36983cbc",
       "step": 1,
       "style": "IPY_MODEL_fef7a63af56a4094b2aefe5f5889de20"
      }
     },
     "b95f53c8a20348e2bead3a333ae4f552": {
      "model_module": "@jupyter-widgets/base",
      "model_module_version": "1.2.0",
      "model_name": "LayoutModel",
      "state": {
       "width": "170px"
      }
     },
     "ba92f2dfbe654fe5b77cbe8f387451ad": {
      "model_module": "@jupyter-widgets/controls",
      "model_module_version": "1.5.0",
      "model_name": "BoxModel",
      "state": {
       "layout": "IPY_MODEL_1babc2d957214476ae6b1e2aa955e9e9"
      }
     },
     "ba9c622849e6400481bae1e1c9a3a550": {
      "model_module": "@jupyter-widgets/base",
      "model_module_version": "1.2.0",
      "model_name": "LayoutModel",
      "state": {
       "height": "220px",
       "width": "350px"
      }
     },
     "bab35a6c41eb4c468be7731cdda882ea": {
      "model_module": "@jupyter-widgets/controls",
      "model_module_version": "1.5.0",
      "model_name": "VBoxModel",
      "state": {
       "children": [
        "IPY_MODEL_93984b13dc4644948b896f76a371040c",
        "IPY_MODEL_681ab5f2b54c45aabb31861db3a4de86",
        "IPY_MODEL_9361a377276c445c8eca34c86f003f5b",
        "IPY_MODEL_e72edc135c71482eac0053195fba30d5",
        "IPY_MODEL_44c14ad58c7346c788442d7ffe4c43b2",
        "IPY_MODEL_029d190b719f480f8a70dfd1ac1d1c4f",
        "IPY_MODEL_6aafe4031a544b8495741d8b8753e73f",
        "IPY_MODEL_6b4d7291133d49c8928b099fe320759f"
       ],
       "layout": "IPY_MODEL_06174373a1774069a5eda09e2bf5bf6d"
      }
     },
     "baddd85f7dad4d668fbbb3b4f2c17a02": {
      "model_module": "@jupyter-widgets/controls",
      "model_module_version": "1.5.0",
      "model_name": "ButtonStyleModel",
      "state": {}
     },
     "bba1b833b6424ba2b1a667eba17c447c": {
      "model_module": "@jupyter-widgets/controls",
      "model_module_version": "1.5.0",
      "model_name": "ButtonModel",
      "state": {
       "description": "Connect",
       "layout": "IPY_MODEL_9c2946ea152f4a92bdbe094a02248e94",
       "style": "IPY_MODEL_1a0b271a39f94422976e2ecc5307bd16"
      }
     },
     "bbb0809d07ae4f2b978811fdd1f65b1c": {
      "model_module": "@jupyter-widgets/base",
      "model_module_version": "1.2.0",
      "model_name": "LayoutModel",
      "state": {
       "width": "80px"
      }
     },
     "bc145524bc754ed4b55155bc52ff44fb": {
      "model_module": "@jupyter-widgets/controls",
      "model_module_version": "1.5.0",
      "model_name": "FloatSliderModel",
      "state": {
       "description": "distance",
       "layout": "IPY_MODEL_1bba72278a8c4d6d84251f139deed796",
       "max": 6,
       "min": 0.7,
       "step": 0.1,
       "style": "IPY_MODEL_d3d0b28cdc504489b54a2a967087c8b4",
       "value": 1.6
      }
     },
     "bc50c8a341844df1a44392963eef4a6f": {
      "model_module": "@jupyter-widgets/base",
      "model_module_version": "1.2.0",
      "model_name": "LayoutModel",
      "state": {}
     },
     "bc7ad885d2cc4a6290baf7f04eec5e4a": {
      "model_module": "@jupyter-widgets/controls",
      "model_module_version": "1.5.0",
      "model_name": "HBoxModel",
      "state": {
       "children": [
        "IPY_MODEL_dae28ef15fa34646bada73e48fb619ad",
        "IPY_MODEL_b62a16eca83c4c9195240a3a53d87d58"
       ],
       "layout": "IPY_MODEL_0aa5aac7b07d4e99858f9b0fb3e5472c"
      }
     },
     "bd2697bbb0e041c7a2cf32471d6db3bc": {
      "model_module": "@jupyter-widgets/base",
      "model_module_version": "1.2.0",
      "model_name": "LayoutModel",
      "state": {
       "width": "90px"
      }
     },
     "bd340e7ef24f4734a565be223d9b566e": {
      "model_module": "@jupyter-widgets/controls",
      "model_module_version": "1.5.0",
      "model_name": "ButtonModel",
      "state": {
       "description": "view",
       "layout": "IPY_MODEL_5fb65ee9c632406788a4d0c3df4210a7",
       "style": "IPY_MODEL_d71ae8b546b541b38f1cc374e06c31c8"
      }
     },
     "bd4b1c7e159b43caa912eaf63f1bc1f9": {
      "model_module": "@jupyter-widgets/controls",
      "model_module_version": "1.5.0",
      "model_name": "HBoxModel",
      "state": {
       "children": [
        "IPY_MODEL_17dd08899ee448c7bca7e75b7e425b3e",
        "IPY_MODEL_8348131df2204b98891f347ca11c7bc0"
       ],
       "layout": "IPY_MODEL_2e1916ff78e745f380fa7046981520e9"
      }
     },
     "be0e0ec58f044cb3899d94d3172838a5": {
      "model_module": "@jupyter-widgets/controls",
      "model_module_version": "1.5.0",
      "model_name": "ButtonModel",
      "state": {
       "description": "rerun",
       "layout": "IPY_MODEL_bbb0809d07ae4f2b978811fdd1f65b1c",
       "style": "IPY_MODEL_b6957847cdcf4d329d3cf95259673665"
      }
     },
     "be6fd7cfdbf04d0bb86d5ccf268954b6": {
      "model_module": "@jupyter-widgets/controls",
      "model_module_version": "1.5.0",
      "model_name": "IntSliderModel",
      "state": {
       "description": "No",
       "layout": "IPY_MODEL_4cae6a6d0fee4653ad18e76de4f0a6c8",
       "max": 118,
       "style": "IPY_MODEL_0e5c3e0e98c34ba3b0f47233bfaccd12"
      }
     },
     "beb37cd883a441af916b1a3b57a4cc16": {
      "model_module": "@jupyter-widgets/controls",
      "model_module_version": "1.5.0",
      "model_name": "TextareaModel",
      "state": {
       "layout": "IPY_MODEL_4f0a9cf69c294d00862c5ac2b04ae740",
       "style": "IPY_MODEL_187448c9779a45719803f81dfe61ef34"
      }
     },
     "bef01925f97549a99d048e95ae170352": {
      "model_module": "@jupyter-widgets/controls",
      "model_module_version": "1.5.0",
      "model_name": "ButtonModel",
      "state": {
       "description": "Connect",
       "layout": "IPY_MODEL_e5e13c9bca1b440c9ffcfa7a31fc23e1",
       "style": "IPY_MODEL_29af0ca4f15a4a798106a6d20228fc9d"
      }
     },
     "bf5b0e8bfe2f4f36810431c46bae4900": {
      "model_module": "@jupyter-widgets/controls",
      "model_module_version": "1.5.0",
      "model_name": "ButtonStyleModel",
      "state": {}
     },
     "bf7a10e70d73463ba14315da54f58300": {
      "model_module": "@jupyter-widgets/controls",
      "model_module_version": "1.5.0",
      "model_name": "CheckboxModel",
      "state": {
       "description": "axes",
       "disabled": false,
       "indent": false,
       "layout": "IPY_MODEL_247c95035ad4482b98a0df17e57cf6e2",
       "style": "IPY_MODEL_499a3539664344e399d43a1b5c15f926",
       "value": false
      }
     },
     "bfce43282a1143cb8b783d7778abf24f": {
      "model_module": "@jupyter-widgets/base",
      "model_module_version": "1.2.0",
      "model_name": "LayoutModel",
      "state": {
       "width": "125px"
      }
     },
     "c05b3422e448488cb1ef81bd26927f94": {
      "model_module": "@jupyter-widgets/controls",
      "model_module_version": "1.5.0",
      "model_name": "DescriptionStyleModel",
      "state": {
       "description_width": ""
      }
     },
     "c14e218e1236454eb64bc642c2c45134": {
      "model_module": "@jupyter-widgets/controls",
      "model_module_version": "1.5.0",
      "model_name": "DescriptionStyleModel",
      "state": {
       "description_width": ""
      }
     },
     "c157fa1adf914d7bb5283cd0ff585618": {
      "model_module": "@jupyter-widgets/controls",
      "model_module_version": "1.5.0",
      "model_name": "DescriptionStyleModel",
      "state": {
       "description_width": ""
      }
     },
     "c28f8a575a8e426e86df3ab366c5ec37": {
      "model_module": "@jupyter-widgets/base",
      "model_module_version": "1.2.0",
      "model_name": "LayoutModel",
      "state": {
       "width": "140px"
      }
     },
     "c29c17c484c542618582ef3dbbeb2a68": {
      "model_module": "@jupyter-widgets/controls",
      "model_module_version": "1.5.0",
      "model_name": "DescriptionStyleModel",
      "state": {
       "description_width": "50px"
      }
     },
     "c2cdd0bb90da4dfc92e586a1b1dcac7a": {
      "model_module": "@jupyter-widgets/controls",
      "model_module_version": "1.5.0",
      "model_name": "FloatSliderModel",
      "state": {
       "layout": "IPY_MODEL_b95f53c8a20348e2bead3a333ae4f552",
       "readout_format": ".1f",
       "step": 0.1,
       "style": "IPY_MODEL_9fb24950a33e43a18dc50648e8189866",
       "value": 5
      }
     },
     "c33ce6ce92494274bcddda20d527eacc": {
      "model_module": "@jupyter-widgets/base",
      "model_module_version": "1.2.0",
      "model_name": "LayoutModel",
      "state": {}
     },
     "c3be0fd8fee14585bc66d9415705bdc9": {
      "model_module": "@jupyter-widgets/controls",
      "model_module_version": "1.5.0",
      "model_name": "ButtonStyleModel",
      "state": {}
     },
     "c40d018a8a964868b7af4716f1fb04e9": {
      "model_module": "@jupyter-widgets/base",
      "model_module_version": "1.2.0",
      "model_name": "LayoutModel",
      "state": {}
     },
     "c4372ed50f8441048d409159df85e4a0": {
      "model_module": "@jupyter-widgets/controls",
      "model_module_version": "1.5.0",
      "model_name": "ButtonStyleModel",
      "state": {}
     },
     "c44212bac85649b6b2654670f9974bba": {
      "model_module": "@jupyter-widgets/base",
      "model_module_version": "1.2.0",
      "model_name": "LayoutModel",
      "state": {}
     },
     "c4553c29da9e4c7483da425e905595de": {
      "model_module": "@jupyter-widgets/base",
      "model_module_version": "1.2.0",
      "model_name": "LayoutModel",
      "state": {}
     },
     "c489bb5fdf2441cab1648931c58bc086": {
      "model_module": "@jupyter-widgets/controls",
      "model_module_version": "1.5.0",
      "model_name": "VBoxModel",
      "state": {
       "children": [
        "IPY_MODEL_894446b4387545afaffb8384880d7e7b",
        "IPY_MODEL_9c0cdc5ed9c747a9b05237fd288309f9"
       ],
       "layout": "IPY_MODEL_039ca96572ca4fac814da3604d74602d"
      }
     },
     "c49cf33a305f4629902afa0e52f53c46": {
      "model_module": "@jupyter-widgets/controls",
      "model_module_version": "1.5.0",
      "model_name": "SliderStyleModel",
      "state": {
       "description_width": ""
      }
     },
     "c52157cacc5c41daab5e82affe3946fd": {
      "model_module": "@jupyter-widgets/controls",
      "model_module_version": "1.5.0",
      "model_name": "DescriptionStyleModel",
      "state": {
       "description_width": ""
      }
     },
     "c5566b541637408b87989d6bdf2e48fa": {
      "model_module": "@jupyter-widgets/controls",
      "model_module_version": "1.5.0",
      "model_name": "IntTextModel",
      "state": {
       "description": "##",
       "layout": "IPY_MODEL_ed75475e0a59461081b0c08a8da6b41e",
       "step": 1,
       "style": "IPY_MODEL_a1e46684a0e74285a72f14492d86c255"
      }
     },
     "c5ae770e595548f7bdbc89d718f827dc": {
      "model_module": "@jupyter-widgets/controls",
      "model_module_version": "1.5.0",
      "model_name": "DescriptionStyleModel",
      "state": {
       "description_width": ""
      }
     },
     "c5f2a60ac856465dbf35b6f79fd85ad1": {
      "model_module": "@jupyter-widgets/controls",
      "model_module_version": "1.5.0",
      "model_name": "DropdownModel",
      "state": {
       "_options_labels": [
        "x",
        "y",
        "z",
        "i"
       ],
       "index": 2,
       "layout": "IPY_MODEL_2ca57316864e4886957de7c75fe1c8c8",
       "style": "IPY_MODEL_6bbed053b54540479c017f4effc447c9"
      }
     },
     "c632a2f5c94c422b80eff697061cfcf7": {
      "model_module": "@jupyter-widgets/base",
      "model_module_version": "1.2.0",
      "model_name": "LayoutModel",
      "state": {}
     },
     "c661c27e6a544aa2a959adb824feb5e8": {
      "model_module": "@jupyter-widgets/controls",
      "model_module_version": "1.5.0",
      "model_name": "DescriptionStyleModel",
      "state": {
       "description_width": "20px"
      }
     },
     "c6fa99009e3e4ca58b2b1ced958a23f1": {
      "model_module": "@jupyter-widgets/controls",
      "model_module_version": "1.5.0",
      "model_name": "LabelModel",
      "state": {
       "layout": "IPY_MODEL_965a8e0b563a465e921dd615a822f59c",
       "style": "IPY_MODEL_d252f8a16c25480d8577fdbed381fd4e",
       "value": "To change traj (latoms_list)"
      }
     },
     "c70839ffc1c242f99253aa2d97d62020": {
      "model_module": "@jupyter-widgets/controls",
      "model_module_version": "1.5.0",
      "model_name": "DescriptionStyleModel",
      "state": {
       "description_width": "35px"
      }
     },
     "c7171aab46714cb1858fc4cfdca2c9b7": {
      "model_module": "@jupyter-widgets/controls",
      "model_module_version": "1.5.0",
      "model_name": "DropdownModel",
      "state": {
       "_options_labels": [
        "0",
        "1",
        "2",
        "3",
        "4",
        "5",
        "6",
        "7",
        "8",
        "9",
        "10",
        "11",
        "12",
        "13",
        "14",
        "15",
        "16",
        "17",
        "18",
        "19"
       ],
       "description": "Atoms1",
       "index": 0,
       "layout": "IPY_MODEL_9ac4ff0f70d04524a284aaf456dfe52c",
       "style": "IPY_MODEL_d001a794b30245bdbf157f94034a00a5"
      }
     },
     "c7f45e22078044b5bc269bc4d754d506": {
      "model_module": "@jupyter-widgets/controls",
      "model_module_version": "1.5.0",
      "model_name": "LabelModel",
      "state": {
       "layout": "IPY_MODEL_dff8133c3c114d70afa14dda44aab583",
       "style": "IPY_MODEL_f8ac2502c80f4d1c9a1d144948ead4a5",
       "value": "to make Liquid from atoms"
      }
     },
     "c81614c77b7244ca86c5cb5338eb7472": {
      "model_module": "@jupyter-widgets/controls",
      "model_module_version": "1.5.0",
      "model_name": "DescriptionStyleModel",
      "state": {
       "description_width": ""
      }
     },
     "c8897007635f4a308a676d4b799a2e9d": {
      "model_module": "@jupyter-widgets/controls",
      "model_module_version": "1.5.0",
      "model_name": "DescriptionStyleModel",
      "state": {
       "description_width": ""
      }
     },
     "c8cf6435c8b8487cb12432c1868fb3fe": {
      "model_module": "@jupyter-widgets/base",
      "model_module_version": "1.2.0",
      "model_name": "LayoutModel",
      "state": {}
     },
     "c90fd39f6c8543f0b7814e2503396370": {
      "model_module": "@jupyter-widgets/controls",
      "model_module_version": "1.5.0",
      "model_name": "ToggleButtonModel",
      "state": {
       "description": "Smoothing",
       "layout": "IPY_MODEL_a15fa67583fe490c9f3601e89c79bd4c",
       "style": "IPY_MODEL_f12e7aecaf8c471c927d14887c066e09",
       "tooltip": "smoothing trajectory"
      }
     },
     "c9243607094442d9b1d2f3335d322a45": {
      "model_module": "@jupyter-widgets/controls",
      "model_module_version": "1.5.0",
      "model_name": "LabelModel",
      "state": {
       "layout": "IPY_MODEL_90c4091d51e947b194d00eb79588474d",
       "style": "IPY_MODEL_01555a23888b4d978b302604e66d420a"
      }
     },
     "c94fcfa609ed4afe877b7942a3e65169": {
      "model_module": "@jupyter-widgets/controls",
      "model_module_version": "1.5.0",
      "model_name": "IntTextModel",
      "state": {
       "description": "A#",
       "layout": "IPY_MODEL_1733746532734f00aa1a1931a3b685cb",
       "step": 1,
       "style": "IPY_MODEL_d6463eb431d14efeacb133b0438974ab"
      }
     },
     "ca01c7d346874294ac62597779a2eb44": {
      "model_module": "@jupyter-widgets/base",
      "model_module_version": "1.2.0",
      "model_name": "LayoutModel",
      "state": {}
     },
     "ca43fbe721c742299a0114ffda7605ae": {
      "model_module": "@jupyter-widgets/base",
      "model_module_version": "1.2.0",
      "model_name": "LayoutModel",
      "state": {
       "width": "140px"
      }
     },
     "ca460502409643ca94f26c87f3276d55": {
      "model_module": "@jupyter-widgets/controls",
      "model_module_version": "1.5.0",
      "model_name": "HBoxModel",
      "state": {
       "children": [
        "IPY_MODEL_2d972713ec274396b1b20f2343bd23a8",
        "IPY_MODEL_41d561d2d3e14232859d1e63f2c371bf"
       ],
       "layout": "IPY_MODEL_92e3dafb3c8f4fce9d32fadb6f92cecb"
      }
     },
     "cac280bd5d0a46d8b2337e4a2d5a348c": {
      "model_module": "@jupyter-widgets/controls",
      "model_module_version": "1.5.0",
      "model_name": "ButtonModel",
      "state": {
       "description": "make mode traj",
       "layout": "IPY_MODEL_5054e5114e294e4e9b15ca677500e282",
       "style": "IPY_MODEL_dd2750f28ec14341b342e8fc38520789"
      }
     },
     "cad883e5019d4264b152ea97521f05b8": {
      "model_module": "@jupyter-widgets/controls",
      "model_module_version": "1.5.0",
      "model_name": "ButtonModel",
      "state": {
       "description": "SET",
       "layout": "IPY_MODEL_5b3f0ec005cb4f3382b84c4080381e47",
       "style": "IPY_MODEL_af3df70cf6e049b89fe3598be2aeb0dc"
      }
     },
     "cae614757d31481894ab51e51750b21a": {
      "model_module": "@jupyter-widgets/controls",
      "model_module_version": "1.5.0",
      "model_name": "IntTextModel",
      "state": {
       "description": "height",
       "layout": "IPY_MODEL_4b7a4b06a9f341f69f90498916015574",
       "step": 50,
       "style": "IPY_MODEL_110ea8c493bf4c108956404db7dd8087",
       "value": 500
      }
     },
     "cb6cf5097c2c49908ef280f36312d102": {
      "model_module": "@jupyter-widgets/controls",
      "model_module_version": "1.5.0",
      "model_name": "ButtonStyleModel",
      "state": {}
     },
     "cb749ac7755740f99c81ca542f2f459e": {
      "model_module": "@jupyter-widgets/base",
      "model_module_version": "1.2.0",
      "model_name": "LayoutModel",
      "state": {
       "width": "150px"
      }
     },
     "cbc2dfc3dfa04890a804a388992d4142": {
      "model_module": "@jupyter-widgets/controls",
      "model_module_version": "1.5.0",
      "model_name": "DescriptionStyleModel",
      "state": {
       "description_width": "100px"
      }
     },
     "cc100c038fe140a1a45f31fd088d542d": {
      "model_module": "@jupyter-widgets/controls",
      "model_module_version": "1.5.0",
      "model_name": "ButtonModel",
      "state": {
       "description": "run NEB",
       "layout": "IPY_MODEL_d403d14461d24361b512a0149f9ab5a4",
       "style": "IPY_MODEL_159b14bf6c8548d98f0b5c8b85dbf1ae"
      }
     },
     "cc1eb96397cb4de396dba7b4795ee484": {
      "model_module": "@jupyter-widgets/base",
      "model_module_version": "1.2.0",
      "model_name": "LayoutModel",
      "state": {
       "height": "30px",
       "width": "80px"
      }
     },
     "cc85defb371543bc91129ca87335bb54": {
      "model_module": "@jupyter-widgets/controls",
      "model_module_version": "1.5.0",
      "model_name": "DescriptionStyleModel",
      "state": {
       "description_width": ""
      }
     },
     "ccaac96e2b10400abc79116dbeb494b4": {
      "model_module": "@jupyter-widgets/base",
      "model_module_version": "1.2.0",
      "model_name": "LayoutModel",
      "state": {
       "align_items": "stretch",
       "align_self": "center"
      }
     },
     "ccbac1adb05b4634be2e2efe161bca6c": {
      "model_module": "@jupyter-widgets/controls",
      "model_module_version": "1.5.0",
      "model_name": "SliderStyleModel",
      "state": {
       "description_width": ""
      }
     },
     "cce6acd1b01f4c99a7dfc3b48bf836ba": {
      "model_module": "@jupyter-widgets/base",
      "model_module_version": "1.2.0",
      "model_name": "LayoutModel",
      "state": {
       "width": "62px"
      }
     },
     "cd53af87605c4bfa8cf522ab368aa9be": {
      "model_module": "@jupyter-widgets/base",
      "model_module_version": "1.2.0",
      "model_name": "LayoutModel",
      "state": {}
     },
     "cd7169b77eac4464a4ce1366f1f96fd9": {
      "model_module": "@jupyter-widgets/base",
      "model_module_version": "1.2.0",
      "model_name": "LayoutModel",
      "state": {}
     },
     "cd7dddccda7d4c438315e5270d741347": {
      "model_module": "@jupyter-widgets/controls",
      "model_module_version": "1.5.0",
      "model_name": "ButtonStyleModel",
      "state": {}
     },
     "cd99262203a241ed9bb3d3587ffdda3d": {
      "model_module": "@jupyter-widgets/base",
      "model_module_version": "1.2.0",
      "model_name": "LayoutModel",
      "state": {
       "width": "140px"
      }
     },
     "cdc55055ca9c4a95a3a81cc0db21f159": {
      "model_module": "@jupyter-widgets/controls",
      "model_module_version": "1.5.0",
      "model_name": "DescriptionStyleModel",
      "state": {
       "description_width": "35px"
      }
     },
     "ce1f362a9c554b5f87236d305f6d075a": {
      "model_module": "@jupyter-widgets/controls",
      "model_module_version": "1.5.0",
      "model_name": "DescriptionStyleModel",
      "state": {
       "description_width": ""
      }
     },
     "ce2ee4c8398a4f088be0d8bed8ef83f4": {
      "model_module": "@jupyter-widgets/controls",
      "model_module_version": "1.5.0",
      "model_name": "LabelModel",
      "state": {
       "layout": "IPY_MODEL_7b44a24576a14002bba248743332cac1",
       "style": "IPY_MODEL_2b3f30ae76ea4ef28b1d643c87b6f9c7",
       "value": "Edit Atoms indices"
      }
     },
     "ce333f2b5bfb493c922c308fd107fe8c": {
      "model_module": "@jupyter-widgets/controls",
      "model_module_version": "1.5.0",
      "model_name": "ButtonStyleModel",
      "state": {}
     },
     "ce34bb317eb84af08863a002ddcf19f7": {
      "model_module": "@jupyter-widgets/controls",
      "model_module_version": "1.5.0",
      "model_name": "TextModel",
      "state": {
       "description": "cellpar",
       "layout": "IPY_MODEL_fa41cfc95a8144ac92e7904e61fbe960",
       "style": "IPY_MODEL_1c7ea0c01c4b4c1b8606cbf82a91b03f"
      }
     },
     "ce6eeaaa12ed4327aba98bd1020383a6": {
      "model_module": "@jupyter-widgets/controls",
      "model_module_version": "1.5.0",
      "model_name": "DescriptionStyleModel",
      "state": {
       "description_width": "40px"
      }
     },
     "cf0bc4b384d74cfdb6f35a068ff925e4": {
      "model_module": "@jupyter-widgets/base",
      "model_module_version": "1.2.0",
      "model_name": "LayoutModel",
      "state": {}
     },
     "cf8ca23b37e3428b8d4c46c4ccfed405": {
      "model_module": "@jupyter-widgets/output",
      "model_module_version": "1.0.0",
      "model_name": "OutputModel",
      "state": {
       "layout": "IPY_MODEL_b273e9b2704443e08fcb6ce85b764db6",
       "outputs": [
        {
         "data": {
          "text/html": "<style> .widget-vbox {background-color: #3399AA ; padding: 2px }</style>",
          "text/plain": "<IPython.core.display.HTML object>"
         },
         "metadata": {},
         "output_type": "display_data"
        }
       ]
      }
     },
     "cfc62dfabe37458e94005222ce8c3a27": {
      "model_module": "@jupyter-widgets/base",
      "model_module_version": "1.2.0",
      "model_name": "LayoutModel",
      "state": {
       "width": "50px"
      }
     },
     "cfcf63bdb3e04ec283e8974109dbd4a0": {
      "model_module": "@jupyter-widgets/controls",
      "model_module_version": "1.5.0",
      "model_name": "DescriptionStyleModel",
      "state": {
       "description_width": ""
      }
     },
     "d001a794b30245bdbf157f94034a00a5": {
      "model_module": "@jupyter-widgets/controls",
      "model_module_version": "1.5.0",
      "model_name": "DescriptionStyleModel",
      "state": {
       "description_width": ""
      }
     },
     "d1b42a5704a447f492c915d1e7ddfe23": {
      "model_module": "@jupyter-widgets/controls",
      "model_module_version": "1.5.0",
      "model_name": "ButtonModel",
      "state": {
       "description": "liq make",
       "layout": "IPY_MODEL_83ca10b02a2c40e1b9f01991493a29c0",
       "style": "IPY_MODEL_bf5b0e8bfe2f4f36810431c46bae4900"
      }
     },
     "d1f47e4e49ba4f359bd2f6e384b4f86f": {
      "model_module": "@jupyter-widgets/base",
      "model_module_version": "1.2.0",
      "model_name": "LayoutModel",
      "state": {}
     },
     "d2153d4365a84eac9a5e8049fa4a1236": {
      "model_module": "@jupyter-widgets/controls",
      "model_module_version": "1.5.0",
      "model_name": "CheckboxModel",
      "state": {
       "description": "force",
       "disabled": false,
       "indent": false,
       "layout": "IPY_MODEL_71b42b2d88e54d62b5df8e2a7727f0e1",
       "style": "IPY_MODEL_07a50bc664604d608499a85dbd41b778",
       "value": false
      }
     },
     "d218e2f6c41c416bbc327496f927d3a3": {
      "model_module": "@jupyter-widgets/controls",
      "model_module_version": "1.5.0",
      "model_name": "ButtonStyleModel",
      "state": {}
     },
     "d225034a7bf1426e9f37097d1472608f": {
      "model_module": "@jupyter-widgets/base",
      "model_module_version": "1.2.0",
      "model_name": "LayoutModel",
      "state": {}
     },
     "d252f8a16c25480d8577fdbed381fd4e": {
      "model_module": "@jupyter-widgets/controls",
      "model_module_version": "1.5.0",
      "model_name": "DescriptionStyleModel",
      "state": {
       "description_width": ""
      }
     },
     "d313e9af97254277bf49820e91be74f9": {
      "model_module": "@jupyter-widgets/controls",
      "model_module_version": "1.5.0",
      "model_name": "DescriptionStyleModel",
      "state": {
       "description_width": ""
      }
     },
     "d3506bb0b3a4499dadea380953703493": {
      "model_module": "@jupyter-widgets/controls",
      "model_module_version": "1.5.0",
      "model_name": "VBoxModel",
      "state": {
       "children": [
        "IPY_MODEL_be6fd7cfdbf04d0bb86d5ccf268954b6",
        "IPY_MODEL_f4ef32b2dec24952aafd30875c51eeda"
       ],
       "layout": "IPY_MODEL_930ca067e45844c7b54407d717e98bc2"
      }
     },
     "d393dcd3e5e248ac87e8ab96a878008b": {
      "model_module": "@jupyter-widgets/controls",
      "model_module_version": "1.5.0",
      "model_name": "HBoxModel",
      "state": {
       "children": [
        "IPY_MODEL_140ebae77a2044ce84db3e622f46edc4"
       ],
       "layout": "IPY_MODEL_3417369635ca44cf86d64351e799686e"
      }
     },
     "d3a7424acdcb45319d4e197679dc4cba": {
      "model_module": "@jupyter-widgets/base",
      "model_module_version": "1.2.0",
      "model_name": "LayoutModel",
      "state": {
       "width": "100px"
      }
     },
     "d3c0ca9486014fcead6463346a102316": {
      "model_module": "@jupyter-widgets/base",
      "model_module_version": "1.2.0",
      "model_name": "LayoutModel",
      "state": {
       "width": "80px"
      }
     },
     "d3c6fcbf34be41acae01587a59f37e23": {
      "model_module": "@jupyter-widgets/controls",
      "model_module_version": "1.5.0",
      "model_name": "DescriptionStyleModel",
      "state": {
       "description_width": ""
      }
     },
     "d3d0b28cdc504489b54a2a967087c8b4": {
      "model_module": "@jupyter-widgets/controls",
      "model_module_version": "1.5.0",
      "model_name": "SliderStyleModel",
      "state": {
       "description_width": ""
      }
     },
     "d40168a3a65d4838868d9b3da551407e": {
      "model_module": "@jupyter-widgets/controls",
      "model_module_version": "1.5.0",
      "model_name": "FloatTextModel",
      "state": {
       "description": "mult",
       "layout": "IPY_MODEL_713ed77391a74e66973eb3de9425a2cb",
       "step": 0.05,
       "style": "IPY_MODEL_079a529745444861bf928e976826ec0c",
       "value": 1
      }
     },
     "d403d14461d24361b512a0149f9ab5a4": {
      "model_module": "@jupyter-widgets/base",
      "model_module_version": "1.2.0",
      "model_name": "LayoutModel",
      "state": {
       "width": "150px"
      }
     },
     "d448f20d91134f7d9db62e94a2175442": {
      "model_module": "@jupyter-widgets/controls",
      "model_module_version": "1.5.0",
      "model_name": "ButtonStyleModel",
      "state": {}
     },
     "d45bfb9da74647f2b22661399ec57718": {
      "model_module": "@jupyter-widgets/base",
      "model_module_version": "1.2.0",
      "model_name": "LayoutModel",
      "state": {}
     },
     "d5817418ac3845869623410e33b134e2": {
      "model_module": "@jupyter-widgets/base",
      "model_module_version": "1.2.0",
      "model_name": "LayoutModel",
      "state": {
       "width": "380px"
      }
     },
     "d6086f25e17449f48470ba660efeadb0": {
      "model_module": "@jupyter-widgets/controls",
      "model_module_version": "1.5.0",
      "model_name": "VBoxModel",
      "state": {
       "children": [
        "IPY_MODEL_65c4ada3d4424461afde80fc6ceaad7e",
        "IPY_MODEL_3f03353798dd4ef4a81d181d7e98e95c",
        "IPY_MODEL_3d7ec569fd74466ea1aa2e349dae7529",
        "IPY_MODEL_aecf241b2c474df7affc12f66e5d55b3",
        "IPY_MODEL_b6fdc2fb9a064a19ae14e7a00736ebeb",
        "IPY_MODEL_b09b7dcad9d54cbc9b4958dc19fb31c6",
        "IPY_MODEL_cac280bd5d0a46d8b2337e4a2d5a348c"
       ],
       "layout": "IPY_MODEL_5f7a356d41b14e4b94a3c14575db3c8a"
      }
     },
     "d6463eb431d14efeacb133b0438974ab": {
      "model_module": "@jupyter-widgets/controls",
      "model_module_version": "1.5.0",
      "model_name": "DescriptionStyleModel",
      "state": {
       "description_width": "80px"
      }
     },
     "d66edd943df04f8bab7f90e710136d1f": {
      "model_module": "@jupyter-widgets/controls",
      "model_module_version": "1.5.0",
      "model_name": "VBoxModel",
      "state": {
       "children": [
        "IPY_MODEL_3c76691608be46ea9aebc9b959713df1",
        "IPY_MODEL_bc7ad885d2cc4a6290baf7f04eec5e4a",
        "IPY_MODEL_fec84d651e6f48e4bcd06b53b2300331"
       ],
       "layout": "IPY_MODEL_447dfbfb265944fe9ce68b36e8a3de66"
      }
     },
     "d71ae8b546b541b38f1cc374e06c31c8": {
      "model_module": "@jupyter-widgets/controls",
      "model_module_version": "1.5.0",
      "model_name": "ButtonStyleModel",
      "state": {}
     },
     "d71b5d4fa6834cb2b6d8312aa5feb260": {
      "model_module": "@jupyter-widgets/base",
      "model_module_version": "1.2.0",
      "model_name": "LayoutModel",
      "state": {
       "width": "140px"
      }
     },
     "d76017979add43489d4a647524248df0": {
      "model_module": "@jupyter-widgets/controls",
      "model_module_version": "1.5.0",
      "model_name": "FloatTextModel",
      "state": {
       "description": "maxsteps",
       "layout": "IPY_MODEL_47de2b8c95e94334b07e5e0b0d70d856",
       "step": 0.001,
       "style": "IPY_MODEL_e54fc62a9dff43709abb28d5f4940dd5",
       "value": 0.1
      }
     },
     "d792ac86ec244f24a2a412e8a4804ff0": {
      "model_module": "@jupyter-widgets/base",
      "model_module_version": "1.2.0",
      "model_name": "LayoutModel",
      "state": {
       "width": "140px"
      }
     },
     "d8a601493f1e4b949a7df66adbf3e8dc": {
      "model_module": "@jupyter-widgets/base",
      "model_module_version": "1.2.0",
      "model_name": "LayoutModel",
      "state": {}
     },
     "d8c9b0a705ac449b9da2a017e3bc905f": {
      "model_module": "@jupyter-widgets/controls",
      "model_module_version": "1.5.0",
      "model_name": "ButtonModel",
      "state": {
       "description": "surface_done",
       "layout": "IPY_MODEL_2dd456ab2b484faebcbd5fe900905331",
       "style": "IPY_MODEL_fa5f3c8ff7b34958a5afb6de8b5e0e36"
      }
     },
     "dae28ef15fa34646bada73e48fb619ad": {
      "model_module": "@jupyter-widgets/controls",
      "model_module_version": "1.5.0",
      "model_name": "DropdownModel",
      "state": {
       "_options_labels": [
        "within",
        "any",
        "only"
       ],
       "description": "ele option",
       "index": 0,
       "layout": "IPY_MODEL_db30873aaf014f21a9e05aacc8f3da41",
       "style": "IPY_MODEL_7309ee72704646b694cfb26207290c90"
      }
     },
     "db120ffbd0004706844ad4db945b994e": {
      "model_module": "@jupyter-widgets/controls",
      "model_module_version": "1.5.0",
      "model_name": "VBoxModel",
      "state": {
       "children": [
        "IPY_MODEL_d66edd943df04f8bab7f90e710136d1f",
        "IPY_MODEL_d3506bb0b3a4499dadea380953703493"
       ],
       "layout": "IPY_MODEL_b339277ee7424497bf41e0e211002fd5"
      }
     },
     "db30873aaf014f21a9e05aacc8f3da41": {
      "model_module": "@jupyter-widgets/base",
      "model_module_version": "1.2.0",
      "model_name": "LayoutModel",
      "state": {
       "height": "30px",
       "width": "175px"
      }
     },
     "db489a473589426192e890902860d722": {
      "model_module": "@jupyter-widgets/base",
      "model_module_version": "1.2.0",
      "model_name": "LayoutModel",
      "state": {}
     },
     "dc284b99f9594ce5a53a3cdb0e4e7139": {
      "model_module": "@jupyter-widgets/controls",
      "model_module_version": "1.5.0",
      "model_name": "IntTextModel",
      "state": {
       "description": "b",
       "layout": "IPY_MODEL_f14d9b6393d14bd293b179a445b255e8",
       "step": 1,
       "style": "IPY_MODEL_30808821bac54d00a6354fe175659e4a"
      }
     },
     "dcabbfd833f147d2bb273968fef2a625": {
      "model_module": "@jupyter-widgets/controls",
      "model_module_version": "1.5.0",
      "model_name": "DropdownModel",
      "state": {
       "_options_labels": [
        "x",
        "y",
        "z",
        "i"
       ],
       "index": 2,
       "layout": "IPY_MODEL_67d9e8006a954eddab8f38f1c62bf33d",
       "style": "IPY_MODEL_b6469a0f3fa74350aff0f537f5c46a36"
      }
     },
     "dcc85e1c58d64bc981d66e43c3dd9e44": {
      "model_module": "@jupyter-widgets/controls",
      "model_module_version": "1.5.0",
      "model_name": "ImageModel",
      "state": {
       "layout": "IPY_MODEL_78216c7eae4643dfa5f38a66d8702cc0",
       "width": "900.0"
      }
     },
     "dce48404a1f04fbcb4af9c1419e2a22e": {
      "model_module": "@jupyter-widgets/base",
      "model_module_version": "1.2.0",
      "model_name": "LayoutModel",
      "state": {}
     },
     "dd2750f28ec14341b342e8fc38520789": {
      "model_module": "@jupyter-widgets/controls",
      "model_module_version": "1.5.0",
      "model_name": "ButtonStyleModel",
      "state": {}
     },
     "dd9bea25bb38446e89a7e1e4b4d5b5ec": {
      "model_module": "@jupyter-widgets/base",
      "model_module_version": "1.2.0",
      "model_name": "LayoutModel",
      "state": {
       "width": "130px"
      }
     },
     "ddb2d7164864461ea61a35eb0fb96cd1": {
      "model_module": "@jupyter-widgets/controls",
      "model_module_version": "1.5.0",
      "model_name": "VBoxModel",
      "state": {
       "children": [
        "IPY_MODEL_2ff2554d9d4745e3bafd7245db7ad037",
        "IPY_MODEL_0674f0ea0c0b4d70950a033fde7cbca7",
        "IPY_MODEL_f2826ab3e32e4022a1e914067380807b",
        "IPY_MODEL_04920e7e569e4e43be2737440eeb2d39",
        "IPY_MODEL_412b67c9e6244384b1c3d74694abdf1d",
        "IPY_MODEL_d8c9b0a705ac449b9da2a017e3bc905f",
        "IPY_MODEL_44c14ad58c7346c788442d7ffe4c43b2"
       ],
       "layout": "IPY_MODEL_d8a601493f1e4b949a7df66adbf3e8dc"
      }
     },
     "ddc1cf57df3f45c385e1439437ed80b4": {
      "model_module": "@jupyter-widgets/base",
      "model_module_version": "1.2.0",
      "model_name": "LayoutModel",
      "state": {}
     },
     "ddf6a0a30c11406a821b4c59b24d9440": {
      "model_module": "@jupyter-widgets/controls",
      "model_module_version": "1.5.0",
      "model_name": "ButtonStyleModel",
      "state": {}
     },
     "ddfe4c65b85c47208b86c22d25912d9c": {
      "model_module": "@jupyter-widgets/base",
      "model_module_version": "1.2.0",
      "model_name": "LayoutModel",
      "state": {}
     },
     "de65b6ab1eff4a318de305fc8946dbe9": {
      "model_module": "@jupyter-widgets/controls",
      "model_module_version": "1.5.0",
      "model_name": "HBoxModel",
      "state": {
       "children": [
        "IPY_MODEL_408b9784b888422597cb085dffcbb350",
        "IPY_MODEL_040cf0a6a334468eaa7558c0ace3dc31",
        "IPY_MODEL_ef652e1bd7f047cdb3362dbbd980ad27",
        "IPY_MODEL_b513ea9ce455423ba84282fafe419379",
        "IPY_MODEL_a22049e373ef40a7b9bf57ac5fbac399",
        "IPY_MODEL_9db92df9f76549729b18a98b2f39ccc0",
        "IPY_MODEL_1060319231e6464f962eb26d67ce8e42"
       ],
       "layout": "IPY_MODEL_9cc97af18ac046da927efc318789adf3"
      }
     },
     "de89073058144fb094e609566b294d42": {
      "model_module": "@jupyter-widgets/controls",
      "model_module_version": "1.5.0",
      "model_name": "SliderStyleModel",
      "state": {
       "description_width": ""
      }
     },
     "df633d53fd2c44448e96b1814d316223": {
      "model_module": "@jupyter-widgets/controls",
      "model_module_version": "1.5.0",
      "model_name": "ButtonModel",
      "state": {
       "description": "..",
       "layout": "IPY_MODEL_82341ddaa2aa4430b2c99f704d7b5c33",
       "style": "IPY_MODEL_f6b78b4c7cd84ec79f911c1c15c0b4b0"
      }
     },
     "df7eefba9b0d43ca934ab3699dd9c72d": {
      "model_module": "@jupyter-widgets/output",
      "model_module_version": "1.0.0",
      "model_name": "OutputModel",
      "state": {
       "layout": "IPY_MODEL_7610a461fcf54c92bc40d3502c088779",
       "outputs": [
        {
         "data": {
          "text/html": "<div>\n<style scoped>\n    .dataframe tbody tr th:only-of-type {\n        vertical-align: middle;\n    }\n\n    .dataframe tbody tr th {\n        vertical-align: top;\n    }\n\n    .dataframe thead th {\n        text-align: right;\n    }\n</style>\n<table border=\"1\" class=\"dataframe\">\n  <thead>\n    <tr style=\"text-align: right;\">\n      <th></th>\n      <th>qmof_id</th>\n      <th>name</th>\n      <th>formula</th>\n      <th>smiles</th>\n    </tr>\n  </thead>\n  <tbody>\n    <tr>\n      <th>0</th>\n      <td>qmof-c07ea8b</td>\n      <td>ADOQOC_FSR</td>\n      <td>Cu2C12H16N20</td>\n      <td>[Cu].[N][N][N]</td>\n    </tr>\n    <tr>\n      <th>1</th>\n      <td>qmof-459830d</td>\n      <td>AJABIX01_FSR</td>\n      <td>Cu6C48H72N18</td>\n      <td>CCC1=NN=C([N]1)CC.[Cu]</td>\n    </tr>\n    <tr>\n      <th>2</th>\n      <td>qmof-3b9998a</td>\n      <td>ASUQIO03_FSR</td>\n      <td>Cu4C16H24N12</td>\n      <td>CC1=NN=C([N]1)C.[Cu]</td>\n    </tr>\n    <tr>\n      <th>3</th>\n      <td>qmof-43a7c42</td>\n      <td>ASUQIO04_FSR</td>\n      <td>Cu6C24H36N18</td>\n      <td>CC1=NN=C([N]1)C.[Cu]</td>\n    </tr>\n    <tr>\n      <th>4</th>\n      <td>qmof-b1eac6f</td>\n      <td>ASUQIO_FSR</td>\n      <td>Cu8C32H48N24</td>\n      <td>CC1=N[N]C(=N1)C.CC1=[N]=C(...</td>\n    </tr>\n    <tr>\n      <th>5</th>\n      <td>qmof-0cfad40</td>\n      <td>BAGPOP01_FSR</td>\n      <td>Cu2C28H16N16</td>\n      <td>N#C[N]C#N.[Cu]</td>\n    </tr>\n    <tr>\n      <th>6</th>\n      <td>qmof-1a6c50b</td>\n      <td>BEPVAV_FSR</td>\n      <td>Cu6C40H42N16</td>\n      <td>Cc1[nH][n-]c(c1Cc1cccc(n1)...</td>\n    </tr>\n  </tbody>\n</table>\n</div>",
          "text/plain": "        qmof_id          name       formula                         smiles\n0  qmof-c07ea8b    ADOQOC_FSR  Cu2C12H16N20                 [Cu].[N][N][N]\n1  qmof-459830d  AJABIX01_FSR  Cu6C48H72N18         CCC1=NN=C([N]1)CC.[Cu]\n2  qmof-3b9998a  ASUQIO03_FSR  Cu4C16H24N12           CC1=NN=C([N]1)C.[Cu]\n3  qmof-43a7c42  ASUQIO04_FSR  Cu6C24H36N18           CC1=NN=C([N]1)C.[Cu]\n4  qmof-b1eac6f    ASUQIO_FSR  Cu8C32H48N24  CC1=N[N]C(=N1)C.CC1=[N]=C(...\n5  qmof-0cfad40  BAGPOP01_FSR  Cu2C28H16N16                 N#C[N]C#N.[Cu]\n6  qmof-1a6c50b    BEPVAV_FSR  Cu6C40H42N16  Cc1[nH][n-]c(c1Cc1cccc(n1)..."
         },
         "metadata": {},
         "output_type": "display_data"
        }
       ]
      }
     },
     "df88148b9a934546b74724743b650550": {
      "model_module": "@jupyter-widgets/base",
      "model_module_version": "1.2.0",
      "model_name": "LayoutModel",
      "state": {
       "width": "140px"
      }
     },
     "df9881f2b1e84e5eb36cc7d988df8021": {
      "model_module": "@jupyter-widgets/controls",
      "model_module_version": "1.5.0",
      "model_name": "DescriptionStyleModel",
      "state": {
       "description_width": "50px"
      }
     },
     "dfb3b86fae59447b95014f372b53d80c": {
      "model_module": "@jupyter-widgets/controls",
      "model_module_version": "1.5.0",
      "model_name": "FloatTextModel",
      "state": {
       "description": "taut fs",
       "layout": "IPY_MODEL_e60f118164bf438f90627c885de4adcc",
       "step": 0.5,
       "style": "IPY_MODEL_b1ef24ade6bf40cc89307e8bb97f5378",
       "value": 1
      }
     },
     "dfb814ef8185434d991c0a24a1bda54d": {
      "model_module": "@jupyter-widgets/base",
      "model_module_version": "1.2.0",
      "model_name": "LayoutModel",
      "state": {}
     },
     "dfdd16002abb4fc694e73555542a775a": {
      "model_module": "@jupyter-widgets/base",
      "model_module_version": "1.2.0",
      "model_name": "LayoutModel",
      "state": {
       "width": "180px"
      }
     },
     "dff8133c3c114d70afa14dda44aab583": {
      "model_module": "@jupyter-widgets/base",
      "model_module_version": "1.2.0",
      "model_name": "LayoutModel",
      "state": {}
     },
     "e0283c6abfce4f838ffcac64f5cd1d63": {
      "model_module": "@jupyter-widgets/controls",
      "model_module_version": "1.5.0",
      "model_name": "DescriptionStyleModel",
      "state": {
       "description_width": ""
      }
     },
     "e0c38cf22be447078815dabe26471f67": {
      "model_module": "@jupyter-widgets/controls",
      "model_module_version": "1.5.0",
      "model_name": "DropdownModel",
      "state": {
       "_options_labels": [
        "x",
        "y",
        "z"
       ],
       "description": "direction",
       "index": 0,
       "layout": "IPY_MODEL_0bf8c4811e5a421594806100a609904b",
       "style": "IPY_MODEL_1762d704fff54665bb15aaaa2335c3e5"
      }
     },
     "e207a9be509d47be9766fe73f6478668": {
      "model_module": "@jupyter-widgets/output",
      "model_module_version": "1.0.0",
      "model_name": "OutputModel",
      "state": {
       "layout": "IPY_MODEL_a23fc24b9ae74b0eb68ad3578c39d545"
      }
     },
     "e24eb8fb9329458db8535b41ba1568a9": {
      "model_module": "@jupyter-widgets/base",
      "model_module_version": "1.2.0",
      "model_name": "LayoutModel",
      "state": {
       "width": "350px"
      }
     },
     "e2c81d6106534024bcbd77722c7a0380": {
      "model_module": "@jupyter-widgets/controls",
      "model_module_version": "1.5.0",
      "model_name": "DescriptionStyleModel",
      "state": {
       "description_width": ""
      }
     },
     "e35d33d4e6784292bcec83c8e34d4993": {
      "model_module": "@jupyter-widgets/controls",
      "model_module_version": "1.5.0",
      "model_name": "HBoxModel",
      "state": {
       "children": [
        "IPY_MODEL_682d72e1cd4a41a891fcfcea633ac8d9",
        "IPY_MODEL_b938d115f6e841f4b9129e58e3949d4f"
       ],
       "layout": "IPY_MODEL_dce48404a1f04fbcb4af9c1419e2a22e"
      }
     },
     "e3781b82b32d4c3f83ec0f684d596541": {
      "model_module": "@jupyter-widgets/controls",
      "model_module_version": "1.5.0",
      "model_name": "ButtonStyleModel",
      "state": {}
     },
     "e475688753604bfda2ec8183cc7c66d4": {
      "model_module": "@jupyter-widgets/base",
      "model_module_version": "1.2.0",
      "model_name": "LayoutModel",
      "state": {
       "height": "40px",
       "width": "370px"
      }
     },
     "e47e4719299b4a69ab7ec2a05a88faf5": {
      "model_module": "@jupyter-widgets/controls",
      "model_module_version": "1.5.0",
      "model_name": "DescriptionStyleModel",
      "state": {
       "description_width": "80px"
      }
     },
     "e4e29eb72b08442b86a21bc2555b1982": {
      "model_module": "@jupyter-widgets/base",
      "model_module_version": "1.2.0",
      "model_name": "LayoutModel",
      "state": {
       "width": "50px"
      }
     },
     "e4f4a93b8a61409e99a1e052e72ebb12": {
      "model_module": "@jupyter-widgets/controls",
      "model_module_version": "1.5.0",
      "model_name": "DropdownModel",
      "state": {
       "_options_labels": [
        "within",
        "any",
        "only"
       ],
       "description": "ele option",
       "index": 0,
       "layout": "IPY_MODEL_4c9ab5400fc34987a6652c8668e5207d",
       "style": "IPY_MODEL_04ee17ffdbf14f6a9de9cf7e55ed4e1b"
      }
     },
     "e54fc62a9dff43709abb28d5f4940dd5": {
      "model_module": "@jupyter-widgets/controls",
      "model_module_version": "1.5.0",
      "model_name": "DescriptionStyleModel",
      "state": {
       "description_width": "55px"
      }
     },
     "e5a742e58edd4b2593ad7ff7987c2e06": {
      "model_module": "@jupyter-widgets/controls",
      "model_module_version": "1.5.0",
      "model_name": "IntTextModel",
      "state": {
       "description": "steps",
       "layout": "IPY_MODEL_81403618617e4ce2821e1af88df8c8ce",
       "step": 20,
       "style": "IPY_MODEL_b47dd6944bc74ffdaca64f1464c3aafe",
       "value": 100
      }
     },
     "e5e13c9bca1b440c9ffcfa7a31fc23e1": {
      "model_module": "@jupyter-widgets/base",
      "model_module_version": "1.2.0",
      "model_name": "LayoutModel",
      "state": {
       "width": "90px"
      }
     },
     "e5e67ec963824ac2a699441c5ba7ae38": {
      "model_module": "@jupyter-widgets/controls",
      "model_module_version": "1.5.0",
      "model_name": "FloatTextModel",
      "state": {
       "description": "density",
       "layout": "IPY_MODEL_719aaf9b70db451bb2afbc6e071094b0",
       "step": 0.05,
       "style": "IPY_MODEL_a3a83a650a9f464bb2e0e0adbf1f707d",
       "value": 0.6
      }
     },
     "e60f118164bf438f90627c885de4adcc": {
      "model_module": "@jupyter-widgets/base",
      "model_module_version": "1.2.0",
      "model_name": "LayoutModel",
      "state": {
       "width": "180px"
      }
     },
     "e63be80317cb42d88831b93e09daccf8": {
      "model_module": "@jupyter-widgets/controls",
      "model_module_version": "1.5.0",
      "model_name": "LabelModel",
      "state": {
       "layout": "IPY_MODEL_0873323eea8647019bea5fad0a8bc243",
       "style": "IPY_MODEL_ef4b95e57115404c927cbe7d5b690218",
       "value": "NVT const calc　"
      }
     },
     "e6566c9d615640898f5bbb46ed20c629": {
      "model_module": "@jupyter-widgets/base",
      "model_module_version": "1.2.0",
      "model_name": "LayoutModel",
      "state": {}
     },
     "e689107620b64d58ba23763268d7c82b": {
      "model_module": "@jupyter-widgets/controls",
      "model_module_version": "1.5.0",
      "model_name": "ButtonModel",
      "state": {
       "description": "vib read",
       "layout": "IPY_MODEL_508f2edcbcae4b38ab84b35497532c31",
       "style": "IPY_MODEL_40cef2e5fbeb44f69c09659c622f08fb"
      }
     },
     "e695a1f5ba6b47dc9d7e6b9ef8c856ef": {
      "model_module": "@jupyter-widgets/controls",
      "model_module_version": "1.5.0",
      "model_name": "HBoxModel",
      "state": {
       "children": [
        "IPY_MODEL_bba1b833b6424ba2b1a667eba17c447c",
        "IPY_MODEL_1ef9d373c71e46609c7aad857bf9d210",
        "IPY_MODEL_d40168a3a65d4838868d9b3da551407e"
       ],
       "layout": "IPY_MODEL_d1f47e4e49ba4f359bd2f6e384b4f86f"
      }
     },
     "e69cef3b4ef74ec0a28493e2c9b8073a": {
      "model_module": "@jupyter-widgets/controls",
      "model_module_version": "1.5.0",
      "model_name": "HBoxModel",
      "state": {
       "children": [
        "IPY_MODEL_acd183897dc8463c9b453a76dd884f3d",
        "IPY_MODEL_e8a5d527c9ad4bd89bba0041c7bff3a1",
        "IPY_MODEL_4635bb68538740fda1b4a7fe51ceb501"
       ],
       "layout": "IPY_MODEL_a57ff5fcdf8f46bbb82a268133e4f621"
      }
     },
     "e72edc135c71482eac0053195fba30d5": {
      "model_module": "@jupyter-widgets/controls",
      "model_module_version": "1.5.0",
      "model_name": "ButtonModel",
      "state": {
       "description": "repeat",
       "layout": "IPY_MODEL_0576782b79774de28cb1067ffe5fffb6",
       "style": "IPY_MODEL_ddf6a0a30c11406a821b4c59b24d9440"
      }
     },
     "e759453c1c544a91b9ec1cfe2f1d621b": {
      "model_module": "@jupyter-widgets/controls",
      "model_module_version": "1.5.0",
      "model_name": "ButtonStyleModel",
      "state": {}
     },
     "e7a8abeab32b4687843b890b5afd6dc0": {
      "model_module": "@jupyter-widgets/controls",
      "model_module_version": "1.5.0",
      "model_name": "ButtonStyleModel",
      "state": {}
     },
     "e7b78c7b71b74f329cfe865463cb702a": {
      "model_module": "@jupyter-widgets/base",
      "model_module_version": "1.2.0",
      "model_name": "LayoutModel",
      "state": {
       "height": "30px",
       "width": "50px"
      }
     },
     "e859daf01a004182a5a1a10c305e47e5": {
      "model_module": "@jupyter-widgets/controls",
      "model_module_version": "1.5.0",
      "model_name": "ButtonModel",
      "state": {
       "description": "view",
       "layout": "IPY_MODEL_cc1eb96397cb4de396dba7b4795ee484",
       "style": "IPY_MODEL_84bdcc9a6b1642a0b54741ce98023ba5"
      }
     },
     "e8a5d527c9ad4bd89bba0041c7bff3a1": {
      "model_module": "@jupyter-widgets/controls",
      "model_module_version": "1.5.0",
      "model_name": "DropdownModel",
      "state": {
       "_options_labels": [
        "<",
        ">="
       ],
       "index": 0,
       "layout": "IPY_MODEL_3d0251b0dc2f43c18c3593b5d919b345",
       "style": "IPY_MODEL_2f2c1ac495ca47beba2982eb41738e1e"
      }
     },
     "e90e7fc8c69540aeb5fcaafb8f0da565": {
      "model_module": "@jupyter-widgets/base",
      "model_module_version": "1.2.0",
      "model_name": "LayoutModel",
      "state": {
       "width": "180px"
      }
     },
     "e97408a982ab44a49a135df333bf1ccd": {
      "model_module": "@jupyter-widgets/base",
      "model_module_version": "1.2.0",
      "model_name": "LayoutModel",
      "state": {}
     },
     "e9b92bb0266d443abd6805bf87299f64": {
      "model_module": "@jupyter-widgets/base",
      "model_module_version": "1.2.0",
      "model_name": "LayoutModel",
      "state": {}
     },
     "e9fc7f6175aa460b97d418ef2a8b0e3b": {
      "model_module": "@jupyter-widgets/base",
      "model_module_version": "1.2.0",
      "model_name": "LayoutModel",
      "state": {
       "width": "240px"
      }
     },
     "ea80ce92662d490c93fb4dc7bd4537cd": {
      "model_module": "@jupyter-widgets/base",
      "model_module_version": "1.2.0",
      "model_name": "LayoutModel",
      "state": {
       "width": "100px"
      }
     },
     "eae5b26173a5443692757f6818cfd854": {
      "model_module": "@jupyter-widgets/controls",
      "model_module_version": "1.5.0",
      "model_name": "ButtonModel",
      "state": {
       "description": "Smaller",
       "layout": "IPY_MODEL_0c2389dbbbab41b29284ac4031bb5e53",
       "style": "IPY_MODEL_386b3a4723c54ecc91e799de78b5f9d9"
      }
     },
     "eb3a46a5625746e4924aa21d7251a095": {
      "model_module": "@jupyter-widgets/base",
      "model_module_version": "1.2.0",
      "model_name": "LayoutModel",
      "state": {}
     },
     "eb5fd648a31b4fa4ba7847cfa2e97713": {
      "model_module": "@jupyter-widgets/controls",
      "model_module_version": "1.5.0",
      "model_name": "ButtonModel",
      "state": {
       "description": "get conformers",
       "layout": "IPY_MODEL_1c06e2d3941b467cac3d3dd92f4b16be",
       "style": "IPY_MODEL_55ad5fd670524bb68b5ce9776b78f802"
      }
     },
     "ebe70503555a4781a175613e42fe77d8": {
      "model_module": "@jupyter-widgets/base",
      "model_module_version": "1.2.0",
      "model_name": "LayoutModel",
      "state": {
       "height": "30px",
       "width": "60px"
      }
     },
     "ec10af40dafa40ff9aa3459c17370fdb": {
      "model_module": "@jupyter-widgets/base",
      "model_module_version": "1.2.0",
      "model_name": "LayoutModel",
      "state": {
       "width": "35px"
      }
     },
     "ec887d53ca154c13ad3b71bf00023d4b": {
      "model_module": "@jupyter-widgets/base",
      "model_module_version": "1.2.0",
      "model_name": "LayoutModel",
      "state": {}
     },
     "eca623fc82ec4921ae452f1028c5b62e": {
      "model_module": "@jupyter-widgets/controls",
      "model_module_version": "1.5.0",
      "model_name": "FloatTextModel",
      "state": {
       "description": "temperature",
       "layout": "IPY_MODEL_26038ce3fd00474cbc9724300afe6ea5",
       "step": 10,
       "style": "IPY_MODEL_36f579bf56124ece8c8586cf2cdd003d",
       "value": 473
      }
     },
     "eccfd7a7913945adade6c151682ddd23": {
      "model_module": "@jupyter-widgets/controls",
      "model_module_version": "1.5.0",
      "model_name": "FloatTextModel",
      "state": {
       "description": "neb k",
       "layout": "IPY_MODEL_bfce43282a1143cb8b783d7778abf24f",
       "step": 0.05,
       "style": "IPY_MODEL_099bbd934dbd48a9befa683b0eb16044",
       "value": 0.1
      }
     },
     "ecf15df95a8a48a0b55de8875faf5b70": {
      "model_module": "@jupyter-widgets/controls",
      "model_module_version": "1.5.0",
      "model_name": "HBoxModel",
      "state": {
       "children": [
        "IPY_MODEL_0d3da6ca38db49709bb9e5be877b8b2a",
        "IPY_MODEL_14c96140077e423aa23ebd1bebc58a24",
        "IPY_MODEL_3432ef253b664820b17c7a24c13e91f2"
       ],
       "layout": "IPY_MODEL_8a8dbea431c244529d2a1cec547456b9"
      }
     },
     "ed3c297ff2cc44d391744af35a881bd6": {
      "model_module": "@jupyter-widgets/controls",
      "model_module_version": "1.5.0",
      "model_name": "LabelModel",
      "state": {
       "layout": "IPY_MODEL_cf0bc4b384d74cfdb6f35a068ff925e4",
       "style": "IPY_MODEL_1c2f6ccab0b84115b1356e00b2c3ab35",
       "value": "step"
      }
     },
     "ed75475e0a59461081b0c08a8da6b41e": {
      "model_module": "@jupyter-widgets/base",
      "model_module_version": "1.2.0",
      "model_name": "LayoutModel",
      "state": {
       "width": "150px"
      }
     },
     "ed933dad490f47478941a4e2e21b0bc6": {
      "model_module": "@jupyter-widgets/base",
      "model_module_version": "1.2.0",
      "model_name": "LayoutModel",
      "state": {}
     },
     "ee5a72d42512432a8a72abf95603b307": {
      "model_module": "@jupyter-widgets/base",
      "model_module_version": "1.2.0",
      "model_name": "LayoutModel",
      "state": {}
     },
     "ee7843488a204382ab90e3a19b646f2a": {
      "model_module": "@jupyter-widgets/controls",
      "model_module_version": "1.5.0",
      "model_name": "DescriptionStyleModel",
      "state": {
       "description_width": ""
      }
     },
     "eea8d0ed0376450c9ab097674c909cb0": {
      "model_module": "@jupyter-widgets/output",
      "model_module_version": "1.0.0",
      "model_name": "OutputModel",
      "state": {
       "layout": "IPY_MODEL_a02b836d072d425a9f3f2e355c65c262"
      }
     },
     "ef1319b97d1241e694295e04fa119d7c": {
      "model_module": "@jupyter-widgets/controls",
      "model_module_version": "1.5.0",
      "model_name": "ButtonStyleModel",
      "state": {}
     },
     "ef4b95e57115404c927cbe7d5b690218": {
      "model_module": "@jupyter-widgets/controls",
      "model_module_version": "1.5.0",
      "model_name": "DescriptionStyleModel",
      "state": {
       "description_width": ""
      }
     },
     "ef519148023647bb98b243241b237a36": {
      "model_module": "@jupyter-widgets/base",
      "model_module_version": "1.2.0",
      "model_name": "LayoutModel",
      "state": {
       "width": "130px"
      }
     },
     "ef570a7c899548fbb4e57c2d223bb62e": {
      "model_module": "@jupyter-widgets/base",
      "model_module_version": "1.2.0",
      "model_name": "LayoutModel",
      "state": {}
     },
     "ef652e1bd7f047cdb3362dbbd980ad27": {
      "model_module": "@jupyter-widgets/controls",
      "model_module_version": "1.5.0",
      "model_name": "DropdownModel",
      "state": {
       "_options_labels": [
        "0",
        "1",
        "2",
        "3",
        "4",
        "5",
        "6"
       ],
       "description": "#",
       "index": 6,
       "layout": "IPY_MODEL_cce6acd1b01f4c99a7dfc3b48bf836ba",
       "style": "IPY_MODEL_0bf81cb53bf54db28a2cd53b4dd1d418"
      }
     },
     "ef681dfbf3744f16b9ceb7ca958c3e5f": {
      "model_module": "@jupyter-widgets/base",
      "model_module_version": "1.2.0",
      "model_name": "LayoutModel",
      "state": {
       "width": "380px"
      }
     },
     "efa82c6ca35f4c1e8291757e685b9f6e": {
      "model_module": "@jupyter-widgets/controls",
      "model_module_version": "1.5.0",
      "model_name": "ButtonStyleModel",
      "state": {}
     },
     "f0da9bc487f4421ebd7ace82d81cd7df": {
      "model_module": "@jupyter-widgets/base",
      "model_module_version": "1.2.0",
      "model_name": "LayoutModel",
      "state": {}
     },
     "f12e7aecaf8c471c927d14887c066e09": {
      "model_module": "@jupyter-widgets/controls",
      "model_module_version": "1.5.0",
      "model_name": "DescriptionStyleModel",
      "state": {
       "description_width": ""
      }
     },
     "f13dbffa47104ffaa33498651e0ceea7": {
      "model_module": "@jupyter-widgets/controls",
      "model_module_version": "1.5.0",
      "model_name": "DescriptionStyleModel",
      "state": {
       "description_width": "80px"
      }
     },
     "f14d9b6393d14bd293b179a445b255e8": {
      "model_module": "@jupyter-widgets/base",
      "model_module_version": "1.2.0",
      "model_name": "LayoutModel",
      "state": {
       "width": "180px"
      }
     },
     "f1db1631ed0f4784a08c18b08fa2bfac": {
      "model_module": "@jupyter-widgets/controls",
      "model_module_version": "1.5.0",
      "model_name": "VBoxModel",
      "state": {
       "children": [
        "IPY_MODEL_5d9b3604939040878cb49604cea77796",
        "IPY_MODEL_9311f58c7d214334b15d4829d37542ec",
        "IPY_MODEL_19d6dc5c11af4f68a59c08b79a3a5d84"
       ],
       "layout": "IPY_MODEL_ca01c7d346874294ac62597779a2eb44"
      }
     },
     "f1ed497ff3d74ff89be023a98209b5fe": {
      "model_module": "@jupyter-widgets/base",
      "model_module_version": "1.2.0",
      "model_name": "LayoutModel",
      "state": {}
     },
     "f2826ab3e32e4022a1e914067380807b": {
      "model_module": "@jupyter-widgets/controls",
      "model_module_version": "1.5.0",
      "model_name": "DropdownModel",
      "state": {
       "_options_labels": [
        "0",
        "1",
        "2",
        "3",
        "4",
        "5"
       ],
       "description": "millerz",
       "index": 1,
       "layout": "IPY_MODEL_3f41a88ba1244e8f9c26aae0bc42fc2c",
       "style": "IPY_MODEL_ce1f362a9c554b5f87236d305f6d075a"
      }
     },
     "f300b34a6ac04c43b3f3b605a3fc03a7": {
      "model_module": "@jupyter-widgets/controls",
      "model_module_version": "1.5.0",
      "model_name": "FloatSliderModel",
      "state": {
       "description": "distance",
       "layout": "IPY_MODEL_f62281d0a0f54b8382638693ccef3ade",
       "max": 6,
       "min": 0.7,
       "step": 0.1,
       "style": "IPY_MODEL_c49cf33a305f4629902afa0e52f53c46",
       "value": 1.6
      }
     },
     "f3d11f2552ec49c8912c318156ed6af4": {
      "model_module": "@jupyter-widgets/controls",
      "model_module_version": "1.5.0",
      "model_name": "SliderStyleModel",
      "state": {
       "description_width": ""
      }
     },
     "f43d5ff869e04f2ea1d4cecb656ba258": {
      "model_module": "@jupyter-widgets/controls",
      "model_module_version": "1.5.0",
      "model_name": "IntTextModel",
      "state": {
       "description": "a0",
       "layout": "IPY_MODEL_2d08142830c644c482f45b4661a3024e",
       "step": 1,
       "style": "IPY_MODEL_18d17c9dec0d47a28896783c5766b402"
      }
     },
     "f4dc7c2cc5984ef1a5a474a1a627f7a9": {
      "model_module": "@jupyter-widgets/base",
      "model_module_version": "1.2.0",
      "model_name": "LayoutModel",
      "state": {}
     },
     "f4ef32b2dec24952aafd30875c51eeda": {
      "model_module": "@jupyter-widgets/output",
      "model_module_version": "1.0.0",
      "model_name": "OutputModel",
      "state": {
       "layout": "IPY_MODEL_54619d7a954e49048a890abb9def83f7",
       "outputs": [
        {
         "data": {
          "text/html": "<div>\n<style scoped>\n    .dataframe tbody tr th:only-of-type {\n        vertical-align: middle;\n    }\n\n    .dataframe tbody tr th {\n        vertical-align: top;\n    }\n\n    .dataframe thead th {\n        text-align: right;\n    }\n</style>\n<table border=\"1\" class=\"dataframe\">\n  <thead>\n    <tr style=\"text-align: right;\">\n      <th></th>\n      <th>material_id</th>\n      <th>pretty_formula</th>\n      <th>energy</th>\n      <th>e_above_hull</th>\n    </tr>\n  </thead>\n  <tbody>\n    <tr>\n      <th>0</th>\n      <td>mp-13</td>\n      <td>Fe</td>\n      <td>-8.4700</td>\n      <td>0.0000</td>\n    </tr>\n    <tr>\n      <th>1</th>\n      <td>mp-136</td>\n      <td>Fe</td>\n      <td>-16.7444</td>\n      <td>0.0978</td>\n    </tr>\n    <tr>\n      <th>2</th>\n      <td>mp-150</td>\n      <td>Fe</td>\n      <td>-8.3217</td>\n      <td>0.1484</td>\n    </tr>\n    <tr>\n      <th>3</th>\n      <td>mp-1456</td>\n      <td>Fe2O3</td>\n      <td>-1060.7866</td>\n      <td>0.1194</td>\n    </tr>\n    <tr>\n      <th>4</th>\n      <td>mp-12957</td>\n      <td>O2</td>\n      <td>-39.5837</td>\n      <td>0.0000</td>\n    </tr>\n    <tr>\n      <th>5</th>\n      <td>mp-18731</td>\n      <td>Fe3O4</td>\n      <td>-92.8884</td>\n      <td>0.1057</td>\n    </tr>\n    <tr>\n      <th>6</th>\n      <td>mp-19306</td>\n      <td>Fe3O4</td>\n      <td>-94.1860</td>\n      <td>0.0131</td>\n    </tr>\n  </tbody>\n</table>\n</div>",
          "text/plain": "  material_id pretty_formula     energy  e_above_hull\n0       mp-13             Fe    -8.4700        0.0000\n1      mp-136             Fe   -16.7444        0.0978\n2      mp-150             Fe    -8.3217        0.1484\n3     mp-1456          Fe2O3 -1060.7866        0.1194\n4    mp-12957             O2   -39.5837        0.0000\n5    mp-18731          Fe3O4   -92.8884        0.1057\n6    mp-19306          Fe3O4   -94.1860        0.0131"
         },
         "metadata": {},
         "output_type": "display_data"
        }
       ]
      }
     },
     "f58e941df2634ab0961349068c2c5118": {
      "model_module": "@jupyter-widgets/controls",
      "model_module_version": "1.5.0",
      "model_name": "ButtonStyleModel",
      "state": {}
     },
     "f5b950b53a634bceb3972e1ed36e76f7": {
      "model_module": "@jupyter-widgets/controls",
      "model_module_version": "1.5.0",
      "model_name": "ButtonModel",
      "state": {
       "description": "vib run",
       "layout": "IPY_MODEL_cd99262203a241ed9bb3d3587ffdda3d",
       "style": "IPY_MODEL_7b91754f0a7945ae8144eb1b9ab41fe1"
      }
     },
     "f5c13c60030b4c10ae88a892a36fcdfa": {
      "model_module": "@jupyter-widgets/controls",
      "model_module_version": "1.5.0",
      "model_name": "DropdownModel",
      "state": {
       "_options_labels": [
        "<",
        ">="
       ],
       "index": 0,
       "layout": "IPY_MODEL_cfc62dfabe37458e94005222ce8c3a27",
       "style": "IPY_MODEL_723dc790652048e7876d9dc4b059429d"
      }
     },
     "f62281d0a0f54b8382638693ccef3ade": {
      "model_module": "@jupyter-widgets/base",
      "model_module_version": "1.2.0",
      "model_name": "LayoutModel",
      "state": {}
     },
     "f64ef2ad6a644d3e82a0d34d5a3ed34d": {
      "model_module": "@jupyter-widgets/controls",
      "model_module_version": "1.5.0",
      "model_name": "FloatSliderModel",
      "state": {
       "layout": "IPY_MODEL_99ce5f51fa9148b18759793b5af41a58",
       "readout_format": ".1f",
       "step": 0.1,
       "style": "IPY_MODEL_b4ee5529d4744dc298dcb05c6bddaf41",
       "value": 5
      }
     },
     "f6a4965374434d5196464067e82987b3": {
      "model_module": "@jupyter-widgets/controls",
      "model_module_version": "1.5.0",
      "model_name": "LabelModel",
      "state": {
       "layout": "IPY_MODEL_10220ea3aea64bd6b3c4d73f0869beb0",
       "style": "IPY_MODEL_c5ae770e595548f7bdbc89d718f827dc",
       "value": "Move Atoms indices"
      }
     },
     "f6b78b4c7cd84ec79f911c1c15c0b4b0": {
      "model_module": "@jupyter-widgets/controls",
      "model_module_version": "1.5.0",
      "model_name": "ButtonStyleModel",
      "state": {}
     },
     "f6b99bb2ab6d446097c646071cd543da": {
      "model_module": "@jupyter-widgets/base",
      "model_module_version": "1.2.0",
      "model_name": "LayoutModel",
      "state": {}
     },
     "f7725e4de9534f06b48c6eff6f67ce0e": {
      "model_module": "@jupyter-widgets/base",
      "model_module_version": "1.2.0",
      "model_name": "LayoutModel",
      "state": {
       "height": "40px",
       "width": "370px"
      }
     },
     "f7ae47e2fac64f6e9b6485e95df2493f": {
      "model_module": "@jupyter-widgets/controls",
      "model_module_version": "1.5.0",
      "model_name": "FloatTextModel",
      "state": {
       "description": "mult",
       "layout": "IPY_MODEL_a0e601183be14f879cfa3cf47339774d",
       "step": 0.05,
       "style": "IPY_MODEL_452b1787532c4db1b0abcc4d8b4d03c1",
       "value": 1
      }
     },
     "f84107dd55734f7997517e732c66f3e8": {
      "model_module": "@jupyter-widgets/controls",
      "model_module_version": "1.5.0",
      "model_name": "IntTextModel",
      "state": {
       "description": "B#",
       "layout": "IPY_MODEL_fe5e36241d164fb7a0abad84a54df140",
       "step": 1,
       "style": "IPY_MODEL_1b0fdffdadeb4ea2ad3353408738be18"
      }
     },
     "f8ac2502c80f4d1c9a1d144948ead4a5": {
      "model_module": "@jupyter-widgets/controls",
      "model_module_version": "1.5.0",
      "model_name": "DescriptionStyleModel",
      "state": {
       "description_width": ""
      }
     },
     "f9212be305594274aa15fd587c8b329c": {
      "model_module": "@jupyter-widgets/controls",
      "model_module_version": "1.5.0",
      "model_name": "IntTextModel",
      "state": {
       "description": "*N",
       "layout": "IPY_MODEL_1ca0eb3ae5aa45179d28e1cc98ceb121",
       "step": 1,
       "style": "IPY_MODEL_6762d3fef09b4ee9b8a8ed6fc42ca3d7"
      }
     },
     "f9e7a8897a804f1ea8fad57d5506003c": {
      "model_module": "@jupyter-widgets/controls",
      "model_module_version": "1.5.0",
      "model_name": "HBoxModel",
      "state": {
       "children": [
        "IPY_MODEL_288cfa7039a64da289e5cdeddfa44d41",
        "IPY_MODEL_be0e0ec58f044cb3899d94d3172838a5"
       ],
       "layout": "IPY_MODEL_ac47a1a13cfe452996c87fe021adff3b"
      }
     },
     "f9fcf24ee9084681aaef749fb6398101": {
      "model_module": "@jupyter-widgets/base",
      "model_module_version": "1.2.0",
      "model_name": "LayoutModel",
      "state": {
       "width": "80px"
      }
     },
     "fa0f334472c340b68f905faa610acf82": {
      "model_module": "@jupyter-widgets/controls",
      "model_module_version": "1.5.0",
      "model_name": "CheckboxModel",
      "state": {
       "description": "pbc",
       "disabled": false,
       "indent": false,
       "layout": "IPY_MODEL_d3c0ca9486014fcead6463346a102316",
       "style": "IPY_MODEL_d313e9af97254277bf49820e91be74f9",
       "value": true
      }
     },
     "fa41cfc95a8144ac92e7904e61fbe960": {
      "model_module": "@jupyter-widgets/base",
      "model_module_version": "1.2.0",
      "model_name": "LayoutModel",
      "state": {
       "width": "385px"
      }
     },
     "fa5f3c8ff7b34958a5afb6de8b5e0e36": {
      "model_module": "@jupyter-widgets/controls",
      "model_module_version": "1.5.0",
      "model_name": "ButtonStyleModel",
      "state": {}
     },
     "fa6269825eed4249b656351880ad8183": {
      "model_module": "@jupyter-widgets/controls",
      "model_module_version": "1.5.0",
      "model_name": "LabelModel",
      "state": {
       "layout": "IPY_MODEL_14c782d1a9044c7ea56ef93c9b6d6720",
       "style": "IPY_MODEL_596b48e4213444f5829f671418407913",
       "value": "Attach Atoms A and B with distance atom A[a] and B[b]."
      }
     },
     "fabb051a91664b449a0e8e2a828b05ed": {
      "model_module": "@jupyter-widgets/controls",
      "model_module_version": "1.5.0",
      "model_name": "ButtonStyleModel",
      "state": {}
     },
     "fb7dc859b03145c38abe747acf8d044e": {
      "model_module": "@jupyter-widgets/controls",
      "model_module_version": "1.5.0",
      "model_name": "TextModel",
      "state": {
       "layout": "IPY_MODEL_e4e29eb72b08442b86a21bc2555b1982",
       "style": "IPY_MODEL_31c7aa5626a34824b08fcdf3b3b76e7a",
       "value": "H"
      }
     },
     "fbf7065b010c46ec9fcd54253c5da1a0": {
      "model_module": "@jupyter-widgets/controls",
      "model_module_version": "1.5.0",
      "model_name": "LinkModel",
      "state": {
       "source": [
        "IPY_MODEL_2849d15bdde0473397102ef2cc24186e",
        "max"
       ],
       "target": [
        "IPY_MODEL_8e7529eef7ca4a17a4539b5fa96216d1",
        "max_frame"
       ]
      }
     },
     "fc3c51fd6d064eadb3148b78f81599d4": {
      "model_module": "@jupyter-widgets/controls",
      "model_module_version": "1.5.0",
      "model_name": "LabelModel",
      "state": {
       "layout": "IPY_MODEL_94b56dcba23c47528ca14d6adbf064fc",
       "style": "IPY_MODEL_cc85defb371543bc91129ca87335bb54",
       "value": "background"
      }
     },
     "fc4a10b6e7b94f13aefaab67faee17a3": {
      "model_module": "@jupyter-widgets/controls",
      "model_module_version": "1.5.0",
      "model_name": "HBoxModel",
      "state": {
       "children": [
        "IPY_MODEL_489af171159e4e6085cefe3510b2d025",
        "IPY_MODEL_421fea302e244eb6a41eb33bd05547f8"
       ],
       "layout": "IPY_MODEL_332fa541750c44a38b7422705b6b9fd6"
      }
     },
     "fcbbdba2c60741bfb53abf2f0ad488e2": {
      "model_module": "@jupyter-widgets/controls",
      "model_module_version": "1.5.0",
      "model_name": "ButtonModel",
      "state": {
       "description": "set dis",
       "layout": "IPY_MODEL_30135f0a73534d55a8f9e72b279235b0",
       "style": "IPY_MODEL_7c530e87505041cfaf363e0d9413af6c"
      }
     },
     "fd19a3bee94d47f38bbe4a3e048246cf": {
      "model_module": "@jupyter-widgets/base",
      "model_module_version": "1.2.0",
      "model_name": "LayoutModel",
      "state": {}
     },
     "fdad7e70777b4914809b09b7fc900cab": {
      "model_module": "@jupyter-widgets/controls",
      "model_module_version": "1.5.0",
      "model_name": "DescriptionStyleModel",
      "state": {
       "description_width": "35px"
      }
     },
     "fe333a79dc854a7093dd7c526ba602d3": {
      "model_module": "@jupyter-widgets/base",
      "model_module_version": "1.2.0",
      "model_name": "LayoutModel",
      "state": {}
     },
     "fe5e36241d164fb7a0abad84a54df140": {
      "model_module": "@jupyter-widgets/base",
      "model_module_version": "1.2.0",
      "model_name": "LayoutModel",
      "state": {
       "width": "170px"
      }
     },
     "fe7f83b3a6554070a15f8de3abb19ffe": {
      "model_module": "@jupyter-widgets/base",
      "model_module_version": "1.2.0",
      "model_name": "LayoutModel",
      "state": {}
     },
     "fec84d651e6f48e4bcd06b53b2300331": {
      "model_module": "@jupyter-widgets/controls",
      "model_module_version": "1.5.0",
      "model_name": "HBoxModel",
      "state": {
       "children": [
        "IPY_MODEL_4d150169c5004c158a7030c40b3aa623",
        "IPY_MODEL_bd340e7ef24f4734a565be223d9b566e"
       ],
       "layout": "IPY_MODEL_c44212bac85649b6b2654670f9974bba"
      }
     },
     "feef06e042b1428dbca273635d1d77da": {
      "model_module": "@jupyter-widgets/controls",
      "model_module_version": "1.5.0",
      "model_name": "VBoxModel",
      "state": {
       "children": [
        "IPY_MODEL_c6fa99009e3e4ca58b2b1ced958a23f1",
        "IPY_MODEL_30dc00def9df4664a167cde1759802c1",
        "IPY_MODEL_20a6b920e1fd46a589027ba83ee2c8f6",
        "IPY_MODEL_847b1bc066054cf685e228f6ed74e2fc",
        "IPY_MODEL_29b4834271ae4be69d78e49f1ccd7412",
        "IPY_MODEL_386afd9cc8974874af48b507f749d71e",
        "IPY_MODEL_1323dc2f08054c61bfc21a522ee76204"
       ],
       "layout": "IPY_MODEL_142395ab38b442eb9a3f4688c41dfec5"
      }
     },
     "fef7a63af56a4094b2aefe5f5889de20": {
      "model_module": "@jupyter-widgets/controls",
      "model_module_version": "1.5.0",
      "model_name": "DescriptionStyleModel",
      "state": {
       "description_width": "30px"
      }
     },
     "fffad1172786455aa48e732b51a2d179": {
      "model_module": "@jupyter-widgets/controls",
      "model_module_version": "1.5.0",
      "model_name": "ColorPickerModel",
      "state": {
       "description": "APP back",
       "disabled": false,
       "layout": "IPY_MODEL_71ad1f7d55a54bb689f6ccd4f3df9693",
       "style": "IPY_MODEL_4fd0c54f726a43b9b0f32311e47e7fd4",
       "value": "#3399AA"
      }
     }
    },
    "version_major": 2,
    "version_minor": 0
   }
  }
 },
 "nbformat": 4,
 "nbformat_minor": 5
}
