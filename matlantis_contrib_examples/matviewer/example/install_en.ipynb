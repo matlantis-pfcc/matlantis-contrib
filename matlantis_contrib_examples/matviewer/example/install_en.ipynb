{
 "cells": [
  {
   "cell_type": "markdown",
   "id": "9490edfe-54b9-46ed-b69b-3a21f991515d",
   "metadata": {},
   "source": [
    "Copyright ENEOS, Corp. and  Preferred Computational Chemistry as contributors to Matlantis contrib project\n",
    "\n",
    "This document has been machine translated from Japanese to English.\n",
    "\n",
    "# How to install matviewer\n",
    "\n",
    "execute below commands. 　(Python3.8 or 3.9)"
   ]
  },
  {
   "cell_type": "markdown",
   "id": "d3f0acea-47a9-40a8-955b-a1f6242d6287",
   "metadata": {},
   "source": [
    "Installation of pfcc-extras\n",
    "- Please install `pfcc-extras` from the Package Launcher within Matlantis.\n",
    "\n",
    "Installation of JSME... Can be executed in the cell below\n",
    "- JSME is a BSD licensed software that enables drawing of molecular structures without server communication.\n",
    "\n",
    "Installation of autodE... Can be executed in the cell below\n",
    "- We use the `autode` package for the conversion from SMILES to ASE Atoms."
   ]
  },
  {
   "cell_type": "code",
   "execution_count": null,
   "id": "657baba3-b9af-413b-a94c-f9e481629b31",
   "metadata": {},
   "outputs": [],
   "source": [
    "#JSME is a BSD licensed software that can draw molecular structures without server communication and is also used by J-GLOBAL. (https://jsme-editor.github.io/)\n",
    "!git clone https://github.com/jsme-editor/jsme-editor.github.io.git\n",
    "# Change from \"master\" branch to \"2022-02-26\" release\n",
    "!cd jsme-editor.github.io && git reset --hard 198ef9be65dd1e05846affff7a2dee17de3e267b\n",
    "!mkdir -p ../matviewer/data/jsme/\n",
    "!cp -r ./jsme-editor.github.io/dist/jsme/* ../matviewer/data/jsme/\n",
    "!rm -rf ./jsme-editor.github.io\n",
    "#autodE is used to create molecular structures from smiles.\n",
    "!pip install git+https://github.com/duartegroup/autodE.git"
   ]
  },
  {
   "cell_type": "code",
   "execution_count": null,
   "id": "c9289852-ea55-4ba7-9535-38ac56fad25d",
   "metadata": {
    "tags": []
   },
   "outputs": [],
   "source": [
    "!pip install -e .. # To enable import from other folders\n",
    "!pip install 'ase>=3.23.0'"
   ]
  },
  {
   "cell_type": "markdown",
   "id": "e3ba46e6-ae9c-46e3-aee8-80e362265caf",
   "metadata": {
    "tags": []
   },
   "source": [
    "## Check install\n",
    "**Please restart this kernel before executing following cells.**<br>\n",
    "It is correctly installed when version is printed."
   ]
  },
  {
   "cell_type": "code",
   "execution_count": null,
   "id": "378657e5-b730-4dc7-90f4-14c8973be6f2",
   "metadata": {},
   "outputs": [],
   "source": [
    "import matviewer\n",
    "print(\"matviewer version: \", matviewer.__version__)"
   ]
  },
  {
   "cell_type": "markdown",
   "id": "53fd3548-0529-45d5-87f9-6eb66483d2c7",
   "metadata": {
    "tags": []
   },
   "source": [
    "##  For uninstall\n"
   ]
  },
  {
   "cell_type": "code",
   "execution_count": null,
   "id": "6cbe264d-ce36-43db-8fa6-7f8c56997a0d",
   "metadata": {},
   "outputs": [],
   "source": [
    "#!pip uninstall matviewer -y"
   ]
  }
 ],
 "metadata": {
  "kernelspec": {
   "display_name": "Python 3.9",
   "language": "python",
   "name": "python39"
  },
  "language_info": {
   "codemirror_mode": {
    "name": "ipython",
    "version": 3
   },
   "file_extension": ".py",
   "mimetype": "text/x-python",
   "name": "python",
   "nbconvert_exporter": "python",
   "pygments_lexer": "ipython3",
   "version": "3.9.16"
  },
  "widgets": {
   "application/vnd.jupyter.widget-state+json": {
    "state": {},
    "version_major": 2,
    "version_minor": 0
   }
  }
 },
 "nbformat": 4,
 "nbformat_minor": 5
}
