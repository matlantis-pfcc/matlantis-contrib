{
 "cells": [
  {
   "cell_type": "markdown",
   "id": "ef308325-9995-4fb3-b18a-3cf99aae0e0f",
   "metadata": {},
   "source": [
    "Copyright Preferred Computational Chemistry, Inc. as contributors to Matlantis contrib project\n",
    "\n",
    "# MD Li diffusion in LGPS\n",
    "\n",
    "This example shows Li diffusion analysis using MD (Molecular Dynamics) on Matlantis.<br/>\n",
    "The detail can be found in:\n",
    " - https://matlantis.com/calculation/li-diffusion-in-li10gep2s12-sulfide-solid-electrolyte"
   ]
  },
  {
   "cell_type": "markdown",
   "id": "86749d30-6b58-47e8-b76d-50e8c0dba303",
   "metadata": {},
   "source": [
    "## Setup\n",
    "\n",
    "Install necessary library, import modules, and define utility methods."
   ]
  },
  {
   "cell_type": "code",
   "execution_count": 1,
   "id": "c31caf64-53f5-4a78-8c8e-f012153399a1",
   "metadata": {},
   "outputs": [
    {
     "name": "stdout",
     "output_type": "stream",
     "text": [
      "Defaulting to user installation because normal site-packages is not writeable\n",
      "Looking in indexes: https://pypi.matlantis-common.svc:8080/simple\n",
      "Requirement already satisfied: pfp_api_client in /home/jovyan/.local/lib/python3.7/site-packages (1.2.2)\n",
      "Requirement already satisfied: ase<4.0.0,>=3.21.1 in /home/jovyan/.local/lib/python3.7/site-packages (from pfp_api_client) (3.22.1)\n",
      "Requirement already satisfied: protobuf<4.0.0,>=3.14.0 in /home/jovyan/.local/lib/python3.7/site-packages (from pfp_api_client) (3.17.3)\n",
      "Requirement already satisfied: numpy==1.20.3 in /home/jovyan/.local/lib/python3.7/site-packages (from pfp_api_client) (1.20.3)\n",
      "Requirement already satisfied: grpcio<2.0.0,>=1.35.0 in /home/jovyan/.local/lib/python3.7/site-packages (from pfp_api_client) (1.38.1)\n",
      "Requirement already satisfied: scipy>=1.1.0 in /home/jovyan/.local/lib/python3.7/site-packages (from ase<4.0.0,>=3.21.1->pfp_api_client) (1.7.0)\n",
      "Requirement already satisfied: matplotlib>=3.1.0 in /home/jovyan/.local/lib/python3.7/site-packages (from ase<4.0.0,>=3.21.1->pfp_api_client) (3.4.2)\n",
      "Requirement already satisfied: six>=1.5.2 in /usr/local/pyenv/versions/3.7.13/envs/python37/lib/python3.7/site-packages (from grpcio<2.0.0,>=1.35.0->pfp_api_client) (1.16.0)\n",
      "Requirement already satisfied: cycler>=0.10 in /home/jovyan/.local/lib/python3.7/site-packages (from matplotlib>=3.1.0->ase<4.0.0,>=3.21.1->pfp_api_client) (0.10.0)\n",
      "Requirement already satisfied: python-dateutil>=2.7 in /usr/local/pyenv/versions/3.7.13/envs/python37/lib/python3.7/site-packages (from matplotlib>=3.1.0->ase<4.0.0,>=3.21.1->pfp_api_client) (2.8.2)\n",
      "Requirement already satisfied: kiwisolver>=1.0.1 in /home/jovyan/.local/lib/python3.7/site-packages (from matplotlib>=3.1.0->ase<4.0.0,>=3.21.1->pfp_api_client) (1.3.1)\n",
      "Requirement already satisfied: pillow>=6.2.0 in /home/jovyan/.local/lib/python3.7/site-packages (from matplotlib>=3.1.0->ase<4.0.0,>=3.21.1->pfp_api_client) (8.3.1)\n",
      "Requirement already satisfied: pyparsing>=2.2.1 in /usr/local/pyenv/versions/3.7.13/envs/python37/lib/python3.7/site-packages (from matplotlib>=3.1.0->ase<4.0.0,>=3.21.1->pfp_api_client) (3.0.8)\n",
      "Defaulting to user installation because normal site-packages is not writeable\n",
      "Looking in indexes: https://pypi.matlantis-common.svc:8080/simple\n",
      "Requirement already satisfied: pandas in /home/jovyan/.local/lib/python3.7/site-packages (1.3.3)\n",
      "Requirement already satisfied: tqdm in /home/jovyan/.local/lib/python3.7/site-packages (4.62.2)\n",
      "Requirement already satisfied: matplotlib in /home/jovyan/.local/lib/python3.7/site-packages (3.4.2)\n",
      "Requirement already satisfied: seaborn in /home/jovyan/.local/lib/python3.7/site-packages (0.11.2)\n",
      "Requirement already satisfied: optuna in /home/jovyan/.local/lib/python3.7/site-packages (2.9.1)\n",
      "Requirement already satisfied: sklearn in /home/jovyan/.local/lib/python3.7/site-packages (0.0)\n",
      "Requirement already satisfied: ase in /home/jovyan/.local/lib/python3.7/site-packages (3.22.1)\n",
      "Requirement already satisfied: numpy>=1.17.3 in /home/jovyan/.local/lib/python3.7/site-packages (from pandas) (1.20.3)\n",
      "Requirement already satisfied: pytz>=2017.3 in /home/jovyan/.local/lib/python3.7/site-packages (from pandas) (2021.1)\n",
      "Requirement already satisfied: python-dateutil>=2.7.3 in /usr/local/pyenv/versions/3.7.13/envs/python37/lib/python3.7/site-packages (from pandas) (2.8.2)\n",
      "Requirement already satisfied: pyparsing>=2.2.1 in /usr/local/pyenv/versions/3.7.13/envs/python37/lib/python3.7/site-packages (from matplotlib) (3.0.8)\n",
      "Requirement already satisfied: cycler>=0.10 in /home/jovyan/.local/lib/python3.7/site-packages (from matplotlib) (0.10.0)\n",
      "Requirement already satisfied: kiwisolver>=1.0.1 in /home/jovyan/.local/lib/python3.7/site-packages (from matplotlib) (1.3.1)\n",
      "Requirement already satisfied: pillow>=6.2.0 in /home/jovyan/.local/lib/python3.7/site-packages (from matplotlib) (8.3.1)\n",
      "Requirement already satisfied: scipy>=1.0 in /home/jovyan/.local/lib/python3.7/site-packages (from seaborn) (1.7.0)\n",
      "Requirement already satisfied: colorlog in /home/jovyan/.local/lib/python3.7/site-packages (from optuna) (6.4.1)\n",
      "Requirement already satisfied: PyYAML in /home/jovyan/.local/lib/python3.7/site-packages (from optuna) (5.4.1)\n",
      "Requirement already satisfied: cliff in /home/jovyan/.local/lib/python3.7/site-packages (from optuna) (3.9.0)\n",
      "Requirement already satisfied: sqlalchemy>=1.1.0 in /home/jovyan/.local/lib/python3.7/site-packages (from optuna) (1.4.25)\n",
      "Requirement already satisfied: packaging>=20.0 in /usr/local/pyenv/versions/3.7.13/envs/python37/lib/python3.7/site-packages (from optuna) (21.3)\n",
      "Requirement already satisfied: cmaes>=0.8.2 in /home/jovyan/.local/lib/python3.7/site-packages (from optuna) (0.8.2)\n",
      "Requirement already satisfied: alembic in /home/jovyan/.local/lib/python3.7/site-packages (from optuna) (1.7.3)\n",
      "Requirement already satisfied: scikit-learn in /home/jovyan/.local/lib/python3.7/site-packages (from sklearn) (1.0)\n",
      "Requirement already satisfied: six in /usr/local/pyenv/versions/3.7.13/envs/python37/lib/python3.7/site-packages (from cycler>=0.10->matplotlib) (1.16.0)\n",
      "Requirement already satisfied: greenlet!=0.4.17 in /home/jovyan/.local/lib/python3.7/site-packages (from sqlalchemy>=1.1.0->optuna) (1.1.1)\n",
      "Requirement already satisfied: importlib-metadata in /usr/local/pyenv/versions/3.7.13/envs/python37/lib/python3.7/site-packages (from sqlalchemy>=1.1.0->optuna) (4.11.3)\n",
      "Requirement already satisfied: importlib-resources in /home/jovyan/.local/lib/python3.7/site-packages (from alembic->optuna) (5.2.2)\n",
      "Requirement already satisfied: Mako in /home/jovyan/.local/lib/python3.7/site-packages (from alembic->optuna) (1.1.5)\n",
      "Requirement already satisfied: pbr!=2.1.0,>=2.0.0 in /home/jovyan/.local/lib/python3.7/site-packages (from cliff->optuna) (5.6.0)\n",
      "Requirement already satisfied: stevedore>=2.0.1 in /home/jovyan/.local/lib/python3.7/site-packages (from cliff->optuna) (3.4.0)\n",
      "Requirement already satisfied: PrettyTable>=0.7.2 in /home/jovyan/.local/lib/python3.7/site-packages (from cliff->optuna) (2.2.1)\n",
      "Requirement already satisfied: cmd2>=1.0.0 in /home/jovyan/.local/lib/python3.7/site-packages (from cliff->optuna) (2.2.0)\n",
      "Requirement already satisfied: autopage>=0.4.0 in /home/jovyan/.local/lib/python3.7/site-packages (from cliff->optuna) (0.4.0)\n",
      "Requirement already satisfied: threadpoolctl>=2.0.0 in /home/jovyan/.local/lib/python3.7/site-packages (from scikit-learn->sklearn) (2.2.0)\n",
      "Requirement already satisfied: joblib>=0.11 in /home/jovyan/.local/lib/python3.7/site-packages (from scikit-learn->sklearn) (1.1.0)\n",
      "Requirement already satisfied: typing-extensions in /home/jovyan/.local/lib/python3.7/site-packages (from cmd2>=1.0.0->cliff->optuna) (3.10.0.2)\n",
      "Requirement already satisfied: wcwidth>=0.1.7 in /usr/local/pyenv/versions/3.7.13/envs/python37/lib/python3.7/site-packages (from cmd2>=1.0.0->cliff->optuna) (0.2.5)\n",
      "Requirement already satisfied: pyperclip>=1.6 in /home/jovyan/.local/lib/python3.7/site-packages (from cmd2>=1.0.0->cliff->optuna) (1.8.2)\n",
      "Requirement already satisfied: attrs>=16.3.0 in /usr/local/pyenv/versions/3.7.13/envs/python37/lib/python3.7/site-packages (from cmd2>=1.0.0->cliff->optuna) (21.4.0)\n",
      "Requirement already satisfied: colorama>=0.3.7 in /home/jovyan/.local/lib/python3.7/site-packages (from cmd2>=1.0.0->cliff->optuna) (0.4.4)\n",
      "Requirement already satisfied: zipp>=0.5 in /usr/local/pyenv/versions/3.7.13/envs/python37/lib/python3.7/site-packages (from importlib-metadata->sqlalchemy>=1.1.0->optuna) (3.8.0)\n",
      "Requirement already satisfied: MarkupSafe>=0.9.2 in /usr/local/pyenv/versions/3.7.13/envs/python37/lib/python3.7/site-packages (from Mako->alembic->optuna) (2.1.1)\n"
     ]
    }
   ],
   "source": [
    "# Please install these libraries only for first time of execution\n",
    "!pip install pfp_api_client\n",
    "!pip install pandas tqdm matplotlib seaborn optuna sklearn ase"
   ]
  },
  {
   "cell_type": "code",
   "execution_count": 2,
   "id": "2cc9645e-26ec-49dc-9a43-abc7a7826415",
   "metadata": {},
   "outputs": [],
   "source": [
    "import pathlib\n",
    "EXAMPLE_DIR = pathlib.Path(\"__file__\").resolve().parent\n",
    "INPUT_DIR = EXAMPLE_DIR / \"input\"\n",
    "OUTPUT_DIR = EXAMPLE_DIR / \"output\"\n",
    "OUTPUT_DIR.mkdir(exist_ok=True)"
   ]
  },
  {
   "cell_type": "code",
   "execution_count": 3,
   "id": "a02262e3-7525-436a-b6d9-3969a52bbe64",
   "metadata": {},
   "outputs": [
    {
     "data": {
      "application/vnd.jupyter.widget-view+json": {
       "model_id": "6097aeb71f654a6e87a55217bb285e9b",
       "version_major": 2,
       "version_minor": 0
      },
      "text/plain": []
     },
     "metadata": {},
     "output_type": "display_data"
    }
   ],
   "source": [
    "# common modules\n",
    "import numpy as np\n",
    "import pandas as pd\n",
    "from tqdm import tqdm_notebook as tqdm\n",
    "from IPython.display import Image, display_png\n",
    "import ipywidgets as widgets\n",
    "import matplotlib as mpl\n",
    "import matplotlib.pyplot as plt\n",
    "from mpl_toolkits.mplot3d import Axes3D\n",
    "from matplotlib.widgets import Slider\n",
    "from matplotlib.animation import PillowWriter\n",
    "import seaborn as sns\n",
    "import math\n",
    "import optuna\n",
    "import nglview as nv\n",
    "import os,sys,csv,glob,shutil,re,time\n",
    "from time import perf_counter\n",
    "from joblib import Parallel, delayed\n",
    "\n",
    "# sklearn\n",
    "from sklearn.metrics import mean_absolute_error\n",
    "\n",
    "import ase\n",
    "from ase.visualize import view\n",
    "from ase.optimize import BFGS\n",
    "from ase.constraints import FixAtoms, FixedPlane, FixBondLength, ExpCellFilter\n",
    "\n",
    "from ase.md.velocitydistribution import MaxwellBoltzmannDistribution, Stationary\n",
    "from ase.md.verlet import VelocityVerlet\n",
    "from ase.md.langevin import Langevin\n",
    "from ase.md import MDLogger\n",
    "from ase import Atoms\n",
    "from ase.io import read, write\n",
    "from ase.io import Trajectory\n",
    "from ase import units\n",
    "\n",
    "from pfp_api_client.pfp.calculators.ase_calculator import ASECalculator\n",
    "from pfp_api_client.pfp.estimator import Estimator, EstimatorCalcMode\n",
    "\n",
    "estimator = Estimator(model_version=\"v2.0.0\", calc_mode=EstimatorCalcMode.CRYSTAL)\n",
    "calculator = ASECalculator(estimator)"
   ]
  },
  {
   "cell_type": "code",
   "execution_count": 4,
   "id": "3563c107-6f42-4d70-b729-320a5364c390",
   "metadata": {},
   "outputs": [],
   "source": [
    "def myopt(m,sn = 10,constraintatoms=[],cbonds=[]):\n",
    "    fa = FixAtoms(indices=constraintatoms)\n",
    "    fb = FixBondLengths(cbonds,tolerance=1e-5,)\n",
    "    m.set_constraint([fa,fb])\n",
    "    m.set_calculator(calculator)\n",
    "    maxf = np.sqrt(((m.get_forces())**2).sum(axis=1).max())\n",
    "    print(\"ini   pot:{:.4f},maxforce:{:.4f}\".format(m.get_potential_energy(),maxf))\n",
    "    de = -1 \n",
    "    s = 1\n",
    "    ita = 50\n",
    "    while ( de  < -0.001 or de > 0.001 ) and s <= sn :\n",
    "        opt = BFGS(m,maxstep=0.04*(0.9**s),logfile=None)\n",
    "        old  =  m.get_potential_energy() \n",
    "        opt.run(fmax=0.0005,steps =ita)\n",
    "        maxf = np.sqrt(((m.get_forces())**2).sum(axis=1).max())\n",
    "        de =  m.get_potential_energy()  - old\n",
    "        print(\"{} pot:{:.4f},maxforce:{:.4f},delta:{:.4f}\".format(s*ita,m.get_potential_energy(),maxf,de))\n",
    "        s += 1\n",
    "    return m\n",
    "\n",
    "def opt_cell_size(m,sn = 10, iter_count = False): # m:Atoms object\n",
    "    m.set_constraint() # clear constraint\n",
    "    m.set_calculator(calculator)\n",
    "    maxf = np.sqrt(((m.get_forces())**2).sum(axis=1).max()) # get max value of √(fx^2 + fy^2 + fz^2)\n",
    "    ucf = ExpCellFilter(m)\n",
    "    print(\"ini   pot:{:.4f},maxforce:{:.4f}\".format(m.get_potential_energy(),maxf))\n",
    "    de = -1 \n",
    "    s = 1\n",
    "    ita = 50\n",
    "    while ( de  < -0.01 or de > 0.01 ) and s <= sn :\n",
    "        opt = BFGS(ucf,maxstep=0.04*(0.9**s),logfile=None)\n",
    "        old  =  m.get_potential_energy() \n",
    "        opt.run(fmax=0.005,steps =ita)\n",
    "        maxf = np.sqrt(((m.get_forces())**2).sum(axis=1).max())\n",
    "        de =  m.get_potential_energy()  - old\n",
    "        print(\"{} pot:{:.4f},maxforce:{:.4f},delta:{:.4f}\".format(s*ita,m.get_potential_energy(),maxf,de))\n",
    "        s += 1\n",
    "    if iter_count == True:\n",
    "        return m, s*ita\n",
    "    else:\n",
    "        return m\n",
    "    "
   ]
  },
  {
   "cell_type": "markdown",
   "id": "41e2d70b-474b-40ca-b3bc-37956a8073b2",
   "metadata": {},
   "source": [
    "## Prepare initial LGPS structure\n",
    "\n",
    "Here we use LGPS structure on Materials Project.\n",
    "\n",
    "After LGPS structure is loaded using ASE io module, structure relaxation is executed to determine cell size of stable structure.\n",
    " - https://wiki.fysik.dtu.dk/ase/ase/io/io.html\n",
    " - https://wiki.fysik.dtu.dk/ase/ase/optimize.html"
   ]
  },
  {
   "cell_type": "markdown",
   "id": "a420a212-21c5-47ff-9d92-907c54fa29b4",
   "metadata": {},
   "source": [
    "Input cif file is from  \n",
    "A. Jain*, S.P. Ong*, G. Hautier, W. Chen, W.D. Richards, S. Dacek, S. Cholia, D. Gunter, D. Skinner, G. Ceder, K.A. Persson (*=equal contributions)  \n",
    "The Materials Project: A materials genome approach to accelerating materials innovation  \n",
    "APL Materials, 2013, 1(1), 011002.  \n",
    "[doi:10.1063/1.4812323](http://dx.doi.org/10.1063/1.4812323)  \n",
    "[[bibtex]](https://materialsproject.org/static/docs/jain_ong2013.349ca3156250.bib)  \n",
    "Licensed under [CC BY 4.0](https://creativecommons.org/licenses/by/4.0/)  "
   ]
  },
  {
   "cell_type": "code",
   "execution_count": 5,
   "id": "e9348241-62e0-4b2e-a411-e42e8cb6f551",
   "metadata": {},
   "outputs": [
    {
     "name": "stdout",
     "output_type": "stream",
     "text": [
      "# atoms = 50\n",
      "Initial lattice constant = [ 8.589951    8.87954092 12.97496188 91.98415256 90.64261126 90.24910835]\n",
      "ini   pot:-174.9558,maxforce:0.2321\n",
      "50 pot:-175.0080,maxforce:0.0270,delta:-0.0522\n",
      "100 pot:-175.0092,maxforce:0.0048,delta:-0.0012\n",
      "Optimized lattice constant = [ 8.70048831  8.78800942 13.07175987 91.32659867 90.54565058 90.13343415]\n"
     ]
    }
   ],
   "source": [
    "bulk = read(INPUT_DIR / \"Li10Ge(PS6)2_mp-696138_computed.cif\")\n",
    "bulk.calc = calculator\n",
    "\n",
    "print(\"# atoms =\", len(bulk))\n",
    "print(\"Initial lattice constant =\", bulk.cell.cellpar())\n",
    "\n",
    "opt_cell_size(bulk)\n",
    "print (\"Optimized lattice constant =\", bulk.cell.cellpar())"
   ]
  },
  {
   "cell_type": "code",
   "execution_count": 6,
   "id": "d6bf64f9-18e1-48b7-a7de-810fefd143d0",
   "metadata": {},
   "outputs": [],
   "source": [
    "# Remove comment out below if you want to run MD with bigger systems.\n",
    "#bulk = bulk.repeat([2,2,1])"
   ]
  },
  {
   "cell_type": "markdown",
   "id": "309721e2-41f7-499d-b72f-f4b67502ec2b",
   "metadata": {},
   "source": [
    "We can check the optimized LGPS structure interactively."
   ]
  },
  {
   "cell_type": "code",
   "execution_count": 7,
   "id": "fade5be7-fb98-42da-b0db-91d261cdd345",
   "metadata": {},
   "outputs": [
    {
     "data": {
      "application/vnd.jupyter.widget-view+json": {
       "model_id": "c7113bd3d07c469bba9fb442b909bb1c",
       "version_major": 2,
       "version_minor": 0
      },
      "text/plain": [
       "HBox(children=(NGLWidget(), VBox(children=(Dropdown(description='Show', options=('All', 'S', 'Ge', 'Li', 'P'),…"
      ]
     },
     "metadata": {},
     "output_type": "display_data"
    }
   ],
   "source": [
    "v = view(bulk, viewer='ngl')\n",
    "#v.view.add_representation(\"ball+stick\")\n",
    "display(v)"
   ]
  },
  {
   "cell_type": "code",
   "execution_count": 8,
   "id": "5c5f11cc-0fce-404c-8085-633e44e866b9",
   "metadata": {},
   "outputs": [],
   "source": [
    "os.makedirs(OUTPUT_DIR / \"structure/\", exist_ok=True)\n",
    "write(OUTPUT_DIR / \"structure/opt_structure.xyz\", bulk)"
   ]
  },
  {
   "cell_type": "markdown",
   "id": "653279fb-f1f3-400f-b04e-ace037029943",
   "metadata": {},
   "source": [
    "Check number of Li in this structure"
   ]
  },
  {
   "cell_type": "code",
   "execution_count": 9,
   "id": "e6d098a1-2fe2-40b9-84e5-a5b2dddc5790",
   "metadata": {},
   "outputs": [
    {
     "name": "stdout",
     "output_type": "stream",
     "text": [
      "20\n"
     ]
    }
   ],
   "source": [
    "Li_index = [i for i, x in enumerate(bulk.get_chemical_symbols()) if x == 'Li']\n",
    "print(len(Li_index))"
   ]
  },
  {
   "cell_type": "markdown",
   "id": "ec02afaf-ae76-48ce-85df-9d168e23acba",
   "metadata": {},
   "source": [
    "## Running MD simulation with various temperature\n",
    "\n",
    "Here ASE's `Langevin` class is used for MD simulation.<br/>\n",
    "Some kinds of NVT simulation are supported in ASE, please refer detail below: \n",
    " - https://wiki.fysik.dtu.dk/ase/ase/md.html#module-ase.md.langevin\n",
    "\n",
    "We run MD with various temperature configuration to see the Arrhenius plot later.<br/>\n",
    "MD is parallelized using `joblib` module."
   ]
  },
  {
   "cell_type": "code",
   "execution_count": 10,
   "id": "db8410d5-2385-4bfc-8490-48fa26f3ca6d",
   "metadata": {},
   "outputs": [],
   "source": [
    "temp_list = [423, 523, 623, 723, 823, 923, 973, 1023]"
   ]
  },
  {
   "cell_type": "code",
   "execution_count": 13,
   "id": "861e98b6-3b03-4a36-97a5-3b17e9ddb1ef",
   "metadata": {},
   "outputs": [],
   "source": [
    "os.makedirs(OUTPUT_DIR / \"traj_and_log/\", exist_ok=True)\n",
    "\n",
    "def run_md(i):\n",
    "    s_time = perf_counter()\n",
    "    \n",
    "    estimator = Estimator(model_version=\"v2.0.0\", calc_mode=EstimatorCalcMode.CRYSTAL)\n",
    "    calculator = ASECalculator(estimator)\n",
    "    \n",
    "    t_step = 0.5     # as fs\n",
    "    temp = i       # as K\n",
    "    itrvl = 100\n",
    "    \n",
    "    structure = read(f\"{OUTPUT_DIR.name}/\" + \"structure/opt_structure.xyz\")\n",
    "    structure.calc = calculator\n",
    "    \n",
    "    MaxwellBoltzmannDistribution(structure, temperature_K=temp)\n",
    "\n",
    "    dyn = Langevin(\n",
    "        structure,\n",
    "        t_step * units.fs,\n",
    "        temperature_K=temp,\n",
    "        friction=0.02,\n",
    "        trajectory=f\"{OUTPUT_DIR.name}/\" + \"traj_and_log/MD_\"+str(i).zfill(4)+\".traj\",\n",
    "        loginterval=itrvl,\n",
    "        append_trajectory=False,\n",
    "    )\n",
    "    dyn.attach(MDLogger(dyn, structure, f\"{OUTPUT_DIR.name}/\" + \"traj_and_log/MD_\"+str(i).zfill(4)+\".log\", header=False, stress=False,\n",
    "               peratom=True, mode=\"w\"), interval=itrvl)\n",
    "\n",
    "    # dyn.run(500000)\n",
    "    dyn.run(2_000_000)\n",
    "    proctime = perf_counter() - s_time\n",
    "\n",
    "    return([i, proctime/3600])"
   ]
  },
  {
   "cell_type": "code",
   "execution_count": null,
   "id": "b760d484-1e69-4f95-91d4-455bea509119",
   "metadata": {},
   "outputs": [],
   "source": [
    "results = Parallel(n_jobs=len(temp_list), verbose=1)(delayed(run_md)(i) for i in temp_list)"
   ]
  },
  {
   "cell_type": "markdown",
   "id": "3c2388ad-7d78-4e4b-9f83-df5f87f3356d",
   "metadata": {},
   "source": [
    "To check the calculation time (hours) for each job:"
   ]
  },
  {
   "cell_type": "code",
   "execution_count": 14,
   "id": "30355b84-43cf-4e1b-b785-aec3efcb852b",
   "metadata": {},
   "outputs": [
    {
     "name": "stdout",
     "output_type": "stream",
     "text": [
      "[[423, 69.65517497624501], [523, 69.4307892338875], [623, 69.65359850568028], [723, 69.5858971493625], [823, 69.63537499042417], [923, 69.65377913352611], [973, 69.64277460395472], [1023, 69.59344196447528]]\n"
     ]
    }
   ],
   "source": [
    "# Calculation time for each temperature\n",
    "print(results)"
   ]
  }
 ],
 "metadata": {
  "kernelspec": {
   "display_name": "Python 3.7",
   "language": "python",
   "name": "python37"
  },
  "language_info": {
   "codemirror_mode": {
    "name": "ipython",
    "version": 3
   },
   "file_extension": ".py",
   "mimetype": "text/x-python",
   "name": "python",
   "nbconvert_exporter": "python",
   "pygments_lexer": "ipython3",
   "version": "3.7.13"
  },
  "widgets": {
   "application/vnd.jupyter.widget-state+json": {
    "state": {},
    "version_major": 2,
    "version_minor": 0
   }
  }
 },
 "nbformat": 4,
 "nbformat_minor": 5
}
