{
 "cells": [
  {
   "cell_type": "markdown",
   "id": "730bc17f-560f-4a91-a21b-6058bb5365b3",
   "metadata": {},
   "source": [
    "Copyright Preferred Computational Chemistry, Inc as contributors to Matlantis contrib project (supported by X-Ability Co.,Ltd.)\n",
    "\n",
    "This document was machine translated from Japanese to English.\n",
    "\n",
    "# Calculation of Hildebrand Solubility Parameters\n",
    "\n",
    "In this notebook, we will calculate the Hildebrand solubility parameters for seven organic molecules.\n",
    "\n",
    "**Note**\\\n",
    "Please install the matlantis-lammps package in advance by following the instructions provided in the notebook included with matlantis-lammps-x.x.x.zip. During the installation, modify the installation command as shown below to output the trajectory in xtc format during the MD calculation.\n",
    "\n",
    "```!rm -rf lammps && tar xf lammps.tar.xz && cp -r USER-PFP-API lammps/src && cd lammps/src && make yes-USER-PFP-API && make yes-extra-dump && make serial -j2 && cp lmp_serial $(dirname $(which python))/```"
   ]
  },
  {
   "cell_type": "code",
   "execution_count": 1,
   "id": "aafd3f01-905d-4eb3-ac2f-aaccf01f103d",
   "metadata": {
    "tags": []
   },
   "outputs": [],
   "source": [
    "import subprocess\n",
    "import os\n",
    "import shutil\n",
    "from pathlib import Path\n",
    "import numpy as np\n",
    "import math\n",
    "import pandas as pd\n",
    "import matplotlib.pyplot as plt\n",
    "import pfp_api_client\n",
    "from pfp_api_client.pfp.calculators.ase_calculator import ASECalculator\n",
    "from pfp_api_client.pfp.estimator import Estimator, EstimatorCalcMode"
   ]
  },
  {
   "cell_type": "code",
   "execution_count": 2,
   "id": "251e9ef3-d4d1-473f-b1a2-2515a982ff5b",
   "metadata": {
    "tags": []
   },
   "outputs": [],
   "source": [
    "# target molecules\n",
    "compounds = [\n",
    "    \"1_Ethylchrolide\", \n",
    "    \"2_n-Butanol\", \n",
    "    \"3_THF\", \n",
    "    \"4_Neopentane\", \n",
    "    \"5_Toluene\", \n",
    "    \"6_Hexane\", \n",
    "    \"7_Methylmetacrylate\"\n",
    "]\n",
    "\n",
    "# molecular weights\n",
    "molweight = [\n",
    "    64.51, \n",
    "    74.12,\n",
    "    72.11,\n",
    "    72.15,\n",
    "    92.14,\n",
    "    86.18,\n",
    "    100.12\n",
    "] \n",
    "\n",
    "directories = [\"liquid\", \"vapor\"]\n",
    "\n",
    "mass_data = {\"H\" : 1.008, \"C\" : 12.011, \"O\" : 15.999, \"Cl\" : 35.450}"
   ]
  },
  {
   "cell_type": "code",
   "execution_count": 3,
   "id": "bc449630-28a7-4c0d-84a5-999cdcf430e9",
   "metadata": {
    "tags": []
   },
   "outputs": [],
   "source": [
    "def extract_atom_types(data_file_path, mass_data):\n",
    "    atom_types = []\n",
    "    with open(data_file_path, 'r') as file:\n",
    "        lines = file.readlines()\n",
    "        start = False\n",
    "        for line in lines:\n",
    "            if \"Masses\" in line:\n",
    "                start = True\n",
    "            elif \"Atoms\" in line:\n",
    "                break\n",
    "            elif start and line.strip():\n",
    "                mass = float(line.split()[1])\n",
    "\n",
    "                closest_atom_type = min(mass_data, key=lambda k: abs(mass_data[k] - mass))\n",
    "                atom_types.append(closest_atom_type)\n",
    "    return atom_types\n",
    "\n",
    "def add_atom_types_to_lammps_input(input_file, atom_types):\n",
    "    with open(input_file, 'r') as file:\n",
    "        lines = file.readlines()\n",
    "\n",
    "    with open(input_file, 'w') as file:\n",
    "        for line in lines:\n",
    "            if line.startswith('pair_coeff * * species'):\n",
    "                line = line.strip() + ' ' + ' '.join(atom_types) + '\\n'\n",
    "            file.write(line)\n",
    "\n",
    "def comment_out_lines(original_file, modified_file, start_strings):\n",
    "    with open(original_file, 'r') as file:\n",
    "        lines = file.readlines()\n",
    "\n",
    "    with open(modified_file, 'w') as file:\n",
    "        for line in lines:\n",
    "            if any(line.startswith(s) for s in start_strings):\n",
    "                file.write(f\"#{line}\")\n",
    "            else:\n",
    "                file.write(line)\n",
    "\n",
    "def modify_lammps_input(file_path, data_file_relative_path):\n",
    "    with open(file_path, 'r') as file:\n",
    "        lines = file.readlines()\n",
    "\n",
    "    with open(file_path, 'w') as file:\n",
    "        for line in lines:\n",
    "            if line.startswith('read_data'):\n",
    "                file.write(f\"read_data {data_file_relative_path}\\n\")\n",
    "                print(data_file_relative_path)\n",
    "            else:\n",
    "                file.write(line)"
   ]
  },
  {
   "cell_type": "code",
   "execution_count": 4,
   "id": "c697714f-9c5e-4261-bba7-f864c74e3321",
   "metadata": {
    "tags": []
   },
   "outputs": [],
   "source": [
    "def run_lammps_for_compound(compound, directories):\n",
    "    data_file_name = f\"{compound}.data\"\n",
    "    estimator = Estimator()\n",
    "    model_names = tuple(estimator.available_models)\n",
    "\n",
    "    for directory in directories:\n",
    "        compound_dir = os.path.join(\"output\", directory, compound)\n",
    "        # print(directory, compound, compound_dir)\n",
    "        data_file_relative_path = os.path.join(\"../../../input\", directory, \"init_data\", data_file_name)\n",
    "        data_file_path = os.path.join(\"input\", directory, \"init_data\", data_file_name)\n",
    "        atom_types = extract_atom_types(data_file_path, mass_data)\n",
    "        \n",
    "        if not os.path.exists(compound_dir):\n",
    "            os.makedirs(compound_dir)            \n",
    "            \n",
    "        steps = [\"1_min.lammps\", \"2_nvt.lammps\", \"3_npt.lammps\"]\n",
    "        for step in steps:\n",
    "            original_file = os.path.join(\"input\", directory, step)\n",
    "            if os.path.exists(original_file):\n",
    "                destination_file = os.path.join(compound_dir, step)\n",
    "                shutil.copy(original_file, destination_file)\n",
    "                \n",
    "                add_atom_types_to_lammps_input(destination_file, atom_types)\n",
    "\n",
    "                if step == \"1_min.lammps\":\n",
    "                    modify_lammps_input(destination_file, data_file_relative_path)\n",
    "\n",
    "        original_dir = os.getcwd()\n",
    "\n",
    "        os.chdir(compound_dir)\n",
    "\n",
    "        for step in steps:\n",
    "            if os.path.exists(step):\n",
    "                print(f\" \")\n",
    "                print(f\"##########################################################################\")\n",
    "                print(f\"Running LAMMPS for {step} in {directory} : {compound}...\")\n",
    "                print(f\"##########################################################################\")\n",
    "                print(f\" \")\n",
    "                infile = Path(step)\n",
    "                logfile = infile.with_suffix('.log')\n",
    "                outfile = infile.with_suffix('.out')\n",
    "                subprocess.run([\"lmp_serial\", \"-in\", infile, \"-log\", logfile, \"-screen\", outfile])\n",
    "                print(f\"Completed: {step}\")\n",
    "\n",
    "                step_name = step.split('.')[0].split('_')[1]\n",
    "                final_file = f\"lmp_{step_name}_final.data\"\n",
    "                modified_file = f\"lmp_{step_name}_final_mod.data\"\n",
    "\n",
    "                if os.path.exists(final_file):\n",
    "                    comment_out_lines(final_file, modified_file, [\"Pair Coeffs\"] + list(model_names))\n",
    "\n",
    "        os.chdir(original_dir)"
   ]
  },
  {
   "cell_type": "code",
   "execution_count": 10,
   "id": "45442f16-6cd6-4ee0-9f79-5a78740c1a2e",
   "metadata": {
    "tags": []
   },
   "outputs": [],
   "source": [
    "from joblib import Parallel, delayed\n",
    "NUM_ACCESS = 4\n",
    "comp_lammps = Parallel(NUM_ACCESS)(\n",
    "    delayed(run_lammps_for_compound)(compound, directories) for compound in compounds)"
   ]
  },
  {
   "cell_type": "code",
   "execution_count": 5,
   "id": "b384b444-68a2-4ba0-9af0-14286aec5282",
   "metadata": {
    "tags": []
   },
   "outputs": [],
   "source": [
    "AVERAGE_DATA_PERCENTAGE = 0.2\n",
    "\n",
    "# number of molecules in the simulation box\n",
    "MOL = 50\n",
    "\n",
    "# experimental sp values\n",
    "SP_exp = [9.2, 11.3, 9.1, 6.3, 9.0, 7.3, 8.8]"
   ]
  },
  {
   "cell_type": "code",
   "execution_count": 6,
   "id": "d63dc1fa-1f4b-4a0f-a697-723d34a08aad",
   "metadata": {
    "tags": []
   },
   "outputs": [],
   "source": [
    "def calculate_average_energy_and_density(file_path, percentage=AVERAGE_DATA_PERCENTAGE):\n",
    "    with open(file_path, 'r') as f:\n",
    "        lines = f.readlines()\n",
    "\n",
    "    data = np.array([line.split() for line in lines if not line.startswith('#')], dtype=float)\n",
    "\n",
    "    if len(data) > 0:\n",
    "        start_index = int(len(data) * (1 - percentage))\n",
    "        average_energy = np.mean(data[start_index:, 1])\n",
    "\n",
    "        if data.shape[1] > 2:\n",
    "            average_density = np.mean(data[start_index:, 2])\n",
    "            return average_energy, average_density\n",
    "        else:\n",
    "            return average_energy, None\n",
    "    else:\n",
    "        return None, None"
   ]
  },
  {
   "cell_type": "code",
   "execution_count": 7,
   "id": "66d5e399-daf0-4f27-8cd6-84007d71d3f3",
   "metadata": {
    "tags": []
   },
   "outputs": [],
   "source": [
    "results = []\n",
    "for compound, mw, sp_exp in zip(compounds, molweight, SP_exp):\n",
    "    averaged_energy_for_liquid = 0.0\n",
    "    averaged_density_for_liquid = 0.0\n",
    "    averaged_energy_for_vapor = 0.0\n",
    "    for directory in directories:\n",
    "        compound_dir = os.path.join(\"output\", directory, compound)\n",
    "        if os.path.exists(compound_dir):\n",
    "            energy_files = [f for f in os.listdir(compound_dir) if f.startswith(\"energy_\")]\n",
    "\n",
    "            for file in energy_files:\n",
    "                file_path = os.path.join(compound_dir, file)\n",
    "                average_energy, average_density = calculate_average_energy_and_density(file_path)\n",
    "\n",
    "                if average_density is not None:\n",
    "                    averaged_energy_for_liquid = average_energy\n",
    "                    averaged_density_for_liquid = average_density\n",
    "                else:\n",
    "                    averaged_energy_for_vapor = average_energy\n",
    "                    \n",
    "    # dE=Ev-El [kcal/mol]\n",
    "    dE = (averaged_energy_for_vapor - (averaged_energy_for_liquid) / MOL) * 23.0605478306  # eV to kcal/mol \n",
    "\n",
    "    # MolarVolume\n",
    "    MolVol = mw / averaged_density_for_liquid\n",
    "    \n",
    "    SP_calc = math.sqrt((dE * 1000) / MolVol)\n",
    "    results.append({\n",
    "        \"Compounds\": compound,\n",
    "        \"SP calc. [cal cm-3^(1/2)]\": SP_calc,\n",
    "        \"SP exp. [cal cm-3^(1/2)]\": sp_exp,\n",
    "        })"
   ]
  },
  {
   "cell_type": "code",
   "execution_count": 8,
   "id": "be11bd11-110d-4b8c-8ff8-3347b0e62378",
   "metadata": {
    "tags": []
   },
   "outputs": [
    {
     "data": {
      "text/html": [
       "<div>\n",
       "<style scoped>\n",
       "    .dataframe tbody tr th:only-of-type {\n",
       "        vertical-align: middle;\n",
       "    }\n",
       "\n",
       "    .dataframe tbody tr th {\n",
       "        vertical-align: top;\n",
       "    }\n",
       "\n",
       "    .dataframe thead th {\n",
       "        text-align: right;\n",
       "    }\n",
       "</style>\n",
       "<table border=\"1\" class=\"dataframe\">\n",
       "  <thead>\n",
       "    <tr style=\"text-align: right;\">\n",
       "      <th></th>\n",
       "      <th>Compounds</th>\n",
       "      <th>SP calc. [cal cm-3^(1/2)]</th>\n",
       "      <th>SP exp. [cal cm-3^(1/2)]</th>\n",
       "    </tr>\n",
       "  </thead>\n",
       "  <tbody>\n",
       "    <tr>\n",
       "      <th>0</th>\n",
       "      <td>1_Ethylchrolide</td>\n",
       "      <td>9.35</td>\n",
       "      <td>9.20</td>\n",
       "    </tr>\n",
       "    <tr>\n",
       "      <th>1</th>\n",
       "      <td>2_n-Butanol</td>\n",
       "      <td>12.36</td>\n",
       "      <td>11.30</td>\n",
       "    </tr>\n",
       "    <tr>\n",
       "      <th>2</th>\n",
       "      <td>3_THF</td>\n",
       "      <td>9.48</td>\n",
       "      <td>9.10</td>\n",
       "    </tr>\n",
       "    <tr>\n",
       "      <th>3</th>\n",
       "      <td>4_Neopentane</td>\n",
       "      <td>7.53</td>\n",
       "      <td>6.30</td>\n",
       "    </tr>\n",
       "    <tr>\n",
       "      <th>4</th>\n",
       "      <td>5_Toluene</td>\n",
       "      <td>9.98</td>\n",
       "      <td>9.00</td>\n",
       "    </tr>\n",
       "    <tr>\n",
       "      <th>5</th>\n",
       "      <td>6_Hexane</td>\n",
       "      <td>8.64</td>\n",
       "      <td>7.30</td>\n",
       "    </tr>\n",
       "    <tr>\n",
       "      <th>6</th>\n",
       "      <td>7_Methylmetacrylate</td>\n",
       "      <td>8.65</td>\n",
       "      <td>8.80</td>\n",
       "    </tr>\n",
       "  </tbody>\n",
       "</table>\n",
       "</div>"
      ],
      "text/plain": [
       "             Compounds  SP calc. [cal cm-3^(1/2)]  SP exp. [cal cm-3^(1/2)]\n",
       "0      1_Ethylchrolide                       9.35                      9.20\n",
       "1          2_n-Butanol                      12.36                     11.30\n",
       "2                3_THF                       9.48                      9.10\n",
       "3         4_Neopentane                       7.53                      6.30\n",
       "4            5_Toluene                       9.98                      9.00\n",
       "5             6_Hexane                       8.64                      7.30\n",
       "6  7_Methylmetacrylate                       8.65                      8.80"
      ]
     },
     "execution_count": 8,
     "metadata": {},
     "output_type": "execute_result"
    }
   ],
   "source": [
    "pd.options.display.float_format = '{:.2f}'.format\n",
    "df = pd.DataFrame(results)\n",
    "df"
   ]
  },
  {
   "cell_type": "code",
   "execution_count": 9,
   "id": "d26da3b9-9777-4154-a784-efef2217ed8e",
   "metadata": {
    "tags": []
   },
   "outputs": [
    {
     "data": {
      "image/png": "[encoded data removed]",
      "text/plain": [
       "<Figure size 640x480 with 1 Axes>"
      ]
     },
     "metadata": {},
     "output_type": "display_data"
    }
   ],
   "source": [
    "sp_calc = df['SP calc. [cal cm-3^(1/2)]'].tolist()\n",
    "sp_exp = df['SP exp. [cal cm-3^(1/2)]'].tolist()\n",
    "\n",
    "correlation = np.corrcoef(sp_calc, sp_exp)[0, 1]\n",
    "\n",
    "plt.scatter(df[\"SP exp. [cal cm-3^(1/2)]\"], df[\"SP calc. [cal cm-3^(1/2)]\"])\n",
    "plt.axis('square')\n",
    "plt.xlabel(\"SP exp. [cal cm-3^(1/2)]\")\n",
    "plt.ylabel(\"SP calc. [cal cm-3^(1/2)]\")\n",
    "plt.title(\"SP calc. vs SP exp.\")\n",
    "plt.title(f\"SP calc. vs SP exp. with Correlation: {correlation:.2f}\")\n",
    "plt.grid(True)\n",
    "\n",
    "min_val = min(min(sp_calc), min(sp_exp))\n",
    "max_val = max(max(sp_calc), max(sp_exp))\n",
    "range_extension = (max_val - min_val) * 0.05\n",
    "plt.xlim(min_val - range_extension, max_val + range_extension)\n",
    "plt.ylim(min_val - range_extension, max_val + range_extension)\n",
    "\n",
    "plt.plot([min_val - range_extension, max_val + range_extension], [min_val - range_extension, max_val + range_extension], 'k--')\n",
    "\n",
    "for i, compound in enumerate(df[\"Compounds\"]):\n",
    "    plt.text(df[\"SP exp. [cal cm-3^(1/2)]\"][i], df[\"SP calc. [cal cm-3^(1/2)]\"][i], compound)\n",
    "\n",
    "plt.show()"
   ]
  }
 ],
 "metadata": {
  "kernelspec": {
   "display_name": "Python 3.9",
   "language": "python",
   "name": "python39"
  },
  "language_info": {
   "codemirror_mode": {
    "name": "ipython",
    "version": 3
   },
   "file_extension": ".py",
   "mimetype": "text/x-python",
   "name": "python",
   "nbconvert_exporter": "python",
   "pygments_lexer": "ipython3",
   "version": "3.9.16"
  },
  "widgets": {
   "application/vnd.jupyter.widget-state+json": {
    "state": {},
    "version_major": 2,
    "version_minor": 0
   }
  }
 },
 "nbformat": 4,
 "nbformat_minor": 5
}
