{
 "cells": [
  {
   "cell_type": "markdown",
   "id": "e7f555a3-dc1c-4ea9-a19e-53814b74678a",
   "metadata": {},
   "source": [
    "Copyright Preferred Networks inc. as contributors to Matlantis contrib project.\n",
    "\n",
    "# LightPFP: CO2 diffusion in MOF-5\n",
    "\n",
    "We follow the paper [\"Storage and Diffusion of Carbon Dioxide in the Metal Organic Framework MOF-5─A Semi-empirical Molecular Dynamics Study\"](https://pubs.acs.org/doi/full/10.1021/acs.jpcb.3c04155)\n"
   ]
  },
  {
   "cell_type": "code",
   "execution_count": null,
   "id": "a1594a62-cf7f-4cc2-84da-325a6e6ec0ce",
   "metadata": {},
   "outputs": [],
   "source": [
    "model_version = \"v7.0.0\"\n",
    "calc_mode = \"crystal_u0_plus_d3\""
   ]
  },
  {
   "cell_type": "markdown",
   "id": "2195db89-8440-4b89-a149-beb0f4d90480",
   "metadata": {},
   "source": [
    "## Setup"
   ]
  },
  {
   "cell_type": "code",
   "execution_count": null,
   "id": "86553f3c-5f9a-42ff-8f09-f9df91f04824",
   "metadata": {},
   "outputs": [],
   "source": [
    "! pip install light-pfp-client==1.0.0 light-pfp-data==1.0.0 light-pfp-evaluate==1.0.0 light-pfp-autogen==0.1.3"
   ]
  },
  {
   "cell_type": "markdown",
   "id": "2d72d8ee-29d6-4b40-8cce-5f45112cd020",
   "metadata": {},
   "source": [
    "## 1. Initial structure\n",
    "\n",
    "* We make a sample function to add CO2 gas molecule to the MOF at random position."
   ]
  },
  {
   "cell_type": "code",
   "execution_count": null,
   "id": "09003492-1cc6-480c-b3dd-3cd4da52f128",
   "metadata": {},
   "outputs": [],
   "source": [
    "import numpy as np\n",
    "from pathlib import Path\n",
    "from ase.io import read\n",
    "from ase.build import molecule\n",
    "\n",
    "def add_CO2(atoms, min_dist=2.5, max_tries=20):\n",
    "    n_atoms = len(atoms)\n",
    "    indices = np.arange(n_atoms, dtype=int)\n",
    "    trial = 0\n",
    "    while trial < max_tries:\n",
    "        atoms_trial = atoms.copy()\n",
    "        co2 = molecule(\"CO2\")\n",
    "        co2.positions += np.dot(np.random.random([1,3]), atoms.get_cell()[:])\n",
    "        atoms_trial += co2\n",
    "        if (atoms_trial.get_distances(n_atoms, indices, mic=True).min() > min_dist) and (atoms_trial.get_distances(n_atoms+1, indices, mic=True).min() > min_dist) and (atoms_trial.get_distances(n_atoms+2, indices, mic=True).min() > min_dist):\n",
    "            return atoms_trial\n",
    "        trial += 1\n",
    "    raise ValueError\n",
    "\n",
    "\n",
    "def add_multi_CO2(atoms, n):\n",
    "    atoms_ = atoms.copy()\n",
    "    for _ in range(n):\n",
    "        atoms_ = add_CO2(atoms_)\n",
    "    return atoms_"
   ]
  },
  {
   "cell_type": "markdown",
   "id": "f9870d7e-3a46-4bdf-95ce-d3ddc014ed7e",
   "metadata": {},
   "source": [
    "* Initial structures are generated\n",
    "* Single MOF frame with 1, 4, 8 and 16 CO2 molecules."
   ]
  },
  {
   "cell_type": "code",
   "execution_count": null,
   "id": "1894abf9-cde0-42c8-a496-934eb793b9e8",
   "metadata": {},
   "outputs": [],
   "source": [
    "mof = read(\"init_structure/MOF5.cif\")\n",
    "mof_1co2 = add_multi_CO2(mof, 1)\n",
    "mof_4co2 = add_multi_CO2(mof, 4)\n",
    "mof_8co2 = add_multi_CO2(mof, 8)\n",
    "mof_16co2 = add_multi_CO2(mof, 16)"
   ]
  },
  {
   "cell_type": "markdown",
   "id": "5d9ee53d-620d-4079-8f0b-e652d177560c",
   "metadata": {},
   "source": [
    "## 2.  Initial dataset\n",
    "* MD sampling"
   ]
  },
  {
   "cell_type": "code",
   "execution_count": null,
   "id": "6f03c681-fd1c-460a-aa53-f6e4451d3b30",
   "metadata": {},
   "outputs": [],
   "source": [
    "from light_pfp_data.utils.dataset import H5DatasetWriter\n",
    "\n",
    "init_dataset_dir = Path(\"init_dataset\")\n",
    "init_dataset_dir.mkdir(parents=True, exist_ok=True)\n",
    "initial_dataset = init_dataset_dir / \"init.h5\""
   ]
  },
  {
   "cell_type": "code",
   "execution_count": null,
   "id": "efc74e80-c0af-48cf-9713-44d41e02bebb",
   "metadata": {},
   "outputs": [],
   "source": [
    "from unittest.mock import patch\n",
    "from pfp_api_client import Estimator, ASECalculator\n",
    "from light_pfp_data.sample import sample_md\n",
    "\n",
    "\n",
    "if initial_dataset.exists():\n",
    "    print(f\"Dataset file {initial_dataset} already exists. Skip generating initial dataset.\")\n",
    "    with patch('builtins.input', return_value='y'):\n",
    "        dataset = H5DatasetWriter(initial_dataset, mode=\"append\") # automatically input 'y' when running in background\n",
    "else:\n",
    "    print(f\"Dataset file {initial_dataset} is created. Start generating initial structures.\")\n",
    "    with patch('builtins.input', return_value='y'):\n",
    "        dataset = H5DatasetWriter(initial_dataset)\n",
    "\n",
    "    # Initialize estimator and calculator\n",
    "    estimator = Estimator(model_version=model_version, calc_mode=calc_mode)\n",
    "    calc = ASECalculator(estimator)\n",
    "    \n",
    "    from concurrent.futures import as_completed, ThreadPoolExecutor\n",
    "    from tqdm.auto import tqdm\n",
    "    \n",
    "    futures = []\n",
    "    pbar = tqdm(desc=\"Total progress\", total=0, leave=True)\n",
    "    with ThreadPoolExecutor(max_workers=8) as executor:\n",
    "        for atoms in [mof, mof_1co2, mof_4co2, mof_8co2, mof_16co2]:\n",
    "            futures += sample_md(\n",
    "                input_structure=atoms,\n",
    "                calculator=calc,\n",
    "                dataset=dataset,\n",
    "                supercell=(1, 1, 1),\n",
    "                sampling_temp=[300.0, 500.0, 1000.0, 1500.0],\n",
    "                sampling_steps=[5000, 5000, 2000, 2000],\n",
    "                sampling_interval=[100, 100, 100, 100],\n",
    "                ensemble=\"nvt\",\n",
    "                executor=executor,\n",
    "                pbar=pbar\n",
    "            )\n",
    "            \n",
    "        for f in as_completed(futures):\n",
    "            _ = f.result()"
   ]
  },
  {
   "cell_type": "code",
   "execution_count": null,
   "id": "e645dba6-4984-4759-80bb-efae7d1f00c8",
   "metadata": {},
   "outputs": [],
   "source": [
    "dataset.h5.close()"
   ]
  },
  {
   "cell_type": "markdown",
   "id": "1c84696a-5f48-4514-bbd0-d51a7f61b5d5",
   "metadata": {},
   "source": [
    "## 3. Active learning"
   ]
  },
  {
   "cell_type": "code",
   "execution_count": null,
   "id": "7d4fda2b-5015-403b-a2b2-7c6652da5145",
   "metadata": {
    "scrolled": true
   },
   "outputs": [],
   "source": [
    "import pathlib\n",
    "import logging\n",
    "from IPython.display import clear_output\n",
    "from light_pfp_autogen.active_learning import ActiveLearning\n",
    "from light_pfp_autogen.config import ActiveLearningConfig, TrainConfig, SampleConfig, CommonConfig, MTPConfig\n",
    "\n",
    "\n",
    "logging.basicConfig(level=logging.INFO)\n",
    "\n",
    "active_learning_config = ActiveLearningConfig(\n",
    "    task_name = \"mof-co2-test-1\",\n",
    "    work_dir = \"./autogen_workdir_1\",\n",
    "    pfp_model_version = model_version,\n",
    "    pfp_calc_mode = calc_mode,\n",
    "    init_dataset = [\n",
    "        \"init_dataset/init.h5\",\n",
    "    ],\n",
    "    train_config = TrainConfig(\n",
    "        common_config = CommonConfig(max_forces=50.0),\n",
    "        mtp_config = MTPConfig(pretrained_model=\"ORGANIC_SMALL_NN\")\n",
    "    )\n",
    ")\n",
    "\n",
    "active_learning = ActiveLearning(active_learning_config)\n",
    "active_learning.initialize()"
   ]
  },
  {
   "cell_type": "code",
   "execution_count": null,
   "id": "c5517389-dbf0-4aac-8ce3-2a03153cf6a1",
   "metadata": {},
   "outputs": [],
   "source": [
    "import numpy as np\n",
    "from ase import units\n",
    "from ase.md.npt import NPT\n",
    "from ase.md.velocitydistribution import MaxwellBoltzmannDistribution\n",
    "from light_pfp_autogen.context import DataCollectionContext\n",
    "\n",
    "\n",
    "for i in range(active_learning.iter, 3):\n",
    "    print(f\"Current active iteration: {i}\")\n",
    "    for _ in range(5):\n",
    "        n_CO2 = np.random.randint(0, 16)\n",
    "        atoms = add_multi_CO2(mof, n_CO2)\n",
    "        temperature = np.random.uniform(200.0, 500.0)\n",
    "        MaxwellBoltzmannDistribution(atoms, temperature_K=temperature)\n",
    "\n",
    "        md = NPT(\n",
    "            atoms, \n",
    "            units.fs, \n",
    "            temperature_K=temperature, \n",
    "            externalstress=units.bar,\n",
    "            mask=np.eye(3),\n",
    "            ttime=20.0 * units.fs,\n",
    "            pfactor=2e6 * units.GPa * (units.fs**2)\n",
    "        )\n",
    "        with DataCollectionContext(md=md, interval=100, max_samples=50):\n",
    "            md.run(steps=20000)\n",
    "\n",
    "        clear_output()\n",
    "    active_learning.update()"
   ]
  },
  {
   "cell_type": "code",
   "execution_count": null,
   "id": "fdf4165c-8fee-4334-a1a2-54ac97f66455",
   "metadata": {},
   "outputs": [],
   "source": [
    "for i in range(active_learning.iter, 6):\n",
    "    print(f\"Current active iteration: {i}\")\n",
    "    for _ in range(5):\n",
    "        n_CO2 = np.random.randint(0, 16)\n",
    "        atoms = add_multi_CO2(mof, n_CO2) * (2,2,2)\n",
    "        temperature = np.random.uniform(200.0, 500.0)\n",
    "        MaxwellBoltzmannDistribution(atoms, temperature_K=temperature)\n",
    "\n",
    "        md = NPT(\n",
    "            atoms, \n",
    "            units.fs, \n",
    "            temperature_K=temperature, \n",
    "            externalstress=units.bar,\n",
    "            mask=np.eye(3),\n",
    "            ttime=20.0 * units.fs,\n",
    "            pfactor=2e6 * units.GPa * (units.fs**2)\n",
    "        )\n",
    "        with DataCollectionContext(md=md, interval=100, max_samples=50):\n",
    "            md.run(steps=20000)\n",
    "\n",
    "        clear_output()\n",
    "    active_learning.update()"
   ]
  },
  {
   "cell_type": "code",
   "execution_count": null,
   "id": "fb181e6e-c3c7-4c2f-a69d-4249609f10ce",
   "metadata": {},
   "outputs": [],
   "source": [
    "active_learning.print_md_statistics()"
   ]
  },
  {
   "cell_type": "markdown",
   "id": "5a06feeb-4e7d-4d28-a4fa-f68c5be7fc88",
   "metadata": {},
   "source": [
    "## 4. Post training"
   ]
  },
  {
   "cell_type": "code",
   "execution_count": null,
   "id": "37f1a5df-ef7f-4021-a97d-6f0d21bd8d62",
   "metadata": {},
   "outputs": [],
   "source": [
    "from light_pfp_autogen.utils import submit_training_job, check_training_job_status, estimate_epoch\n",
    "\n",
    "\n",
    "epoch = estimate_epoch(active_learning.datasets_list, 2.0)\n",
    "\n",
    "train_config_dict = {\n",
    "    \"common_config\": {\n",
    "        \"total_epoch\": epoch,\n",
    "        \"max_forces\": 50.0\n",
    "    },\n",
    "    \"mtp_config\": {\n",
    "        \"pretrained_model\": \"ORGANIC_SMALL_NN\"\n",
    "    },\n",
    "}\n",
    "\n",
    "\n",
    "train_config = TrainConfig.from_dict(\n",
    "    train_config_dict\n",
    ")\n",
    "\n",
    "model_id = submit_training_job(\n",
    "    train_config,\n",
    "    active_learning.datasets_list,\n",
    "    \"mof-co2-test-1-small-final\",\n",
    ")\n",
    "\n",
    "status = check_training_job_status(model_id)\n",
    "print(f\"Training job {model_id} status: {status}\")"
   ]
  },
  {
   "cell_type": "markdown",
   "id": "1c6964d8-453f-49c0-847b-627d9a14a079",
   "metadata": {},
   "source": [
    "## 5. PFP MD simulation for evaluation\n",
    "* n_CO2: 8\n",
    "* temperature: 300, 340, 400\n",
    "* 1 fs/step, 250,000 steps\n",
    "* 2x2x2 supercell"
   ]
  },
  {
   "cell_type": "code",
   "execution_count": null,
   "id": "5bae6ef0-06dc-4a3d-befc-2f476de0afb8",
   "metadata": {},
   "outputs": [],
   "source": [
    "# def md_simulation(atoms, temperature, name):\n",
    "#     calc = ASECalculator(Estimator(model_version=\"v7.0.0\", calc_mode=\"crystal_u0_plus_d3\"))\n",
    "#     atoms.calc = calc\n",
    "#     MaxwellBoltzmannDistribution(atoms, temperature_K=temperature)    \n",
    "#     traj = Trajectory(f\"pfp_md/{name}.traj\", \"w\", atoms = atoms)\n",
    "\n",
    "#     md = NPT(\n",
    "#         atoms, \n",
    "#         units.fs, \n",
    "#         temperature_K=temperature, \n",
    "#         externalstress=units.bar,\n",
    "#         mask=np.eye(3),\n",
    "#         ttime=20.0 * units.fs,\n",
    "#         pfactor=2e6 * units.GPa * (units.fs**2)\n",
    "#     )\n",
    "#     md.attach(traj, interval=10000)\n",
    "#     md.run(steps=250000)"
   ]
  },
  {
   "cell_type": "code",
   "execution_count": null,
   "id": "229eeb26-297e-4123-b387-046ef0795fe7",
   "metadata": {},
   "outputs": [],
   "source": [
    "# md_dir = Path(\"pfp_md\")\n",
    "# md_dir.mkdir(exist_ok=True)\n",
    "\n",
    "# mof = read(\"init_structure/MOF5.cif\")\n",
    "\n",
    "# n_CO2_list = [8]\n",
    "# temperature_list = [300, 340, 400]\n",
    "# param_list = []\n",
    "\n",
    "# for n_CO2 in n_CO2_list:\n",
    "#     for temperature in temperature_list:\n",
    "#         name = f\"MOF_{n_CO2}CO2_{temperature}K\"\n",
    "#         atoms = add_multi_CO2(mof, n_CO2) * (2, 2, 2)\n",
    "#         param_list.append((atoms, temperature, name))"
   ]
  },
  {
   "cell_type": "code",
   "execution_count": null,
   "id": "f2e7f946-4f80-40b7-94a1-29a1f67d7e92",
   "metadata": {},
   "outputs": [],
   "source": [
    "# from joblib.parallel import delayed, Parallel\n",
    "\n",
    "# Parallel(n_jobs=3)(delayed(md_simulation)(*params) for params in param_list)"
   ]
  },
  {
   "cell_type": "markdown",
   "id": "cacb53a9-5d05-4aa3-af34-40d37cd553a2",
   "metadata": {},
   "source": [
    "## 6. Light PFP MD simulation for evaluation"
   ]
  },
  {
   "cell_type": "code",
   "execution_count": null,
   "id": "3e7264a4-af24-41ea-b930-8e5e0c96606a",
   "metadata": {},
   "outputs": [],
   "source": [
    "import numpy as np\n",
    "from pathlib import Path\n",
    "from ase import Atoms\n",
    "from ase import units\n",
    "from ase.io import read, Trajectory\n",
    "from ase.md.npt import NPT\n",
    "from ase.md.velocitydistribution import MaxwellBoltzmannDistribution\n",
    "from light_pfp_client.estimator import Estimator\n",
    "from light_pfp_client.ase_calculator import ASECalculator"
   ]
  },
  {
   "cell_type": "code",
   "execution_count": null,
   "id": "39cab1e7-fdcf-4977-ab69-4a2e24d34c4b",
   "metadata": {},
   "outputs": [],
   "source": [
    "def md_simulation(atoms, temperature, name, steps):\n",
    "    \n",
    "    MaxwellBoltzmannDistribution(atoms, temperature_K=temperature)    \n",
    "    traj = Trajectory(f\"light_pfp_md/{name}.traj\", \"w\", atoms = atoms)\n",
    "\n",
    "    md = NPT(\n",
    "        atoms, \n",
    "        units.fs, \n",
    "        temperature_K=temperature, \n",
    "        externalstress=units.bar,\n",
    "        mask=np.eye(3),\n",
    "        ttime=20.0 * units.fs,\n",
    "        pfactor=2e6 * units.GPa * (units.fs**2)\n",
    "    )\n",
    "    md.attach(traj, interval=10000)\n",
    "    md.run(steps=steps)"
   ]
  },
  {
   "cell_type": "code",
   "execution_count": null,
   "id": "c0cf5426-1b83-4029-a97e-03bfcc068987",
   "metadata": {},
   "outputs": [],
   "source": [
    "md_dir = Path(\"light_pfp_md\")\n",
    "md_dir.mkdir(exist_ok=True)\n",
    "\n",
    "calc = ASECalculator(Estimator(model_id=model_id))\n",
    "\n",
    "mof = read(\"init_structure/MOF5.cif\")\n",
    "\n",
    "n_CO2_list = [8]\n",
    "temperature_list = [300, 340, 400]\n",
    "\n",
    "for n_CO2 in n_CO2_list:\n",
    "    for temperature in temperature_list:\n",
    "        name = f\"MOF_{n_CO2}CO2_{temperature}K\"\n",
    "        atoms = add_multi_CO2(mof, n_CO2) * (2, 2, 2)\n",
    "        atoms.calc = calc\n",
    "        md_simulation(atoms, temperature, name, steps=250000)"
   ]
  },
  {
   "cell_type": "markdown",
   "id": "b819cd4f-17e6-4f41-8e35-16a4b5f821d6",
   "metadata": {},
   "source": [
    "## 7. Evaluation\n",
    "\n",
    "* My results:\n",
    "\n",
    "**Comparison of mean square displacement**\n",
    "\n",
    "<img src=\"assets/msd.png\" width=\"500\">\n",
    "\n",
    "\n",
    "**Comparison of diffison coefficient**\n",
    "\n",
    "<img src=\"assets/diffusivity.png\" width=\"500\">\n",
    "\n",
    "\n",
    "**CO2 diffusion coefficent (m^2/s)**\n",
    "| temperature | PFP | LightPFP |\n",
    "| - | - | - |\n",
    "| 300 | 2.519 | 2.567 | \n",
    "| 340 | 3.185 | 3.070 |\n",
    "| 400 | 3.736 | 3.920 |"
   ]
  },
  {
   "cell_type": "code",
   "execution_count": null,
   "id": "f21d1af4-ad61-44d5-a579-573cb22468d2",
   "metadata": {},
   "outputs": [],
   "source": [
    "from pathlib import Path\n",
    "\n",
    "eval_dir = Path(\"evaluate\")\n",
    "eval_dir.mkdir(exist_ok=True)\n",
    "\n",
    "temperature_list = [300, 340, 400]\n",
    "\n",
    "name_list = [\n",
    "    f\"MOF_8CO2_{temperature}K\" \n",
    "    for temperature in temperature_list\n",
    "]"
   ]
  },
  {
   "cell_type": "code",
   "execution_count": null,
   "id": "4bc2a1a5-6af3-429a-987e-715077ba0320",
   "metadata": {},
   "outputs": [],
   "source": [
    "from ase.io import Trajectory\n",
    "import numpy as np\n",
    "\n",
    "\n",
    "def get_CO2(atoms):\n",
    "    n_atoms_cell = len(atoms) // 8\n",
    "    ind = [j*n_atoms_cell + i for j in range(8) for i in range(424, n_atoms_cell)]\n",
    "    return atoms[ind]\n",
    "\n",
    "def get_msd(traj):\n",
    "    pos = np.array([get_CO2(atoms).get_positions() for atoms in traj])\n",
    "    msd = [np.mean(np.sum((pos[i+1:] - pos[:-(i+1)])**2, axis=2)) for i in range(len(pos)-1)]\n",
    "    return msd\n",
    "\n",
    "def get_diffusion_coef(msd, time_interval):\n",
    "    time = np.arange(len(msd)) * time_interval\n",
    "    D = np.polyfit(time, msd, 1)[0] / 6 *1e-5 # cm^2/s\n",
    "    return D"
   ]
  },
  {
   "cell_type": "code",
   "execution_count": null,
   "id": "32e28bbb-08b5-425c-b44e-6b0a35423d2d",
   "metadata": {},
   "outputs": [],
   "source": [
    "msd_dict = {}\n",
    "\n",
    "for calc in [\"pfp\", \"light_pfp\"]:\n",
    "    msd_dict[calc] = {}\n",
    "    for n in [8]:\n",
    "        msd_dict[calc][n] = {}\n",
    "        for temperature in [300, 340, 400]:\n",
    "            traj_name = f\"{calc}_md/MOF_{n}CO2_{temperature}K.traj\"\n",
    "            msd_dict[calc][n][temperature] = get_msd(Trajectory(traj_name))"
   ]
  },
  {
   "cell_type": "code",
   "execution_count": null,
   "id": "96aa67ed-c49c-4f7d-a9b6-a8e6052dca20",
   "metadata": {},
   "outputs": [],
   "source": [
    "import matplotlib.pyplot as plt\n",
    "\n",
    "for n in [8]:\n",
    "    for temperature, c in zip([300, 340, 400], [\"r\", \"b\", \"g\"]):\n",
    "        msd = msd_dict[\"pfp\"][n][temperature][:10]\n",
    "        time = np.arange(len(msd)) * 10\n",
    "        plt.plot(time, msd, label=f\"PFP, {temperature}K\", c=c)\n",
    "        msd = msd_dict[\"light_pfp\"][n][temperature][:10]\n",
    "        time = np.arange(len(msd)) * 10\n",
    "        plt.plot(time, msd, label=f\"PFP, {temperature}K\", c=c, ls=\"--\")\n",
    "\n",
    "plt.legend()\n",
    "plt.xlabel(\"time (ps)\")\n",
    "plt.ylabel(\"MSD (A^2)\")\n",
    "plt.savefig(eval_dir / \"msd.png\")"
   ]
  },
  {
   "cell_type": "code",
   "execution_count": null,
   "id": "375df002-d83e-4cea-92b7-410b951aeb4e",
   "metadata": {},
   "outputs": [],
   "source": [
    "D_dict = {}\n",
    "\n",
    "for calc in [\"pfp\", \"light_pfp\"]:\n",
    "    D_dict[calc] = {}\n",
    "    for n in [8]:\n",
    "        D_dict[calc][n] = {}\n",
    "        for temperature in [300, 340, 400]:\n",
    "            msd = msd_dict[calc][n][temperature]\n",
    "            D_dict[calc][n][temperature] = get_diffusion_coef(msd[:10], time_interval=10000)"
   ]
  },
  {
   "cell_type": "code",
   "execution_count": null,
   "id": "c102896c-2b49-4579-8a8e-f88150f9e396",
   "metadata": {},
   "outputs": [],
   "source": [
    "categories = list(D_dict['pfp'][8].keys())\n",
    "pfp_values = list(D_dict['pfp'][8].values())\n",
    "light_pfp_values = list(D_dict['light_pfp'][8].values())\n",
    "\n",
    "bar_width = 0.35\n",
    "r1 = np.arange(len(categories))\n",
    "r2 = [x + bar_width for x in r1]\n",
    "\n",
    "plt.figure(figsize=(10, 6))\n",
    "bar1 = plt.bar(r1, pfp_values, color='b', width=bar_width, edgecolor='grey', label='pfp')\n",
    "bar2 = plt.bar(r2, light_pfp_values, color='r', width=bar_width, edgecolor='grey', label='light_pfp')\n",
    "\n",
    "plt.xlabel('Temperature (K)', fontweight='bold')\n",
    "plt.xticks([r + bar_width/2 for r in range(len(categories))], categories)\n",
    "plt.ylabel('Diffusion coefficient (m2/s)', fontweight='bold')\n",
    "plt.title('Diffusion coefficient of CO2 in MOF-5')\n",
    "\n",
    "plt.legend()\n",
    "plt.show()\n",
    "plt.savefig(eval_dir/\"diffusivity.png\")"
   ]
  },
  {
   "cell_type": "markdown",
   "id": "fe5af96c-611a-4d42-ab9c-4af1a49572f7",
   "metadata": {},
   "source": [
    "## 8. Long MD simulation with LightPFP"
   ]
  },
  {
   "cell_type": "code",
   "execution_count": null,
   "id": "b60e9caa-121d-4fc9-b8e8-eb57dc6c568d",
   "metadata": {},
   "outputs": [],
   "source": [
    "md_dir = Path(\"production\")\n",
    "md_dir.mkdir(exist_ok=True)\n",
    "\n",
    "calc = ASECalculator(Estimator(model_id=model_id))\n",
    "\n",
    "mof = read(\"init_structure/MOF5.cif\")\n",
    "\n",
    "n_CO2_list = [8, 1, 4, 12, 16]\n",
    "temperature_list = [300, 340, 400, 320, 360, 380]\n",
    "\n",
    "for n_CO2 in n_CO2_list:\n",
    "    for temperature in temperature_list:\n",
    "        name = f\"MOF_{n_CO2}CO2_{temperature}K\"\n",
    "        atoms = add_multi_CO2(mof, n_CO2) * (2, 2, 2)\n",
    "        atoms.calc = calc\n",
    "        md_simulation(atoms, temperature, name)"
   ]
  }
 ],
 "metadata": {
  "kernelspec": {
   "display_name": "1: Python 3.9",
   "language": "python",
   "name": "python39"
  },
  "language_info": {
   "codemirror_mode": {
    "name": "ipython",
    "version": 3
   },
   "file_extension": ".py",
   "mimetype": "text/x-python",
   "name": "python",
   "nbconvert_exporter": "python",
   "pygments_lexer": "ipython3",
   "version": "3.9.16"
  }
 },
 "nbformat": 4,
 "nbformat_minor": 5
}
