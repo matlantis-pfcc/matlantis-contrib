{
 "cells": [
  {
   "attachments": {},
   "cell_type": "markdown",
   "id": "268f19bb-2e2e-437c-8694-5aace242a359",
   "metadata": {},
   "source": [
    "# Build an amorphous homopolymer geometry using EMC.\n",
    "Copyright ENEOS Corporation as contributors to Matlantis contrib project\n",
    "\n",
    "Enhanced Monte Carlo\\\n",
    "https://montecarlo.sourceforge.net/emc/Welcome.html \\\n",
    "https://matsci.org/c/emc/50\n",
    "\n",
    "P.J. in 't Veld and G.C. Rutledge, Macromolecules 2003, 36, 7358"
   ]
  },
  {
   "cell_type": "code",
   "execution_count": 1,
   "id": "ef7d7836-d887-4c42-9471-b8b6bbbac049",
   "metadata": {
    "tags": []
   },
   "outputs": [],
   "source": [
    "import os\n",
    "import sys\n",
    "import numpy as np\n",
    "\n",
    "from ase import Atoms, units\n",
    "from ase.io import read, write, Trajectory\n",
    "from ase.data import atomic_masses\n",
    "\n",
    "from rdkit import Chem\n",
    "from rdkit.Chem import AllChem, Draw\n"
   ]
  },
  {
   "cell_type": "code",
   "execution_count": 2,
   "id": "b5cac277",
   "metadata": {},
   "outputs": [
    {
     "data": {
      "application/vnd.jupyter.widget-view+json": {
       "model_id": "ebb3c1c78523442baaa8060923f54e0f",
       "version_major": 2,
       "version_minor": 0
      },
      "text/plain": []
     },
     "metadata": {},
     "output_type": "display_data"
    }
   ],
   "source": [
    "from pfcc_extras.visualize.view import view_ngl\n",
    "from pfcc_extras.structure.ase_rdkit_converter import smiles_to_atoms, atoms_to_smiles"
   ]
  },
  {
   "cell_type": "code",
   "execution_count": 3,
   "id": "5f877ca4-e68c-4a4f-97c2-9f15a33d5001",
   "metadata": {},
   "outputs": [],
   "source": [
    "sys.path.insert(0, 'EMC_interface/src/emc_interface')\n",
    "from emc_interface import EMCInterface\n",
    "\n",
    "outputdir = './output'\n",
    "os.makedirs(outputdir, exist_ok=True)"
   ]
  },
  {
   "cell_type": "code",
   "execution_count": 4,
   "id": "6b5fe49c",
   "metadata": {},
   "outputs": [],
   "source": [
    "def set_elements_lammpsdata(atoms):\n",
    "    mass_number = {int(np.round(m)):i for i, m in enumerate(atomic_masses)}\n",
    "    masses = atoms.get_masses()\n",
    "    numbers = [mass_number[int(np.round(m))] for m in masses] \n",
    "    atoms.numbers=numbers\n",
    "    return atoms"
   ]
  },
  {
   "cell_type": "code",
   "execution_count": 5,
   "id": "7db3f556",
   "metadata": {},
   "outputs": [
    {
     "data": {
      "image/png": "[encoded data removed]",
      "text/plain": [
       "<IPython.core.display.Image object>"
      ]
     },
     "metadata": {},
     "output_type": "display_data"
    }
   ],
   "source": [
    "smiles_center = '*NCCCCCC(=O)*'\n",
    "smiles_left = 'NCCCCCC(=O)*'\n",
    "smiles_right = '*NCCCCCC(=O)O'\n",
    "mols = [Chem.MolFromSmiles(smiles) for smiles in [smiles_center, smiles_left, smiles_right]]\n",
    "view = Draw.MolsToGridImage(mols)\n",
    "display(view)\n",
    "\n",
    "settings = dict(\n",
    "            smiles_center = smiles_center,\n",
    "            smiles_left = smiles_left,\n",
    "            smiles_right = smiles_right,\n",
    "            ntotal = 2000,  # Number of atoms in the cell.\n",
    "            density = 0.85, # Set slightly small density [g/cm3].\n",
    "            field='pcff',\n",
    "            ring_depth = 9,  #'auto', The max ring size in the molecules.\n",
    "            build_dir = './build',\n",
    "            lammps_prefix = 'Nylon6',\n",
    "            project='homopolymer',\n",
    "            seed=12345,\n",
    "            repeat_center=8,  # 10 monomers with center + left + right \n",
    ")\n"
   ]
  },
  {
   "cell_type": "markdown",
   "id": "90b38b60",
   "metadata": {},
   "source": [
    "### Comfirm the polymer structure."
   ]
  },
  {
   "cell_type": "code",
   "execution_count": 6,
   "id": "b1c88d49",
   "metadata": {},
   "outputs": [
    {
     "name": "stdout",
     "output_type": "stream",
     "text": [
      "{'center': '*NCCCCCC(=O)*', 'left': 'NCCCCCC(=O)*', 'right': '*NCCCCCC(=O)O', 'field': 'pcff', 'ntotal': 200, 'density': 0.85, 'ring_depth': 9, 'build_dir': './build', 'lammps_prefix': 'Nylon6', 'project': 'homopolymer', 'seed': 12345, 'emc_execute': 'false', 'repeat_center': 8, 'repeat_left': 1, 'repeat_right': 1}\n",
      "EMC Setup v4.1.3 (April 7, 2022), (c) 2004-2022 Pieter J. in 't Veld\n",
      "\n",
      "Info: reading script from \"./setup.esh\"\n",
      "Info: phase1 = {poly}\n",
      "Info: project = homopolymer\n",
      "Info: ntotal = 200\n",
      "Info: direction = x\n",
      "Info: shape = 1\n",
      "Info: force field type = \"cff\"\n",
      "Info: force field name = \"EMC_interface/EMC/v9.4.4/field/pcff/pcff\"\n",
      "Info: force field location = \".\"\n",
      "Info: build for LAMMPS script in \"./build\"\n",
      "Info: creating EMC build script \"build.emc\"\n",
      "Info: assuming mol fractions\n",
      "Info: creating LAMMPS run script \"homopolymer.in\"\n",
      "Info: adding pressure sampling\n",
      "\n",
      "\n",
      "\n",
      "(* EMC: Enhanced Monte Carlo simulations *)\n",
      "\n",
      "version 9.4.4, build Jul 27 2022 17:22:21, date Thu Jan 19 05:48:03 2023\n",
      "\n",
      "valid until Jul 27, 2023\n",
      "\n",
      "Info: script v1.0 started at Thu Jan 19 05:48:03 2023\n",
      "Info: variables = {seed -> -1, ntotal -> 200, fshape -> 1, output ->\n",
      "        \"homopolymer\", field -> \"EMC_interface/EMC/v9.4.4/field/pcff/pcff\", \n",
      "        location1 -> \"./\", nav -> 0.6022141179, temperature -> 300, radius ->\n",
      "        5, nrelax -> 100, weight_nonbond -> 0.0001, weight_bond -> 0.0001, \n",
      "        weight_focus -> 1, cutoff -> 9.5, charge_cutoff -> 9.5, kappa -> 4, \n",
      "        density1 -> 0.85, lprevious -> 0, lphase -> 0, f_poly -> 1, \n",
      "        chem_center -> \"*NCCCCCC(=O)*\", chem_left -> \"NCCCCCC(=O)*\", \n",
      "        chem_right -> \"*NCCCCCC(=O)O\"}\n",
      "Info: output = \n",
      "      {detail -> 3, wide -> false, expand -> false, math -> true, reduced ->\n",
      "        false, info -> true, strict -> true, warning -> true, message -> true,\n",
      "        debug -> false, exit -> true, ignore -> false}\n",
      "Info: field = {id -> pcff, mode -> cff, style -> none, name ->\n",
      "        {\"./EMC_interface/EMC/v9.4.4/field/pcff/pcff.frc\", \n",
      "          \"./EMC_interface/EMC/v9.4.4/field/pcff/pcff_templates.dat\"}, \n",
      "        compress -> false, error -> true, debug -> false, check -> {atomistic\n",
      "          -> true, charge -> true}}\n",
      "Info: importing './EMC_interface/EMC/v9.4.4/field/pcff/pcff.frc'\n",
      "Warning: duplicate field.bond entry 40 [28:28] omitted.\n",
      "Warning: duplicate field.bond entry 51 [28:77] omitted.\n",
      "Warning: duplicate field.bond entry 62 [28:157] omitted.\n",
      "Warning: duplicate field.bond entry 176 [44:45] omitted.\n",
      "Warning: duplicate field.bond entry 328 [53:156] omitted.\n",
      "Warning: duplicate field.bond entry 364 [65:65] omitted.\n",
      "Warning: duplicate field.bond entry 365 [65:65] omitted.\n",
      "Warning: duplicate field.bond entry 367 [65:77] omitted.\n",
      "Warning: duplicate field.bond entry 689 [143:171] omitted.\n",
      "Info: groups = {ngroups -> 3, group -> {\n",
      "          {id -> center, chemistry -> \"*NCCCCCC(=O)*\", depth -> 6, charges ->\n",
      "            forcefield, charge -> 0, terminator -> false, nconnects -> 4, \n",
      "            connects -> {\n",
      "              {source -> $end1, destination -> {index -> center, site ->\n",
      "                  $end2}}, \n",
      "              {source -> $end1, destination -> {index -> left, site ->\n",
      "                  $end1}}, \n",
      "              {source -> $end2, destination -> {index -> center, site ->\n",
      "                  $end1}}, \n",
      "              {source -> $end2, destination -> {index -> right, site ->\n",
      "                  $end1}}}, bias -> none}, \n",
      "          {id -> left, chemistry -> \"NCCCCCC(=O)*\", depth -> 6, charges ->\n",
      "            forcefield, charge -> 0, terminator -> false, nconnects -> 1, \n",
      "            connects -> \n",
      "            {source -> $end1, destination -> {index -> center, site ->\n",
      "                $end1}}, bias -> none}, \n",
      "          {id -> right, chemistry -> \"*NCCCCCC(=O)O\", depth -> 6, charges ->\n",
      "            forcefield, charge -> 0, terminator -> false, nconnects -> 1, \n",
      "            connects -> \n",
      "            {source -> $end1, destination -> {index -> center, site ->\n",
      "                $end2}}, bias -> none}}, ndeletes -> 0, npolymers -> 0}\n",
      "Info: field = {mode -> apply, style -> none, error -> false, debug -> false, \n",
      "        check -> {atomistic -> true, charge -> true}}\n",
      "Info: applying './EMC_interface/EMC/v9.4.4/field/pcff/pcff.frc'\n",
      "Warning: increment pair {na, c_1} not found.\n",
      "Info: variables = {lg_center -> 19, lg_left -> 20, lg_right -> 21, norm_poly\n",
      "        -> 1, l_poly -> 193, mg_center -> 113.16067, mg_left -> 114.16864, \n",
      "        mg_right -> 130.16807, m_poly -> 1149.62207, f_poly -> 1, norm -> 193,\n",
      "        n_poly -> 1, ntotal -> 0, mtotal -> 0}\n",
      "Info: simulation = {units -> {permittivity -> 1, seed -> seed}, types -> {\n",
      "          coulomb -> {pair -> {active -> true, cutoff -> charge_cutoff}}}}\n",
      "Info: clusters = {progress -> none, nbodys -> 0, nclusters -> 0, ngrafts -> 0,\n",
      "        npolymers -> 1, \n",
      "        polymer -> \n",
      "        {id -> poly, system -> main, type -> alternate, niterations -> 1000, n\n",
      "          -> 1, groups -> {center, left, right}, weights -> {1, 1, 1}, nrepeat\n",
      "          -> {8, 1, 1}}}\n",
      "      delta = {systems -> 1, bodies -> 0, clusters -> 1, sites -> 193}\n",
      "Info: field = {mode -> apply, style -> none, error -> false, debug -> false, \n",
      "        check -> {atomistic -> true, charge -> true}}\n",
      "Info: applying './EMC_interface/EMC/v9.4.4/field/pcff/pcff.frc'\n",
      "Warning: increment pair {na, c_1} not found.\n",
      "Info: variables = {nphase1 -> 193, mphase1 -> 1149.62207, vphase1 ->\n",
      "        2245.87320812, lbox -> 13.0956907686, lphase1 -> 13.0956907686, lxx ->\n",
      "        13.0956907686, lyy -> 13.0956907686, lzz -> 13.0956907686, lzy -> 0, \n",
      "        lzx -> 0, lyx -> 0, lphase -> 13.0956907686, ntotal -> 193, mtotal ->\n",
      "        1149.62207, vtotal -> 2245.87320812}\n",
      "Info: types = {cff -> {pair -> {active -> true, mode -> repulsive}}}\n",
      "Info: build = {\n",
      "        system -> {id -> main, temperature -> 300, density -> 0.85, split ->\n",
      "          false, flag -> {charge -> true, map -> true, pbc -> true, geometry\n",
      "            -> true}, periodic -> {x -> true, y -> true, z -> true}, geometry\n",
      "          -> {xx -> 13.0956907686, yy -> 13.0956907686, zz -> 13.0956907686, \n",
      "            zy -> 0, zx -> 0, yx -> 0}, deform -> {xx -> 1, yy -> 1, zz -> 1, \n",
      "            zy -> 0, zx -> 0, yx -> 0}}, \n",
      "        select -> {progress -> list, frequency -> 1, message -> nkt, center ->\n",
      "          false, origin -> {x -> 0, y -> 0, z -> 0}, order -> random, check ->\n",
      "          true, nclusters -> 1, cluster -> poly, \n",
      "          relax -> {ncycles -> 100, radius -> 5}, name -> \"error\", \n",
      "          grow -> {check -> all, method -> energetic, cutoff -> 0, \n",
      "            weight -> {nonbonded -> 0.0001, bonded -> 0.0001, focus -> 1}, \n",
      "            theta -> 0, dphi -> 1, nbonded -> 20, ntrials -> 20, niterations\n",
      "            -> 1000}}}\n",
      "Info: building 193 sites.\n",
      "\n",
      "   progress/%      E[0]/nkT\n",
      "---------------------------\n",
      "            1             0\n",
      "            2      1.069262\n",
      "            3     -1.153367\n",
      "            4     -1.198065\n",
      "            5     -0.841749\n",
      "            6    -0.6149693\n",
      "            7    0.01055097\n",
      "            8    -0.1772677\n",
      "            9   -0.04336906\n",
      "           10     0.4316008\n",
      "           11     0.8300508\n",
      "           12      1.441972\n",
      "           13      1.407163\n",
      "           15      1.397251\n",
      "           16      1.042985\n",
      "           17      1.059532\n",
      "           18      1.058277\n",
      "           19     0.9295742\n",
      "           20     0.9827235\n",
      "           21      1.591123\n",
      "           22      1.771714\n",
      "           23      1.637573\n",
      "           24      1.708223\n",
      "           25      1.728775\n",
      "           26       1.69836\n",
      "           27      1.579791\n",
      "           28      1.629786\n",
      "           29      1.478753\n",
      "           30      1.612342\n",
      "           31      1.725542\n",
      "           32      1.728623\n",
      "           33      1.997904\n",
      "           34      1.791019\n",
      "           35      1.694976\n",
      "           36      1.674748\n",
      "           37      1.675681\n",
      "           38      1.416792\n",
      "           39      1.467554\n",
      "           40      1.442698\n",
      "           41      1.557757\n",
      "           42      1.605388\n",
      "           43      1.673826\n",
      "           44      1.624328\n",
      "           45      1.495418\n",
      "           46      1.456342\n",
      "           47      1.489034\n",
      "           48       1.39425\n",
      "           49      1.413257\n",
      "           50      1.555889\n",
      "           51      1.773128\n",
      "           52      1.533152\n",
      "           53      1.558957\n",
      "           54      1.510436\n",
      "           55      1.615791\n",
      "           56      1.433411\n",
      "           58      1.682053\n",
      "           59      1.619518\n",
      "           60      1.738625\n",
      "           61       1.81066\n",
      "           62      1.937553\n",
      "           63      1.821577\n",
      "           64      1.762988\n",
      "           65      1.798505\n",
      "           66      1.817043\n",
      "           67      1.954718\n",
      "           68      1.779254\n",
      "           69      1.844891\n",
      "           70      1.802579\n",
      "           72      1.699426\n",
      "           73      1.739359\n",
      "           74      1.709026\n",
      "           75      1.666522\n",
      "           76       1.64686\n",
      "           77      1.755789\n",
      "           78      1.797671\n",
      "           79      1.745151\n",
      "           80      1.871419\n",
      "           81      1.901703\n",
      "           82      1.782085\n",
      "           83      1.864676\n",
      "           84      1.776306\n",
      "           85      1.771784\n",
      "           86      1.855632\n",
      "           87      1.845615\n",
      "           88      1.746469\n",
      "           89      1.762867\n",
      "           90      1.873259\n",
      "           91      2.075121\n",
      "           92      1.873868\n",
      "           93      2.030706\n",
      "           94      2.391767\n",
      "           95      2.385666\n",
      "           96      2.516154\n",
      "           97      2.573181\n",
      "           98      2.542995\n",
      "           99      3.058727\n",
      "          100      2.896812\n",
      "---------------------------\n",
      "      average      1.514444\n",
      "\n",
      "      niterations = 193, <niterations> = 1\n",
      "Info: force = {style -> none, message -> nkt}\n",
      "\n",
      "(* Energy *)\n",
      "\n",
      "                         E[0]/nkT \n",
      "---------------------------------\n",
      "cff.angle_angle       0.008993198 \n",
      "cff.angle_angle_tor   -0.09205292 \n",
      "cff.angle                1.766749 \n",
      "cff.angle_torsion      -0.1030269 \n",
      "cff.bond_angle        -0.02048584 \n",
      "cff.bond_bond_13                0 \n",
      "cff.bond_bond         0.001634714 \n",
      "cff.bond                0.6049135 \n",
      "cff.end_bond_torsio   0.001283679 \n",
      "cff.improper           0.02204857 \n",
      "cff.middle_bond_tor  0.0003236987 \n",
      "cff.pair                 1.696386 \n",
      "cff.torsion            -0.9899554 \n",
      "---------------------------------\n",
      "total                    2.896812 \n",
      "\n",
      "Info: force = {style -> init, message -> nkt}\n",
      "\n",
      "(* Energy *)\n",
      "\n",
      "                         E[0]/nkT \n",
      "---------------------------------\n",
      "cff.angle_angle       0.008993198 \n",
      "cff.angle_angle_tor   -0.09205292 \n",
      "cff.angle                1.766749 \n",
      "cff.angle_torsion      -0.1030269 \n",
      "cff.bond_angle        -0.02048584 \n",
      "cff.bond_bond_13                0 \n",
      "cff.bond_bond         0.001634714 \n",
      "cff.bond                0.6049135 \n",
      "cff.end_bond_torsio   0.001283679 \n",
      "cff.improper           0.02204857 \n",
      "cff.middle_bond_tor  0.0003236987 \n",
      "cff.pair                 1.696386 \n",
      "cff.torsion            -0.9899554 \n",
      "---------------------------------\n",
      "total                    2.896812 \n",
      "\n",
      "Info: variables = {nl_poly -> 1}\n",
      "Info: put = {name -> \"homopolymer\", compress -> true, detail -> 3}\n",
      "Info: pdb = {name -> \"homopolymer\", compress -> false, extend -> false, mode\n",
      "        -> put, system -> main, length -> auto, forcefield -> cff, atomistic\n",
      "        -> full, depth -> auto, charges -> false, detect -> false, atom ->\n",
      "        index, residue -> index, segment -> index, rank -> false, hexadecimal\n",
      "        -> false, cut -> false, pbc -> true, map -> false, unwrap -> clusters,\n",
      "        rigid -> true, fixed -> true, vdw -> false, connectivity -> false, \n",
      "        crystal -> false, element -> auto, parameters -> false, flag -> {\n",
      "          charge -> true, map -> true, pbc -> true, geometry -> true}}\n",
      "Info: lammps = {name -> \"homopolymer\", compress -> false, system -> main, mode\n",
      "        -> put, length -> auto, units -> none, forcefield -> cff, shake ->\n",
      "        auto, atomistic -> none, detect -> true, cutoff -> false, charges ->\n",
      "        true, ewald -> true, ellipsoid -> false, sphere -> false, bonds ->\n",
      "        false, types -> false, data -> true, parameters -> true, cross ->\n",
      "        false, variables -> true, coefficients -> true, comment -> true, map\n",
      "        -> true, unwrap -> true, flag -> {charge -> true, map -> true, pbc ->\n",
      "          true, geometry -> true}}\n",
      "Info: tsc: bonded = {4.204, 1.52, 0.7432, 1.737, 0.01777, 0.008452} s\n",
      "Info: tsc: simulation = 13.61 s, threads = 7.972 s\n",
      "Info: tsc: thread = 7.435 s\n",
      "Info: script v1.0 finished at Thu Jan 19 05:48:19 2023\n",
      "\n",
      "Info: Thank you for using EMC v9.4.4\n",
      "Info: In any publication of scientific results based in part or\n",
      "Info: completely on the use of EMC, please include this reference:\n",
      "Info: P.J. in 't Veld and G.C. Rutledge, Macromolecules 2003, 36, 7358\n",
      "\n",
      "\n",
      "\n",
      "Number of atoms: 193 (< 200)\n"
     ]
    },
    {
     "data": {
      "application/vnd.jupyter.widget-view+json": {
       "model_id": "28a1da5d8fc64c4aa52d4454deded50b",
       "version_major": 2,
       "version_minor": 0
      },
      "text/plain": [
       "HBox(children=(NGLWidget(), VBox(children=(Dropdown(description='Show', options=('All', 'O', 'C', 'N', 'H'), v…"
      ]
     },
     "metadata": {},
     "output_type": "display_data"
    }
   ],
   "source": [
    "ntotal, settings['ntotal'] = settings['ntotal'], 200\n",
    "\n",
    "builder = EMCInterface()\n",
    "builder.verbose  =True\n",
    "builder.setup('homopolymer', **settings)\n",
    "builder.build()\n",
    "\n",
    "\n",
    "\n",
    "basename =  f'{builder.settings[\"project\"]}'\n",
    "atoms = read(f'{basename}.pdb')\n",
    "print(f'Number of atoms: {len(atoms)} (< {settings[\"ntotal\"]})')\n",
    "settings['ntotal'] = ntotal\n",
    "\n",
    "view_ngl([atoms], replace_structure=True)\n"
   ]
  },
  {
   "cell_type": "markdown",
   "id": "c9d0b62c",
   "metadata": {},
   "source": [
    "## Build an amorphous polymer."
   ]
  },
  {
   "cell_type": "code",
   "execution_count": 7,
   "id": "398162c8",
   "metadata": {},
   "outputs": [],
   "source": [
    "builder = EMCInterface()\n",
    "builder.setup('homopolymer', **settings)"
   ]
  },
  {
   "cell_type": "code",
   "execution_count": 8,
   "id": "9d57e2b0",
   "metadata": {},
   "outputs": [],
   "source": [
    "builder.build()"
   ]
  },
  {
   "cell_type": "code",
   "execution_count": 9,
   "id": "44276bd0",
   "metadata": {},
   "outputs": [
    {
     "name": "stdout",
     "output_type": "stream",
     "text": [
      "./output/build_homopolymer\n"
     ]
    }
   ],
   "source": [
    "savedir = os.path.join(outputdir, f'build_{builder.settings[\"project\"]}')\n",
    "print(savedir)\n",
    "builder.savefiles(savedir)"
   ]
  },
  {
   "cell_type": "code",
   "execution_count": 10,
   "id": "c2f53714-6a32-4aca-a029-3379a093a6fd",
   "metadata": {},
   "outputs": [
    {
     "data": {
      "application/vnd.jupyter.widget-view+json": {
       "model_id": "a82b617c81c049feb43dd44d73076d16",
       "version_major": 2,
       "version_minor": 0
      },
      "text/plain": [
       "HBox(children=(NGLWidget(max_frame=1), VBox(children=(Dropdown(description='Show', options=('All', 'O', 'C', '…"
      ]
     },
     "metadata": {},
     "output_type": "display_data"
    }
   ],
   "source": [
    "basename =  f'{savedir}/{builder.settings[\"project\"]}'\n",
    "atoms_lammpsdata = read(f'{basename}.data', format='lammps-data')\n",
    "atoms_lammpsdata = set_elements_lammpsdata(atoms_lammpsdata)\n",
    "atoms = read(f'{basename}.pdb')\n",
    "\n",
    "view_ngl([atoms, atoms_lammpsdata], replace_structure=True)"
   ]
  },
  {
   "cell_type": "code",
   "execution_count": 11,
   "id": "a1c0adc0",
   "metadata": {},
   "outputs": [],
   "source": [
    "import importlib\n",
    "MODEL_VERSION='latest'\n",
    "CALC_MODE='CRYSTAL_PLUS_D3'\n",
    "def get_calculator(model_version=MODEL_VERSION, calc_mode=CALC_MODE):\n",
    "\n",
    "    spec = importlib.util.find_spec('pfp_api_client')\n",
    "    if spec is None:\n",
    "        from ase.calculators.emt import EMT\n",
    "        calculator = EMT()\n",
    "        return calculator\n",
    "\n",
    "    from pfp_api_client.pfp.calculators.ase_calculator import ASECalculator\n",
    "    from pfp_api_client.pfp.estimator import Estimator, EstimatorCalcMode \n",
    "    if isinstance(calc_mode, str):\n",
    "        calc_mode = getattr(EstimatorCalcMode, calc_mode)\n",
    "    estimator = Estimator(model_version=model_version, calc_mode=calc_mode)\n",
    "    calculator = ASECalculator(estimator)\n",
    "    return calculator "
   ]
  },
  {
   "cell_type": "code",
   "execution_count": 12,
   "id": "bf2b8075-b249-403b-add9-e342693d394b",
   "metadata": {},
   "outputs": [
    {
     "name": "stderr",
     "output_type": "stream",
     "text": [
      "/home/jovyan/.local/lib/python3.7/site-packages/pfp_api_client/__init__.py:36: UserWarning: New version of pfp-api-client is available. Please consider upgrading by `pip install -U pfp-api-client`.\n",
      "  f\"New version of {package_name} is available. Please consider\"\n"
     ]
    },
    {
     "name": "stdout",
     "output_type": "stream",
     "text": [
      "      Step     Time          Energy         fmax\n",
      "BFGS:    0 05:51:31    -8479.187523        6.8700\n",
      "BFGS:    1 05:52:41    -8514.551587        7.3324\n",
      "BFGS:    2 05:53:54    -8533.127194        1.8286\n",
      "BFGS:    3 05:55:47    -8547.817680        4.8026\n",
      "BFGS:    4 05:58:24    -8558.064679        3.8680\n",
      "BFGS:    5 06:01:01    -8563.869190        3.0698\n",
      "BFGS:    6 06:03:32    -8568.395198        1.5837\n",
      "BFGS:    7 06:06:13    -8573.110187        2.6834\n",
      "BFGS:    8 06:09:07    -8575.676327        2.7998\n",
      "BFGS:    9 06:11:59    -8578.495530        1.2605\n",
      "BFGS:   10 06:14:56    -8580.898314        2.5518\n"
     ]
    },
    {
     "data": {
      "text/plain": [
       "False"
      ]
     },
     "execution_count": 12,
     "metadata": {},
     "output_type": "execute_result"
    }
   ],
   "source": [
    "from ase.optimize import BFGS\n",
    "atoms.calc = get_calculator()\n",
    "opt = BFGS(atoms)\n",
    "opt.run(steps=5)"
   ]
  },
  {
   "cell_type": "code",
   "execution_count": 13,
   "id": "853bcaef",
   "metadata": {},
   "outputs": [
    {
     "data": {
      "application/vnd.jupyter.widget-view+json": {
       "model_id": "f783cc3a357c4df580912ac702ca5b38",
       "version_major": 2,
       "version_minor": 0
      },
      "text/plain": [
       "HBox(children=(NGLWidget(), VBox(children=(Dropdown(description='Show', options=('All', 'O', 'C', 'N', 'H'), v…"
      ]
     },
     "metadata": {},
     "output_type": "display_data"
    }
   ],
   "source": [
    "view_ngl(opt.atoms)"
   ]
  }
 ],
 "metadata": {
  "kernelspec": {
   "display_name": "Python 3.7",
   "language": "python",
   "name": "python37"
  },
  "language_info": {
   "codemirror_mode": {
    "name": "ipython",
    "version": 3
   },
   "file_extension": ".py",
   "mimetype": "text/x-python",
   "name": "python",
   "nbconvert_exporter": "python",
   "pygments_lexer": "ipython3",
   "version": "3.7.13"
  },
  "vscode": {
   "interpreter": {
    "hash": "c234fce11f2837fac9d5905a5a3f629cc63d237c9357fcd422f1c8717e73452c"
   }
  }
 },
 "nbformat": 4,
 "nbformat_minor": 5
}
