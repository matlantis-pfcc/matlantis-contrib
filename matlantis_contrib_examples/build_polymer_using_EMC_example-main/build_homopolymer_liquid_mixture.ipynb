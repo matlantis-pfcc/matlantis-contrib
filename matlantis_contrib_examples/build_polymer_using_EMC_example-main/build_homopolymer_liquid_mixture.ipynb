{
 "cells": [
  {
   "attachments": {},
   "cell_type": "markdown",
   "id": "268f19bb-2e2e-437c-8694-5aace242a359",
   "metadata": {},
   "source": [
    "# Build a polymer/liquid mixture geometry using EMC.\n",
    "Copyright ENEOS Corporation as contributors to Matlantis contrib project\n",
    "\n",
    "Enhanced Monte Carlo\\\n",
    "https://montecarlo.sourceforge.net/emc/Welcome.html \\\n",
    "https://matsci.org/c/emc/50\n",
    "\n",
    "P.J. in 't Veld and G.C. Rutledge, Macromolecules 2003, 36, 7358"
   ]
  },
  {
   "cell_type": "code",
   "execution_count": 1,
   "id": "ef7d7836-d887-4c42-9471-b8b6bbbac049",
   "metadata": {
    "tags": []
   },
   "outputs": [],
   "source": [
    "import os\n",
    "import sys\n",
    "import numpy as np\n",
    "\n",
    "from ase import Atoms, units\n",
    "from ase.io import read, write, Trajectory\n",
    "from ase.data import atomic_masses\n",
    "\n",
    "from rdkit import Chem\n",
    "from rdkit.Chem import AllChem, Draw\n"
   ]
  },
  {
   "cell_type": "code",
   "execution_count": 2,
   "id": "b5cac277",
   "metadata": {},
   "outputs": [
    {
     "data": {
      "application/vnd.jupyter.widget-view+json": {
       "model_id": "fc0114a4bb334f59ba5eb6ce8cb2567a",
       "version_major": 2,
       "version_minor": 0
      },
      "text/plain": []
     },
     "metadata": {},
     "output_type": "display_data"
    }
   ],
   "source": [
    "from pfcc_extras.visualize.view import view_ngl\n",
    "from pfcc_extras.structure.ase_rdkit_converter import smiles_to_atoms, atoms_to_smiles"
   ]
  },
  {
   "cell_type": "code",
   "execution_count": 3,
   "id": "7d40c6f7-d511-4876-a83f-93ad6e3e364a",
   "metadata": {},
   "outputs": [],
   "source": [
    "sys.path.insert(0, 'EMC_interface/src/emc_interface')\n",
    "from emc_interface import EMCInterface\n",
    "\n",
    "outputdir = './output'"
   ]
  },
  {
   "cell_type": "code",
   "execution_count": 4,
   "id": "65e9cd7d",
   "metadata": {},
   "outputs": [],
   "source": [
    "def set_elements_lammpsdata(atoms):\n",
    "    mass_number = {int(np.round(m)):i for i, m in enumerate(atomic_masses)}\n",
    "    masses = atoms.get_masses()\n",
    "    numbers = [mass_number[int(np.round(m))] for m in masses] \n",
    "    atoms.numbers=numbers\n",
    "    return atoms"
   ]
  },
  {
   "cell_type": "code",
   "execution_count": 5,
   "id": "badb83f3",
   "metadata": {},
   "outputs": [
    {
     "data": {
      "image/png": "[encoded data removed]",
      "text/plain": [
       "<IPython.core.display.Image object>"
      ]
     },
     "metadata": {},
     "output_type": "display_data"
    }
   ],
   "source": [
    "name_smiles_fractions = {\"water\":(\"O\", 1), \n",
    "\"alcohol\":(\"CCO\", 1),\n",
    "# \"salt\":(\"[Na+].[Cl-]\", 5)\n",
    "}\n",
    "smileses = [s for n,(s,f) in name_smiles_fractions.items()]\n",
    "\n",
    "smiles_center = '*NCCCCCC(=O)*'\n",
    "smiles_left = 'NCCCCCC(=O)*'\n",
    "smiles_right = '*NCCCCCC(=O)O'\n",
    "\n",
    "smileses.extend([smiles_center, smiles_left, smiles_right])\n",
    "\n",
    "mols = [Chem.MolFromSmiles(smiles) for smiles in smileses]\n",
    "view = Draw.MolsToGridImage(mols)\n",
    "display(view)\n",
    "\n",
    "settings = dict(\n",
    "            name_smiles_fractions = name_smiles_fractions,\n",
    "            smiles_center = smiles_center,\n",
    "            smiles_left = smiles_left,\n",
    "            smiles_right = smiles_right,\n",
    "            polymer_fraction=1,\n",
    "            ntotal = 2000,  # Number of atoms in the cell.\n",
    "            density = 0.85, # Set slightly small density [g/cm3].\n",
    "            field='pcff',\n",
    "            ring_depth = 9,  #'auto', The max ring size in the molecules.\n",
    "            build_dir = './build',\n",
    "            lammps_prefix = 'mixture',\n",
    "            project='mixture',\n",
    "            seed=12345,\n",
    "            repeat_center=8,  # 10 monomers with center + left + right \n",
    ")"
   ]
  },
  {
   "cell_type": "code",
   "execution_count": 6,
   "id": "d8774d94",
   "metadata": {},
   "outputs": [
    {
     "name": "stdout",
     "output_type": "stream",
     "text": [
      "{'center': '*NCCCCCC(=O)*', 'left': 'NCCCCCC(=O)*', 'right': '*NCCCCCC(=O)O', 'field': 'pcff', 'ntotal': 400, 'density': 0.85, 'ring_depth': 9, 'build_dir': './build', 'lammps_prefix': 'mixture', 'project': 'mixture', 'seed': 12345, 'emc_execute': 'false', 'polymer_fraction': 1, 'repeat_center': 8, 'repeat_left': 1, 'repeat_right': 1, 'groups': 'water           O\\nalcohol         CCO', 'clusters': 'water           water,1\\nalcohol         alcohol,1\\npoly            alternate,1'}\n",
      "EMC Setup v4.1.3 (April 7, 2022), (c) 2004-2022 Pieter J. in 't Veld\n",
      "\n",
      "Info: reading script from \"./setup.esh\"\n",
      "Info: phase1 = {water, alcohol, poly}\n",
      "Info: project = mixture\n",
      "Info: ntotal = 400\n",
      "Info: direction = x\n",
      "Info: shape = 1\n",
      "Info: force field type = \"cff\"\n",
      "Info: force field name = \"EMC_interface/EMC/v9.4.4/field/pcff/pcff\"\n",
      "Info: force field location = \".\"\n",
      "Info: build for LAMMPS script in \"./build\"\n",
      "Info: creating EMC build script \"build.emc\"\n",
      "Info: assuming mol fractions\n",
      "Info: creating LAMMPS run script \"mixture.in\"\n",
      "Info: adding pressure sampling\n",
      "\n",
      "\n",
      "\n",
      "(* EMC: Enhanced Monte Carlo simulations *)\n",
      "\n",
      "version 9.4.4, build Jul 27 2022 17:22:21, date Thu Jan 19 05:56:11 2023\n",
      "\n",
      "valid until Jul 27, 2023\n",
      "\n",
      "Info: script v1.0 started at Thu Jan 19 05:56:11 2023\n",
      "Info: variables = {seed -> -1, ntotal -> 400, fshape -> 1, output ->\n",
      "        \"mixture\", field -> \"EMC_interface/EMC/v9.4.4/field/pcff/pcff\", \n",
      "        location1 -> \"./\", nav -> 0.6022141179, temperature -> 300, radius ->\n",
      "        5, nrelax -> 100, weight_nonbond -> 0.0001, weight_bond -> 0.0001, \n",
      "        weight_focus -> 1, cutoff -> 9.5, charge_cutoff -> 9.5, kappa -> 4, \n",
      "        density1 -> 0.85, lprevious -> 0, lphase -> 0, f_water -> 1, f_alcohol\n",
      "        -> 1, f_poly -> 1, chem_center -> \"*NCCCCCC(=O)*\", chem_left ->\n",
      "        \"NCCCCCC(=O)*\", chem_right -> \"*NCCCCCC(=O)O\", chem_water -> \"O\", \n",
      "        chem_alcohol -> \"CCO\"}\n",
      "Info: output = \n",
      "      {detail -> 3, wide -> false, expand -> false, math -> true, reduced ->\n",
      "        false, info -> true, strict -> true, warning -> true, message -> true,\n",
      "        debug -> false, exit -> true, ignore -> false}\n",
      "Info: field = {id -> pcff, mode -> cff, style -> none, name ->\n",
      "        {\"./EMC_interface/EMC/v9.4.4/field/pcff/pcff.frc\", \n",
      "          \"./EMC_interface/EMC/v9.4.4/field/pcff/pcff_templates.dat\"}, \n",
      "        compress -> false, error -> true, debug -> false, check -> {atomistic\n",
      "          -> true, charge -> true}}\n",
      "Info: importing './EMC_interface/EMC/v9.4.4/field/pcff/pcff.frc'\n",
      "Warning: duplicate field.bond entry 40 [28:28] omitted.\n",
      "Warning: duplicate field.bond entry 51 [28:77] omitted.\n",
      "Warning: duplicate field.bond entry 62 [28:157] omitted.\n",
      "Warning: duplicate field.bond entry 176 [44:45] omitted.\n",
      "Warning: duplicate field.bond entry 328 [53:156] omitted.\n",
      "Warning: duplicate field.bond entry 364 [65:65] omitted.\n",
      "Warning: duplicate field.bond entry 365 [65:65] omitted.\n",
      "Warning: duplicate field.bond entry 367 [65:77] omitted.\n",
      "Warning: duplicate field.bond entry 689 [143:171] omitted.\n",
      "Info: groups = {ngroups -> 5, group -> {\n",
      "          {id -> center, chemistry -> \"*NCCCCCC(=O)*\", depth -> 6, charges ->\n",
      "            forcefield, charge -> 0, terminator -> false, nconnects -> 4, \n",
      "            connects -> {\n",
      "              {source -> $end1, destination -> {index -> center, site ->\n",
      "                  $end2}}, \n",
      "              {source -> $end1, destination -> {index -> left, site ->\n",
      "                  $end1}}, \n",
      "              {source -> $end2, destination -> {index -> center, site ->\n",
      "                  $end1}}, \n",
      "              {source -> $end2, destination -> {index -> right, site ->\n",
      "                  $end1}}}, bias -> none}, \n",
      "          {id -> left, chemistry -> \"NCCCCCC(=O)*\", depth -> 6, charges ->\n",
      "            forcefield, charge -> 0, terminator -> false, nconnects -> 1, \n",
      "            connects -> \n",
      "            {source -> $end1, destination -> {index -> center, site ->\n",
      "                $end1}}, bias -> none}, \n",
      "          {id -> right, chemistry -> \"*NCCCCCC(=O)O\", depth -> 6, charges ->\n",
      "            forcefield, charge -> 0, terminator -> false, nconnects -> 1, \n",
      "            connects -> \n",
      "            {source -> $end1, destination -> {index -> center, site ->\n",
      "                $end2}}, bias -> none}, \n",
      "          {id -> water, chemistry -> \"O\", depth -> 6, charges -> forcefield, \n",
      "            charge -> 0, terminator -> false, bias -> none}, \n",
      "          {id -> alcohol, chemistry -> \"CCO\", depth -> 6, charges ->\n",
      "            forcefield, charge -> 0, terminator -> false, bias -> none}}, \n",
      "        ndeletes -> 0, npolymers -> 0}\n",
      "Info: field = {mode -> apply, style -> none, error -> false, debug -> false, \n",
      "        check -> {atomistic -> true, charge -> true}}\n",
      "Info: applying './EMC_interface/EMC/v9.4.4/field/pcff/pcff.frc'\n",
      "Warning: increment pair {na, c_1} not found.\n",
      "Info: variables = {lg_center -> 19, lg_left -> 20, lg_right -> 21, lg_water ->\n",
      "        3, lg_alcohol -> 9, l_water -> 3, norm_water -> 1, l_alcohol -> 9, \n",
      "        norm_alcohol -> 1, norm_poly -> 1, l_poly -> 193, mg_center ->\n",
      "        113.16067, mg_left -> 114.16864, mg_right -> 130.16807, mg_water ->\n",
      "        18.01534, mg_alcohol -> 46.06952, m_water -> 18.01534, m_alcohol ->\n",
      "        46.06952, m_poly -> 1149.62207, f_water -> 0.0146341463415, f_alcohol\n",
      "        -> 0.0439024390244, f_poly -> 0.941463414634, norm -> 205, n_water ->\n",
      "        2, n_alcohol -> 2, n_poly -> 2, ntotal -> 0, mtotal -> 0}\n",
      "Info: simulation = {units -> {permittivity -> 1, seed -> seed}, types -> {\n",
      "          coulomb -> {pair -> {active -> true, cutoff -> charge_cutoff}}}}\n",
      "Info: clusters = {progress -> none, nbodys -> 0, nclusters -> 2, \n",
      "        cluster -> {{id -> water, system -> main, n -> 2, \n",
      "            group -> water}, {id -> alcohol, system -> main, n -> 2, group ->\n",
      "            alcohol}}, ngrafts -> 0, npolymers -> 1, \n",
      "        polymer -> \n",
      "        {id -> poly, system -> main, type -> alternate, niterations -> 1000, n\n",
      "          -> 2, groups -> {center, left, right}, weights -> {1, 1, 1}, nrepeat\n",
      "          -> {8, 1, 1}}}\n",
      "      delta = {systems -> 1, bodies -> 0, clusters -> 6, sites -> 410}\n",
      "Info: field = {mode -> apply, style -> none, error -> false, debug -> false, \n",
      "        check -> {atomistic -> true, charge -> true}}\n",
      "Info: applying './EMC_interface/EMC/v9.4.4/field/pcff/pcff.frc'\n",
      "Warning: increment pair {na, c_1} not found.\n",
      "Info: variables = {nphase1 -> 410, mphase1 -> 2427.41386, vphase1 ->\n",
      "        4742.13560739, lbox -> 16.8005947534, lphase1 -> 16.8005947534, lxx ->\n",
      "        16.8005947534, lyy -> 16.8005947534, lzz -> 16.8005947534, lzy -> 0, \n",
      "        lzx -> 0, lyx -> 0, lphase -> 16.8005947534, ntotal -> 410, mtotal ->\n",
      "        2427.41386, vtotal -> 4742.13560739}\n",
      "Info: types = {cff -> {pair -> {active -> true, mode -> repulsive}}}\n",
      "Info: build = {\n",
      "        system -> {id -> main, temperature -> 300, density -> 0.85, split ->\n",
      "          false, flag -> {charge -> true, map -> true, pbc -> true, geometry\n",
      "            -> true}, periodic -> {x -> true, y -> true, z -> true}, geometry\n",
      "          -> {xx -> 16.8005947534, yy -> 16.8005947534, zz -> 16.8005947534, \n",
      "            zy -> 0, zx -> 0, yx -> 0}, deform -> {xx -> 1, yy -> 1, zz -> 1, \n",
      "            zy -> 0, zx -> 0, yx -> 0}}, \n",
      "        select -> {progress -> list, frequency -> 1, message -> nkt, center ->\n",
      "          false, origin -> {x -> 0, y -> 0, z -> 0}, order -> random, check ->\n",
      "          true, nclusters -> 3, cluster -> {water, alcohol, poly}, \n",
      "          relax -> {ncycles -> 100, radius -> 5}, name -> \"error\", \n",
      "          grow -> {check -> all, method -> energetic, cutoff -> 0, \n",
      "            weight -> {nonbonded -> 0.0001, bonded -> 0.0001, focus -> 1}, \n",
      "            theta -> 0, dphi -> 1, nbonded -> 20, ntrials -> 20, niterations\n",
      "            -> 1000}}}\n",
      "Info: building 410 sites.\n",
      "\n",
      "   progress/%      E[0]/nkT\n",
      "---------------------------\n",
      "            0             0\n",
      "            1     0.2099248\n",
      "            2     0.4609886\n",
      "            3     0.5135479\n",
      "            4     0.6885738\n",
      "            5     0.4518813\n",
      "            6     0.3573138\n",
      "            7     0.3468924\n",
      "            8     0.1619815\n",
      "            9    0.02111904\n",
      "           10     0.1171347\n",
      "           11    0.05793123\n",
      "           12    0.05507686\n",
      "           13    0.09050864\n",
      "           14     0.2630408\n",
      "           15     0.3858415\n",
      "           16       0.69777\n",
      "           17     0.6159674\n",
      "           18     0.6151173\n",
      "           19     0.6293923\n",
      "           20     0.9537762\n",
      "           21     0.7388521\n",
      "           22     0.7666972\n",
      "           23     0.8688201\n",
      "           24     0.9857937\n",
      "           25      1.029303\n",
      "           26      1.296461\n",
      "           27      1.189672\n",
      "           28      1.217667\n",
      "           29       1.25483\n",
      "           30      1.207052\n",
      "           31      1.224071\n",
      "           32      1.242248\n",
      "           33      1.301649\n",
      "           34      1.342576\n",
      "           35      1.333618\n",
      "           36      1.308833\n",
      "           37      1.253612\n",
      "           38      1.306935\n",
      "           39      1.282226\n",
      "           40      1.396354\n",
      "           41      1.384976\n",
      "           42      1.471475\n",
      "           43      1.471586\n",
      "           44      1.595184\n",
      "           45      1.596071\n",
      "           46      1.589386\n",
      "           47      1.535011\n",
      "           48      1.576954\n",
      "           49      1.614195\n",
      "           50      1.593281\n",
      "           51      1.588057\n",
      "           52      1.508591\n",
      "           53       1.57325\n",
      "           54      1.557746\n",
      "           55       1.51131\n",
      "           56      1.382027\n",
      "           57      1.483917\n",
      "           58      1.638842\n",
      "           59      1.637284\n",
      "           60       1.72206\n",
      "           61      1.720131\n",
      "           62      1.973556\n",
      "           63      1.795991\n",
      "           64      1.865203\n",
      "           65      1.962074\n",
      "           66      1.972395\n",
      "           67      1.920108\n",
      "           68      1.963497\n",
      "           69      1.896938\n",
      "           70      1.911809\n",
      "           71      1.913064\n",
      "           72      2.032654\n",
      "           73      2.067528\n",
      "           74      2.064836\n",
      "           75      2.106479\n",
      "           76       2.16642\n",
      "           77      2.275406\n",
      "           78      2.374785\n",
      "           79      2.388958\n",
      "           80      2.353029\n",
      "           81      2.427639\n",
      "           82      2.404898\n",
      "           83       2.56746\n",
      "           84      2.529844\n",
      "           85      2.729794\n",
      "           86      2.917773\n",
      "           87       2.91134\n",
      "           88      3.131455\n",
      "           89      3.069718\n",
      "           90      3.053301\n",
      "           91      2.978154\n",
      "           92      3.036898\n",
      "           93      3.038163\n",
      "           94      2.957683\n",
      "           95      2.853192\n",
      "           96      2.907593\n",
      "           97      2.908183\n",
      "           98      2.970977\n",
      "           99      2.997558\n",
      "          100      2.953281\n",
      "---------------------------\n",
      "      average      1.587545\n",
      "\n",
      "      niterations = 410, <niterations> = 1\n",
      "Info: force = {style -> none, message -> nkt}\n",
      "\n",
      "(* Energy *)\n",
      "\n",
      "                         E[0]/nkT \n",
      "---------------------------------\n",
      "cff.angle_angle        0.00966144 \n",
      "cff.angle_angle_tor   -0.06048056 \n",
      "cff.angle                1.471109 \n",
      "cff.angle_torsion      -0.1153949 \n",
      "cff.bond_angle        -0.01872339 \n",
      "cff.bond_bond_13                0 \n",
      "cff.bond_bond        -0.002015469 \n",
      "cff.bond                0.6011468 \n",
      "cff.end_bond_torsio   0.001850156 \n",
      "cff.improper           0.02554213 \n",
      "cff.middle_bond_tor  -0.003860772 \n",
      "cff.pair                 1.967575 \n",
      "cff.torsion            -0.9231286 \n",
      "---------------------------------\n",
      "total                    2.953281 \n",
      "\n",
      "Info: force = {style -> init, message -> nkt}\n",
      "\n",
      "(* Energy *)\n",
      "\n",
      "                         E[0]/nkT \n",
      "---------------------------------\n",
      "cff.angle_angle        0.00966144 \n",
      "cff.angle_angle_tor   -0.06048056 \n",
      "cff.angle                1.471109 \n",
      "cff.angle_torsion      -0.1153949 \n",
      "cff.bond_angle        -0.01872339 \n",
      "cff.bond_bond_13                0 \n",
      "cff.bond_bond        -0.002015469 \n",
      "cff.bond                0.6011468 \n",
      "cff.end_bond_torsio   0.001850156 \n",
      "cff.improper           0.02554213 \n",
      "cff.middle_bond_tor  -0.003860772 \n",
      "cff.pair                 1.967575 \n",
      "cff.torsion            -0.9231286 \n",
      "---------------------------------\n",
      "total                    2.953281 \n",
      "\n",
      "Info: variables = {nl_poly -> 2}\n",
      "Info: put = {name -> \"mixture\", compress -> true, detail -> 3}\n",
      "Info: pdb = {name -> \"mixture\", compress -> false, extend -> false, mode ->\n",
      "        put, system -> main, length -> auto, forcefield -> cff, atomistic ->\n",
      "        full, depth -> auto, charges -> false, detect -> false, atom -> index,\n",
      "        residue -> index, segment -> index, rank -> false, hexadecimal ->\n",
      "        false, cut -> false, pbc -> true, map -> false, unwrap -> clusters, \n",
      "        rigid -> true, fixed -> true, vdw -> false, connectivity -> false, \n",
      "        crystal -> false, element -> auto, parameters -> false, flag -> {\n",
      "          charge -> true, map -> true, pbc -> true, geometry -> true}}\n",
      "Info: lammps = {name -> \"mixture\", compress -> false, system -> main, mode ->\n",
      "        put, length -> auto, units -> none, forcefield -> cff, shake -> auto, \n",
      "        atomistic -> none, detect -> true, cutoff -> false, charges -> true, \n",
      "        ewald -> true, ellipsoid -> false, sphere -> false, bonds -> false, \n",
      "        types -> false, data -> true, parameters -> true, cross -> false, \n",
      "        variables -> true, coefficients -> true, comment -> true, map -> true,\n",
      "        unwrap -> true, flag -> {charge -> true, map -> true, pbc -> true, \n",
      "          geometry -> true}}\n",
      "Info: tsc: bonded = {12.02, 4.081, 2.294, 5.032, 0.06254, 0.0275} s\n",
      "Info: tsc: simulation = 39.66 s, threads = 24.32 s\n",
      "Info: tsc: thread = 22.75 s\n",
      "Info: script v1.0 finished at Thu Jan 19 05:57:39 2023\n",
      "\n",
      "Info: Thank you for using EMC v9.4.4\n",
      "Info: In any publication of scientific results based in part or\n",
      "Info: completely on the use of EMC, please include this reference:\n",
      "Info: P.J. in 't Veld and G.C. Rutledge, Macromolecules 2003, 36, 7358\n",
      "\n",
      "\n",
      "\n",
      "Number of atoms: 410 (< 400)\n"
     ]
    },
    {
     "data": {
      "application/vnd.jupyter.widget-view+json": {
       "model_id": "5355db8f1d64458d9952300b60851b3c",
       "version_major": 2,
       "version_minor": 0
      },
      "text/plain": [
       "HBox(children=(NGLWidget(), VBox(children=(Dropdown(description='Show', options=('All', 'C', 'O', 'N', 'H'), v…"
      ]
     },
     "metadata": {},
     "output_type": "display_data"
    }
   ],
   "source": [
    "ntotal, settings['ntotal'] = settings['ntotal'], 400\n",
    "\n",
    "builder = EMCInterface()\n",
    "builder.verbose  =True\n",
    "builder.setup('mixture', **settings)\n",
    "builder.build()\n",
    "\n",
    "basename =  f'{builder.settings[\"project\"]}'\n",
    "atoms = read(f'{basename}.pdb')\n",
    "print(f'Number of atoms: {len(atoms)} (< {settings[\"ntotal\"]})')\n",
    "settings['ntotal'] = ntotal\n",
    "\n",
    "view_ngl([atoms], ['ball+stick'], replace_structure=True)"
   ]
  },
  {
   "cell_type": "code",
   "execution_count": 7,
   "id": "154415f8",
   "metadata": {},
   "outputs": [],
   "source": [
    "builder = EMCInterface()\n",
    "builder.setup('mixture', **settings)"
   ]
  },
  {
   "cell_type": "code",
   "execution_count": 8,
   "id": "89d1af43-f612-4142-9c78-ea611edbe067",
   "metadata": {},
   "outputs": [],
   "source": [
    "builder.build()"
   ]
  },
  {
   "cell_type": "code",
   "execution_count": 9,
   "id": "5f877ca4-e68c-4a4f-97c2-9f15a33d5001",
   "metadata": {},
   "outputs": [
    {
     "name": "stdout",
     "output_type": "stream",
     "text": [
      "./output/build_mixture\n"
     ]
    }
   ],
   "source": [
    "savedir = os.path.join(outputdir, f'build_{builder.settings[\"project\"]}')\n",
    "print(savedir)\n",
    "builder.savefiles(savedir)"
   ]
  },
  {
   "cell_type": "code",
   "execution_count": 10,
   "id": "c2d4210b",
   "metadata": {},
   "outputs": [
    {
     "data": {
      "application/vnd.jupyter.widget-view+json": {
       "model_id": "a48aecce4c384cdf99e0ebae4d4480b0",
       "version_major": 2,
       "version_minor": 0
      },
      "text/plain": [
       "HBox(children=(NGLWidget(max_frame=1), VBox(children=(Dropdown(description='Show', options=('All', 'C', 'O', '…"
      ]
     },
     "metadata": {},
     "output_type": "display_data"
    }
   ],
   "source": [
    "basename =  f'{savedir}/{builder.settings[\"project\"]}'\n",
    "atoms_lammpsdata = read(f'{basename}.data', format='lammps-data')\n",
    "atoms_lammpsdata = set_elements_lammpsdata(atoms_lammpsdata)\n",
    "atoms = read(f'{basename}.pdb')\n",
    "\n",
    "view_ngl([atoms, atoms_lammpsdata], replace_structure=True)"
   ]
  },
  {
   "cell_type": "code",
   "execution_count": 11,
   "id": "a1c0adc0",
   "metadata": {},
   "outputs": [],
   "source": [
    "import importlib\n",
    "MODEL_VERSION='latest'\n",
    "CALC_MODE='CRYSTAL_PLUS_D3'\n",
    "def get_calculator(model_version=MODEL_VERSION, calc_mode=CALC_MODE):\n",
    "\n",
    "    spec = importlib.util.find_spec('pfp_api_client')\n",
    "    if spec is None:\n",
    "        from ase.calculators.emt import EMT\n",
    "        calculator = EMT()\n",
    "        return calculator\n",
    "\n",
    "    from pfp_api_client.pfp.calculators.ase_calculator import ASECalculator\n",
    "    from pfp_api_client.pfp.estimator import Estimator, EstimatorCalcMode \n",
    "    if isinstance(calc_mode, str):\n",
    "        calc_mode = getattr(EstimatorCalcMode, calc_mode)\n",
    "    estimator = Estimator(model_version=model_version, calc_mode=calc_mode)\n",
    "    calculator = ASECalculator(estimator)\n",
    "    return calculator "
   ]
  },
  {
   "cell_type": "code",
   "execution_count": 12,
   "id": "bf2b8075-b249-403b-add9-e342693d394b",
   "metadata": {},
   "outputs": [
    {
     "name": "stderr",
     "output_type": "stream",
     "text": [
      "/home/jovyan/.local/lib/python3.7/site-packages/pfp_api_client/__init__.py:36: UserWarning: New version of pfp-api-client is available. Please consider upgrading by `pip install -U pfp-api-client`.\n",
      "  f\"New version of {package_name} is available. Please consider\"\n"
     ]
    },
    {
     "name": "stdout",
     "output_type": "stream",
     "text": [
      "      Step     Time          Energy         fmax\n",
      "BFGS:    0 06:05:36    -8979.390676        6.6010\n",
      "BFGS:    1 06:09:09    -9014.013712        5.7532\n",
      "BFGS:    2 06:12:40    -9032.338436        1.9267\n",
      "BFGS:    3 06:15:53    -9044.951392        3.0983\n",
      "BFGS:    4 06:18:21    -9054.150727        3.6555\n",
      "BFGS:    5 06:20:48    -9059.688634        2.4221\n",
      "BFGS:    6 06:23:18    -9063.550021        1.1995\n",
      "BFGS:    7 06:24:47    -9067.417495        1.6883\n",
      "BFGS:    8 06:26:12    -9069.630417        2.1976\n",
      "BFGS:    9 06:27:40    -9071.835789        1.1574\n",
      "BFGS:   10 06:29:08    -9073.648670        1.2688\n"
     ]
    },
    {
     "data": {
      "text/plain": [
       "False"
      ]
     },
     "execution_count": 12,
     "metadata": {},
     "output_type": "execute_result"
    }
   ],
   "source": [
    "from ase.optimize import BFGS\n",
    "atoms.calc = get_calculator()\n",
    "opt = BFGS(atoms)\n",
    "opt.run(steps=5)"
   ]
  },
  {
   "cell_type": "code",
   "execution_count": 13,
   "id": "853bcaef",
   "metadata": {},
   "outputs": [
    {
     "data": {
      "application/vnd.jupyter.widget-view+json": {
       "model_id": "bb6770843ddd4cc68b5503e96e42189e",
       "version_major": 2,
       "version_minor": 0
      },
      "text/plain": [
       "HBox(children=(NGLWidget(), VBox(children=(Dropdown(description='Show', options=('All', 'C', 'O', 'N', 'H'), v…"
      ]
     },
     "metadata": {},
     "output_type": "display_data"
    }
   ],
   "source": [
    "view_ngl(opt.atoms)"
   ]
  },
  {
   "cell_type": "code",
   "execution_count": null,
   "id": "bea72309",
   "metadata": {},
   "outputs": [],
   "source": []
  }
 ],
 "metadata": {
  "kernelspec": {
   "display_name": "Python 3.7",
   "language": "python",
   "name": "python37"
  },
  "language_info": {
   "codemirror_mode": {
    "name": "ipython",
    "version": 3
   },
   "file_extension": ".py",
   "mimetype": "text/x-python",
   "name": "python",
   "nbconvert_exporter": "python",
   "pygments_lexer": "ipython3",
   "version": "3.7.13"
  },
  "vscode": {
   "interpreter": {
    "hash": "c234fce11f2837fac9d5905a5a3f629cc63d237c9357fcd422f1c8717e73452c"
   }
  }
 },
 "nbformat": 4,
 "nbformat_minor": 5
}
