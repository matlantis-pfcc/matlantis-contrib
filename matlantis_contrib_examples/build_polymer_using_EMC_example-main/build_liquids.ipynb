{
 "cells": [
  {
   "attachments": {},
   "cell_type": "markdown",
   "id": "268f19bb-2e2e-437c-8694-5aace242a359",
   "metadata": {},
   "source": [
    "# Build a liquid geometry using EMC.\n",
    "Copyright ENEOS Corporation as contributors to Matlantis contrib project\n",
    "\n",
    "Enhanced Monte Carlo\\\n",
    "https://montecarlo.sourceforge.net/emc/Welcome.html \\\n",
    "https://matsci.org/c/emc/50\n",
    "\n",
    "P.J. in 't Veld and G.C. Rutledge, Macromolecules 2003, 36, 7358"
   ]
  },
  {
   "cell_type": "code",
   "execution_count": 1,
   "id": "ef7d7836-d887-4c42-9471-b8b6bbbac049",
   "metadata": {
    "tags": []
   },
   "outputs": [],
   "source": [
    "import os\n",
    "import sys\n",
    "import numpy as np\n",
    "\n",
    "from ase import Atoms, units\n",
    "from ase.io import read, write, Trajectory\n",
    "from ase.data import atomic_masses\n",
    "\n",
    "from rdkit import Chem\n",
    "from rdkit.Chem import AllChem, Draw\n"
   ]
  },
  {
   "cell_type": "code",
   "execution_count": 2,
   "id": "b5cac277",
   "metadata": {},
   "outputs": [
    {
     "data": {
      "application/vnd.jupyter.widget-view+json": {
       "model_id": "69dc754c83b34b68a2ff75e2e0b7e250",
       "version_major": 2,
       "version_minor": 0
      },
      "text/plain": []
     },
     "metadata": {},
     "output_type": "display_data"
    }
   ],
   "source": [
    "from pfcc_extras.visualize.view import view_ngl\n",
    "from pfcc_extras.structure.ase_rdkit_converter import smiles_to_atoms, atoms_to_smiles"
   ]
  },
  {
   "cell_type": "code",
   "execution_count": 3,
   "id": "5f877ca4-e68c-4a4f-97c2-9f15a33d5001",
   "metadata": {},
   "outputs": [],
   "source": [
    "sys.path.insert(0, 'EMC_interface/src/emc_interface')\n",
    "from emc_interface import EMCInterface\n",
    "\n",
    "outputdir = './output'"
   ]
  },
  {
   "cell_type": "code",
   "execution_count": 4,
   "id": "119b1b4c",
   "metadata": {},
   "outputs": [],
   "source": [
    "def set_elements_lammpsdata(atoms):\n",
    "    mass_number = {int(np.round(m)):i for i, m in enumerate(atomic_masses)}\n",
    "    masses = atoms.get_masses()\n",
    "    numbers = [mass_number[int(np.round(m))] for m in masses] \n",
    "    atoms.numbers=numbers\n",
    "    return atoms"
   ]
  },
  {
   "cell_type": "code",
   "execution_count": 5,
   "id": "7db3f556",
   "metadata": {},
   "outputs": [
    {
     "data": {
      "image/png": "[encoded data removed]",
      "text/plain": [
       "<IPython.core.display.Image object>"
      ]
     },
     "metadata": {},
     "output_type": "display_data"
    }
   ],
   "source": [
    "name_smiles_fractions = {\"water\":(\"O\", 95), \n",
    "\"alcohol\":(\"CCO\", 10),\n",
    "\"salt\":(\"[Na+].[Cl-]\", 5)}\n",
    "smileses = [s for n,(s,f) in name_smiles_fractions.items()]\n",
    "mols = [Chem.MolFromSmiles(smiles) for smiles in smileses]\n",
    "view = Draw.MolsToGridImage(mols)\n",
    "display(view)\n",
    "\n",
    "\n",
    "settings = dict(\n",
    "            name_smiles_fractions = name_smiles_fractions,\n",
    "            ntotal = 2000,  # Number of atoms in the cell.\n",
    "            density = 0.85, # Set slightly small density [g/cm3].\n",
    "            field='pcff',\n",
    "            ring_depth = 9,  #'auto', The max ring size in the molecules.\n",
    "            build_dir = './build',\n",
    "            lammps_prefix = 'liquid',\n",
    "            project='liquid',\n",
    "            seed=12345,\n",
    ")"
   ]
  },
  {
   "cell_type": "code",
   "execution_count": 6,
   "id": "5c88ed28",
   "metadata": {},
   "outputs": [
    {
     "name": "stdout",
     "output_type": "stream",
     "text": [
      "{'field': 'pcff', 'ntotal': 100, 'density': 0.85, 'ring_depth': 9, 'build_dir': './build', 'lammps_prefix': 'liquid', 'project': 'liquid', 'seed': 12345, 'emc_execute': 'false', 'groups': 'alcohol         CCO\\nsalt            [Na+].[Cl-]\\nwater           O', 'clusters': 'alcohol         alcohol,10\\nwater           water,95\\nsalt            salt,5'}\n",
      "EMC Setup v4.1.3 (April 7, 2022), (c) 2004-2022 Pieter J. in 't Veld\n",
      "\n",
      "Info: reading script from \"./setup.esh\"\n",
      "Info: phase1 = {alcohol, water, salt}\n",
      "Info: project = liquid\n",
      "Info: ntotal = 100\n",
      "Info: direction = x\n",
      "Info: shape = 1\n",
      "Info: force field type = \"cff\"\n",
      "Info: force field name = \"EMC_interface/EMC/v9.4.4/field/pcff/pcff\"\n",
      "Info: force field location = \".\"\n",
      "Info: build for LAMMPS script in \"./build\"\n",
      "Info: creating EMC build script \"build.emc\"\n",
      "Info: assuming mol fractions\n",
      "Info: creating LAMMPS run script \"liquid.in\"\n",
      "Info: adding pressure sampling\n",
      "\n",
      "\n",
      "\n",
      "(* EMC: Enhanced Monte Carlo simulations *)\n",
      "\n",
      "version 9.4.4, build Jul 27 2022 17:22:21, date Thu Jan 19 05:54:11 2023\n",
      "\n",
      "valid until Jul 27, 2023\n",
      "\n",
      "Info: script v1.0 started at Thu Jan 19 05:54:11 2023\n",
      "Info: variables = {seed -> -1, ntotal -> 100, fshape -> 1, output -> \"liquid\",\n",
      "        field -> \"EMC_interface/EMC/v9.4.4/field/pcff/pcff\", location1 ->\n",
      "        \"./\", nav -> 0.6022141179, temperature -> 300, radius -> 5, nrelax ->\n",
      "        100, weight_nonbond -> 0.0001, weight_bond -> 0.0001, weight_focus ->\n",
      "        1, cutoff -> 9.5, charge_cutoff -> 9.5, kappa -> 4, density1 -> 0.85, \n",
      "        lprevious -> 0, lphase -> 0, f_alcohol -> 10, f_water -> 95, f_salt ->\n",
      "        5, chem_alcohol -> \"CCO\", chem_salt -> \"[Na+].[Cl-]\", chem_water ->\n",
      "        \"O\"}\n",
      "Info: output = \n",
      "      {detail -> 3, wide -> false, expand -> false, math -> true, reduced ->\n",
      "        false, info -> true, strict -> true, warning -> true, message -> true,\n",
      "        debug -> false, exit -> true, ignore -> false}\n",
      "Info: field = {id -> pcff, mode -> cff, style -> none, name ->\n",
      "        {\"./EMC_interface/EMC/v9.4.4/field/pcff/pcff.frc\", \n",
      "          \"./EMC_interface/EMC/v9.4.4/field/pcff/pcff_templates.dat\"}, \n",
      "        compress -> false, error -> true, debug -> false, check -> {atomistic\n",
      "          -> true, charge -> true}}\n",
      "Info: importing './EMC_interface/EMC/v9.4.4/field/pcff/pcff.frc'\n",
      "Warning: duplicate field.bond entry 40 [28:28] omitted.\n",
      "Warning: duplicate field.bond entry 51 [28:77] omitted.\n",
      "Warning: duplicate field.bond entry 62 [28:157] omitted.\n",
      "Warning: duplicate field.bond entry 176 [44:45] omitted.\n",
      "Warning: duplicate field.bond entry 328 [53:156] omitted.\n",
      "Warning: duplicate field.bond entry 364 [65:65] omitted.\n",
      "Warning: duplicate field.bond entry 365 [65:65] omitted.\n",
      "Warning: duplicate field.bond entry 367 [65:77] omitted.\n",
      "Warning: duplicate field.bond entry 689 [143:171] omitted.\n",
      "Info: groups = {ngroups -> 3, group -> {\n",
      "          {id -> alcohol, chemistry -> \"CCO\", depth -> 6, charges ->\n",
      "            forcefield, charge -> 0, terminator -> false, bias -> none}, \n",
      "          {id -> salt, chemistry -> \"[Na+].[Cl-]\", depth -> 6, charges ->\n",
      "            forcefield, charge -> 0, terminator -> false, bias -> none}, \n",
      "          {id -> water, chemistry -> \"O\", depth -> 6, charges -> forcefield, \n",
      "            charge -> 0, terminator -> false, bias -> none}}, ndeletes -> 0, \n",
      "        npolymers -> 0}\n",
      "Info: field = {mode -> apply, style -> none, error -> false, debug -> false, \n",
      "        check -> {atomistic -> true, charge -> true}}\n",
      "Info: applying './EMC_interface/EMC/v9.4.4/field/pcff/pcff.frc'\n",
      "Info: variables = {lg_alcohol -> 9, lg_salt -> 2, lg_water -> 3, l_alcohol ->\n",
      "        9, norm_alcohol -> 1, l_water -> 3, norm_water -> 1, l_salt -> 2, \n",
      "        norm_salt -> 1, mg_alcohol -> 46.06952, mg_salt -> 58.443, mg_water ->\n",
      "        18.01534, m_alcohol -> 46.06952, m_water -> 18.01534, m_salt ->\n",
      "        58.443, f_alcohol -> 0.233766233766, f_water -> 0.74025974026, f_salt\n",
      "        -> 0.025974025974, norm -> 385, n_alcohol -> 3, n_water -> 25, n_salt\n",
      "        -> 1, ntotal -> 0, mtotal -> 0}\n",
      "Info: simulation = {units -> {permittivity -> 1, seed -> seed}, types -> {\n",
      "          coulomb -> {pair -> {active -> true, cutoff -> charge_cutoff}}}}\n",
      "Info: clusters = {progress -> none, nbodys -> 0, nclusters -> 3, \n",
      "        cluster -> {{id -> alcohol, system -> main, n -> 3, \n",
      "            group -> alcohol}, {id -> water, system -> main, n -> 25, \n",
      "            group -> water}, {id -> salt, system -> main, n -> 1, group ->\n",
      "            salt}}, ngrafts -> 0, npolymers -> 0}\n",
      "      delta = {systems -> 1, bodies -> 0, clusters -> 30, sites -> 104}\n",
      "Info: field = {mode -> apply, style -> none, error -> false, debug -> false, \n",
      "        check -> {atomistic -> true, charge -> true}}\n",
      "Info: applying './EMC_interface/EMC/v9.4.4/field/pcff/pcff.frc'\n",
      "Info: variables = {nphase1 -> 104, mphase1 -> 647.03506, vphase1 ->\n",
      "        1264.03167083, lbox -> 10.8123306547, lphase1 -> 10.8123306547, lxx ->\n",
      "        10.8123306547, lyy -> 10.8123306547, lzz -> 10.8123306547, lzy -> 0, \n",
      "        lzx -> 0, lyx -> 0, lphase -> 10.8123306547, ntotal -> 104, mtotal ->\n",
      "        647.03506, vtotal -> 1264.03167083}\n",
      "Info: types = {cff -> {pair -> {active -> true, mode -> repulsive}}}\n",
      "Info: build = {\n",
      "        system -> {id -> main, temperature -> 300, density -> 0.85, split ->\n",
      "          false, flag -> {charge -> true, map -> true, pbc -> true, geometry\n",
      "            -> true}, periodic -> {x -> true, y -> true, z -> true}, geometry\n",
      "          -> {xx -> 10.8123306547, yy -> 10.8123306547, zz -> 10.8123306547, \n",
      "            zy -> 0, zx -> 0, yx -> 0}, deform -> {xx -> 1, yy -> 1, zz -> 1, \n",
      "            zy -> 0, zx -> 0, yx -> 0}}, \n",
      "        select -> {progress -> list, frequency -> 1, message -> nkt, center ->\n",
      "          false, origin -> {x -> 0, y -> 0, z -> 0}, order -> random, check ->\n",
      "          true, nclusters -> 3, cluster -> {alcohol, water, salt}, \n",
      "          relax -> {ncycles -> 100, radius -> 5}, name -> \"error\", \n",
      "          grow -> {check -> all, method -> energetic, cutoff -> 0, \n",
      "            weight -> {nonbonded -> 0.0001, bonded -> 0.0001, focus -> 1}, \n",
      "            theta -> 0, dphi -> 1, nbonded -> 20, ntrials -> 20, niterations\n",
      "            -> 1000}}}\n",
      "Info: building 104 sites.\n",
      "\n",
      "   progress/%      E[0]/nkT\n",
      "---------------------------\n",
      "            1             0\n",
      "            3             0\n",
      "            5             0\n",
      "            7 -4.988262e-17\n",
      "            9     0.1819146\n",
      "           11    0.09847522\n",
      "           13    0.05031627\n",
      "           14     0.1022128\n",
      "           15     0.2606997\n",
      "           16     0.2278665\n",
      "           17     0.2129509\n",
      "           18     0.4378865\n",
      "           19     0.3835005\n",
      "           20     0.2382397\n",
      "           21     0.3308208\n",
      "           22     0.3047294\n",
      "           23     0.4516811\n",
      "           24     0.3299689\n",
      "           25     0.1799416\n",
      "           27     0.5056921\n",
      "           29     0.3165633\n",
      "           31     0.4514151\n",
      "           33     0.3651462\n",
      "           35     0.7394647\n",
      "           37     0.5034211\n",
      "           38     0.4720507\n",
      "           39     0.4984199\n",
      "           40     0.5485247\n",
      "           41     0.4670708\n",
      "           42     0.6603564\n",
      "           43     0.4679757\n",
      "           44     0.5821964\n",
      "           45      0.710603\n",
      "           46     0.6617277\n",
      "           47      0.595779\n",
      "           48     0.5423344\n",
      "           49     0.7178865\n",
      "           50     0.6461122\n",
      "           52     0.9069528\n",
      "           54     0.8477591\n",
      "           56      0.914709\n",
      "           58      0.786289\n",
      "           60     0.8907429\n",
      "           62     0.9980745\n",
      "           63      1.012282\n",
      "           64     0.8362192\n",
      "           65     0.7407984\n",
      "           66      0.700307\n",
      "           67      0.786012\n",
      "           68     0.7675663\n",
      "           69     0.7050966\n",
      "           70     0.9161077\n",
      "           71     0.9064222\n",
      "           72     0.9269892\n",
      "           73     0.9289227\n",
      "           74      0.853506\n",
      "           75     0.7889795\n",
      "           77     0.9231132\n",
      "           79     0.8672147\n",
      "           81     0.8637429\n",
      "           83     0.9886911\n",
      "           85      1.005154\n",
      "           87      1.156138\n",
      "           88      1.045473\n",
      "           89     0.9920689\n",
      "           90     0.9551262\n",
      "           91      0.900408\n",
      "           92     0.8883186\n",
      "           93     0.9129253\n",
      "           94      1.060533\n",
      "           95      1.123048\n",
      "           96      1.028067\n",
      "           97     0.9826736\n",
      "           98     0.8531964\n",
      "           99     0.8609087\n",
      "          100     0.8111788\n",
      "---------------------------\n",
      "      average     0.6404692\n",
      "\n",
      "      niterations = 104, <niterations> = 1\n",
      "Info: force = {style -> none, message -> nkt}\n",
      "\n",
      "(* Energy *)\n",
      "\n",
      "                         E[0]/nkT \n",
      "---------------------------------\n",
      "cff.angle_angle      -0.001868583 \n",
      "cff.angle_angle_tor  -0.009423528 \n",
      "cff.angle               0.3389209 \n",
      "cff.angle_torsion    -0.005848672 \n",
      "cff.bond_angle        -0.01173783 \n",
      "cff.bond_bond_13                0 \n",
      "cff.bond_bond         0.001368281 \n",
      "cff.bond                0.2683472 \n",
      "cff.end_bond_torsio  -0.001389657 \n",
      "cff.improper                    0 \n",
      "cff.middle_bond_tor   0.004239332 \n",
      "cff.pair                0.4469852 \n",
      "cff.torsion            -0.2184138 \n",
      "---------------------------------\n",
      "total                   0.8111788 \n",
      "\n",
      "Info: force = {style -> init, message -> nkt}\n",
      "\n",
      "(* Energy *)\n",
      "\n",
      "                         E[0]/nkT \n",
      "---------------------------------\n",
      "cff.angle_angle      -0.001868583 \n",
      "cff.angle_angle_tor  -0.009423528 \n",
      "cff.angle               0.3389209 \n",
      "cff.angle_torsion    -0.005848672 \n",
      "cff.bond_angle        -0.01173783 \n",
      "cff.bond_bond_13                0 \n",
      "cff.bond_bond         0.001368281 \n",
      "cff.bond                0.2683472 \n",
      "cff.end_bond_torsio  -0.001389657 \n",
      "cff.improper                    0 \n",
      "cff.middle_bond_tor   0.004239332 \n",
      "cff.pair                0.4469852 \n",
      "cff.torsion            -0.2184138 \n",
      "---------------------------------\n",
      "total                   0.8111788 \n",
      "\n",
      "Info: put = {name -> \"liquid\", compress -> true, detail -> 3}\n",
      "Info: pdb = {name -> \"liquid\", compress -> false, extend -> false, mode ->\n",
      "        put, system -> main, length -> auto, forcefield -> cff, atomistic ->\n",
      "        full, depth -> auto, charges -> false, detect -> false, atom -> index,\n",
      "        residue -> index, segment -> index, rank -> false, hexadecimal ->\n",
      "        false, cut -> false, pbc -> true, map -> false, unwrap -> clusters, \n",
      "        rigid -> true, fixed -> true, vdw -> false, connectivity -> false, \n",
      "        crystal -> false, element -> auto, parameters -> false, flag -> {\n",
      "          charge -> true, map -> true, pbc -> true, geometry -> true}}\n",
      "Info: lammps = {name -> \"liquid\", compress -> false, system -> main, mode ->\n",
      "        put, length -> auto, units -> none, forcefield -> cff, shake -> auto, \n",
      "        atomistic -> none, detect -> true, cutoff -> false, charges -> true, \n",
      "        ewald -> true, ellipsoid -> false, sphere -> false, bonds -> false, \n",
      "        types -> false, data -> true, parameters -> true, cross -> false, \n",
      "        variables -> true, coefficients -> true, comment -> true, map -> true,\n",
      "        unwrap -> true, flag -> {charge -> true, map -> true, pbc -> true, \n",
      "          geometry -> true}}\n",
      "Info: tsc: bonded = {0.5685, 0.1528, 0.1377, 0.1725, 0.0003579, 0.0007892} s\n",
      "Info: tsc: simulation = 2.45 s, threads = 1.149 s\n",
      "Info: tsc: thread = 0.9623 s\n",
      "Info: script v1.0 finished at Thu Jan 19 05:54:17 2023\n",
      "\n",
      "Info: Thank you for using EMC v9.4.4\n",
      "Info: In any publication of scientific results based in part or\n",
      "Info: completely on the use of EMC, please include this reference:\n",
      "Info: P.J. in 't Veld and G.C. Rutledge, Macromolecules 2003, 36, 7358\n",
      "\n",
      "\n",
      "\n",
      "Number of atoms: 104 (100)\n"
     ]
    },
    {
     "data": {
      "application/vnd.jupyter.widget-view+json": {
       "model_id": "5f7fd2f32010443db8d6246537909c93",
       "version_major": 2,
       "version_minor": 0
      },
      "text/plain": [
       "HBox(children=(NGLWidget(), VBox(children=(Dropdown(description='Show', options=('All', 'Cl', 'O', 'H', 'C', '…"
      ]
     },
     "metadata": {},
     "output_type": "display_data"
    }
   ],
   "source": [
    "ntotal, settings['ntotal'] = settings['ntotal'], 100\n",
    "\n",
    "builder = EMCInterface()\n",
    "builder.verbose  =True\n",
    "builder.setup('liquid', **settings)\n",
    "builder.build()\n",
    "\n",
    "basename =  f'{builder.settings[\"project\"]}'\n",
    "atoms = read(f'{basename}.pdb')\n",
    "print(f'Number of atoms: {len(atoms)} ({settings[\"ntotal\"]})')\n",
    "settings['ntotal'] = ntotal\n",
    "\n",
    "view_ngl([atoms], ['ball+stick'], replace_structure=True)"
   ]
  },
  {
   "cell_type": "code",
   "execution_count": 7,
   "id": "feb09451",
   "metadata": {},
   "outputs": [],
   "source": [
    "builder = EMCInterface()\n",
    "builder.setup('liquid', **settings)"
   ]
  },
  {
   "cell_type": "code",
   "execution_count": 8,
   "id": "9d57e2b0",
   "metadata": {},
   "outputs": [],
   "source": [
    "builder.build()"
   ]
  },
  {
   "cell_type": "code",
   "execution_count": 9,
   "id": "44276bd0",
   "metadata": {},
   "outputs": [],
   "source": [
    "savedir = os.path.join(outputdir, f'build_{builder.settings[\"project\"]}')\n",
    "builder.savefiles(savedir)"
   ]
  },
  {
   "cell_type": "code",
   "execution_count": 10,
   "id": "3f13a563-3836-446e-b63e-af1cd92b0675",
   "metadata": {},
   "outputs": [
    {
     "data": {
      "application/vnd.jupyter.widget-view+json": {
       "model_id": "bb83b232c1824948929338a607b1e419",
       "version_major": 2,
       "version_minor": 0
      },
      "text/plain": [
       "HBox(children=(NGLWidget(max_frame=1), VBox(children=(Dropdown(description='Show', options=('All', 'Cl', 'O', …"
      ]
     },
     "metadata": {},
     "output_type": "display_data"
    }
   ],
   "source": [
    "basename =  f'{savedir}/{builder.settings[\"project\"]}'\n",
    "atoms_lammpsdata = read(f'{basename}.data', format='lammps-data')\n",
    "atoms_lammpsdata = set_elements_lammpsdata(atoms_lammpsdata)\n",
    "atoms = read(f'{basename}.pdb')\n",
    "\n",
    "view_ngl([atoms, atoms_lammpsdata], replace_structure=True)"
   ]
  },
  {
   "cell_type": "code",
   "execution_count": 11,
   "id": "a1c0adc0",
   "metadata": {},
   "outputs": [],
   "source": [
    "import importlib\n",
    "MODEL_VERSION='latest'\n",
    "CALC_MODE='CRYSTAL_PLUS_D3'\n",
    "def get_calculator(model_version=MODEL_VERSION, calc_mode=CALC_MODE):\n",
    "\n",
    "    spec = importlib.util.find_spec('pfp_api_client')\n",
    "    if spec is None:\n",
    "        from ase.calculators.emt import EMT\n",
    "        calculator = EMT()\n",
    "        return calculator\n",
    "\n",
    "    from pfp_api_client.pfp.calculators.ase_calculator import ASECalculator\n",
    "    from pfp_api_client.pfp.estimator import Estimator, EstimatorCalcMode \n",
    "    if isinstance(calc_mode, str):\n",
    "        calc_mode = getattr(EstimatorCalcMode, calc_mode)\n",
    "    estimator = Estimator(model_version=model_version, calc_mode=calc_mode)\n",
    "    calculator = ASECalculator(estimator)\n",
    "    return calculator "
   ]
  },
  {
   "cell_type": "code",
   "execution_count": 12,
   "id": "bf2b8075-b249-403b-add9-e342693d394b",
   "metadata": {},
   "outputs": [
    {
     "name": "stderr",
     "output_type": "stream",
     "text": [
      "/home/jovyan/.local/lib/python3.7/site-packages/pfp_api_client/__init__.py:36: UserWarning: New version of pfp-api-client is available. Please consider upgrading by `pip install -U pfp-api-client`.\n",
      "  f\"New version of {package_name} is available. Please consider\"\n"
     ]
    },
    {
     "name": "stdout",
     "output_type": "stream",
     "text": [
      "      Step     Time          Energy         fmax\n",
      "BFGS:    0 05:55:32    -6939.758253        4.7280\n",
      "BFGS:    1 05:58:10    -6964.605104        2.8570\n",
      "BFGS:    2 06:01:07    -6974.414727        1.4809\n",
      "BFGS:    3 06:04:05    -6990.498553        2.6996\n",
      "BFGS:    4 06:07:16    -7000.948442        1.7939\n",
      "BFGS:    5 06:10:29    -7012.283600        1.7338\n",
      "BFGS:    6 06:13:53    -7024.294307        2.0295\n",
      "BFGS:    7 06:16:21    -7040.550547        2.9958\n",
      "BFGS:    8 06:18:42    -7057.967199        4.3246\n",
      "BFGS:    9 06:20:58    -7069.645240        4.3399\n",
      "BFGS:   10 06:23:13    -7074.972493        4.4145\n"
     ]
    },
    {
     "data": {
      "text/plain": [
       "False"
      ]
     },
     "execution_count": 12,
     "metadata": {},
     "output_type": "execute_result"
    }
   ],
   "source": [
    "from ase.optimize import BFGS\n",
    "atoms.calc = get_calculator()\n",
    "opt = BFGS(atoms)\n",
    "opt.run(steps=5)"
   ]
  },
  {
   "cell_type": "code",
   "execution_count": 13,
   "id": "853bcaef",
   "metadata": {},
   "outputs": [
    {
     "data": {
      "application/vnd.jupyter.widget-view+json": {
       "model_id": "34e182bc01f7486ea74ec93bcfa9a60c",
       "version_major": 2,
       "version_minor": 0
      },
      "text/plain": [
       "HBox(children=(NGLWidget(), VBox(children=(Dropdown(description='Show', options=('All', 'Cl', 'O', 'H', 'C', '…"
      ]
     },
     "metadata": {},
     "output_type": "display_data"
    }
   ],
   "source": [
    "view_ngl(opt.atoms)"
   ]
  },
  {
   "cell_type": "code",
   "execution_count": null,
   "id": "c84c6121",
   "metadata": {},
   "outputs": [],
   "source": []
  }
 ],
 "metadata": {
  "kernelspec": {
   "display_name": "Python 3.7",
   "language": "python",
   "name": "python37"
  },
  "language_info": {
   "codemirror_mode": {
    "name": "ipython",
    "version": 3
   },
   "file_extension": ".py",
   "mimetype": "text/x-python",
   "name": "python",
   "nbconvert_exporter": "python",
   "pygments_lexer": "ipython3",
   "version": "3.7.13"
  },
  "vscode": {
   "interpreter": {
    "hash": "c234fce11f2837fac9d5905a5a3f629cc63d237c9357fcd422f1c8717e73452c"
   }
  }
 },
 "nbformat": 4,
 "nbformat_minor": 5
}
