{
 "cells": [
  {
   "cell_type": "markdown",
   "id": "5a149514-3878-4894-96a9-e0f1f2aa9f33",
   "metadata": {},
   "source": [
    "Copyright Preferred Networks, Inc as contributors to Matlantis contrib project\n",
    "# Hello world\n",
    "このexampleはmatlantis contribで募集するexampleの形式\n",
    "\n",
    "- copyright表示\n",
    "- ファイルの入出力の形式\n",
    "を示すことを目的としています.\n",
    "\n",
    "次のcellを実行することで入/出力ファイルが格納されているディレクトリ(input/output)のpathを取得できます."
   ]
  },
  {
   "cell_type": "code",
   "execution_count": 1,
   "id": "a5ba6140-10bf-4bd7-aa9d-8dc00f34e9eb",
   "metadata": {},
   "outputs": [],
   "source": [
    "import pathlib\n",
    "EXAMPLE_DIR = pathlib.Path(\"__file__\").resolve().parent\n",
    "INPUT_DIR = EXAMPLE_DIR / \"input\"\n",
    "OUTPUT_DIR = EXAMPLE_DIR / \"output\""
   ]
  },
  {
   "cell_type": "markdown",
   "id": "516c0f57-1cd5-415d-a3c6-6f5cfc91a3bd",
   "metadata": {},
   "source": [
    "inputの中に存在するファイルを確認します."
   ]
  },
  {
   "cell_type": "code",
   "execution_count": 3,
   "id": "5d28a105-d794-4391-9664-4f0b0f6749d9",
   "metadata": {},
   "outputs": [
    {
     "name": "stdout",
     "output_type": "stream",
     "text": [
      ".ipynb_checkpoints\n",
      "greeting.txt\n"
     ]
    }
   ],
   "source": [
    "for file_path in INPUT_DIR.iterdir():\n",
    "    print(file_path.name)"
   ]
  },
  {
   "cell_type": "code",
   "execution_count": 4,
   "id": "5354e003-70a8-4f2f-856a-f7804cc732a6",
   "metadata": {},
   "outputs": [
    {
     "name": "stdout",
     "output_type": "stream",
     "text": [
      "Hello world!\n"
     ]
    }
   ],
   "source": [
    "with open(INPUT_DIR / \"greeting.txt\", \"r\") as f:\n",
    "    hello_world_string = f.readline()\n",
    "print(hello_world_string)"
   ]
  },
  {
   "cell_type": "markdown",
   "id": "7e536ab8-c8b4-4125-adbe-e8e04ad0ea4c",
   "metadata": {},
   "source": [
    "Hello worldと書かれたtextファイルをoutputの中に出力します."
   ]
  },
  {
   "cell_type": "code",
   "execution_count": 5,
   "id": "f3f1ca82-43d0-454c-ad36-abd0156f4ce2",
   "metadata": {},
   "outputs": [],
   "source": [
    "with open(OUTPUT_DIR / \"result.txt\", \"w\") as f:\n",
    "    f.write(hello_world_string)"
   ]
  },
  {
   "cell_type": "code",
   "execution_count": null,
   "id": "928f7577-387e-4d6d-8a58-3005f0d0f110",
   "metadata": {},
   "outputs": [],
   "source": []
  }
 ],
 "metadata": {
  "kernelspec": {
   "display_name": "Python 3.8",
   "language": "python",
   "name": "python38"
  },
  "language_info": {
   "codemirror_mode": {
    "name": "ipython",
    "version": 3
   },
   "file_extension": ".py",
   "mimetype": "text/x-python",
   "name": "python",
   "nbconvert_exporter": "python",
   "pygments_lexer": "ipython3",
   "version": "3.8.13"
  }
 },
 "nbformat": 4,
 "nbformat_minor": 5
}
