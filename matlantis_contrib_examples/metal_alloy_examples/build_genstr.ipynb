{
 "cells": [
  {
   "attachments": {},
   "cell_type": "markdown",
   "metadata": {},
   "source": [
    "# Download ATAT package from the Hmoe Page\n",
    "\n",
    "[ATAT HomePage](https://www.brown.edu/Departments/Engineering/Labs/avdw/atat/) -> [Download:  Whole toolkit (Stable version)](http://alum.mit.edu/www/avdw/atat/atat3_36.tar.gz)"
   ]
  },
  {
   "cell_type": "code",
   "execution_count": null,
   "metadata": {
    "vscode": {
     "languageId": "plaintext"
    }
   },
   "outputs": [],
   "source": [
    "import glob\n",
    "from subprocess import run\n",
    "tgzfile = glob.glob('atat*.tar.gz')[0]\n",
    "\n",
    "cmd = 'tar zxvf {tgzfile}'.split()\n",
    "p = run(cmd, shell=False)"
   ]
  },
  {
   "cell_type": "code",
   "execution_count": null,
   "metadata": {
    "vscode": {
     "languageId": "plaintext"
    }
   },
   "outputs": [],
   "source": [
    "cmd = 'gcc atat/src/genstr.c++ -o genstr'.split()\n",
    "p = run(cmd, shell=False)"
   ]
  }
 ],
 "metadata": {
  "language_info": {
   "name": "python"
  },
  "orig_nbformat": 4
 },
 "nbformat": 4,
 "nbformat_minor": 2
}
