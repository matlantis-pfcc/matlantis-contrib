{
 "cells": [
  {
   "cell_type": "markdown",
   "metadata": {},
   "source": [
    "Copyright ENEOS Corporation as contributors to Matlantis contrib project."
   ]
  },
  {
   "cell_type": "markdown",
   "metadata": {},
   "source": [
    "# Build genstr in ATAT package\n",
    "\n",
    "This example depends on genstr in ATAT package.\\\n",
    "Please download ATAT from the hmoe page, and put the tar.gz file in ./packages/ directory.\n",
    "\n",
    "\n",
    "[ATAT HomePage](https://www.brown.edu/Departments/Engineering/Labs/avdw/atat/) -> [Download:  Whole toolkit (Stable version)](http://alum.mit.edu/www/avdw/atat/atat3_36.tar.gz)"
   ]
  },
  {
   "cell_type": "code",
   "execution_count": 1,
   "metadata": {},
   "outputs": [],
   "source": [
    "import os\n",
    "import glob\n",
    "import shutil\n",
    "from subprocess import run\n",
    "from pathlib import Path"
   ]
  },
  {
   "cell_type": "markdown",
   "metadata": {},
   "source": [
    "### Extract the package from the archive"
   ]
  },
  {
   "cell_type": "code",
   "execution_count": 2,
   "metadata": {},
   "outputs": [
    {
     "name": "stdout",
     "output_type": "stream",
     "text": [
      "/home/jovyan/repos/matlantis-contrib/matlantis_contrib_examples/metal_alloy_examples\n"
     ]
    }
   ],
   "source": [
    "rootdir = Path().resolve()\n",
    "print(rootdir)"
   ]
  },
  {
   "cell_type": "code",
   "execution_count": 3,
   "metadata": {
    "tags": [],
    "vscode": {
     "languageId": "plaintext"
    }
   },
   "outputs": [],
   "source": [
    "destdir = 'packages'\n",
    "os.makedirs(destdir, exist_ok=True)\n",
    "tgzfile = glob.glob(f'{destdir}/atat*.tar.gz')[0]\n",
    "\n",
    "cmd = f'tar zxf {tgzfile} -C {destdir}/'.split()\n",
    "p = run(cmd, shell=False)"
   ]
  },
  {
   "cell_type": "code",
   "execution_count": 4,
   "metadata": {},
   "outputs": [
    {
     "data": {
      "text/plain": [
       "PosixPath('/home/jovyan/repos/matlantis-contrib/matlantis_contrib_examples/metal_alloy_examples/packages/atat')"
      ]
     },
     "execution_count": 4,
     "metadata": {},
     "output_type": "execute_result"
    }
   ],
   "source": [
    "atatroot = Path(glob.glob(f'{destdir}/atat')[0]).resolve()\n",
    "atatroot"
   ]
  },
  {
   "cell_type": "markdown",
   "metadata": {},
   "source": [
    "### Build genstr"
   ]
  },
  {
   "cell_type": "code",
   "execution_count": 5,
   "metadata": {},
   "outputs": [
    {
     "data": {
      "text/plain": [
       "'/home/jovyan/repos/matlantis-contrib/matlantis_contrib_examples/metal_alloy_examples/packages/atat/makefile'"
      ]
     },
     "execution_count": 5,
     "metadata": {},
     "output_type": "execute_result"
    }
   ],
   "source": [
    "os.chdir(rootdir)\n",
    "shutil.copy(f'packages/patches/foolproof', f'{str(atatroot)}')\n",
    "shutil.copy(f'packages/patches/makefile', f'{str(atatroot)}')"
   ]
  },
  {
   "cell_type": "code",
   "execution_count": 6,
   "metadata": {
    "tags": [],
    "vscode": {
     "languageId": "plaintext"
    }
   },
   "outputs": [
    {
     "name": "stdout",
     "output_type": "stream",
     "text": [
      "bash ./foolproof /home/jovyan   \"g++\"\n",
      "I will now perform various checks to see if you have the appropriate software\n",
      "installed. To override these checks, type\n",
      "make force\n",
      "/home/jovyan g++\n",
      "Testing compiler features...\n",
      "  : patched\n",
      "  friend : patched\n",
      "  doth : patched\n",
      "  str2s : patched\n",
      "  template : patched\n",
      "  uT : ok\n",
      "  static : patched\n",
      "Tests successfully passed.\n",
      "make -C src clean\n",
      "make[1]: Entering directory '/home/jovyan/repos/matlantis-contrib/matlantis_contrib_examples/metal_alloy_examples/packages/atat/src'\n",
      "rm -f *.o *.cc *.c *.h *.exe\n",
      "rm -f maps mmaps emc2 phb checkcell corrdump kmesh genstr gensqs mcsqs nntouch fixcell csfit cv cellcvrt lsfit fitsvsl svsl felec pdef fitfc nnshell memc2 gce gencs triph strpath infdet apb\n",
      "make[1]: Leaving directory '/home/jovyan/repos/matlantis-contrib/matlantis_contrib_examples/metal_alloy_examples/packages/atat/src'\n",
      "make -C src genstr   \"CXX=g++\"\n",
      "make[1]: Entering directory '/home/jovyan/repos/matlantis-contrib/matlantis_contrib_examples/metal_alloy_examples/packages/atat/src'\n",
      "./patchlang < anyfft.hh > anyfft.h\n",
      "./patchlang < drawpd.hh > drawpd.h\n",
      "./patchlang < gstate.hh > gstate.h\n",
      "./patchlang < lstsqr.hh > lstsqr.h\n",
      "./patchlang < multipoly.hh > multipoly.h\n",
      "./patchlang < stringo.hh > stringo.h\n",
      "./patchlang < array.hh > array.h\n",
      "./patchlang < equil.hh > equil.h\n",
      "./patchlang < integer.hh > integer.h\n",
      "./patchlang < machdep.hh > machdep.h\n",
      "./patchlang < parse.hh > parse.h\n",
      "./patchlang < teci.hh > teci.h\n",
      "./patchlang < arraylist.hh > arraylist.h\n",
      "./patchlang < fftn.hh > fftn.h\n",
      "./patchlang < keci.hh > keci.h\n",
      "./patchlang < kmeci.hh > kmeci.h\n",
      "./patchlang < mclib.hh > mclib.h\n",
      "./patchlang < phonlib.hh > phonlib.h\n",
      "./patchlang < vectmac.hh > vectmac.h\n",
      "./patchlang < calccorr.hh > calccorr.h\n",
      "./patchlang < findsym.hh > findsym.h\n",
      "./patchlang < lattype.hh > lattype.h\n",
      "./patchlang < misc.hh > misc.h\n",
      "./patchlang < plugin.hh > plugin.h\n",
      "./patchlang < version.hh > version.h\n",
      "./patchlang < calcmf.hh > calcmf.h\n",
      "./patchlang < fixagg.hh > fixagg.h\n",
      "./patchlang < linalg.hh > linalg.h\n",
      "./patchlang < mmclib.hh > mmclib.h\n",
      "./patchlang < predrs.hh > predrs.h\n",
      "./patchlang < xtalutil.hh > xtalutil.h\n",
      "./patchlang < chull.hh > chull.h\n",
      "./patchlang < fxvector.hh > fxvector.h\n",
      "./patchlang < linklist.hh > linklist.h\n",
      "./patchlang < mrefine.hh > mrefine.h\n",
      "./patchlang < refine.hh > refine.h\n",
      "./patchlang < clus_str.hh > clus_str.h\n",
      "./patchlang < getvalue.hh > getvalue.h\n",
      "./patchlang < linsolve.hh > linsolve.h\n",
      "./patchlang < mteci.hh > mteci.h\n",
      "./patchlang < ridge.hh > ridge.h\n",
      "./patchlang < kspacecs.c++ > kspacecs.cc\n",
      "./patchlang < tensor.hh > tensor.h\n",
      "./patchlang < gceutil.hh > gceutil.h\n",
      "./patchlang < tensorsym.hh > tensorsym.h\n",
      "./patchlang < binstream.hh > binstream.h\n",
      "./patchlang < mpiinterf.hh > mpiinterf.h\n",
      "./patchlang < normal.hh > normal.h\n",
      "./patchlang < apb.hh > apb.h\n",
      "./patchlang < opti.hh > opti.h\n",
      "./patchlang < strinterf.hh > strinterf.h\n",
      "./patchlang < meshutil.hh > meshutil.h\n",
      "./patchlang < headers.c++ > headers.cc\n",
      "g++ -ffriend-injection -O3    -c -o headers.o headers.cc\n",
      "./patchlang < stringo.c++ > stringo.cc\n",
      "g++ -ffriend-injection -O3    -c -o stringo.o stringo.cc\n"
     ]
    },
    {
     "name": "stderr",
     "output_type": "stream",
     "text": [
      "g++: warning: switch ‘-ffriend-injection’ is no longer supported\n",
      "g++: warning: switch ‘-ffriend-injection’ is no longer supported\n"
     ]
    },
    {
     "name": "stdout",
     "output_type": "stream",
     "text": [
      "./patchlang < parse.c++ > parse.cc\n",
      "g++ -ffriend-injection -O3    -c -o parse.o parse.cc\n"
     ]
    },
    {
     "name": "stderr",
     "output_type": "stream",
     "text": [
      "g++: warning: switch ‘-ffriend-injection’ is no longer supported\n",
      "In file included from parse.h:9,\n",
      "                 from parse.cc:2:\n",
      "clus_str.h: In member function ‘int StructureBank<T>::find_new_structures(int)’:\n",
      "clus_str.h:202:3: warning: no return statement in function returning non-void [-Wreturn-type]\n",
      "  202 |   }\n",
      "      |   ^\n"
     ]
    },
    {
     "name": "stdout",
     "output_type": "stream",
     "text": [
      "./patchlang < xtalutil.c++ > xtalutil.cc\n",
      "g++ -ffriend-injection -O3    -c -o xtalutil.o xtalutil.cc\n"
     ]
    },
    {
     "name": "stderr",
     "output_type": "stream",
     "text": [
      "g++: warning: switch ‘-ffriend-injection’ is no longer supported\n"
     ]
    },
    {
     "name": "stdout",
     "output_type": "stream",
     "text": [
      "./patchlang < integer.c++ > integer.cc\n",
      "g++ -ffriend-injection -O3    -c -o integer.o integer.cc\n"
     ]
    },
    {
     "name": "stderr",
     "output_type": "stream",
     "text": [
      "g++: warning: switch ‘-ffriend-injection’ is no longer supported\n"
     ]
    },
    {
     "name": "stdout",
     "output_type": "stream",
     "text": [
      "./patchlang < findsym.c++ > findsym.cc\n",
      "g++ -ffriend-injection -O3    -c -o findsym.o findsym.cc\n"
     ]
    },
    {
     "name": "stderr",
     "output_type": "stream",
     "text": [
      "g++: warning: switch ‘-ffriend-injection’ is no longer supported\n"
     ]
    },
    {
     "name": "stdout",
     "output_type": "stream",
     "text": [
      "./patchlang < clus_str.c++ > clus_str.cc\n",
      "g++ -ffriend-injection -O3    -c -o clus_str.o clus_str.cc\n"
     ]
    },
    {
     "name": "stderr",
     "output_type": "stream",
     "text": [
      "g++: warning: switch ‘-ffriend-injection’ is no longer supported\n",
      "In file included from clus_str.cc:1:\n",
      "clus_str.h: In member function ‘int StructureBank<T>::find_new_structures(int)’:\n",
      "clus_str.h:202:3: warning: no return statement in function returning non-void [-Wreturn-type]\n",
      "  202 |   }\n",
      "      |   ^\n"
     ]
    },
    {
     "name": "stdout",
     "output_type": "stream",
     "text": [
      "./patchlang < getvalue.c++ > getvalue.cc\n",
      "g++ -ffriend-injection -O3    -c -o getvalue.o getvalue.cc\n"
     ]
    },
    {
     "name": "stderr",
     "output_type": "stream",
     "text": [
      "g++: warning: switch ‘-ffriend-injection’ is no longer supported\n",
      "getvalue.cc: In function ‘int get_atat_root(AutoString*)’:\n",
      "getvalue.cc:257:43: warning: control reaches end of non-void function [-Wreturn-type]\n",
      "  257 |   AutoString configfilename(getenv(\"HOME\"));\n",
      "      |                                           ^\n"
     ]
    },
    {
     "name": "stdout",
     "output_type": "stream",
     "text": [
      "./patchlang < lattype.c++ > lattype.cc\n",
      "g++ -ffriend-injection -O3    -c -o lattype.o lattype.cc\n"
     ]
    },
    {
     "name": "stderr",
     "output_type": "stream",
     "text": [
      "g++: warning: switch ‘-ffriend-injection’ is no longer supported\n"
     ]
    },
    {
     "name": "stdout",
     "output_type": "stream",
     "text": [
      "./patchlang < mpiinterf.c++ > mpiinterf.cc\n",
      "g++ -ffriend-injection -O3    -c -o mpiinterf.o mpiinterf.cc\n"
     ]
    },
    {
     "name": "stderr",
     "output_type": "stream",
     "text": [
      "g++: warning: switch ‘-ffriend-injection’ is no longer supported\n"
     ]
    },
    {
     "name": "stdout",
     "output_type": "stream",
     "text": [
      "./patchlang < genstr.c++ > genstr.cc\n",
      "g++ -ffriend-injection -O3    -c -o genstr.o genstr.cc\n"
     ]
    },
    {
     "name": "stderr",
     "output_type": "stream",
     "text": [
      "g++: warning: switch ‘-ffriend-injection’ is no longer supported\n",
      "In file included from genstr.cc:2:\n",
      "clus_str.h: In member function ‘int StructureBank<T>::find_new_structures(int)’:\n",
      "clus_str.h:202:3: warning: no return statement in function returning non-void [-Wreturn-type]\n",
      "  202 |   }\n",
      "      |   ^\n"
     ]
    },
    {
     "name": "stdout",
     "output_type": "stream",
     "text": [
      "g++   genstr.o headers.o stringo.o parse.o xtalutil.o integer.o findsym.o clus_str.o getvalue.o lattype.o mpiinterf.o  -lm -o genstr\n",
      "rm genstr.o\n",
      "make[1]: Leaving directory '/home/jovyan/repos/matlantis-contrib/matlantis_contrib_examples/metal_alloy_examples/packages/atat/src'\n"
     ]
    }
   ],
   "source": [
    "os.chdir(f'{atatroot}')\n",
    "cmd = f'make genstr'.split()\n",
    "p = run(cmd, shell=False)\n",
    "os.chdir(f'{rootdir}')"
   ]
  },
  {
   "cell_type": "markdown",
   "metadata": {},
   "source": [
    "### Copy genstr to the current directory."
   ]
  },
  {
   "cell_type": "code",
   "execution_count": 7,
   "metadata": {},
   "outputs": [
    {
     "data": {
      "text/plain": [
       "'/home/jovyan/repos/matlantis-contrib/matlantis_contrib_examples/metal_alloy_examples/genstr'"
      ]
     },
     "execution_count": 7,
     "metadata": {},
     "output_type": "execute_result"
    }
   ],
   "source": [
    "shutil.copy(f'{atatroot}/src/genstr', f'{rootdir}/')"
   ]
  }
 ],
 "metadata": {
  "kernelspec": {
   "display_name": "Python 3.7",
   "language": "python",
   "name": "python37"
  },
  "language_info": {
   "codemirror_mode": {
    "name": "ipython",
    "version": 3
   },
   "file_extension": ".py",
   "mimetype": "text/x-python",
   "name": "python",
   "nbconvert_exporter": "python",
   "pygments_lexer": "ipython3",
   "version": "3.7.13"
  }
 },
 "nbformat": 4,
 "nbformat_minor": 4
}
