{
 "cells": [
  {
   "cell_type": "markdown",
   "id": "a661961f-6159-4672-8848-e61482cc958f",
   "metadata": {},
   "source": [
    "Copyright ENEOS, Corp. and Preferred Computational Chemistry as contributors to Matlantis contrib project<br>\n",
    "This document was machine translated from Japanese to English."
   ]
  },
  {
   "cell_type": "markdown",
   "id": "a7a4ad68-d3e8-4703-84f5-ad7af1093055",
   "metadata": {},
   "source": [
    "# GUI for modeling both molecules and slabs"
   ]
  },
  {
   "cell_type": "markdown",
   "id": "489f4dfa-40d7-4800-80b5-9591a5bc5f06",
   "metadata": {
    "tags": []
   },
   "source": [
    "# Feature Description"
   ]
  },
  {
   "cell_type": "markdown",
   "id": "65b3e462-a8e4-4386-a408-9a713a563af0",
   "metadata": {
    "tags": []
   },
   "source": [
    "### Overall \n",
    "1. a GUI for modeling with added functions to surfaceeditor of matlantis-extras.\n",
    "2. Undo, Redo button : redo operation  "
   ]
  },
  {
   "cell_type": "markdown",
   "id": "c1c759df-5f36-4151-9fcd-7a3b111e9479",
   "metadata": {
    "tags": []
   },
   "source": [
    "### 1. Viewer \n",
    "- Details               &nbsp;&nbsp;&nbsp;&nbsp;&nbsp;&nbsp;&nbsp;&nbsp;&nbsp;&nbsp;&nbsp;&nbsp;&nbsp;&nbsp;&nbsp;&nbsp;&nbsp;&nbsp;&nbsp;&nbsp;         : Viewer appearance changes\n",
    "- ViewPoint Change \n",
    "    - Show force                      &nbsp;&nbsp;&nbsp;       : The direction of the force acting on the atom is displayed in the viewer.\n",
    "    - Show axes                       &nbsp;&nbsp;&nbsp;&nbsp; : x,y,z axis is displayed in the viewer.\n",
    "    - Show index                      &nbsp;&nbsp;             : Indices are displayed in the viewer.\n",
    "    - Show index in 'Selected atoms'  &nbsp;&nbsp;             : Indices in 'Selected atoms' are displayed in the viewer."
   ]
  },
  {
   "cell_type": "markdown",
   "id": "b0885508-fbd6-4549-8dd5-ad6df3fb0c34",
   "metadata": {},
   "source": [
    "### 2. Range\n",
    "- Selection of Range in 'Selected atoms'       &nbsp;&nbsp;&nbsp;&nbsp;&nbsp;&nbsp;&nbsp;    : All atoms in the specified range are stored in 'Selected atoms'.\n",
    "- Selection of Elements in ' Selected atoms'   &nbsp;&nbsp;                                  : When 'Only selected elements' is selected, only the specified atoms are stored in 'Selected atoms'. ex).Used for example to display the index of Ti atoms with a z-coordinate of 15 or more."
   ]
  },
  {
   "cell_type": "markdown",
   "id": "744fe6a6-96b1-4d7a-9724-c147f99e0718",
   "metadata": {
    "jp-MarkdownHeadingCollapsed": true,
    "tags": []
   },
   "source": [
    "### 3. Editing\n",
    "- Move      &nbsp;&nbsp;&nbsp;         : Translate atoms with index in 'Selected atoms' in x,y,z axis.\n",
    "- Rotate    &nbsp;&nbsp;               : Rotate atoms with index in 'Selected atoms' along x,y,z axis.\n",
    "- Move or Rotate on the axis of VecAB    &nbsp;&nbsp;   : Not limited to x,y,z axes, but can be specified the axis of translation and rotation.\n"
   ]
  },
  {
   "cell_type": "markdown",
   "id": "b20aa577-58c1-403d-98bb-61171b6260ab",
   "metadata": {
    "jp-MarkdownHeadingCollapsed": true,
    "tags": []
   },
   "source": [
    "### 4. **Addition**  \n",
    "- The 'clicked mode' is changed by opening tabs 0-2, which changes the operation when the viewer atom is clicked (Normal mode when no tabs are open).\n",
    "    0. Delete or Replace Atoms  &nbsp;&nbsp;&nbsp;                                                                                                                   : You can delete the atom you clicked on.' If you want to operate on all atoms in 'Selected atoms' or if you want to replace an atom, you can do so by pressing the Delete or Replace to button.\n",
    "    1. Add Molecule             &nbsp;&nbsp;&nbsp;&nbsp;&nbsp;&nbsp;&nbsp;&nbsp;&nbsp;&nbsp;&nbsp;&nbsp;&nbsp;&nbsp;&nbsp;&nbsp;&nbsp;&nbsp;&nbsp;&nbsp;             : Bonding of the specified atom or functional group to the clicked atom.\n",
    "    2. Add Valence              &nbsp;&nbsp;&nbsp;&nbsp;&nbsp;&nbsp;&nbsp;&nbsp;&nbsp;&nbsp;&nbsp;&nbsp;&nbsp;&nbsp;&nbsp;&nbsp;&nbsp;&nbsp;&nbsp;&nbsp;&nbsp;&nbsp; : The valence of the clicked atom can be increased. You can also select whether or not to perform a light opt by using the checkbox.\n",
    "    3. Insert molecules         &nbsp;&nbsp;&nbsp;&nbsp;&nbsp;&nbsp;&nbsp;&nbsp;&nbsp;&nbsp;&nbsp;&nbsp; &nbsp;&nbsp;&nbsp;                                          : No operation when clicked; atoms are added in the specified direction for atoms in 'Selected atoms' by pressing the Add Valence button.\n"
   ]
  },
  {
   "cell_type": "markdown",
   "id": "e861a877-96c5-46d4-8b98-c6888119e1d0",
   "metadata": {
    "tags": []
   },
   "source": [
    "### 5. Opt\n",
    "- Structural optimization with different number of steps, fmax, maxstep, and optimization algorithm can be performed on the GUI, and if the structure is broken by opt, it is possible to go back to before opt with the Redo button.\n",
    "- Structural optimization depends on the original constraints.\n",
    "- If “Opt only selected atoms” is turned on, structural optimization is performed with all atoms except those in the 'Selected atoms' fixed.\n",
    "    - ※ Atoms that are originally under constraints are not structurally optimized even if they are in 'Selected atoms'.\n",
    "    - ※ Constraints after structural optimization revert to those before structural optimization."
   ]
  },
  {
   "cell_type": "code",
   "execution_count": null,
   "id": "27a828a0-d68a-4e97-a32d-6fc952d8ed0f",
   "metadata": {},
   "outputs": [],
   "source": []
  },
  {
   "cell_type": "markdown",
   "id": "09b912cf-0dd1-4c07-836f-24405849db42",
   "metadata": {},
   "source": [
    "# AddEditor"
   ]
  },
  {
   "cell_type": "code",
   "execution_count": null,
   "id": "408e8d6c-ed06-4ea8-a6fa-c097679003e9",
   "metadata": {},
   "outputs": [],
   "source": [
    "# install of autodE\n",
    "# !pip install git+https://GitHub.com/duartegroup/autodE.git"
   ]
  },
  {
   "cell_type": "code",
   "execution_count": 1,
   "id": "16289c0e-37a8-4009-87bb-2d51b42a6d83",
   "metadata": {
    "tags": []
   },
   "outputs": [
    {
     "data": {
      "text/html": [
       "<style> .widget-vbox {background-color:transparent;padding: 2px}</style>"
      ],
      "text/plain": [
       "<IPython.core.display.HTML object>"
      ]
     },
     "metadata": {},
     "output_type": "display_data"
    },
    {
     "data": {
      "application/vnd.jupyter.widget-view+json": {
       "model_id": "b196d0b2d32846218528fc62dac73f8e",
       "version_major": 2,
       "version_minor": 0
      },
      "text/plain": []
     },
     "metadata": {},
     "output_type": "display_data"
    }
   ],
   "source": [
    "from AddE import AddEditor"
   ]
  },
  {
   "cell_type": "code",
   "execution_count": 2,
   "id": "0aad79d6-42b4-4ca0-8910-26403729670e",
   "metadata": {},
   "outputs": [],
   "source": [
    "import numpy as np\n",
    "from ase import Atom, Atoms, units\n",
    "from ase.data.pubchem import pubchem_atoms_search\n",
    "\n",
    "from pfp_api_client.pfp.calculators.ase_calculator import ASECalculator\n",
    "from pfp_api_client.pfp.estimator import Estimator"
   ]
  },
  {
   "cell_type": "code",
   "execution_count": 3,
   "id": "5f8d5827-9813-4be1-bba8-181c967c4790",
   "metadata": {
    "tags": []
   },
   "outputs": [],
   "source": [
    "benzene = pubchem_atoms_search(smiles=\"c1ccccc1\")\n",
    "estimator = Estimator(calc_mode=\"CRYSTAL_U0\",model_version=\"v7.0.0\")\n",
    "benzene.calc=ASECalculator(estimator)"
   ]
  },
  {
   "cell_type": "code",
   "execution_count": 4,
   "id": "dc47821d-110a-4753-b2f3-fce5787414bb",
   "metadata": {
    "tags": []
   },
   "outputs": [
    {
     "data": {
      "application/vnd.jupyter.widget-view+json": {
       "model_id": "dd5cfd35c320474682dd398d60780084",
       "version_major": 2,
       "version_minor": 0
      },
      "text/plain": [
       "HBox(children=(NGLWidget(background='#222222'), VBox(children=(HBox(children=(HTML(value=\"<font size='2'> &nbs…"
      ]
     },
     "metadata": {},
     "output_type": "display_data"
    }
   ],
   "source": [
    "# If you put atoms in the argument, you can edit the atoms.\n",
    "v=AddEditor(benzene)\n",
    "v.display()"
   ]
  },
  {
   "cell_type": "code",
   "execution_count": null,
   "id": "b68e0637-ac55-4e66-b2c7-6e35271e7b79",
   "metadata": {},
   "outputs": [],
   "source": []
  },
  {
   "cell_type": "code",
   "execution_count": 16,
   "id": "c984d50c-8e3e-4229-97f0-47597d20d51c",
   "metadata": {},
   "outputs": [
    {
     "data": {
      "application/vnd.jupyter.widget-view+json": {
       "model_id": "155a3e3098ab4cfd8bbb652d45717043",
       "version_major": 2,
       "version_minor": 0
      },
      "text/plain": [
       "HBox(children=(NGLWidget(background='#222222'), VBox(children=(HBox(children=(HTML(value=\"<font size='2'> &nbs…"
      ]
     },
     "metadata": {},
     "output_type": "display_data"
    }
   ],
   "source": [
    "# If you don't put atoms in the argument, you can automatically edit methane atoms \n",
    "v=AddEditor()\n",
    "v.display()"
   ]
  },
  {
   "cell_type": "code",
   "execution_count": 14,
   "id": "c1e00763-08ff-4464-96d5-87bad1488882",
   "metadata": {},
   "outputs": [],
   "source": [
    "methane = v.atoms.copy()"
   ]
  },
  {
   "cell_type": "code",
   "execution_count": null,
   "id": "ea7499b7-47ad-4941-a6b2-5b542f36988b",
   "metadata": {},
   "outputs": [],
   "source": []
  },
  {
   "cell_type": "code",
   "execution_count": null,
   "id": "e00a7b99-8e62-4a17-be2a-7b2b45989030",
   "metadata": {},
   "outputs": [],
   "source": []
  },
  {
   "cell_type": "code",
   "execution_count": null,
   "id": "9b8490a2-4bb1-4a07-abfa-b880958959cb",
   "metadata": {},
   "outputs": [],
   "source": []
  }
 ],
 "metadata": {
  "kernelspec": {
   "display_name": "1: Python 3.9",
   "language": "python",
   "name": "python39"
  },
  "language_info": {
   "codemirror_mode": {
    "name": "ipython",
    "version": 3
   },
   "file_extension": ".py",
   "mimetype": "text/x-python",
   "name": "python",
   "nbconvert_exporter": "python",
   "pygments_lexer": "ipython3",
   "version": "3.9.16"
  }
 },
 "nbformat": 4,
 "nbformat_minor": 5
}
