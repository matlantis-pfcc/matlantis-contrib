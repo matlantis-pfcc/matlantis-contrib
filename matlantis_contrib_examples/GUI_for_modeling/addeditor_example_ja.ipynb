{
 "cells": [
  {
   "cell_type": "markdown",
   "id": "a661961f-6159-4672-8848-e61482cc958f",
   "metadata": {},
   "source": [
    "Copyright ENEOS, Corp. and Preferred Computational Chemistry as contributors to Matlantis contrib project<br>"
   ]
  },
  {
   "cell_type": "markdown",
   "id": "a7a4ad68-d3e8-4703-84f5-ad7af1093055",
   "metadata": {},
   "source": [
    "# GUI for modeling both molecules and slabs"
   ]
  },
  {
   "cell_type": "markdown",
   "id": "489f4dfa-40d7-4800-80b5-9591a5bc5f06",
   "metadata": {
    "tags": []
   },
   "source": [
    "# 機能説明"
   ]
  },
  {
   "attachments": {},
   "cell_type": "markdown",
   "id": "eab71188-8ce6-479c-b1d4-f6afd7ffc2a1",
   "metadata": {
    "tags": []
   },
   "source": [
    "### 全体 \n",
    "1. matlantis-extrasのsurfaceeditorに機能を追加した、モデリングのためのGUIです。\n",
    "2. Undo, Redoボタン : 操作をやり直すボタン  \n",
    "\n",
    "### 1. Viewer \n",
    "- Details               &nbsp;&nbsp;&nbsp;&nbsp;&nbsp;&nbsp;&nbsp;&nbsp;&nbsp;&nbsp;&nbsp;&nbsp;&nbsp;&nbsp;&nbsp;&nbsp;&nbsp;&nbsp;&nbsp;&nbsp;         : Viewerの見た目変更\n",
    "- ViewPoint Change \n",
    "    - Show force                      &nbsp;&nbsp;&nbsp;       : 原子に働いている力の方向をviewerに表示\n",
    "    - Show axes                       &nbsp;&nbsp;&nbsp;&nbsp; : xyz軸をviewerに表示\n",
    "    - Show index                      &nbsp;&nbsp;             : indexをviewerに表示\n",
    "    - Show index in 'Selected atoms'  &nbsp;&nbsp;             : 'Selected atoms'にあるindexをviewerに表示\n",
    "\n",
    "### 2. Range\n",
    "- Selection of Range in 'Selected atoms'       &nbsp;&nbsp;&nbsp;&nbsp;&nbsp;&nbsp;&nbsp;    : 指定した範囲内にある原子のindexをすべて'Selected atoms'に格納\n",
    "- Selection of Elements in ' Selected atoms'   &nbsp;&nbsp;                                  : 'Only selected elements'を選択すると、指定した原子のみ'Selected atoms'に格納。ex).z座標が15以上のAl原子のindexを表示したいときなどに使用\n",
    "\n",
    "### 3. Editing\n",
    "- Move      &nbsp;&nbsp;&nbsp;         : 'Selected atoms'内のindexをもつ原子をx,y,z軸方向に並進移動\n",
    "- Rotate    &nbsp;&nbsp;               : 'Selected atoms'内のindexをもつ原子をx,y,z軸方向に回転\n",
    "- Move or Rotate on the axis of VecAB    &nbsp;&nbsp;   : x,y,z軸以外でも並進・回転させる軸を指定可能.\n",
    "\n",
    "\n",
    "### 4. **Addition**  \n",
    "- 0～2のタブを開くことで'clicked mode'が変更。viewerの原子をクリックしたときの操作が変化する（タブを開いていないときはNormal mode）\n",
    "    0. Delete or Replace Atoms  &nbsp;&nbsp;&nbsp;                                                                                                                   : クリックした原子の消去が可能。'Selected atoms'内の原子すべてについて操作を行いたい場合や原子を置換したい場合はDeleteボタン、Replace toボタンを押すことで可能。\n",
    "    1. Add Molecule             &nbsp;&nbsp;&nbsp;&nbsp;&nbsp;&nbsp;&nbsp;&nbsp;&nbsp;&nbsp;&nbsp;&nbsp;&nbsp;&nbsp;&nbsp;&nbsp;&nbsp;&nbsp;&nbsp;&nbsp;             : クリックした原子に指定した原子の結合や官能基の結合を行う。\n",
    "    2. Add Valence              &nbsp;&nbsp;&nbsp;&nbsp;&nbsp;&nbsp;&nbsp;&nbsp;&nbsp;&nbsp;&nbsp;&nbsp;&nbsp;&nbsp;&nbsp;&nbsp;&nbsp;&nbsp;&nbsp;&nbsp;&nbsp;&nbsp; : クリックした原子の価数を増加可能。チェックボックスで軽いoptを行うかどうかも選択可能。\n",
    "    3. Insert molecules         &nbsp;&nbsp;&nbsp;&nbsp;&nbsp;&nbsp;&nbsp;&nbsp;&nbsp;&nbsp;&nbsp;&nbsp; &nbsp;&nbsp;&nbsp;                                          : クリック時の操作はなし。Add Valenceボタンを押すことで、'Selected atoms'内の原子について、指定した方向に原子を追加。\n",
    "\n",
    "\n",
    "### 5. Opt\n",
    "- step数、fmax、maxstep、最適化アルゴリズムを変更した構造最適化をGUI上で可能。optで構造が崩れた場合はRedoボタンでopt前に戻ることも可能。\n",
    "- 構造最適化はもともとのconstraintsに依存して行う。\n",
    "- Opt only selected atomsをオンにすると、'Selected atoms'内の原子以外を固定して構造最適化\n",
    "    - ※ もともとconstraintsがかかっている原子は'Selected atoms'に入っていても構造最適化は行わない\n",
    "    - ※ 構造最適化後のconstraintsは構造最適化前のconstraintsに戻る"
   ]
  },
  {
   "cell_type": "code",
   "execution_count": null,
   "id": "27a828a0-d68a-4e97-a32d-6fc952d8ed0f",
   "metadata": {},
   "outputs": [],
   "source": []
  },
  {
   "cell_type": "markdown",
   "id": "09b912cf-0dd1-4c07-836f-24405849db42",
   "metadata": {},
   "source": [
    "# AddEditor"
   ]
  },
  {
   "cell_type": "code",
   "execution_count": null,
   "id": "408e8d6c-ed06-4ea8-a6fa-c097679003e9",
   "metadata": {},
   "outputs": [],
   "source": [
    "# install of autodE\n",
    "# !pip install git+https://GitHub.com/duartegroup/autodE.git"
   ]
  },
  {
   "cell_type": "code",
   "execution_count": 1,
   "id": "16289c0e-37a8-4009-87bb-2d51b42a6d83",
   "metadata": {
    "tags": []
   },
   "outputs": [
    {
     "data": {
      "text/html": [
       "<style> .widget-vbox {background-color:transparent;padding: 2px}</style>"
      ],
      "text/plain": [
       "<IPython.core.display.HTML object>"
      ]
     },
     "metadata": {},
     "output_type": "display_data"
    },
    {
     "data": {
      "application/vnd.jupyter.widget-view+json": {
       "model_id": "b196d0b2d32846218528fc62dac73f8e",
       "version_major": 2,
       "version_minor": 0
      },
      "text/plain": []
     },
     "metadata": {},
     "output_type": "display_data"
    }
   ],
   "source": [
    "from AddE import AddEditor"
   ]
  },
  {
   "cell_type": "code",
   "execution_count": 2,
   "id": "0aad79d6-42b4-4ca0-8910-26403729670e",
   "metadata": {},
   "outputs": [],
   "source": [
    "import numpy as np\n",
    "from ase import Atom, Atoms, units\n",
    "from ase.data.pubchem import pubchem_atoms_search\n",
    "\n",
    "from pfp_api_client.pfp.calculators.ase_calculator import ASECalculator\n",
    "from pfp_api_client.pfp.estimator import Estimator"
   ]
  },
  {
   "cell_type": "code",
   "execution_count": 3,
   "id": "5f8d5827-9813-4be1-bba8-181c967c4790",
   "metadata": {
    "tags": []
   },
   "outputs": [],
   "source": [
    "benzene = pubchem_atoms_search(smiles=\"c1ccccc1\")\n",
    "estimator = Estimator(calc_mode=\"CRYSTAL_U0\",model_version=\"v7.0.0\")\n",
    "benzene.calc=ASECalculator(estimator)"
   ]
  },
  {
   "cell_type": "code",
   "execution_count": 4,
   "id": "dc47821d-110a-4753-b2f3-fce5787414bb",
   "metadata": {
    "tags": []
   },
   "outputs": [
    {
     "data": {
      "application/vnd.jupyter.widget-view+json": {
       "model_id": "dd5cfd35c320474682dd398d60780084",
       "version_major": 2,
       "version_minor": 0
      },
      "text/plain": [
       "HBox(children=(NGLWidget(background='#222222'), VBox(children=(HBox(children=(HTML(value=\"<font size='2'> &nbs…"
      ]
     },
     "metadata": {},
     "output_type": "display_data"
    }
   ],
   "source": [
    "# If you put atoms in the argument, you can edit the atoms.\n",
    "v=AddEditor(benzene)\n",
    "v.display()"
   ]
  },
  {
   "cell_type": "code",
   "execution_count": null,
   "id": "b68e0637-ac55-4e66-b2c7-6e35271e7b79",
   "metadata": {},
   "outputs": [],
   "source": []
  },
  {
   "cell_type": "code",
   "execution_count": 16,
   "id": "c984d50c-8e3e-4229-97f0-47597d20d51c",
   "metadata": {},
   "outputs": [
    {
     "data": {
      "application/vnd.jupyter.widget-view+json": {
       "model_id": "155a3e3098ab4cfd8bbb652d45717043",
       "version_major": 2,
       "version_minor": 0
      },
      "text/plain": [
       "HBox(children=(NGLWidget(background='#222222'), VBox(children=(HBox(children=(HTML(value=\"<font size='2'> &nbs…"
      ]
     },
     "metadata": {},
     "output_type": "display_data"
    }
   ],
   "source": [
    "# If you don't put atoms in the argument, you can automatically edit methane atoms \n",
    "v=AddEditor()\n",
    "v.display()"
   ]
  },
  {
   "cell_type": "code",
   "execution_count": 14,
   "id": "c1e00763-08ff-4464-96d5-87bad1488882",
   "metadata": {},
   "outputs": [],
   "source": [
    "methane = v.atoms.copy()"
   ]
  },
  {
   "cell_type": "code",
   "execution_count": null,
   "id": "ea7499b7-47ad-4941-a6b2-5b542f36988b",
   "metadata": {},
   "outputs": [],
   "source": []
  },
  {
   "cell_type": "code",
   "execution_count": null,
   "id": "e00a7b99-8e62-4a17-be2a-7b2b45989030",
   "metadata": {},
   "outputs": [],
   "source": []
  },
  {
   "cell_type": "code",
   "execution_count": null,
   "id": "9b8490a2-4bb1-4a07-abfa-b880958959cb",
   "metadata": {},
   "outputs": [],
   "source": []
  },
  {
   "cell_type": "code",
   "execution_count": null,
   "id": "af7ce907-2370-4506-9677-d48a0f43cb93",
   "metadata": {},
   "outputs": [],
   "source": []
  }
 ],
 "metadata": {
  "kernelspec": {
   "display_name": "1: Python 3.9",
   "language": "python",
   "name": "python39"
  },
  "language_info": {
   "codemirror_mode": {
    "name": "ipython",
    "version": 3
   },
   "file_extension": ".py",
   "mimetype": "text/x-python",
   "name": "python",
   "nbconvert_exporter": "python",
   "pygments_lexer": "ipython3",
   "version": "3.9.16"
  }
 },
 "nbformat": 4,
 "nbformat_minor": 5
}
