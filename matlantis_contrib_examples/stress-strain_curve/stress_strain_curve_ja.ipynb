{
 "cells": [
  {
   "cell_type": "markdown",
   "id": "fbb893c4-ac3e-4377-8ac0-5d62ab61822c",
   "metadata": {
    "papermill": {
     "duration": 0.007504,
     "end_time": "2023-10-11T08:23:32.798967",
     "exception": false,
     "start_time": "2023-10-11T08:23:32.791463",
     "status": "completed"
    },
    "tags": []
   },
   "source": [
    "# 樹脂-金属界面の応力-ひずみ曲線計算\n",
    "\n",
    "本ノートブックでは、金属スラブに挟まれた樹脂の引っ張りシミュレーションを実行し、応力-ひずみ曲線を作成します。\n",
    "\n",
    "<figure>\n",
    "  <img src=\"./input/image.png\" alt=\"Example Image\"/>\n",
    "  <figcaption>Fig.1 - 引っ張りシミュレーションで得られた最終構造 (OVITOを用いて可視化)</figcaption>\n",
    "</figure>"
   ]
  },
  {
   "cell_type": "markdown",
   "id": "252c8b85-0a41-4fd0-aaa9-02125b4783be",
   "metadata": {
    "papermill": {
     "duration": 0.003837,
     "end_time": "2023-10-11T08:23:32.806829",
     "exception": false,
     "start_time": "2023-10-11T08:23:32.802992",
     "status": "completed"
    },
    "tags": []
   },
   "source": [
    "## 事前セットアップ\n",
    "\n",
    "pfp-api-client, matlantis-featuresをインストールします。"
   ]
  },
  {
   "cell_type": "code",
   "execution_count": 1,
   "id": "2457f221-e0e9-4da1-ac49-988abde1d4b3",
   "metadata": {
    "papermill": {
     "duration": 0.013747,
     "end_time": "2023-10-11T08:23:32.824414",
     "exception": false,
     "start_time": "2023-10-11T08:23:32.810667",
     "status": "completed"
    },
    "tags": []
   },
   "outputs": [],
   "source": [
    "# ! pip install -U pfp-api-client\n",
    "# ! pip install -U matlantis-features"
   ]
  },
  {
   "cell_type": "markdown",
   "id": "19b32b83-4362-4928-a211-8f7829f6115c",
   "metadata": {
    "papermill": {
     "duration": 0.005075,
     "end_time": "2023-10-11T08:23:32.833280",
     "exception": false,
     "start_time": "2023-10-11T08:23:32.828205",
     "status": "completed"
    },
    "tags": []
   },
   "source": [
    "## 1. パッケージのインポート、クラス・関数の定義"
   ]
  },
  {
   "cell_type": "code",
   "execution_count": null,
   "id": "98dbe031-3650-46af-8ca4-f35d70af97ea",
   "metadata": {
    "papermill": {
     "duration": 8.054537,
     "end_time": "2023-10-11T08:23:40.892084",
     "exception": false,
     "start_time": "2023-10-11T08:23:32.837547",
     "status": "completed"
    },
    "tags": []
   },
   "outputs": [
    {
     "data": {
      "application/vnd.jupyter.widget-view+json": {
       "model_id": "3ca8a4a534cd42a0bc76a4fff45f78d9",
       "version_major": 2,
       "version_minor": 0
      },
      "text/plain": []
     },
     "metadata": {},
     "output_type": "display_data"
    }
   ],
   "source": [
    "import os\n",
    "import numpy as np\n",
    "import pandas as pd\n",
    "import random\n",
    "import pathlib\n",
    "import matplotlib.pyplot as plt\n",
    "from scipy.spatial.transform import Rotation\n",
    "from sklearn.linear_model import LinearRegression\n",
    "\n",
    "from ase import Atoms\n",
    "from ase import units\n",
    "from ase.io import read, write, Trajectory\n",
    "from ase.build import bulk, surface, sort\n",
    "from ase.units import Pascal\n",
    "from ase.visualize import view\n",
    "from ase.constraints import FixSymmetry\n",
    "from ase import neighborlist\n",
    "from ase.constraints import FixAtoms\n",
    "\n",
    "from rdkit import Chem\n",
    "from rdkit.Chem import AllChem\n",
    "\n",
    "from matlantis_features.utils.atoms_util import convert_atoms_to_upper\n",
    "from matlantis_features.atoms import MatlantisAtoms\n",
    "from matlantis_features.features.common.opt import LBFGSASEOptFeature, FireLBFGSASEOptFeature\n",
    "from matlantis_features.features.md import ASEMDSystem, LangevinIntegrator, MDFeature, MDExtensionBase, NPTIntegrator\n",
    "from matlantis_features.features.md.md_extensions import DeformScheduler\n",
    "from matlantis_features.utils.calculators import get_calculator, pfp_estimator_fn\n",
    "\n",
    "from pfp_api_client.pfp.estimator import Estimator, EstimatorCalcMode\n",
    "from pfp_api_client.pfp.calculators.ase_calculator import ASECalculator\n",
    "estimator_fn = pfp_estimator_fn(model_version='v5.0.0', calc_mode='crystal_u0_plus_d3')\n",
    "\n",
    "from pfcc_extras.visualize.view import view_ngl\n",
    "from pfcc_extras.structure.ase_rdkit_converter import smiles_to_atoms\n",
    "from pfcc_extras.structure.surface import makesurface\n",
    "\n",
    "def density(atoms):\n",
    "    vol = atoms.get_cell().volume *(1e-8)**3   # as cm3\n",
    "    wt = sum(atoms.get_masses())    # as g/mol\n",
    "    dens = wt / units.mol / vol\n",
    "    return(dens)\n",
    "\n",
    "class PrintCellShape(MDExtensionBase):\n",
    "    def __init__(self, cell_log=None):\n",
    "        self.cell_log = cell_log\n",
    "    def __call__(self, system, integrator) -> None:\n",
    "        cell_par = system.ase_atoms.get_cell_lengths_and_angles()\n",
    "        istep = system.current_total_step\n",
    "        print(f\"Dyn step {istep:4d} a {cell_par[0]:3.2f} b {cell_par[1]:3.2f} c {cell_par[2]:3.2f} alpha {cell_par[3]:3.2f} beta {cell_par[4]:3.2f} gamma {cell_par[5]:3.2f} \")\n",
    "        if self.cell_log is not None:\n",
    "            self.cell_log.append(cell_par)\n",
    "            \n",
    "try:\n",
    "    dir_path = pathlib.Path(__file__).parent\n",
    "except:\n",
    "    dir_path = pathlib.Path(\"\").resolve()\n",
    "    \n",
    "input_dir = dir_path / \"input\"\n",
    "output_dir = dir_path / \"output\""
   ]
  },
  {
   "cell_type": "markdown",
   "id": "ba954b22-9f83-4930-8a6b-2cb466ddcca3",
   "metadata": {
    "papermill": {
     "duration": 0.005852,
     "end_time": "2023-10-11T08:23:40.902506",
     "exception": false,
     "start_time": "2023-10-11T08:23:40.896654",
     "status": "completed"
    },
    "tags": []
   },
   "source": [
    "## 2. 構造作成\n",
    "\n",
    "真空層で挟まれた金属スラブモデルを作成し、樹脂を充填します。その構造を圧着することで初期構造を生成します。"
   ]
  },
  {
   "cell_type": "markdown",
   "id": "8daceb26-47ab-4559-b901-9d8f7011e0e4",
   "metadata": {
    "papermill": {
     "duration": 0.004029,
     "end_time": "2023-10-11T08:23:40.910427",
     "exception": false,
     "start_time": "2023-10-11T08:23:40.906398",
     "status": "completed"
    },
    "tags": []
   },
   "source": [
    "### 2-1 入出力ファイルパス"
   ]
  },
  {
   "cell_type": "code",
   "execution_count": 2,
   "id": "aea84e3f-bca7-4383-a22f-c3ef30306252",
   "metadata": {
    "papermill": {
     "duration": 0.013396,
     "end_time": "2023-10-11T08:23:40.927640",
     "exception": false,
     "start_time": "2023-10-11T08:23:40.914244",
     "status": "completed"
    },
    "tags": []
   },
   "outputs": [],
   "source": [
    "# input file\n",
    "# 樹脂構造\n",
    "resin_path = input_dir / \"PEO.xyz\"\n",
    "\n",
    "# output file\n",
    "# 保存先ディレクトリ\n",
    "results = \"output_ja\"\n",
    "# 金属スラブ\n",
    "metal_opt_path = output_dir / \"model\" / \"slab_Fe.xyz\"\n",
    "# 最適後樹脂構造\n",
    "resin_opt_path = output_dir / \"model\" / \"resin_opt.xyz\"\n",
    "# 金属スラブ及び樹脂構造\n",
    "slab_opt_path = output_dir / \"model\" / \"slab.xyz\"\n",
    "# 高温圧着MDトラジェクトリ\n",
    "npt1_path = output_dir / \"md\" / \"npt1.traj\"\n",
    "# 室温平衡化MDトラジェクトリ\n",
    "npt2_path = output_dir / \"md\" / \"npt2.traj\"\n",
    "# 引っ張りMDトラジェクトリ\n",
    "tensile_path = output_dir / \"md\" / \"tensile.traj\"\n",
    "# 応力-ひずみ曲線図\n",
    "ss_path = output_dir / \"figure\" / \"ss.png\"\n",
    "\n",
    "# ディレクトリ作成\n",
    "os.makedirs(output_dir / \"model\", exist_ok = True)\n",
    "os.makedirs(output_dir / \"md\", exist_ok = True)\n",
    "os.makedirs(output_dir / \"figure\", exist_ok = True)"
   ]
  },
  {
   "cell_type": "markdown",
   "id": "90f952a3-eeea-4e64-b4bb-1185a3a9dcec",
   "metadata": {
    "papermill": {
     "duration": 0.00404,
     "end_time": "2023-10-11T08:23:40.954645",
     "exception": false,
     "start_time": "2023-10-11T08:23:40.950605",
     "status": "completed"
    },
    "tags": []
   },
   "source": [
    "### 2-2. 真空層を有する金属スラブ作成"
   ]
  },
  {
   "cell_type": "code",
   "execution_count": 4,
   "id": "90aad8b7-0176-4d4f-97b0-f4e2d1e86551",
   "metadata": {
    "papermill": {
     "duration": 0.013554,
     "end_time": "2023-10-11T08:23:40.972451",
     "exception": false,
     "start_time": "2023-10-11T08:23:40.958897",
     "status": "completed"
    },
    "tags": []
   },
   "outputs": [
    {
     "name": "stdout",
     "output_type": "stream",
     "text": [
      "バルク構造の緩和\n"
     ]
    },
    {
     "data": {
      "application/vnd.jupyter.widget-view+json": {
       "model_id": "33a2ad780f5649d193727393b68e3f6f",
       "version_major": 2,
       "version_minor": 0
      },
      "text/plain": [
       "  0%|          | 0/10001 [00:00<?, ?it/s]"
      ]
     },
     "metadata": {},
     "output_type": "display_data"
    }
   ],
   "source": [
    "# バルク構造の緩和\n",
    "print(\"バルク構造の緩和\")\n",
    "blk = bulk(\"Fe\", \"bcc\")\n",
    "blk.set_constraint([FixSymmetry(blk)])\n",
    "opt = LBFGSASEOptFeature(n_run = 10000, fmax = 0.01, filter=True,\n",
    "                         show_progress_bar=True, estimator_fn = estimator_fn)\n",
    "result_opt = opt(blk)\n",
    "\n",
    "# 真空層を有する表面モデルの作成\n",
    "vacuum = 500\n",
    "slab = result_opt.atoms.ase_atoms.copy()\n",
    "slab.set_constraint([])\n",
    "slab = makesurface(slab, miller_indices=(1,0,0), layers=10, rep=[8,8,1], vacuum=vacuum)"
   ]
  },
  {
   "cell_type": "code",
   "execution_count": 5,
   "id": "f612d1ad-8f10-4b74-851f-253ac81ffcee",
   "metadata": {
    "papermill": {
     "duration": 0.013492,
     "end_time": "2023-10-11T08:23:40.990214",
     "exception": false,
     "start_time": "2023-10-11T08:23:40.976722",
     "status": "completed"
    },
    "tags": []
   },
   "outputs": [
    {
     "name": "stdout",
     "output_type": "stream",
     "text": [
      "表面構造の緩和\n"
     ]
    },
    {
     "data": {
      "application/vnd.jupyter.widget-view+json": {
       "model_id": "58f6b7f2f3444beda0e21eef6fa8e9f3",
       "version_major": 2,
       "version_minor": 0
      },
      "text/plain": [
       "  0%|          | 0/10001 [00:00<?, ?it/s]"
      ]
     },
     "metadata": {},
     "output_type": "display_data"
    },
    {
     "data": {
      "application/vnd.jupyter.widget-view+json": {
       "model_id": "313a7f2062144924ac37cfb3ff6d5730",
       "version_major": 2,
       "version_minor": 0
      },
      "text/plain": [
       "HBox(children=(NGLWidget(), VBox(children=(Dropdown(description='Show', options=('All', 'Fe'), value='All'), D…"
      ]
     },
     "metadata": {},
     "output_type": "display_data"
    }
   ],
   "source": [
    "# 層数の半分だけ下方にシフト\n",
    "atoms = slab.copy()\n",
    "# Sort atoms by their z-coordinate\n",
    "z_coordinates = [atom.position[2] for atom in atoms]\n",
    "unique_layers = np.unique(np.round(z_coordinates, decimals=3))\n",
    "layer_z_value = unique_layers[int(len(unique_layers) / 2)]\n",
    "atoms_in_layer = [atom for atom in slab if np.round(atom.position[2], decimals=3) == layer_z_value]\n",
    "z_coor = atoms_in_layer[0].position[2]\n",
    "slab_2 = slab.copy()\n",
    "slab_2.positions += [0,0,-z_coor]\n",
    "slab_2.wrap()\n",
    "\n",
    "# 表面構造の緩和\n",
    "print(\"表面構造の緩和\")\n",
    "indices = [atom.index for atom in slab_2 if atom.position[2] <= 3]  # 3A以下を固定\n",
    "slab_2.set_constraint(FixAtoms(indices))\n",
    "result_opt_2 = opt(slab_2)\n",
    "os.makedirs(\"output\", exist_ok=True)\n",
    "write(metal_opt_path, result_opt_2.atoms.ase_atoms, format='extxyz')\n",
    "\n",
    "# 構造の可視化\n",
    "v = view_ngl(result_opt_2.atoms.ase_atoms, representations=[\"ball+stick\"])\n",
    "v.view.control.spin([1,0,0], np.deg2rad(-90))\n",
    "display(v)"
   ]
  },
  {
   "cell_type": "markdown",
   "id": "46154a9e-50cc-4dfe-922b-5a3f6f59e733",
   "metadata": {
    "papermill": {
     "duration": 0.00392,
     "end_time": "2023-10-11T08:23:40.998273",
     "exception": false,
     "start_time": "2023-10-11T08:23:40.994353",
     "status": "completed"
    },
    "tags": []
   },
   "source": [
    "### 2-3. 樹脂の挿入"
   ]
  },
  {
   "cell_type": "code",
   "execution_count": 6,
   "id": "5b25c358-632b-47bb-94a3-4e6e2c24d27d",
   "metadata": {
    "papermill": {
     "duration": 0.012725,
     "end_time": "2023-10-11T08:23:41.015141",
     "exception": false,
     "start_time": "2023-10-11T08:23:41.002416",
     "status": "completed"
    },
    "tags": []
   },
   "outputs": [
    {
     "name": "stdout",
     "output_type": "stream",
     "text": [
      "樹脂構造の緩和\n"
     ]
    },
    {
     "data": {
      "application/vnd.jupyter.widget-view+json": {
       "model_id": "d0d8a28529bf491794866940054db883",
       "version_major": 2,
       "version_minor": 0
      },
      "text/plain": [
       "  0%|          | 0/10001 [00:00<?, ?it/s]"
      ]
     },
     "metadata": {},
     "output_type": "display_data"
    },
    {
     "data": {
      "application/vnd.jupyter.widget-view+json": {
       "model_id": "edacad0228f44c2a80567a2b73b2493c",
       "version_major": 2,
       "version_minor": 0
      },
      "text/plain": [
       "HBox(children=(NGLWidget(), VBox(children=(Dropdown(description='Show', options=('All', 'O', 'H', 'C'), value=…"
      ]
     },
     "execution_count": 6,
     "metadata": {},
     "output_type": "execute_result"
    }
   ],
   "source": [
    "atoms_organic = read(resin_path)\n",
    "\n",
    "print(\"樹脂構造の緩和\")\n",
    "opt = LBFGSASEOptFeature(n_run = 10000, fmax = 0.01, filter=False,\n",
    "                         show_progress_bar=True, estimator_fn = estimator_fn)\n",
    "result_opt_organic = opt(atoms_organic)\n",
    "write(resin_opt_path, result_opt_organic.atoms.ase_atoms, format='xyz')\n",
    "\n",
    "view_ngl(result_opt_organic.atoms.ase_atoms)"
   ]
  },
  {
   "cell_type": "code",
   "execution_count": 7,
   "id": "e8e536ba-3368-4f98-92ba-1776328dedc3",
   "metadata": {
    "papermill": {
     "duration": 0.014606,
     "end_time": "2023-10-11T08:23:41.033912",
     "exception": false,
     "start_time": "2023-10-11T08:23:41.019306",
     "status": "completed"
    },
    "tags": []
   },
   "outputs": [
    {
     "name": "stdout",
     "output_type": "stream",
     "text": [
      "liquid phase initial density = 0.093 g/cm3\n",
      "slab + resin atoms = 2336\n",
      "No_of_atoms = 852 , including slab 640 atoms\n",
      "No_of_atoms = 1064 , including slab 640 atoms\n",
      "No_of_atoms = 1276 , including slab 640 atoms\n",
      "No_of_atoms = 1488 , including slab 640 atoms\n",
      "No_of_atoms = 1700 , including slab 640 atoms\n",
      "No_of_atoms = 1912 , including slab 640 atoms\n",
      "No_of_atoms = 2124 , including slab 640 atoms\n",
      "No_of_atoms = 2336 , including slab 640 atoms\n"
     ]
    }
   ],
   "source": [
    "# 真空層と同サイズの真空層セル (`vacuum_cell`)を作成\n",
    "empty_cell = slab_2.copy()\n",
    "slab_height = empty_cell.cell.cellpar()[2] - vacuum\n",
    "slabatoms = len(empty_cell)\n",
    "cellsize = empty_cell.cell.cellpar()[:3]\n",
    "cellsize[2] = vacuum\n",
    "\n",
    "vacuum_cell = Atoms(symbols=\"\", \n",
    "                  pbc=True, \n",
    "                  cell=cellsize)\n",
    "\n",
    "NoAtoms0=len(atoms_organic)\n",
    "\n",
    "# 分子を詰め込んだときの密度と原子数を確認\n",
    "target_density = 0.10 # unit = g/cm3\n",
    "sum_mass = atoms_organic.get_masses().sum()\n",
    "sum_atoms = len(atoms_organic)\n",
    "vac_vol = vacuum_cell.get_volume()*(1e-8)**3 # as cm3\n",
    "d0 = sum_mass / units.mol / vac_vol # 真空層に分子を詰め込んだ時の推定密度\n",
    "mlp = int(np.floor(target_density / d0)) # 有機分子を何個挿入するかを計算\n",
    "t_atoms = NoAtoms0 * mlp + slabatoms\n",
    "print (\"liquid phase initial density =\", np.round(d0*mlp, 3), \"g/cm3\")\n",
    "print (\"slab + resin atoms =\", t_atoms)\n",
    "\n",
    "# 真空層セル (`vacuum_cell`)に樹脂を充填\n",
    "target_atoms = t_atoms    \n",
    "vac_vol = empty_cell.get_volume()*(1e-8)**3 # as cm3\n",
    "\n",
    "filled_cell = empty_cell.copy()\n",
    "No_atoms, n = 0, 0\n",
    "while No_atoms < target_atoms:\n",
    "    # 真空層における分子の挿入座標をランダムに決定\n",
    "    ranx = random.uniform(0,1)\n",
    "    rany = random.uniform(0,1)\n",
    "    ranz = random.uniform(0.04,0.96)                           # slabのz軸範囲を除外。\n",
    "    xyz_position=np.matmul([ranx,rany,ranz], filled_cell.cell)\n",
    "    # 分子の回転角をランダムに決定\n",
    "    phi, theta, psi = Rotation.random().as_euler('zxz', degrees=True)\n",
    "    \n",
    "    # 挿入分子を読み込み、並進移動+回転\n",
    "    # molNo = n\n",
    "    # m = mol_list[molNo]\n",
    "    m = result_opt_organic.atoms.ase_atoms\n",
    "    m1 = m.copy()\n",
    "    m1.euler_rotate(phi=phi, theta=theta, psi=psi)\n",
    "    m1.positions += xyz_position\n",
    "    \n",
    "    # 力が閾値以下であれば挿入\n",
    "    Fcheck = filled_cell + m1\n",
    "    Fcheck.calc = get_calculator(estimator_fn)\n",
    "    if (np.sum(Fcheck.get_forces()**2, axis=1)**0.5).max() <= 100:\n",
    "        filled_cell = filled_cell + m1\n",
    "        n+=1\n",
    "        No_atoms = len(filled_cell)\n",
    "        print(\"No_of_atoms =\", No_atoms, \", including slab\", len(empty_cell), \"atoms\")    \n",
    "    else:\n",
    "        n+=0\n",
    "\n",
    "assert mlp == n"
   ]
  },
  {
   "cell_type": "code",
   "execution_count": 8,
   "id": "a68a4643-ac37-409f-8971-7376c8f4115f",
   "metadata": {
    "papermill": {
     "duration": 0.0142,
     "end_time": "2023-10-11T08:23:41.052865",
     "exception": false,
     "start_time": "2023-10-11T08:23:41.038665",
     "status": "completed"
    },
    "tags": []
   },
   "outputs": [
    {
     "data": {
      "application/vnd.jupyter.widget-view+json": {
       "model_id": "927d474262164c5f832327cee0af8b4b",
       "version_major": 2,
       "version_minor": 0
      },
      "text/plain": [
       "  0%|          | 0/10001 [00:00<?, ?it/s]"
      ]
     },
     "metadata": {},
     "output_type": "display_data"
    },
    {
     "name": "stderr",
     "output_type": "stream",
     "text": [
      "/home/jovyan/.py38/lib/python3.8/site-packages/ase/io/extxyz.py:1000: UserWarning: write_xyz() overwriting array \"forces\" present in atoms.arrays with stored results from calculator\n",
      "  warnings.warn('write_xyz() overwriting array \"{0}\" present '\n"
     ]
    },
    {
     "data": {
      "application/vnd.jupyter.widget-view+json": {
       "model_id": "0c0c2f5e1e8a4f6bb4e7a3f8b97236f9",
       "version_major": 2,
       "version_minor": 0
      },
      "text/plain": [
       "HBox(children=(NGLWidget(), VBox(children=(Dropdown(description='Show', options=('All', 'O', 'H', 'Fe', 'C'), …"
      ]
     },
     "metadata": {},
     "output_type": "display_data"
    }
   ],
   "source": [
    "# 充填構造の最適化\n",
    "indices = [atom.index for atom in filled_cell if atom.position[2] <= 3.0]\n",
    "c = FixAtoms(indices)\n",
    "filled_cell.set_constraint(c)\n",
    "\n",
    "opt = LBFGSASEOptFeature(n_run = 10000, fmax = 0.1, filter = True,\n",
    "                         show_progress_bar=True, estimator_fn = estimator_fn)\n",
    "result_opt_filled = opt(filled_cell)\n",
    "\n",
    "# 構造の保存\n",
    "result_opt_filled.atoms.ase_atoms.set_initial_charges()\n",
    "write(slab_opt_path, result_opt_filled.atoms.ase_atoms, format='extxyz')\n",
    "\n",
    "# 構造の可視化\n",
    "v = view_ngl(result_opt_filled.atoms.ase_atoms, representations=[\"ball+stick\"])\n",
    "v.view.control.spin([1,0,0], np.deg2rad(-90))\n",
    "display(v)"
   ]
  },
  {
   "cell_type": "markdown",
   "id": "d2504eab-a424-43dd-93a6-f54d7529db86",
   "metadata": {
    "papermill": {
     "duration": 0.004109,
     "end_time": "2023-10-11T08:23:41.061284",
     "exception": false,
     "start_time": "2023-10-11T08:23:41.057175",
     "status": "completed"
    },
    "tags": []
   },
   "source": [
    "### 2-4. 圧着シミュレーション"
   ]
  },
  {
   "cell_type": "code",
   "execution_count": null,
   "id": "0a772a28-d289-48ad-b521-8c8e40d1efa8",
   "metadata": {
    "papermill": {
     "duration": 26107.246711,
     "end_time": "2023-10-11T15:38:48.312061",
     "exception": false,
     "start_time": "2023-10-11T08:23:41.065350",
     "status": "completed"
    },
    "tags": []
   },
   "outputs": [
    {
     "name": "stderr",
     "output_type": "stream",
     "text": [
      "The MD trajectory will be saved at /home/jovyan/work/2023/sscurve/contrib/output_ja/md/npt1.traj.\n",
      "Note: The max disk size of /home/jovyan is about 99G.\n",
      "WARNING: NPT: Setting the center-of-mass momentum to zero (was 13.6739 25.2356 -22.7151)\n",
      "/home/jovyan/.py38/lib/python3.8/site-packages/ase/utils/__init__.py:62: FutureWarning: Please use atoms.cell.cellpar() instead\n",
      "  warnings.warn(warning)\n"
     ]
    },
    {
     "name": "stdout",
     "output_type": "stream",
     "text": [
      "Dyn step    0 a 19.45 b 19.45 c 517.89 alpha 90.00 beta 90.00 gamma 109.50 \n",
      "Dyn step 1000 a 19.45 b 19.45 c 505.81 alpha 90.00 beta 90.00 gamma 109.50 \n",
      "Dyn step 2000 a 19.45 b 19.45 c 470.82 alpha 90.00 beta 90.00 gamma 109.50 \n",
      "Dyn step 3000 a 19.45 b 19.45 c 419.98 alpha 90.00 beta 90.00 gamma 109.50 \n",
      "Dyn step 4000 a 19.45 b 19.45 c 361.05 alpha 90.00 beta 90.00 gamma 109.50 \n",
      "Dyn step 5000 a 19.45 b 19.45 c 300.88 alpha 90.00 beta 90.00 gamma 109.50 \n",
      "Dyn step 6000 a 19.45 b 19.45 c 244.74 alpha 90.00 beta 90.00 gamma 109.50 \n",
      "Dyn step 7000 a 19.45 b 19.45 c 195.28 alpha 90.00 beta 90.00 gamma 109.50 \n",
      "Dyn step 8000 a 19.45 b 19.45 c 153.42 alpha 90.00 beta 90.00 gamma 109.50 \n",
      "Dyn step 9000 a 19.45 b 19.45 c 119.34 alpha 90.00 beta 90.00 gamma 109.50 \n",
      "Dyn step 10000 a 19.45 b 19.45 c 93.07 alpha 90.00 beta 90.00 gamma 109.50 \n",
      "Dyn step 11000 a 19.45 b 19.45 c 74.56 alpha 90.00 beta 90.00 gamma 109.50 \n",
      "Dyn step 12000 a 19.45 b 19.45 c 63.65 alpha 90.00 beta 90.00 gamma 109.50 \n",
      "Dyn step 13000 a 19.45 b 19.45 c 59.61 alpha 90.00 beta 90.00 gamma 109.50 \n",
      "Dyn step 14000 a 19.45 b 19.45 c 62.15 alpha 90.00 beta 90.00 gamma 109.50 \n",
      "Dyn step 15000 a 19.45 b 19.45 c 69.11 alpha 90.00 beta 90.00 gamma 109.50 \n",
      "Dyn step 16000 a 19.45 b 19.45 c 77.25 alpha 90.00 beta 90.00 gamma 109.50 \n",
      "Dyn step 17000 a 19.45 b 19.45 c 85.22 alpha 90.00 beta 90.00 gamma 109.50 \n",
      "Dyn step 18000 a 19.45 b 19.45 c 92.66 alpha 90.00 beta 90.00 gamma 109.50 \n",
      "Dyn step 19000 a 19.45 b 19.45 c 99.27 alpha 90.00 beta 90.00 gamma 109.50 \n",
      "Dyn step 20000 a 19.45 b 19.45 c 104.96 alpha 90.00 beta 90.00 gamma 109.50 \n",
      "Dyn step 21000 a 19.45 b 19.45 c 109.54 alpha 90.00 beta 90.00 gamma 109.50 \n",
      "Dyn step 22000 a 19.45 b 19.45 c 112.80 alpha 90.00 beta 90.00 gamma 109.50 \n",
      "Dyn step 23000 a 19.45 b 19.45 c 114.81 alpha 90.00 beta 90.00 gamma 109.50 \n",
      "Dyn step 24000 a 19.45 b 19.45 c 115.47 alpha 90.00 beta 90.00 gamma 109.50 \n",
      "Dyn step 25000 a 19.45 b 19.45 c 115.03 alpha 90.00 beta 90.00 gamma 109.50 \n",
      "Dyn step 26000 a 19.45 b 19.45 c 113.16 alpha 90.00 beta 90.00 gamma 109.50 \n",
      "Dyn step 27000 a 19.45 b 19.45 c 110.14 alpha 90.00 beta 90.00 gamma 109.50 \n",
      "Dyn step 28000 a 19.45 b 19.45 c 106.17 alpha 90.00 beta 90.00 gamma 109.50 \n",
      "Dyn step 29000 a 19.45 b 19.45 c 101.53 alpha 90.00 beta 90.00 gamma 109.50 \n",
      "Dyn step 30000 a 19.45 b 19.45 c 96.31 alpha 90.00 beta 90.00 gamma 109.50 \n",
      "Dyn step 31000 a 19.45 b 19.45 c 90.92 alpha 90.00 beta 90.00 gamma 109.50 \n",
      "Dyn step 32000 a 19.45 b 19.45 c 85.38 alpha 90.00 beta 90.00 gamma 109.50 \n",
      "Dyn step 33000 a 19.45 b 19.45 c 80.30 alpha 90.00 beta 90.00 gamma 109.50 \n",
      "Dyn step 34000 a 19.45 b 19.45 c 75.66 alpha 90.00 beta 90.00 gamma 109.50 \n",
      "Dyn step 35000 a 19.45 b 19.45 c 71.43 alpha 90.00 beta 90.00 gamma 109.50 \n",
      "Dyn step 36000 a 19.45 b 19.45 c 68.38 alpha 90.00 beta 90.00 gamma 109.50 \n",
      "Dyn step 37000 a 19.45 b 19.45 c 66.95 alpha 90.00 beta 90.00 gamma 109.50 \n",
      "Dyn step 38000 a 19.45 b 19.45 c 66.89 alpha 90.00 beta 90.00 gamma 109.50 \n",
      "Dyn step 39000 a 19.45 b 19.45 c 68.20 alpha 90.00 beta 90.00 gamma 109.50 \n",
      "Dyn step 40000 a 19.45 b 19.45 c 70.01 alpha 90.00 beta 90.00 gamma 109.50 \n",
      "Dyn step 41000 a 19.45 b 19.45 c 71.98 alpha 90.00 beta 90.00 gamma 109.50 \n",
      "Dyn step 42000 a 19.45 b 19.45 c 73.51 alpha 90.00 beta 90.00 gamma 109.50 \n",
      "Dyn step 43000 a 19.45 b 19.45 c 74.26 alpha 90.00 beta 90.00 gamma 109.50 \n",
      "Dyn step 44000 a 19.45 b 19.45 c 74.57 alpha 90.00 beta 90.00 gamma 109.50 \n",
      "Dyn step 45000 a 19.45 b 19.45 c 74.44 alpha 90.00 beta 90.00 gamma 109.50 \n",
      "Dyn step 46000 a 19.45 b 19.45 c 73.82 alpha 90.00 beta 90.00 gamma 109.50 \n",
      "Dyn step 47000 a 19.45 b 19.45 c 72.86 alpha 90.00 beta 90.00 gamma 109.50 \n",
      "Dyn step 48000 a 19.45 b 19.45 c 71.72 alpha 90.00 beta 90.00 gamma 109.50 \n",
      "Dyn step 49000 a 19.45 b 19.45 c 70.53 alpha 90.00 beta 90.00 gamma 109.50 \n",
      "Dyn step 50000 a 19.45 b 19.45 c 69.64 alpha 90.00 beta 90.00 gamma 109.50 \n",
      "Dyn step 51000 a 19.45 b 19.45 c 69.03 alpha 90.00 beta 90.00 gamma 109.50 \n",
      "Dyn step 52000 a 19.45 b 19.45 c 68.86 alpha 90.00 beta 90.00 gamma 109.50 \n",
      "Dyn step 53000 a 19.45 b 19.45 c 68.97 alpha 90.00 beta 90.00 gamma 109.50 \n",
      "Dyn step 54000 a 19.45 b 19.45 c 69.43 alpha 90.00 beta 90.00 gamma 109.50 \n",
      "Dyn step 55000 a 19.45 b 19.45 c 69.98 alpha 90.00 beta 90.00 gamma 109.50 \n",
      "Dyn step 56000 a 19.45 b 19.45 c 70.35 alpha 90.00 beta 90.00 gamma 109.50 \n",
      "Dyn step 57000 a 19.45 b 19.45 c 70.57 alpha 90.00 beta 90.00 gamma 109.50 \n",
      "Dyn step 58000 a 19.45 b 19.45 c 70.74 alpha 90.00 beta 90.00 gamma 109.50 \n",
      "Dyn step 59000 a 19.45 b 19.45 c 70.90 alpha 90.00 beta 90.00 gamma 109.50 \n",
      "Dyn step 60000 a 19.45 b 19.45 c 71.03 alpha 90.00 beta 90.00 gamma 109.50 \n",
      "Dyn step 61000 a 19.45 b 19.45 c 71.09 alpha 90.00 beta 90.00 gamma 109.50 \n",
      "Dyn step 62000 a 19.45 b 19.45 c 70.92 alpha 90.00 beta 90.00 gamma 109.50 \n",
      "Dyn step 63000 a 19.45 b 19.45 c 70.52 alpha 90.00 beta 90.00 gamma 109.50 \n",
      "Dyn step 64000 a 19.45 b 19.45 c 69.99 alpha 90.00 beta 90.00 gamma 109.50 \n",
      "Dyn step 65000 a 19.45 b 19.45 c 69.66 alpha 90.00 beta 90.00 gamma 109.50 \n",
      "Dyn step 66000 a 19.45 b 19.45 c 69.81 alpha 90.00 beta 90.00 gamma 109.50 \n",
      "Dyn step 67000 a 19.45 b 19.45 c 70.20 alpha 90.00 beta 90.00 gamma 109.50 \n",
      "Dyn step 68000 a 19.45 b 19.45 c 70.42 alpha 90.00 beta 90.00 gamma 109.50 \n",
      "Dyn step 69000 a 19.45 b 19.45 c 70.34 alpha 90.00 beta 90.00 gamma 109.50 \n",
      "Dyn step 70000 a 19.45 b 19.45 c 70.05 alpha 90.00 beta 90.00 gamma 109.50 \n",
      "Dyn step 71000 a 19.45 b 19.45 c 69.81 alpha 90.00 beta 90.00 gamma 109.50 \n",
      "Dyn step 72000 a 19.45 b 19.45 c 69.50 alpha 90.00 beta 90.00 gamma 109.50 \n",
      "Dyn step 73000 a 19.45 b 19.45 c 69.25 alpha 90.00 beta 90.00 gamma 109.50 \n",
      "Dyn step 74000 a 19.45 b 19.45 c 69.18 alpha 90.00 beta 90.00 gamma 109.50 \n",
      "Dyn step 75000 a 19.45 b 19.45 c 69.10 alpha 90.00 beta 90.00 gamma 109.50 \n"
     ]
    },
    {
     "data": {
      "text/plain": [
       "MDFeatureResult(traj_path=PosixPath('/home/jovyan/work/2023/sscurve/contrib/output_ja/md/npt1.traj'), checkpoint_path='/tmp/matlantis_j006kati/tmpa7tbr__t.chkp', temp_dir=<TemporaryDirectory '/tmp/matlantis_j006kati'>)"
      ]
     },
     "execution_count": 9,
     "metadata": {},
     "output_type": "execute_result"
    }
   ],
   "source": [
    "ase_atoms =read(slab_opt_path)\n",
    "indices = [atom.index for atom in ase_atoms if atom.position[2] <= 3]\n",
    "c = FixAtoms(indices)\n",
    "ase_atoms.set_constraint(c)\n",
    "\n",
    "atoms = MatlantisAtoms.from_ase_atoms(ase_atoms)\n",
    "atoms.rotate_atoms_to_upper()\n",
    "\n",
    "# NPT\n",
    "t_step = 1     # as fs\n",
    "press = 0.000101325 * 1000 # as GPa 大気圧の1000倍\n",
    "temperature = 473.0\n",
    "\n",
    "system = ASEMDSystem(atoms)\n",
    "system.init_temperature(temperature)\n",
    "\n",
    "integrator = NPTIntegrator(timestep=t_step,\n",
    "                           temperature=temperature,\n",
    "                           pressure=press * units.GPa,\n",
    "                           ttime=20,\n",
    "                           pfactor=2e6*units.GPa*(units.fs**2),\n",
    "                           mask=np.array([[0,0,0], [0,0,0], [0,0,1]]))\n",
    "\n",
    "info = PrintCellShape()\n",
    "\n",
    "md = MDFeature(integrator, n_run=75000, traj_file_name=npt1_path,\n",
    "               traj_freq=100, estimator_fn = estimator_fn)\n",
    "\n",
    "md(system, extensions=[(info, 1000)])"
   ]
  },
  {
   "cell_type": "code",
   "execution_count": 10,
   "id": "f9f0965c-b357-44c5-871a-878ed512796f",
   "metadata": {
    "papermill": {
     "duration": 1.402288,
     "end_time": "2023-10-11T15:38:49.723359",
     "exception": false,
     "start_time": "2023-10-11T15:38:48.321071",
     "status": "completed"
    },
    "tags": []
   },
   "outputs": [
    {
     "data": {
      "image/png": "[encoded data removed]",
      "text/plain": [
       "<Figure size 640x480 with 1 Axes>"
      ]
     },
     "metadata": {},
     "output_type": "display_data"
    },
    {
     "data": {
      "application/vnd.jupyter.widget-view+json": {
       "model_id": "fe119b7faaff4a559056091a91cf35ac",
       "version_major": 2,
       "version_minor": 0
      },
      "text/plain": [
       "HBox(children=(NGLWidget(), VBox(children=(Dropdown(description='Show', options=('All', 'O', 'H', 'Fe', 'C'), …"
      ]
     },
     "metadata": {},
     "output_type": "display_data"
    }
   ],
   "source": [
    "# 圧着時のc軸長の推移と最終構造を確認\n",
    "traj = read(npt1_path, \"::1\")\n",
    "\n",
    "c_length = [atoms.cell.cellpar()[2] for atoms in traj]\n",
    "plt.plot(c_length)\n",
    "plt.ylabel(\"c-axis (Å)\")\n",
    "plt.xlabel(\"MD steps (×100)\")\n",
    "plt.show()\n",
    "\n",
    "v = view_ngl(traj[-1], representations=[\"ball+stick\"])\n",
    "v.view.control.spin([1,0,0], np.deg2rad(-90))\n",
    "display(v)"
   ]
  },
  {
   "cell_type": "markdown",
   "id": "9f478f57-835f-4804-b4a2-9401b6e13081",
   "metadata": {
    "papermill": {
     "duration": 0.009799,
     "end_time": "2023-10-11T15:38:49.742221",
     "exception": false,
     "start_time": "2023-10-11T15:38:49.732422",
     "status": "completed"
    },
    "tags": []
   },
   "source": [
    "## 3. 室温NPTシミュレーション"
   ]
  },
  {
   "cell_type": "code",
   "execution_count": null,
   "id": "050c5f9d-6dea-4559-bc78-fc45b42b1af1",
   "metadata": {
    "papermill": {
     "duration": 18625.923763,
     "end_time": "2023-10-11T20:49:15.674445",
     "exception": false,
     "start_time": "2023-10-11T15:38:49.750682",
     "status": "completed"
    },
    "scrolled": true,
    "tags": []
   },
   "outputs": [
    {
     "name": "stderr",
     "output_type": "stream",
     "text": [
      "The MD trajectory will be saved at /home/jovyan/work/2023/sscurve/contrib/output_ja/md/npt2.traj.\n",
      "Note: The max disk size of /home/jovyan is about 99G.\n",
      "WARNING: NPT: Setting the center-of-mass momentum to zero (was 17.0962 22.0152 -49.3797)\n",
      "/home/jovyan/.py38/lib/python3.8/site-packages/ase/utils/__init__.py:62: FutureWarning: Please use atoms.cell.cellpar() instead\n",
      "  warnings.warn(warning)\n"
     ]
    },
    {
     "name": "stdout",
     "output_type": "stream",
     "text": [
      "Dyn step    0 a 19.45 b 19.45 c 69.10 alpha 90.00 beta 90.00 gamma 109.50 \n",
      "Dyn step 1000 a 19.45 b 19.45 c 69.17 alpha 90.00 beta 90.00 gamma 109.50 \n",
      "Dyn step 2000 a 19.45 b 19.45 c 69.20 alpha 90.00 beta 90.00 gamma 109.50 \n",
      "Dyn step 3000 a 19.45 b 19.45 c 69.43 alpha 90.00 beta 90.00 gamma 109.50 \n",
      "Dyn step 4000 a 19.45 b 19.45 c 69.48 alpha 90.00 beta 90.00 gamma 109.50 \n",
      "Dyn step 5000 a 19.45 b 19.45 c 68.48 alpha 90.00 beta 90.00 gamma 109.50 \n",
      "Dyn step 6000 a 19.45 b 19.45 c 67.77 alpha 90.00 beta 90.00 gamma 109.50 \n",
      "Dyn step 7000 a 19.45 b 19.45 c 68.35 alpha 90.00 beta 90.00 gamma 109.50 \n",
      "Dyn step 8000 a 19.45 b 19.45 c 69.04 alpha 90.00 beta 90.00 gamma 109.50 \n",
      "Dyn step 9000 a 19.45 b 19.45 c 69.14 alpha 90.00 beta 90.00 gamma 109.50 \n",
      "Dyn step 10000 a 19.45 b 19.45 c 67.53 alpha 90.00 beta 90.00 gamma 109.50 \n",
      "Dyn step 11000 a 19.45 b 19.45 c 66.73 alpha 90.00 beta 90.00 gamma 109.50 \n",
      "Dyn step 12000 a 19.45 b 19.45 c 67.41 alpha 90.00 beta 90.00 gamma 109.50 \n",
      "Dyn step 13000 a 19.45 b 19.45 c 68.57 alpha 90.00 beta 90.00 gamma 109.50 \n",
      "Dyn step 14000 a 19.45 b 19.45 c 68.52 alpha 90.00 beta 90.00 gamma 109.50 \n",
      "Dyn step 15000 a 19.45 b 19.45 c 68.02 alpha 90.00 beta 90.00 gamma 109.50 \n",
      "Dyn step 16000 a 19.45 b 19.45 c 67.87 alpha 90.00 beta 90.00 gamma 109.50 \n",
      "Dyn step 17000 a 19.45 b 19.45 c 67.66 alpha 90.00 beta 90.00 gamma 109.50 \n",
      "Dyn step 18000 a 19.45 b 19.45 c 67.42 alpha 90.00 beta 90.00 gamma 109.50 \n",
      "Dyn step 44000 a 19.45 b 19.45 c 67.58 alpha 90.00 beta 90.00 gamma 109.50 \n",
      "Dyn step 45000 a 19.45 b 19.45 c 67.77 alpha 90.00 beta 90.00 gamma 109.50 \n",
      "Dyn step 46000 a 19.45 b 19.45 c 68.05 alpha 90.00 beta 90.00 gamma 109.50 \n",
      "Dyn step 47000 a 19.45 b 19.45 c 68.05 alpha 90.00 beta 90.00 gamma 109.50 \n",
      "Dyn step 48000 a 19.45 b 19.45 c 67.48 alpha 90.00 beta 90.00 gamma 109.50 \n",
      "Dyn step 49000 a 19.45 b 19.45 c 67.26 alpha 90.00 beta 90.00 gamma 109.50 \n",
      "Dyn step 50000 a 19.45 b 19.45 c 67.56 alpha 90.00 beta 90.00 gamma 109.50 \n"
     ]
    },
    {
     "data": {
      "text/plain": [
       "MDFeatureResult(traj_path=PosixPath('/home/jovyan/work/2023/sscurve/contrib/output_ja/md/npt2.traj'), checkpoint_path='/tmp/matlantis_lusvzudy/tmpf3dhkql4.chkp', temp_dir=<TemporaryDirectory '/tmp/matlantis_lusvzudy'>)"
      ]
     },
     "execution_count": 11,
     "metadata": {},
     "output_type": "execute_result"
    }
   ],
   "source": [
    "ase_atoms = read(npt1_path, \"-1\")\n",
    "atoms = MatlantisAtoms.from_ase_atoms(ase_atoms)\n",
    "atoms.rotate_atoms_to_upper()\n",
    "\n",
    "# NPT\n",
    "t_step = 1     # as fs\n",
    "temperature = 300.0\n",
    "\n",
    "system = ASEMDSystem(atoms)\n",
    "system.init_temperature(temperature)\n",
    "\n",
    "integrator = NPTIntegrator(timestep=1.0,\n",
    "                           temperature=temperature,\n",
    "                           pressure=units.bar,\n",
    "                           ttime=20,\n",
    "                           pfactor=2e6*units.GPa*(units.fs**2),\n",
    "                           mask=np.array([[0,0,0], [0,0,0], [0,0,1]]))\n",
    "\n",
    "info = PrintCellShape()\n",
    "\n",
    "md = MDFeature(integrator, n_run=50000, traj_file_name=npt2_path,\n",
    "               traj_freq=100, estimator_fn=estimator_fn)\n",
    "md(system, extensions=[(info, 1000)])"
   ]
  },
  {
   "cell_type": "markdown",
   "id": "67333203-8340-4160-9a87-bf08b80c8548",
   "metadata": {
    "papermill": {
     "duration": 0.013192,
     "end_time": "2023-10-11T20:49:15.701023",
     "exception": false,
     "start_time": "2023-10-11T20:49:15.687831",
     "status": "completed"
    },
    "tags": []
   },
   "source": [
    "## 4. 引っ張りシミュレーション"
   ]
  },
  {
   "cell_type": "code",
   "execution_count": null,
   "id": "fcf41f57-be1a-48e2-a583-155bcaf1f508",
   "metadata": {
    "papermill": {
     "duration": 34705.213703,
     "end_time": "2023-10-12T06:27:40.926436",
     "exception": false,
     "start_time": "2023-10-11T20:49:15.712733",
     "status": "completed"
    },
    "tags": []
   },
   "outputs": [
    {
     "name": "stderr",
     "output_type": "stream",
     "text": [
      "The MD trajectory will be saved at /home/jovyan/work/2023/sscurve/contrib/output_ja/md/tensile.traj.\n",
      "Note: The max disk size of /home/jovyan is about 99G.\n",
      "/home/jovyan/.py38/lib/python3.8/site-packages/ase/utils/__init__.py:62: FutureWarning: Please use atoms.cell.cellpar() instead\n",
      "  warnings.warn(warning)\n"
     ]
    },
    {
     "name": "stdout",
     "output_type": "stream",
     "text": [
      "Dyn step    0 a 19.45 b 19.45 c 67.56 alpha 90.00 beta 90.00 gamma 109.50 \n",
      "Dyn step 1000 a 19.45 b 19.45 c 68.23 alpha 90.00 beta 90.00 gamma 109.50 \n",
      "Dyn step 2000 a 19.45 b 19.45 c 68.91 alpha 90.00 beta 90.00 gamma 109.50 \n",
      "Dyn step 3000 a 19.45 b 19.45 c 69.58 alpha 90.00 beta 90.00 gamma 109.50 \n",
      "Dyn step 4000 a 19.45 b 19.45 c 70.26 alpha 90.00 beta 90.00 gamma 109.50 \n",
      "Dyn step 5000 a 19.45 b 19.45 c 70.93 alpha 90.00 beta 90.00 gamma 109.50 \n",
      "Dyn step 6000 a 19.45 b 19.45 c 71.61 alpha 90.00 beta 90.00 gamma 109.50 \n",
      "Dyn step 7000 a 19.45 b 19.45 c 72.29 alpha 90.00 beta 90.00 gamma 109.50 \n",
      "Dyn step 8000 a 19.45 b 19.45 c 72.96 alpha 90.00 beta 90.00 gamma 109.50 \n",
      "Dyn step 9000 a 19.45 b 19.45 c 73.64 alpha 90.00 beta 90.00 gamma 109.50 \n",
      "Dyn step 10000 a 19.45 b 19.45 c 74.31 alpha 90.00 beta 90.00 gamma 109.50 \n",
      "Dyn step 11000 a 19.45 b 19.45 c 74.99 alpha 90.00 beta 90.00 gamma 109.50 \n",
      "Dyn step 12000 a 19.45 b 19.45 c 75.66 alpha 90.00 beta 90.00 gamma 109.50 \n",
      "Dyn step 13000 a 19.45 b 19.45 c 76.34 alpha 90.00 beta 90.00 gamma 109.50 \n",
      "Dyn step 14000 a 19.45 b 19.45 c 77.01 alpha 90.00 beta 90.00 gamma 109.50 \n",
      "Dyn step 15000 a 19.45 b 19.45 c 77.69 alpha 90.00 beta 90.00 gamma 109.50 \n",
      "Dyn step 16000 a 19.45 b 19.45 c 78.37 alpha 90.00 beta 90.00 gamma 109.50 \n",
      "Dyn step 17000 a 19.45 b 19.45 c 79.04 alpha 90.00 beta 90.00 gamma 109.50 \n",
      "Dyn step 18000 a 19.45 b 19.45 c 79.72 alpha 90.00 beta 90.00 gamma 109.50 \n",
      "Dyn step 19000 a 19.45 b 19.45 c 80.39 alpha 90.00 beta 90.00 gamma 109.50 \n",
      "Dyn step 20000 a 19.45 b 19.45 c 81.07 alpha 90.00 beta 90.00 gamma 109.50 \n",
      "Dyn step 21000 a 19.45 b 19.45 c 81.74 alpha 90.00 beta 90.00 gamma 109.50 \n",
      "Dyn step 22000 a 19.45 b 19.45 c 82.42 alpha 90.00 beta 90.00 gamma 109.50 \n",
      "Dyn step 23000 a 19.45 b 19.45 c 83.09 alpha 90.00 beta 90.00 gamma 109.50 \n",
      "Dyn step 24000 a 19.45 b 19.45 c 83.77 alpha 90.00 beta 90.00 gamma 109.50 \n",
      "Dyn step 25000 a 19.45 b 19.45 c 84.45 alpha 90.00 beta 90.00 gamma 109.50 \n",
      "Dyn step 26000 a 19.45 b 19.45 c 85.12 alpha 90.00 beta 90.00 gamma 109.50 \n",
      "Dyn step 27000 a 19.45 b 19.45 c 85.80 alpha 90.00 beta 90.00 gamma 109.50 \n",
      "Dyn step 28000 a 19.45 b 19.45 c 86.47 alpha 90.00 beta 90.00 gamma 109.50 \n",
      "Dyn step 29000 a 19.45 b 19.45 c 87.15 alpha 90.00 beta 90.00 gamma 109.50 \n",
      "Dyn step 30000 a 19.45 b 19.45 c 87.82 alpha 90.00 beta 90.00 gamma 109.50 \n",
      "Dyn step 31000 a 19.45 b 19.45 c 88.50 alpha 90.00 beta 90.00 gamma 109.50 \n",
      "Dyn step 32000 a 19.45 b 19.45 c 89.17 alpha 90.00 beta 90.00 gamma 109.50 \n",
      "Dyn step 33000 a 19.45 b 19.45 c 89.85 alpha 90.00 beta 90.00 gamma 109.50 \n",
      "Dyn step 34000 a 19.45 b 19.45 c 90.53 alpha 90.00 beta 90.00 gamma 109.50 \n",
      "Dyn step 35000 a 19.45 b 19.45 c 91.20 alpha 90.00 beta 90.00 gamma 109.50 \n",
      "Dyn step 36000 a 19.45 b 19.45 c 91.88 alpha 90.00 beta 90.00 gamma 109.50 \n",
      "Dyn step 37000 a 19.45 b 19.45 c 92.55 alpha 90.00 beta 90.00 gamma 109.50 \n",
      "Dyn step 38000 a 19.45 b 19.45 c 93.23 alpha 90.00 beta 90.00 gamma 109.50 \n"
     ]
    }
   ],
   "source": [
    "ase_atoms = read(npt2_path, \"-1\")\n",
    "atoms = MatlantisAtoms.from_ase_atoms(ase_atoms)\n",
    "atoms.rotate_atoms_to_upper()\n",
    "\n",
    "system = ASEMDSystem(atoms)\n",
    "system.init_temperature(temperature)\n",
    "\n",
    "# z軸方向に20%引っ張ります。\n",
    "latt = np.array(system.ase_atoms.cell)\n",
    "latt[2,2] = latt[2,2]*3.0\n",
    "\n",
    "# 引っ張り計算。\n",
    "integrator = LangevinIntegrator(timestep=1.0, temperature=300.0)\n",
    "\n",
    "info = PrintCellShape()\n",
    "deform = DeformScheduler(latt, 100000)\n",
    "\n",
    "md = MDFeature(integrator, n_run=100000, traj_file_name=tensile_path,\n",
    "               traj_freq=100, estimator_fn = estimator_fn)\n",
    "md(system, extensions=[(info, 2500), (deform, 1)])"
   ]
  },
  {
   "cell_type": "markdown",
   "id": "cc09ba70-be27-4d0b-99cc-40acd70b648c",
   "metadata": {
    "papermill": {
     "duration": 0.017968,
     "end_time": "2023-10-12T06:27:40.961485",
     "exception": false,
     "start_time": "2023-10-12T06:27:40.943517",
     "status": "completed"
    },
    "tags": []
   },
   "source": [
    "## 5. 応力-ひずみ曲線のプロット"
   ]
  },
  {
   "cell_type": "code",
   "execution_count": 11,
   "id": "69e70b60-430e-4830-959a-31a626c281d3",
   "metadata": {
    "tags": []
   },
   "outputs": [
    {
     "name": "stdout",
     "output_type": "stream",
     "text": [
      "Youngs modulus:4.8634(GPa)\n"
     ]
    },
    {
     "data": {
      "image/png": "[encoded data removed]",
      "text/plain": [
       "<Figure size 640x480 with 1 Axes>"
      ]
     },
     "metadata": {},
     "output_type": "display_data"
    }
   ],
   "source": [
    "traj = Trajectory(tensile_path)\n",
    "\n",
    "stress = []\n",
    "zlen = []\n",
    "for i in traj:\n",
    "    stress.append(i.get_stress()[2])\n",
    "    zlen.append(i.cell.cellpar()[2])\n",
    "zlen = np.array(zlen)\n",
    "strain = (zlen-zlen[0])/zlen[0]\n",
    "stress = np.array(stress)/Pascal/10e6\n",
    "\n",
    "concatenated_columns = np.concatenate((strain.reshape(-1, 1), stress.reshape(-1, 1)), axis=1)\n",
    "data = pd.DataFrame(concatenated_columns, columns=['strain', 'stress'])\n",
    "\n",
    "os.makedirs(\"output/figure\", exist_ok = True)\n",
    "\n",
    "window_size = 20\n",
    "data['moving_average'] = data['stress'].rolling(window=window_size).mean()\n",
    "\n",
    "# Linear regression with no intercept in specified strain range\n",
    "linear_range_data = data[(data['strain'] >= 0.0) & (data['strain'] <= 0.025)]\n",
    "X = linear_range_data[['strain']]\n",
    "y = linear_range_data['stress']\n",
    "linear_model_no_intercept = LinearRegression(fit_intercept=False).fit(X, y)\n",
    "linear_fit = linear_model_no_intercept.predict(X)\n",
    "\n",
    "# Youngs Modulus\n",
    "youngs_modulus = linear_model_no_intercept.coef_[0]\n",
    "print(f\"Youngs modulus:{youngs_modulus / 1000:.4f}(GPa)\")\n",
    "\n",
    "# Plot\n",
    "plt.scatter(data['strain'], data['stress'], label='Original Data', alpha=0.25, s = 10)\n",
    "plt.plot(data['strain'], data['moving_average'], label='Moving Average (20 points)', color='green')\n",
    "plt.plot(linear_range_data['strain'], linear_fit, label='Linear Fit through Origin', color='red', linewidth=2)\n",
    "plt.title('Stress-Strain Curve with Moving Average and Linear Fit')\n",
    "plt.xlabel('Strain')\n",
    "plt.ylabel('Stress (MPa)')\n",
    "plt.legend()\n",
    "plt.grid(True)\n",
    "plt.show()\n",
    "plt.savefig(ss_path)"
   ]
  }
 ],
 "metadata": {
  "kernelspec": {
   "display_name": "Python 3.8",
   "language": "python",
   "name": "python38"
  },
  "language_info": {
   "codemirror_mode": {
    "name": "ipython",
    "version": 3
   },
   "file_extension": ".py",
   "mimetype": "text/x-python",
   "name": "python",
   "nbconvert_exporter": "python",
   "pygments_lexer": "ipython3",
   "version": "3.8.13"
  },
  "papermill": {
   "default_parameters": {},
   "duration": 79452.992036,
   "end_time": "2023-10-12T06:27:44.139700",
   "environment_variables": {},
   "exception": true,
   "input_path": "/home/jovyan/.local/share/matlantis/jobs/mtl_bg_run_zg4yywue.ipynb",
   "output_path": "/home/jovyan/work/2023/sscurve/contrib/calculate_sscurve_ja_results_v5.ipynb",
   "parameters": {},
   "start_time": "2023-10-11T08:23:31.147664",
   "version": "2.3.4"
  },
  "widgets": {
   "application/vnd.jupyter.widget-state+json": {
    "state": {},
    "version_major": 2,
    "version_minor": 0
   }
  }
 },
 "nbformat": 4,
 "nbformat_minor": 5
}
