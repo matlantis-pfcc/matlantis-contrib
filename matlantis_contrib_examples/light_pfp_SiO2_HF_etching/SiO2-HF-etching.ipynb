{
 "cells": [
  {
   "cell_type": "code",
   "execution_count": null,
   "id": "531ff1c6-3185-44bf-b5e2-5615b630950c",
   "metadata": {},
   "outputs": [],
   "source": [
    "model_version = \"v7.0.0\"\n",
    "calc_mode = \"crystal_u0_plus_d3\""
   ]
  },
  {
   "cell_type": "markdown",
   "id": "49c8eeb6-c921-4266-81a5-5830428f47a3",
   "metadata": {},
   "source": [
    "## 1. Initial structures & functions"
   ]
  },
  {
   "cell_type": "code",
   "execution_count": null,
   "id": "a1274b48-727c-4686-89ca-dc4209664d0f",
   "metadata": {},
   "outputs": [],
   "source": [
    "import random\n",
    "import numpy as np\n",
    "from ase import Atoms\n",
    "from pymatgen.io.ase import AseAtomsAdaptor\n",
    "from pymatgen.core.surface import SlabGenerator\n",
    "\n",
    "\n",
    "def make_surface(crystal, miller_ind, min_slab_size, min_vacuum_size):\n",
    "    structure: Structure = AseAtomsAdaptor.get_structure(crystal)\n",
    "    slab = SlabGenerator(\n",
    "        structure,\n",
    "        miller_ind,\n",
    "        min_slab_size=min_slab_size,\n",
    "        min_vacuum_size=min_vacuum_size,\n",
    "        lll_reduce=True\n",
    "    ).get_slab()\n",
    "    return AseAtomsAdaptor.get_atoms(slab)\n",
    "\n",
    "\n",
    "def make_gas(mol_list, cell, interval=10.0):\n",
    "    atoms = Atoms(cell=cell, pbc=True)\n",
    "    lx = np.linalg.norm(cell[0])\n",
    "    ly = np.linalg.norm(cell[1])\n",
    "    lz = np.linalg.norm(cell[2])\n",
    "    nx = cell[0] / lx\n",
    "    ny = cell[1] / ly\n",
    "    nz = cell[2] / lz\n",
    "    for i in range(int(lx / interval)):\n",
    "        for j in range(int(ly / interval)):\n",
    "            for k in range(int(lz / interval)):\n",
    "                mol = random.choice(mol_list)\n",
    "                mol_c = mol.copy()\n",
    "                shift = (i * nx + j * ny + k * nz) * interval\n",
    "                mol_c.positions += shift.reshape([1,3])\n",
    "                atoms += mol_c\n",
    "    return atoms\n",
    "\n",
    "\n",
    "def make_surface_gas(surface, mol_list, interval=10.0):\n",
    "    cell = surface.get_cell()[:]\n",
    "    top_z = surface.positions[:,2].max()\n",
    "    cell[2,2] -= top_z - 4.0\n",
    "    gas = make_gas(mol_list, cell, interval)\n",
    "    gas.positions[:,2] += top_z + 2.0\n",
    "    surface_gas = surface + gas\n",
    "    return surface_gas\n",
    "    "
   ]
  },
  {
   "cell_type": "code",
   "execution_count": null,
   "id": "2597d9fa-96e1-4b20-a5f6-5c3c9c8339e0",
   "metadata": {},
   "outputs": [],
   "source": [
    "from ase.io import read\n",
    "\n",
    "crystal = read(\"structures/SiO2_crystal.cif\")\n",
    "surface = read(\"structures/SiO2_surface.xyz\")"
   ]
  },
  {
   "cell_type": "code",
   "execution_count": null,
   "id": "373a02a9-6505-47ca-b042-eff204cb8902",
   "metadata": {},
   "outputs": [],
   "source": [
    "from ase.build import molecule\n",
    "from pfcc_extras.structure.ase_rdkit_converter import smiles_to_atoms\n",
    "\n",
    "\n",
    "product_mol = [\n",
    "    molecule(\"HF\"),\n",
    "    molecule(\"H2\"),\n",
    "    molecule(\"O2\"),\n",
    "    molecule(\"F2\"),\n",
    "    molecule(\"H2O\"),\n",
    "    smiles_to_atoms(\"F[Si](F)F\"),\n",
    "    smiles_to_atoms(\"F[Si](F)(F)F\"),\n",
    "    smiles_to_atoms(\"F[Si](F)(F)(F)F\"),\n",
    "    smiles_to_atoms(\"F[Si](F)O\"),\n",
    "    smiles_to_atoms(\"F[Si](F)(F)O\"),\n",
    "    smiles_to_atoms(\"F[Si](F)(F)(F)O\"),\n",
    "    smiles_to_atoms(\"F[Si](O)O\"),\n",
    "    smiles_to_atoms(\"F[Si](F)(O)O\"),\n",
    "    smiles_to_atoms(\"F[Si](F)(F)(O)O\"),\n",
    "    smiles_to_atoms(\"F[Si](F)(F)O[Si](F)(F)F\"),\n",
    "]"
   ]
  },
  {
   "cell_type": "code",
   "execution_count": null,
   "id": "150e2d61-48f9-4a0e-ae03-a47a089ff8c4",
   "metadata": {},
   "outputs": [],
   "source": [
    "gas = make_gas(product_mol, np.eye(3)*30)"
   ]
  },
  {
   "cell_type": "code",
   "execution_count": null,
   "id": "c75cb4ef-7922-46b9-9565-3a939c717268",
   "metadata": {},
   "outputs": [],
   "source": [
    "surface_gas = make_surface_gas(surface*(4, 4, 1), product_mol, 10)"
   ]
  },
  {
   "cell_type": "code",
   "execution_count": null,
   "id": "7fd20065-d1d5-4dba-8007-f89d078b401e",
   "metadata": {},
   "outputs": [],
   "source": [
    "from ase.visualize import view\n",
    "\n",
    "view(surface_gas, viewer=\"ngl\")"
   ]
  },
  {
   "cell_type": "markdown",
   "id": "439d914d-2e21-422a-8506-5714a244cbe0",
   "metadata": {},
   "source": [
    "## 2. Initial dataset"
   ]
  },
  {
   "cell_type": "code",
   "execution_count": null,
   "id": "a32d554e-13ae-4cc3-8438-473406f4c885",
   "metadata": {},
   "outputs": [],
   "source": [
    "from pathlib import Path\n",
    "from light_pfp_data.utils.dataset import H5DatasetWriter\n",
    "\n",
    "init_dataset_dir = Path(\"init_dataset\")\n",
    "init_dataset_dir.mkdir(parents=True, exist_ok=True)\n",
    "initial_dataset = init_dataset_dir / \"init.h5\""
   ]
  },
  {
   "cell_type": "markdown",
   "id": "7201b05f-66ac-405d-b603-1c9f0eae450d",
   "metadata": {},
   "source": [
    "* time cost: 40 min"
   ]
  },
  {
   "cell_type": "code",
   "execution_count": null,
   "id": "7c90aee7-ab96-4796-a389-f6c746a46de9",
   "metadata": {},
   "outputs": [],
   "source": [
    "from unittest.mock import patch\n",
    "from pfp_api_client import Estimator, ASECalculator\n",
    "from light_pfp_data.sample import sample_md\n",
    "\n",
    "\n",
    "if initial_dataset.exists():\n",
    "    print(f\"Dataset file {initial_dataset} already exists. Skip generating initial dataset.\")\n",
    "    with patch('builtins.input', return_value='y'):\n",
    "        dataset = H5DatasetWriter(initial_dataset, mode=\"append\") # automatically input 'y' when running in background\n",
    "    \n",
    "else:\n",
    "    print(f\"Dataset file {initial_dataset} is created. Start generating initial structures.\")\n",
    "    with patch('builtins.input', return_value='y'):\n",
    "        dataset = H5DatasetWriter(initial_dataset)\n",
    "\n",
    "    # Initialize estimator and calculator\n",
    "    estimator = Estimator(model_version=model_version, calc_mode=calc_mode)\n",
    "    calc = ASECalculator(estimator)\n",
    "\n",
    "    # Initialize structures\n",
    "    input_structures = [\n",
    "        crystal,\n",
    "        crystal * (2,2,2),\n",
    "        crystal * (3,3,3),\n",
    "        surface,\n",
    "        surface * (2,2,1),\n",
    "        surface * (3,3,1),\n",
    "        make_gas(product_mol, np.eye(3)*20),\n",
    "        make_gas(product_mol, np.eye(3)*20),\n",
    "        make_gas(product_mol, np.eye(3)*40),\n",
    "        make_surface_gas(surface*(2, 2, 1), product_mol),\n",
    "        make_surface_gas(surface*(3, 3, 1), product_mol),\n",
    "        make_surface_gas(surface*(4, 4, 1), product_mol),\n",
    "    ]\n",
    "    \n",
    "    from concurrent.futures import as_completed, ThreadPoolExecutor\n",
    "    from tqdm.auto import tqdm\n",
    "    \n",
    "    futures = []\n",
    "    pbar = tqdm(desc=\"Total progress\", total=0, leave=True)\n",
    "    \n",
    "    # Sample structures using various techniques\n",
    "    with ThreadPoolExecutor(max_workers=16) as executor:\n",
    "        for atoms in input_structures:\n",
    "            futures += sample_md(\n",
    "                input_structure=atoms,\n",
    "                calculator=calc,\n",
    "                dataset=dataset,\n",
    "                supercell=(1, 1, 1),\n",
    "                sampling_temp=[1000.0, 3000.0, 5000.0],\n",
    "                sampling_steps=[5000, 5000, 5000],\n",
    "                sampling_interval=[100, 100, 100],\n",
    "                ensemble=\"nvt\",\n",
    "                executor=executor,\n",
    "                pbar=pbar\n",
    "            )"
   ]
  },
  {
   "cell_type": "code",
   "execution_count": null,
   "id": "429e80b4-b908-4074-90cf-e67534046c63",
   "metadata": {},
   "outputs": [],
   "source": [
    "dataset.h5.close()"
   ]
  },
  {
   "cell_type": "markdown",
   "id": "87124cbd-9fba-4f6f-acb9-38d000ac9b6e",
   "metadata": {},
   "source": [
    "## 3. Active learning"
   ]
  },
  {
   "cell_type": "code",
   "execution_count": null,
   "id": "c7ad9cd3-1e3c-4513-a971-33f095df4125",
   "metadata": {},
   "outputs": [],
   "source": [
    "import pathlib\n",
    "import logging\n",
    "from light_pfp_autogen.active_learning import ActiveLearning\n",
    "from light_pfp_autogen.config import ActiveLearningConfig, TrainConfig, SampleConfig, CommonConfig, MTPConfig\n",
    "\n",
    "\n",
    "logging.basicConfig(level=logging.INFO)\n",
    "\n",
    "active_learning_config = ActiveLearningConfig(\n",
    "    task_name = \"Si-HF-etching-1\",\n",
    "    work_dir = \"./autogen_workdir_1\",\n",
    "    pfp_model_version = model_version,\n",
    "    pfp_calc_mode = calc_mode,\n",
    "    init_dataset = [\"init_dataset/init.h5\"],\n",
    "    train_config = TrainConfig(\n",
    "        common_config = CommonConfig(max_forces=50.0),\n",
    "        mtp_config = MTPConfig(pretrained_model=\"ALL_ELEMENTS_SMALL_NN_6\")\n",
    "    ),\n",
    "    sample_config = SampleConfig(\n",
    "        dE_min_coef = 5.0,\n",
    "        dE_max_coef = 40.0,\n",
    "        dF_min = 1.5,\n",
    "        dF_max = 50.0\n",
    "    )\n",
    ")\n",
    "\n",
    "active_learning = ActiveLearning(active_learning_config)"
   ]
  },
  {
   "cell_type": "code",
   "execution_count": null,
   "id": "cecc05c7-067c-4df2-b235-b171dc75a6ec",
   "metadata": {},
   "outputs": [],
   "source": [
    "active_learning.initialize()"
   ]
  },
  {
   "cell_type": "code",
   "execution_count": null,
   "id": "f0267044-309f-45aa-ab51-93974c07454d",
   "metadata": {},
   "outputs": [],
   "source": [
    "import numpy as np\n",
    "\n",
    "from ase import units\n",
    "from ase.io import read\n",
    "from ase.constraints import FixAtoms\n",
    "from ase.build import molecule\n",
    "from ase.md.nvtberendsen import NVTBerendsen\n",
    "from ase.md.verlet import VelocityVerlet\n",
    "from ase.md.velocitydistribution import MaxwellBoltzmannDistribution\n",
    "from light_pfp_autogen.context import DataCollectionContext\n",
    "\n",
    "\n",
    "class InsertMol:\n",
    "    def __init__(self, dyn, incident_energy, init_z):\n",
    "        self.dyn = dyn\n",
    "        self.incident_energy = incident_energy\n",
    "        self.init_z = init_z\n",
    "        \n",
    "    def __call__(self):\n",
    "        atoms = self.dyn.atoms\n",
    "        if self.dyn.nsteps == 0:\n",
    "            init_x, init_y = (atoms.cell[0] * np.random.random() + atoms.cell[1] * np.random.random())[:2]\n",
    "            mol = molecule(\"HF\")\n",
    "            mol.euler_rotate(np.random.random()*360, np.random.random()*180, np.random.random()*360)\n",
    "            mol.positions += np.array([[init_x, init_y, self.init_z]])\n",
    "            vel = (2 * self.incident_energy / mol.get_masses().sum())**0.5\n",
    "            momenta = np.zeros_like(mol.positions)\n",
    "            momenta[:, 2] = -mol.get_masses() * vel\n",
    "            mol.set_momenta(momenta)\n",
    "            atoms += mol        \n",
    "        \n",
    "\n",
    "n_insert = 10\n",
    "supercell = [2, 2, 1]\n",
    "\n",
    "for i in range(active_learning.iter, 5):\n",
    "    for _ in range(10):\n",
    "        atoms = read(\"structures/SiO2_surface.xyz\") * supercell\n",
    "        ind = atoms.positions[:, 2] < 5.0\n",
    "        fix_atoms = FixAtoms(mask=ind)\n",
    "        atoms.set_constraint(fix_atoms)\n",
    "        init_z = 40.0\n",
    "        MaxwellBoltzmannDistribution(atoms, temperature_K=300.0)\n",
    "        md0 = NVTBerendsen(atoms, units.fs, temperature_K=300.0, taut=500 * units.fs)\n",
    "        with DataCollectionContext(md=md0, interval=100, max_samples=5):\n",
    "            md0.run(1000)\n",
    "        for i in range(n_insert):\n",
    "            kinetic_energy = np.random.uniform(20, 80)\n",
    "            # Hit the surface\n",
    "            # Time step 0.2 fs\n",
    "            md1 = VelocityVerlet(atoms, 0.2 * units.fs)\n",
    "            insert_mol = InsertMol(md1, kinetic_energy, init_z)\n",
    "            md1.attach(insert_mol, interval=1)\n",
    "            with DataCollectionContext(md=md1, interval=25, max_samples=20):\n",
    "                md1.run(1000)\n",
    "            # Relax\n",
    "            md2 = NVTBerendsen(atoms, units.fs, temperature_K=300.0, taut=100 * units.fs)\n",
    "            with DataCollectionContext(md=md2, interval=50, max_samples=5):\n",
    "                md2.run(500)\n",
    "\n",
    "    active_learning.update()\n"
   ]
  },
  {
   "cell_type": "code",
   "execution_count": null,
   "id": "77ea8a84-a971-434c-bf0d-6dc951815cd2",
   "metadata": {},
   "outputs": [],
   "source": [
    "n_insert = 10\n",
    "supercell = [2, 2, 1]\n",
    "\n",
    "for i in range(active_learning.iter, 10):\n",
    "    for _ in range(10):\n",
    "        atoms = read(\"structures/SiO2_surface.xyz\") * supercell\n",
    "        ind = atoms.positions[:, 2] < 5.0\n",
    "        fix_atoms = FixAtoms(mask=ind)\n",
    "        atoms.set_constraint(fix_atoms)\n",
    "        init_z = 40.0\n",
    "        MaxwellBoltzmannDistribution(atoms, temperature_K=300.0)\n",
    "        md0 = NVTBerendsen(atoms, units.fs, temperature_K=300.0, taut=500 * units.fs)\n",
    "        with DataCollectionContext(md=md0, interval=100, max_samples=5):\n",
    "            md0.run(1000)\n",
    "        for i in range(n_insert):\n",
    "            kinetic_energy = np.random.uniform(20, 80)\n",
    "            # Hit the surface\n",
    "            # Time step 0.2 fs\n",
    "            md1 = VelocityVerlet(atoms, 0.2 * units.fs)\n",
    "            insert_mol = InsertMol(md1, kinetic_energy, init_z)\n",
    "            md1.attach(insert_mol, interval=1)\n",
    "            with DataCollectionContext(md=md1, interval=25, max_samples=20):\n",
    "                md1.run(1000)\n",
    "            # Relax\n",
    "            md2 = NVTBerendsen(atoms, units.fs, temperature_K=300.0, taut=100 * units.fs)\n",
    "            with DataCollectionContext(md=md2, interval=50, max_samples=5):\n",
    "                md2.run(500)\n",
    "\n",
    "    active_learning.update()"
   ]
  },
  {
   "cell_type": "code",
   "execution_count": null,
   "id": "9e4dd63b-4f07-4ab3-b38c-657467291df3",
   "metadata": {},
   "outputs": [],
   "source": [
    "n_insert = 40\n",
    "supercell = [4, 4, 1]\n",
    "\n",
    "for i in range(active_learning.iter, 15):\n",
    "    for _ in range(5):\n",
    "        atoms = read(\"structures/SiO2_surface.xyz\") * supercell\n",
    "        ind = atoms.positions[:, 2] < 5.0\n",
    "        fix_atoms = FixAtoms(mask=ind)\n",
    "        atoms.set_constraint(fix_atoms)\n",
    "        init_z = 40.0\n",
    "        MaxwellBoltzmannDistribution(atoms, temperature_K=300.0)\n",
    "        md0 = NVTBerendsen(atoms, units.fs, temperature_K=300.0, taut=500 * units.fs)\n",
    "        with DataCollectionContext(md=md0, interval=100, max_samples=5):\n",
    "            md0.run(1000)\n",
    "        for i in range(n_insert):\n",
    "            kinetic_energy = np.random.uniform(20, 80)\n",
    "            # Hit the surface\n",
    "            # Time step 0.2 fs\n",
    "            md1 = VelocityVerlet(atoms, 0.2 * units.fs)\n",
    "            insert_mol = InsertMol(md1, kinetic_energy, init_z)\n",
    "            md1.attach(insert_mol, interval=1)\n",
    "            with DataCollectionContext(md=md1, interval=25, max_samples=20):\n",
    "                md1.run(1000)\n",
    "            # Relax\n",
    "            md2 = NVTBerendsen(atoms, units.fs, temperature_K=300.0, taut=100 * units.fs)\n",
    "            with DataCollectionContext(md=md2, interval=50, max_samples=5):\n",
    "                md2.run(500)\n",
    "\n",
    "    active_learning.update()"
   ]
  },
  {
   "cell_type": "code",
   "execution_count": null,
   "id": "9e91b956-1c1e-4ca7-9230-07dcf46a7267",
   "metadata": {},
   "outputs": [],
   "source": [
    "active_learning.print_md_statistics()"
   ]
  },
  {
   "cell_type": "markdown",
   "id": "68aa18e4-02df-46c4-8c65-885769261c39",
   "metadata": {},
   "source": [
    "## 4. Post training "
   ]
  },
  {
   "cell_type": "code",
   "execution_count": null,
   "id": "80b870bb-9987-47ca-a94e-4d30d59ef74b",
   "metadata": {},
   "outputs": [],
   "source": [
    "# from light_pfp_autogen.utils import submit_training_job, check_training_job_status, estimate_epoch\n",
    "\n",
    "# epoch = estimate_epoch(active_learning.datasets_list, 2)\n",
    "# train_config_dict = {\n",
    "#     \"common_config\": {\n",
    "#         \"total_epoch\": epoch,\n",
    "#         \"max_forces\": 50.0\n",
    "#     },\n",
    "#     \"mtp_config\": {\n",
    "#         \"pretrained_model\": \"ALL_ELEMENTS_SMALL_NN_6\"\n",
    "#     },\n",
    "# }\n",
    "\n",
    "# training_config = TrainConfig.from_dict(\n",
    "#     train_config_dict\n",
    "# )\n",
    "\n",
    "# model_id = submit_training_job(\n",
    "#     training_config,\n",
    "#     active_learning.datasets_list,\n",
    "#     \"SiO2-HF-etching-1-final\",\n",
    "# )\n",
    "\n",
    "# status = check_training_job_status(model_id)\n",
    "# print(f\"Training job {model_id} status: {status}\")\n",
    "\n",
    "model_id = \"jm6mjc5ju4p2qge2\""
   ]
  },
  {
   "cell_type": "markdown",
   "id": "2f855519-062b-416c-9447-8d059da29704",
   "metadata": {},
   "source": [
    "## 5. PFP reaction path calculation"
   ]
  },
  {
   "cell_type": "code",
   "execution_count": null,
   "id": "46211bf4-35b7-412a-a1e2-4be11b14a954",
   "metadata": {},
   "outputs": [],
   "source": [
    "# from pathlib import Path\n",
    "# from ase import Atoms, units\n",
    "# from ase.io import read, write\n",
    "# from ase.optimize import LBFGS\n",
    "# from ase.data import atomic_numbers, chemical_symbols\n",
    "# from ase.mep import NEB, idpp_interpolate, interpolate, NEBTools\n",
    "\n",
    "# import matplotlib.pyplot as plt\n",
    "\n",
    "# from matlantis_features.utils.calculators import get_calculator, pfp_estimator_fn\n",
    "# from matlantis_features.features.common import FireLBFGSASEOptFeature\n",
    "# from pfp_api_client import Estimator, EstimatorCalcMode, ASECalculator\n",
    "# from pfcc_extras import view_ngl, SurfaceEditor\n",
    "# from pfcc_extras.visualize.povray import traj_to_gif\n",
    "\n",
    "# from IPython.display import Image"
   ]
  },
  {
   "cell_type": "code",
   "execution_count": null,
   "id": "c8bfdeb7-5ebf-474d-b02e-958ef81229e1",
   "metadata": {},
   "outputs": [],
   "source": [
    "# estimator_fn = pfp_estimator_fn(model_version='v7.0.0', calc_mode='crystal_u0_plus_d3')"
   ]
  },
  {
   "cell_type": "code",
   "execution_count": null,
   "id": "185d4e4e-29cf-472a-9c6f-eac5c57b8d91",
   "metadata": {},
   "outputs": [],
   "source": [
    "# inputdir = Path('inputs')\n",
    "# outputdir = Path('./output-pfp')\n",
    "# for _dir in (inputdir, outputdir):\n",
    "#     _dir.mkdir(exist_ok=True)"
   ]
  },
  {
   "cell_type": "code",
   "execution_count": null,
   "id": "86754fc5-bae4-4c55-981a-9c69f0702b9d",
   "metadata": {},
   "outputs": [],
   "source": [
    "# IS = read(inputdir/'IS.cif')\n",
    "# FS = read(inputdir/'FS.cif')\n",
    "# view_ngl([IS, FS], ['ball+stick'], replace_structure=True)"
   ]
  },
  {
   "cell_type": "code",
   "execution_count": null,
   "id": "21526348-6ab0-4ce1-aabf-9824f10960c7",
   "metadata": {},
   "outputs": [],
   "source": [
    "# opt = FireLBFGSASEOptFeature(fmax=0.02, estimator_fn=estimator_fn)\n",
    "# IS = opt(IS).atoms.ase_atoms\n",
    "# FS = opt(FS).atoms.ase_atoms"
   ]
  },
  {
   "cell_type": "code",
   "execution_count": null,
   "id": "430b4877-64b7-4252-b610-2ee71508b57f",
   "metadata": {},
   "outputs": [],
   "source": [
    "# num_images = 7\n",
    "# images = [IS.copy() for i in range(num_images-1)] + [FS]\n",
    "# idpp_interpolate(images)"
   ]
  },
  {
   "cell_type": "code",
   "execution_count": null,
   "id": "82e87b12-c813-45cb-95b3-47d67359c5d7",
   "metadata": {},
   "outputs": [],
   "source": [
    "# neb = NEB(images, k=5.0)\n",
    "# for atoms in neb.images:\n",
    "#     atoms.calc = get_calculator(estimator_fn)\n",
    "# opt = LBFGS(neb)\n",
    "# opt.run(fmax=0.2, steps=1000)"
   ]
  },
  {
   "cell_type": "code",
   "execution_count": null,
   "id": "02e02b2e-7efb-4954-b7db-e7e98b27f38a",
   "metadata": {},
   "outputs": [],
   "source": [
    "# display(view_ngl(neb.images))\n",
    "# nebt = NEBTools(neb.images)\n",
    "# view = nebt.plot_band()"
   ]
  },
  {
   "cell_type": "code",
   "execution_count": null,
   "id": "d8451a46-9d99-4a85-91d9-f24821a41d1f",
   "metadata": {},
   "outputs": [],
   "source": [
    "# images = [image.copy() for image in neb.images]\n",
    "# images_new = []\n",
    "# for i in range(len(neb.images)):\n",
    "#     image = images[i].copy()\n",
    "#     if i==0:\n",
    "#         images_new.append(image)\n",
    "#         continue\n",
    "#     _images = [images_new[-1], image.copy(), image.copy(), image.copy()]\n",
    "#     idpp_interpolate(_images)\n",
    "#     images_new.extend(_images[1:])\n",
    "# print(len(images_new))\n",
    "# view_ngl(images_new, ['ball+stick'], replace_structure=True)"
   ]
  },
  {
   "cell_type": "code",
   "execution_count": null,
   "id": "30be0953-f775-48e3-b1f5-be4422cfb7ed",
   "metadata": {},
   "outputs": [],
   "source": [
    "# neb = NEB(images_new, k=5.0)\n",
    "# for atoms in neb.images:\n",
    "#     atoms.calc = get_calculator(estimator_fn)\n",
    "# opt = LBFGS(neb)\n",
    "# opt.run(fmax=0.1, steps=1000)"
   ]
  },
  {
   "cell_type": "code",
   "execution_count": null,
   "id": "40dd5af5-d30f-4d2f-acdb-da2259ca6051",
   "metadata": {},
   "outputs": [],
   "source": [
    "# display(view_ngl(neb.images, ['ball+stick'], replace_structure=True))\n",
    "# nebt = NEBTools(neb.images)\n",
    "# view = nebt.plot_band()"
   ]
  },
  {
   "cell_type": "code",
   "execution_count": null,
   "id": "49075fee-f5df-4542-890b-b1e92aae8ec4",
   "metadata": {},
   "outputs": [],
   "source": [
    "# fmax = 0.07\n",
    "# k = 5.0\n",
    "# neb = NEB(images_new, k=k)\n",
    "# for atoms in neb.images:\n",
    "#     atoms.calc = get_calculator(estimator_fn)\n",
    "# opt = LBFGS(neb)\n",
    "# opt.run(fmax=fmax, steps=1000)"
   ]
  },
  {
   "cell_type": "code",
   "execution_count": null,
   "id": "8b222e61-6bb0-43a6-ba80-f5839999aa70",
   "metadata": {},
   "outputs": [],
   "source": [
    "# display(view_ngl(neb.images, ['ball+stick'], replace_structure=True))\n",
    "# nebt = NEBTools(neb.images)\n",
    "# view = nebt.plot_band()"
   ]
  },
  {
   "cell_type": "code",
   "execution_count": null,
   "id": "a8de53e0-c14a-46e3-83eb-dfba7e9103f1",
   "metadata": {},
   "outputs": [],
   "source": [
    "# images = [image.copy() for image in neb.images]\n",
    "# neb_ci = NEB(images, k=k, climb=True)\n",
    "# for atoms in neb_ci.images:\n",
    "#     atoms.calc = get_calculator(estimator_fn)\n",
    "# opt = LBFGS(neb_ci)\n",
    "# opt.run(fmax=fmax, steps=2000)"
   ]
  },
  {
   "cell_type": "code",
   "execution_count": null,
   "id": "03d64d8b-af28-4ba6-aec4-51d72df78651",
   "metadata": {},
   "outputs": [],
   "source": [
    "# display(view_ngl(neb_ci.images, ['ball+stick'], replace_structure=True))\n",
    "# nebt = NEBTools(neb_ci.images)\n",
    "# view = nebt.plot_band()"
   ]
  },
  {
   "cell_type": "code",
   "execution_count": null,
   "id": "4ad73b0a-6e0c-4f94-848b-cfb42b829530",
   "metadata": {},
   "outputs": [],
   "source": [
    "# basename = outputdir/f'neb_{len(neb_ci.images)}images_fmax{fmax}'\n",
    "# trajfile = f'{basename}.traj'\n",
    "# print(trajfile)\n",
    "# write(trajfile, neb_ci.images)"
   ]
  },
  {
   "cell_type": "code",
   "execution_count": null,
   "id": "4786cfe6-ae6e-419e-a0ed-8c6b0c206400",
   "metadata": {},
   "outputs": [],
   "source": [
    "# pngfile = f'{basename}.png'\n",
    "# print(pngfile)\n",
    "# fig, ax = plt.subplots(figsize=(8,6))\n",
    "# NEBTools(neb_ci.images).plot_band(ax=ax)\n",
    "# fig.savefig(pngfile)"
   ]
  },
  {
   "cell_type": "code",
   "execution_count": null,
   "id": "6ce6bdb7-f6ee-4636-be50-164b78362d41",
   "metadata": {},
   "outputs": [],
   "source": [
    "# giffile = f'{basename}.gif'\n",
    "# images = read(trajfile, index=':')\n",
    "# for a in images:\n",
    "#     a.rotate(140, 'z')\n",
    "# #    a.rotate(-30, 'x')\n",
    "#     a.rotate(100, 'y')\n",
    "\n",
    "# traj_to_gif(\n",
    "#     images,\n",
    "#     gif_filepath=giffile,\n",
    "#     povdir=outputdir / \"pov\",\n",
    "#     pngdir=outputdir / \"png\",\n",
    "#     clean=False,\n",
    "# )\n",
    "# Image(giffile)"
   ]
  },
  {
   "cell_type": "markdown",
   "id": "93f23d62-1eb9-4e59-884d-6ec5b02b83a0",
   "metadata": {},
   "source": [
    "## 6. LightPFP reaction path calculation"
   ]
  },
  {
   "cell_type": "code",
   "execution_count": null,
   "id": "16dbd429-f241-4547-babf-9a3d1aa85a20",
   "metadata": {},
   "outputs": [],
   "source": [
    "# from pathlib import Path\n",
    "# from ase import Atoms, units\n",
    "# from ase.io import read, write\n",
    "# from ase.optimize import LBFGS, FIRE\n",
    "# from ase.data import atomic_numbers, chemical_symbols\n",
    "# from ase.mep import NEB, idpp_interpolate, interpolate, NEBTools\n",
    "\n",
    "# import matplotlib.pyplot as plt\n",
    "\n",
    "# from matlantis_features.utils.calculators import get_calculator\n",
    "# from matlantis_features.features.common import FireLBFGSASEOptFeature\n",
    "# from light_pfp_client.ase_calculator import ASECalculator\n",
    "# from light_pfp_client.estimator import Estimator\n",
    "# from light_pfp_client.estimator_fn import light_pfp_estimator_fn\n",
    "# from pfcc_extras import view_ngl, SurfaceEditor\n",
    "# from pfcc_extras.visualize.povray import traj_to_gif\n",
    "\n",
    "# from IPython.display import Image"
   ]
  },
  {
   "cell_type": "code",
   "execution_count": null,
   "id": "d6e013ab-4336-4dfe-afa5-367b18c92290",
   "metadata": {},
   "outputs": [],
   "source": [
    "# estimator_fn = light_pfp_estimator_fn(model_id=model_id)"
   ]
  },
  {
   "cell_type": "code",
   "execution_count": null,
   "id": "26c85860-fd01-4eaa-99c8-034fa4a7ae75",
   "metadata": {},
   "outputs": [],
   "source": [
    "# inputdir = Path('inputs')\n",
    "# outputdir = Path('./output-lpfp')\n",
    "# for _dir in (inputdir, outputdir):\n",
    "#     _dir.mkdir(exist_ok=True)"
   ]
  },
  {
   "cell_type": "code",
   "execution_count": null,
   "id": "f091d1c1-6a36-4305-8434-20024a7d83b5",
   "metadata": {},
   "outputs": [],
   "source": [
    "# IS = read(inputdir/'IS.cif')\n",
    "# FS = read(inputdir/'FS.cif')\n",
    "# view_ngl([IS, FS], ['ball+stick'], replace_structure=True)"
   ]
  },
  {
   "cell_type": "code",
   "execution_count": null,
   "id": "b1ea57ec-9f97-4d92-a7fa-fe31b3f49dee",
   "metadata": {},
   "outputs": [],
   "source": [
    "# opt = FireLBFGSASEOptFeature(fmax=0.02, estimator_fn=estimator_fn)\n",
    "# IS = opt(IS).atoms.ase_atoms\n",
    "# FS = opt(FS).atoms.ase_atoms"
   ]
  },
  {
   "cell_type": "code",
   "execution_count": null,
   "id": "bc0f94a9-5ecc-4603-8186-f9b6b52a2f22",
   "metadata": {},
   "outputs": [],
   "source": [
    "# num_images = 7\n",
    "# images = [IS.copy() for i in range(num_images-1)] + [FS]\n",
    "# idpp_interpolate(images)"
   ]
  },
  {
   "cell_type": "code",
   "execution_count": null,
   "id": "6fbc1222-90e7-4f0d-9a6f-5fd38612f2d1",
   "metadata": {},
   "outputs": [],
   "source": [
    "# neb = NEB(images, k=5.0)\n",
    "# for atoms in neb.images:\n",
    "#     atoms.calc = get_calculator(estimator_fn)\n",
    "# opt = FIRE(neb)\n",
    "# opt.run(fmax=0.2, steps=500)"
   ]
  },
  {
   "cell_type": "code",
   "execution_count": null,
   "id": "535e9ef0-a02c-4e8d-9b7b-735c89fd1739",
   "metadata": {},
   "outputs": [],
   "source": [
    "# display(view_ngl(neb.images))\n",
    "# nebt = NEBTools(neb.images)\n",
    "# view = nebt.plot_band()"
   ]
  },
  {
   "cell_type": "code",
   "execution_count": null,
   "id": "282a7aee-fc40-43a1-b5e3-1915639defed",
   "metadata": {},
   "outputs": [],
   "source": [
    "# images = [image.copy() for image in neb.images]\n",
    "# images_new = []\n",
    "# for i in range(len(neb.images)):\n",
    "#     image = images[i].copy()\n",
    "#     if i==0:\n",
    "#         images_new.append(image)\n",
    "#         continue\n",
    "#     _images = [images_new[-1], image.copy(), image.copy(), image.copy()]\n",
    "#     idpp_interpolate(_images)\n",
    "#     images_new.extend(_images[1:])\n",
    "# print(len(images_new))\n",
    "# view_ngl(images_new, ['ball+stick'], replace_structure=True)"
   ]
  },
  {
   "cell_type": "code",
   "execution_count": null,
   "id": "8ef67f58-b0f7-4d97-b8a7-bbdd785cf37b",
   "metadata": {},
   "outputs": [],
   "source": [
    "# neb = NEB(images_new, k=5.0)\n",
    "# for atoms in neb.images:\n",
    "#     atoms.calc = get_calculator(estimator_fn)\n",
    "# opt = LBFGS(neb)\n",
    "# opt.run(fmax=0.1, steps=1000)"
   ]
  },
  {
   "cell_type": "code",
   "execution_count": null,
   "id": "7a611f88-bd18-4fcb-88ca-e28922ff96eb",
   "metadata": {},
   "outputs": [],
   "source": [
    "# display(view_ngl(neb.images, ['ball+stick'], replace_structure=True))\n",
    "# nebt = NEBTools(neb.images)\n",
    "# view = nebt.plot_band()"
   ]
  },
  {
   "cell_type": "code",
   "execution_count": null,
   "id": "8d673bc1-2d51-4bfe-9767-4c81de9a8ea9",
   "metadata": {},
   "outputs": [],
   "source": [
    "# fmax = 0.07\n",
    "# k = 5.0\n",
    "# neb = NEB(images_new, k=k)\n",
    "# for atoms in neb.images:\n",
    "#     atoms.calc = get_calculator(estimator_fn)\n",
    "# opt = LBFGS(neb)\n",
    "# opt.run(fmax=fmax, steps=1000)"
   ]
  },
  {
   "cell_type": "code",
   "execution_count": null,
   "id": "c79213f3-12f7-4c4f-944a-2971fda2679e",
   "metadata": {},
   "outputs": [],
   "source": [
    "# display(view_ngl(neb.images, ['ball+stick'], replace_structure=True))\n",
    "# nebt = NEBTools(neb.images)\n",
    "# view = nebt.plot_band()"
   ]
  },
  {
   "cell_type": "code",
   "execution_count": null,
   "id": "1f86196e-c350-4c06-84a9-f51f5351b580",
   "metadata": {},
   "outputs": [],
   "source": [
    "# images = [image.copy() for image in neb.images]\n",
    "# neb_ci = NEB(images, k=k, climb=True)\n",
    "# for atoms in neb_ci.images:\n",
    "#     atoms.calc = get_calculator(estimator_fn)\n",
    "# opt = LBFGS(neb_ci)\n",
    "# opt.run(fmax=fmax, steps=2000)"
   ]
  },
  {
   "cell_type": "code",
   "execution_count": null,
   "id": "3e4c391d-ec09-4861-ab44-ad26979ba280",
   "metadata": {},
   "outputs": [],
   "source": [
    "# display(view_ngl(neb_ci.images, ['ball+stick'], replace_structure=True))\n",
    "# nebt = NEBTools(neb_ci.images)\n",
    "# view = nebt.plot_band()"
   ]
  },
  {
   "cell_type": "code",
   "execution_count": null,
   "id": "16ab551c-5b4f-41a9-9d20-887c490ffe20",
   "metadata": {},
   "outputs": [],
   "source": [
    "# basename = outputdir/f'neb_{len(neb_ci.images)}images_fmax{fmax}'\n",
    "# trajfile = f'{basename}.traj'\n",
    "# print(trajfile)\n",
    "# write(trajfile, neb_ci.images)"
   ]
  },
  {
   "cell_type": "code",
   "execution_count": null,
   "id": "8e5c5bdd-19c6-43a4-b168-f9de031b7ec3",
   "metadata": {},
   "outputs": [],
   "source": [
    "# pngfile = f'{basename}.png'\n",
    "# print(pngfile)\n",
    "# fig, ax = plt.subplots(figsize=(8,6))\n",
    "# NEBTools(neb_ci.images).plot_band(ax=ax)\n",
    "# fig.savefig(pngfile)"
   ]
  },
  {
   "cell_type": "code",
   "execution_count": null,
   "id": "edaea98d-1750-4305-b15e-c3670fbc526d",
   "metadata": {},
   "outputs": [],
   "source": [
    "# giffile = f'{basename}.gif'\n",
    "# images = read(trajfile, index=':')\n",
    "# for a in images:\n",
    "#     a.rotate(140, 'z')\n",
    "# #    a.rotate(-30, 'x')\n",
    "#     a.rotate(100, 'y')\n",
    "\n",
    "# traj_to_gif(\n",
    "#     images,\n",
    "#     gif_filepath=giffile,\n",
    "#     povdir=outputdir / \"pov\",\n",
    "#     pngdir=outputdir / \"png\",\n",
    "#     clean=False,\n",
    "# )\n",
    "# Image(giffile)"
   ]
  },
  {
   "cell_type": "markdown",
   "id": "d89926a2-a538-4aff-a4fa-7a44fa785a59",
   "metadata": {},
   "source": [
    "## 6. Real-size etching simulation"
   ]
  },
  {
   "cell_type": "code",
   "execution_count": null,
   "id": "20c070df-fef0-4828-81a7-5838fa16d24f",
   "metadata": {},
   "outputs": [],
   "source": [
    "import os\n",
    "import numpy as np\n",
    "from time import perf_counter\n",
    "\n",
    "from ase import units\n",
    "from ase.io import read\n",
    "from ase.constraints import FixAtoms\n",
    "from ase.build import molecule\n",
    "from ase.md.nvtberendsen import NVTBerendsen\n",
    "from ase.md.verlet import VelocityVerlet\n",
    "from ase.md.velocitydistribution import MaxwellBoltzmannDistribution\n",
    "\n",
    "from light_pfp_client.estimator import Estimator\n",
    "from light_pfp_client.ase_calculator import ASECalculator"
   ]
  },
  {
   "cell_type": "code",
   "execution_count": null,
   "id": "0d56b1b7-d536-414b-8e94-3756a364316f",
   "metadata": {},
   "outputs": [],
   "source": [
    "# model_id = \"\"  # Please use the last LightPFP model generated from active learning\n",
    "estimator = Estimator(model_id=model_id, book_keeping=True)\n",
    "calc = ASECalculator(estimator)"
   ]
  },
  {
   "cell_type": "code",
   "execution_count": null,
   "id": "17400347-1d91-4dc8-b716-ef515cb40547",
   "metadata": {},
   "outputs": [],
   "source": [
    "class InsertMol:\n",
    "    def __init__(self, dyn, incident_energy, init_z, xrange, yrange):\n",
    "        self.dyn = dyn\n",
    "        self.incident_energy = incident_energy\n",
    "        self.init_z = init_z\n",
    "        self.xrange = xrange\n",
    "        self.yrange = yrange\n",
    "    \n",
    "    def _init_pos(self):\n",
    "        init_x = self.xrange[0] + np.random.random() * (self.xrange[1] - self.xrange[0])\n",
    "        init_y = self.yrange[0] + np.random.random() * (self.yrange[1] - self.yrange[0])\n",
    "        return init_x, init_y\n",
    "        \n",
    "    def __call__(self):\n",
    "        atoms = self.dyn.atoms\n",
    "        if self.dyn.nsteps == 0:\n",
    "            init_x, init_y = self._init_pos()\n",
    "            mol = molecule(\"HF\")\n",
    "            mol.euler_rotate(np.random.random()*360, np.random.random()*180, np.random.random()*360)\n",
    "            mol.positions += np.array([[init_x, init_y, self.init_z]])\n",
    "            vel = (2 * self.incident_energy / mol.get_masses().sum())**0.5\n",
    "            momenta = np.zeros_like(mol.positions)\n",
    "            momenta[:, 2] = -mol.get_masses() * vel\n",
    "            mol.set_momenta(momenta)\n",
    "            atoms += mol        \n",
    "        "
   ]
  },
  {
   "cell_type": "code",
   "execution_count": null,
   "id": "06bd1ed4-a614-4283-8525-3b44641b51f5",
   "metadata": {},
   "outputs": [],
   "source": [
    "# From intial state\n",
    "n_init = -1\n",
    "atoms = read(\"structures/SiO2_surface_20x20x20.xyz\")\n",
    "\n",
    "atoms.calc = calc"
   ]
  },
  {
   "cell_type": "code",
   "execution_count": null,
   "id": "cbaa3195-5c1b-4cd5-89b5-be257c02c738",
   "metadata": {},
   "outputs": [],
   "source": [
    "n_iter = 1000\n",
    "kinetic_energy = 40.0\n",
    "init_z = 150.0\n",
    "xrange = [15, 35]\n",
    "yrange = [35, 55]"
   ]
  },
  {
   "cell_type": "code",
   "execution_count": null,
   "id": "bb2dc697-cb17-4f1a-bc30-adca968a6b78",
   "metadata": {},
   "outputs": [],
   "source": [
    "snapshot_dir = Path(\"snapshot\")\n",
    "snapshot_dir.mkdir(exist_ok=True)"
   ]
  },
  {
   "cell_type": "code",
   "execution_count": null,
   "id": "8707b0eb-e5dc-437f-a20d-60bc55954b12",
   "metadata": {},
   "outputs": [],
   "source": [
    "class PrintDyn:\n",
    "    def __init__(self, dyn, logfile=None):\n",
    "        self.dyn = dyn\n",
    "        self.st = perf_counter()\n",
    "        self.logfile = logfile\n",
    "        if self.logfile is not None:\n",
    "            with open(self.logfile, \"w\") as fd:\n",
    "                fd.write(\"# step E_tot E_pot density T elapsed_time\\n\")\n",
    "    def __call__(self):\n",
    "        dyn = self.dyn\n",
    "        msg = (\n",
    "            f\"{dyn.get_number_of_steps(): 6d} {atoms.get_total_energy():.3f} {atoms.get_potential_energy():.3f} \"\n",
    "            f\"{atoms.get_masses().sum() / units.kg / atoms.get_volume() * 1e27:.5f} \"\n",
    "            f\"{atoms.get_temperature():.1f} {perf_counter() - self.st:.2f}\"\n",
    "        )\n",
    "        print(msg)\n",
    "        if self.logfile is not None:\n",
    "            with open(self.logfile, \"a\") as fd:\n",
    "                fd.write(msg+\"\\n\")"
   ]
  },
  {
   "cell_type": "code",
   "execution_count": null,
   "id": "543efcbb-6804-41d9-81fd-ff42eab2defc",
   "metadata": {},
   "outputs": [],
   "source": [
    "logger = PrintDyn(None, snapshot_dir / \"md.log\")\n",
    "\n",
    "# Fix the bottom 10 A\n",
    "ind = atoms.positions[:, 2] < 10.0\n",
    "fix_atoms = FixAtoms(mask=ind)\n",
    "atoms.set_constraint(fix_atoms)\n",
    "\n",
    "# Initial MD simulation\n",
    "MaxwellBoltzmannDistribution(atoms, temperature_K=300.0)\n",
    "md0 = NVTBerendsen(atoms, units.fs, temperature_K=300.0, taut=500 * units.fs)\n",
    "logger.dyn = md0\n",
    "md0.attach(logger, interval=100)\n",
    "md0.run(steps = 5000)\n",
    "\n",
    "for n in range(n_init+1, n_iter):\n",
    "    md1 = VelocityVerlet(atoms, 0.5 * units.fs)\n",
    "    insert_mol = InsertMol(md1, kinetic_energy, init_z, xrange, yrange)\n",
    "    md1.attach(insert_mol, interval=1)\n",
    "    logger.dyn = md1\n",
    "    md1.attach(logger, interval=100)\n",
    "    md1.run(400)\n",
    "    md2 = NVTBerendsen(atoms, units.fs, temperature_K=300.0, taut=500 * units.fs)\n",
    "    logger.dyn = md2\n",
    "    md2.attach(logger, interval=100)\n",
    "    md2.run(300)\n",
    "    atoms.wrap()\n",
    "    atoms.write(snapshot_dir / f\"snapshot_{n}.xyz\")"
   ]
  },
  {
   "cell_type": "code",
   "execution_count": null,
   "id": "09266f59-6d61-4524-b110-af8baaa3f0a2",
   "metadata": {},
   "outputs": [],
   "source": []
  }
 ],
 "metadata": {
  "kernelspec": {
   "display_name": "1: Python 3.9",
   "language": "python",
   "name": "python39"
  },
  "language_info": {
   "codemirror_mode": {
    "name": "ipython",
    "version": 3
   },
   "file_extension": ".py",
   "mimetype": "text/x-python",
   "name": "python",
   "nbconvert_exporter": "python",
   "pygments_lexer": "ipython3",
   "version": "3.9.16"
  },
  "widgets": {
   "application/vnd.jupyter.widget-state+json": {
    "state": {},
    "version_major": 2,
    "version_minor": 0
   }
  }
 },
 "nbformat": 4,
 "nbformat_minor": 5
}
