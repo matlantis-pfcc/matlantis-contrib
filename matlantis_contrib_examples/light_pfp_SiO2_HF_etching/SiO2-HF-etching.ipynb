{
 "cells": [
  {
   "cell_type": "markdown",
   "id": "84b806f6-c304-47e7-9ec0-3da15649fd17",
   "metadata": {},
   "source": [
    "# LightPFP: dry etching of SiO2 with HF\n",
    "\n",
    "**Content**\n",
    "\n",
    "1. Initial structures ' functions\n",
    "2. Initial dataset\n",
    "3. Active learning\n",
    "4. Post training\n",
    "5. PFP reaction path calculation\n",
    "6. LightPFP reaction path calculation\n",
    "7. Real size simulation\n",
    "\n",
    "Time cost\n",
    "* LightPFP model generation (section 1 + 2 + 3 + 4): ~ 21 hours\n",
    "* PFP / LightPFP reference calculation (section  5 + 6) ~ 0.5 hours\n",
    "* Large-scale simulation (section 7): ~ 45 hours"
   ]
  },
  {
   "cell_type": "code",
   "execution_count": null,
   "id": "531ff1c6-3185-44bf-b5e2-5615b630950c",
   "metadata": {},
   "outputs": [],
   "source": [
    "model_version = \"v7.0.0\"\n",
    "calc_mode = \"crystal_u0_plus_d3\""
   ]
  },
  {
   "cell_type": "markdown",
   "id": "169ddf72-e68d-433d-acf8-b3461178bb3c",
   "metadata": {},
   "source": [
    "## Setup"
   ]
  },
  {
   "cell_type": "code",
   "execution_count": null,
   "id": "11bef370-bf94-4741-9439-12c87508b641",
   "metadata": {},
   "outputs": [],
   "source": [
    "! pip install light-pfp-client==1.0.0 light-pfp-data==1.0.0 light-pfp-evaluate==1.0.0 light-pfp-autogen==0.1.3"
   ]
  },
  {
   "cell_type": "markdown",
   "id": "49c8eeb6-c921-4266-81a5-5830428f47a3",
   "metadata": {},
   "source": [
    "## 1. Initial structures & functions\n",
    "\n",
    "* The target materials system contains SiO2 slab, HF etchant and the side products e.g. SiF4.\n",
    "* Here, we make functions to (a) fill gas molecules into a simulation box, `make_gas` and (b) fill gas molecules on the top of slab."
   ]
  },
  {
   "cell_type": "code",
   "execution_count": null,
   "id": "a1274b48-727c-4686-89ca-dc4209664d0f",
   "metadata": {},
   "outputs": [],
   "source": [
    "import random\n",
    "import numpy as np\n",
    "from ase import Atoms\n",
    "from pymatgen.io.ase import AseAtomsAdaptor\n",
    "from pymatgen.core.surface import SlabGenerator\n",
    "\n",
    "\n",
    "def make_gas(mol_list, cell, interval=10.0):\n",
    "    atoms = Atoms(cell=cell, pbc=True)\n",
    "    lx = np.linalg.norm(cell[0])\n",
    "    ly = np.linalg.norm(cell[1])\n",
    "    lz = np.linalg.norm(cell[2])\n",
    "    nx = cell[0] / lx\n",
    "    ny = cell[1] / ly\n",
    "    nz = cell[2] / lz\n",
    "    for i in range(int(lx / interval)):\n",
    "        for j in range(int(ly / interval)):\n",
    "            for k in range(int(lz / interval)):\n",
    "                mol = random.choice(mol_list)\n",
    "                mol_c = mol.copy()\n",
    "                shift = (i * nx + j * ny + k * nz) * interval\n",
    "                mol_c.positions += shift.reshape([1,3])\n",
    "                atoms += mol_c\n",
    "    return atoms\n",
    "\n",
    "\n",
    "def make_surface_gas(surface, mol_list, interval=10.0):\n",
    "    cell = surface.get_cell()[:]\n",
    "    top_z = surface.positions[:,2].max()\n",
    "    cell[2,2] -= top_z - 4.0\n",
    "    gas = make_gas(mol_list, cell, interval)\n",
    "    gas.positions[:,2] += top_z + 2.0\n",
    "    surface_gas = surface + gas\n",
    "    return surface_gas\n",
    "    "
   ]
  },
  {
   "cell_type": "markdown",
   "id": "56729922-3600-4dff-8c25-13544afd6b8e",
   "metadata": {},
   "source": [
    "* Load SiO2 crystal and surface structures."
   ]
  },
  {
   "cell_type": "code",
   "execution_count": null,
   "id": "2597d9fa-96e1-4b20-a5f6-5c3c9c8339e0",
   "metadata": {},
   "outputs": [],
   "source": [
    "from ase.io import read\n",
    "\n",
    "crystal = read(\"structures/SiO2_crystal.cif\")\n",
    "surface = read(\"structures/SiO2_surface.xyz\")"
   ]
  },
  {
   "cell_type": "markdown",
   "id": "a35a6d3b-b820-4296-bbbd-0157bfe415af",
   "metadata": {},
   "source": [
    "* Make several possible products gas"
   ]
  },
  {
   "cell_type": "code",
   "execution_count": null,
   "id": "373a02a9-6505-47ca-b042-eff204cb8902",
   "metadata": {},
   "outputs": [],
   "source": [
    "from ase.build import molecule\n",
    "from pfcc_extras.structure.ase_rdkit_converter import smiles_to_atoms\n",
    "\n",
    "\n",
    "product_mol = [\n",
    "    molecule(\"HF\"),\n",
    "    molecule(\"H2\"),\n",
    "    molecule(\"O2\"),\n",
    "    molecule(\"F2\"),\n",
    "    molecule(\"H2O\"),\n",
    "    smiles_to_atoms(\"F[Si](F)F\"),\n",
    "    smiles_to_atoms(\"F[Si](F)(F)F\"),\n",
    "    smiles_to_atoms(\"F[Si](F)(F)(F)F\"),\n",
    "    smiles_to_atoms(\"F[Si](F)O\"),\n",
    "    smiles_to_atoms(\"F[Si](F)(F)O\"),\n",
    "    smiles_to_atoms(\"F[Si](F)(F)(F)O\"),\n",
    "    smiles_to_atoms(\"F[Si](O)O\"),\n",
    "    smiles_to_atoms(\"F[Si](F)(O)O\"),\n",
    "    smiles_to_atoms(\"F[Si](F)(F)(O)O\"),\n",
    "    smiles_to_atoms(\"F[Si](F)(F)O[Si](F)(F)F\"),\n",
    "]"
   ]
  },
  {
   "cell_type": "code",
   "execution_count": null,
   "id": "c75cb4ef-7922-46b9-9565-3a939c717268",
   "metadata": {},
   "outputs": [],
   "source": [
    "surface_gas = make_surface_gas(surface*(4, 4, 1), product_mol, 10)"
   ]
  },
  {
   "cell_type": "code",
   "execution_count": null,
   "id": "7fd20065-d1d5-4dba-8007-f89d078b401e",
   "metadata": {},
   "outputs": [],
   "source": [
    "from ase.visualize import view\n",
    "\n",
    "view(surface_gas, viewer=\"ngl\")"
   ]
  },
  {
   "cell_type": "markdown",
   "id": "439d914d-2e21-422a-8506-5714a244cbe0",
   "metadata": {},
   "source": [
    "## 2. Initial dataset"
   ]
  },
  {
   "cell_type": "code",
   "execution_count": null,
   "id": "a32d554e-13ae-4cc3-8438-473406f4c885",
   "metadata": {},
   "outputs": [],
   "source": [
    "from pathlib import Path\n",
    "from light_pfp_data.utils.dataset import H5DatasetWriter\n",
    "\n",
    "init_dataset_dir = Path(\"init_dataset\")\n",
    "init_dataset_dir.mkdir(parents=True, exist_ok=True)\n",
    "initial_dataset = init_dataset_dir / \"init.h5\""
   ]
  },
  {
   "cell_type": "markdown",
   "id": "7201b05f-66ac-405d-b603-1c9f0eae450d",
   "metadata": {},
   "source": [
    "* Generate the initial dataset from the MD sampling.\n",
    "* Initial dataset includes: SiO2 crystal, SiO2 slab, gas and SiO2 slab + gas\n",
    "* time cost: 40 min"
   ]
  },
  {
   "cell_type": "code",
   "execution_count": null,
   "id": "7c90aee7-ab96-4796-a389-f6c746a46de9",
   "metadata": {},
   "outputs": [],
   "source": [
    "from unittest.mock import patch\n",
    "from pfp_api_client import Estimator, ASECalculator\n",
    "from light_pfp_data.sample import sample_md\n",
    "\n",
    "\n",
    "if initial_dataset.exists():\n",
    "    print(f\"Dataset file {initial_dataset} already exists. Skip generating initial dataset.\")\n",
    "    with patch('builtins.input', return_value='y'):\n",
    "        dataset = H5DatasetWriter(initial_dataset, mode=\"append\") # automatically input 'y' when running in background\n",
    "    \n",
    "else:\n",
    "    print(f\"Dataset file {initial_dataset} is created. Start generating initial structures.\")\n",
    "    with patch('builtins.input', return_value='y'):\n",
    "        dataset = H5DatasetWriter(initial_dataset)\n",
    "\n",
    "    # Initialize estimator and calculator\n",
    "    estimator = Estimator(model_version=model_version, calc_mode=calc_mode)\n",
    "    calc = ASECalculator(estimator)\n",
    "\n",
    "    # Initialize structures\n",
    "    input_structures = [\n",
    "        crystal,\n",
    "        crystal * (2,2,2),\n",
    "        crystal * (3,3,3),\n",
    "        surface,\n",
    "        surface * (2,2,1),\n",
    "        surface * (3,3,1),\n",
    "        make_gas(product_mol, np.eye(3)*20),\n",
    "        make_gas(product_mol, np.eye(3)*20),\n",
    "        make_gas(product_mol, np.eye(3)*40),\n",
    "        make_surface_gas(surface*(2, 2, 1), product_mol),\n",
    "        make_surface_gas(surface*(3, 3, 1), product_mol),\n",
    "        make_surface_gas(surface*(4, 4, 1), product_mol),\n",
    "    ]\n",
    "    \n",
    "    from concurrent.futures import as_completed, ThreadPoolExecutor\n",
    "    from tqdm.auto import tqdm\n",
    "    \n",
    "    futures = []\n",
    "    pbar = tqdm(desc=\"Total progress\", total=0, leave=True)\n",
    "    \n",
    "    # Sample structures using various techniques\n",
    "    with ThreadPoolExecutor(max_workers=16) as executor:\n",
    "        for atoms in input_structures:\n",
    "            futures += sample_md(\n",
    "                input_structure=atoms,\n",
    "                calculator=calc,\n",
    "                dataset=dataset,\n",
    "                supercell=(1, 1, 1),\n",
    "                sampling_temp=[1000.0, 3000.0, 5000.0],\n",
    "                sampling_steps=[5000, 5000, 5000],\n",
    "                sampling_interval=[100, 100, 100],\n",
    "                ensemble=\"nvt\",\n",
    "                executor=executor,\n",
    "                pbar=pbar\n",
    "            )"
   ]
  },
  {
   "cell_type": "code",
   "execution_count": null,
   "id": "429e80b4-b908-4074-90cf-e67534046c63",
   "metadata": {},
   "outputs": [],
   "source": [
    "dataset.h5.close()"
   ]
  },
  {
   "cell_type": "markdown",
   "id": "87124cbd-9fba-4f6f-acb9-38d000ac9b6e",
   "metadata": {},
   "source": [
    "## 3. Active learning\n",
    "* Run the dry etching script in the active learning framework to collect more training data.\n",
    "* The dry etching is quite high energy process leads to very disordered structures, thus, we change the sampling criterion to avoid the over sampling. We tried to use a more loose ceriterion by changing the lower bound of energy error range to 5 times of energy MAE, and the lower bound of force error range to 1.5 eV/angstrom.\n",
    "* To avoid collecting problematic structures (with extremely high energy and forces), we set the `max_forces=50.0` in the train config. It will omit the training structures with maxmium atomic force larger than 50.0 eV/angstrom."
   ]
  },
  {
   "cell_type": "code",
   "execution_count": null,
   "id": "c7ad9cd3-1e3c-4513-a971-33f095df4125",
   "metadata": {},
   "outputs": [],
   "source": [
    "import pathlib\n",
    "import logging\n",
    "from light_pfp_autogen.active_learning import ActiveLearning\n",
    "from light_pfp_autogen.config import ActiveLearningConfig, TrainConfig, SampleConfig, CommonConfig, MTPConfig\n",
    "\n",
    "\n",
    "logging.basicConfig(level=logging.INFO)\n",
    "\n",
    "active_learning_config = ActiveLearningConfig(\n",
    "    task_name = \"Si-HF-etching-1\",\n",
    "    work_dir = \"./autogen_workdir_1\",\n",
    "    pfp_model_version = model_version,\n",
    "    pfp_calc_mode = calc_mode,\n",
    "    init_dataset = [\"init_dataset/init.h5\"],\n",
    "    train_config = TrainConfig(\n",
    "        common_config = CommonConfig(max_forces=50.0),\n",
    "        mtp_config = MTPConfig(pretrained_model=\"ALL_ELEMENTS_SMALL_NN_6\")\n",
    "    ),\n",
    "    sample_config = SampleConfig(\n",
    "        dE_min_coef = 5.0,\n",
    "        dE_max_coef = 40.0,\n",
    "        dF_min = 1.5,\n",
    "        dF_max = 50.0\n",
    "    )\n",
    ")\n",
    "\n",
    "active_learning = ActiveLearning(active_learning_config)"
   ]
  },
  {
   "cell_type": "code",
   "execution_count": null,
   "id": "cecc05c7-067c-4df2-b235-b171dc75a6ec",
   "metadata": {},
   "outputs": [],
   "source": [
    "active_learning.initialize()"
   ]
  },
  {
   "cell_type": "markdown",
   "id": "552addfc-3653-4507-bb65-a10697464758",
   "metadata": {},
   "source": [
    "* 0~4 iteration:\n",
    "  * Simulate the process of 10 HF molecules hitting the surface sequentially, the details are are below:\n",
    "    * Insert the one HF molecule above the SiO2 surface.\n",
    "    * Give HF molecule 20~80 eV kinetic energy, and let it collide with the SiO2 surface. The NVE ensemble is used in this step to avoid the unexpected change of initial HF velocity by the thermostate. The timestep is 0.2fs to catch the moment of the impact. \n",
    "    * Run NVT MD simulation for 500 fs to cooling down the temperature.\n",
    "    * Repeat for 10 times to inject 10 HF moleucules.\n",
    "    * MD steps: 16,000\n",
    "  * I limited the number of inserted HF molecule to only 10. In the first several iterations, the reliablity of LightPFP model is low, and if the structure becomes unreasonable after first several injection of HF, it is no meaning to collect the following structures.\n",
    "  * To collect more structures, I repeated the above process for 10 times. The total number of MD steps in one interation is 160,000."
   ]
  },
  {
   "cell_type": "code",
   "execution_count": null,
   "id": "f0267044-309f-45aa-ab51-93974c07454d",
   "metadata": {},
   "outputs": [],
   "source": [
    "import numpy as np\n",
    "\n",
    "from ase import units\n",
    "from ase.io import read\n",
    "from ase.constraints import FixAtoms\n",
    "from ase.build import molecule\n",
    "from ase.md.nvtberendsen import NVTBerendsen\n",
    "from ase.md.verlet import VelocityVerlet\n",
    "from ase.md.velocitydistribution import MaxwellBoltzmannDistribution\n",
    "from light_pfp_autogen.context import DataCollectionContext\n",
    "\n",
    "\n",
    "class InsertMol:\n",
    "    def __init__(self, dyn, incident_energy, init_z):\n",
    "        self.dyn = dyn\n",
    "        self.incident_energy = incident_energy\n",
    "        self.init_z = init_z\n",
    "        \n",
    "    def __call__(self):\n",
    "        atoms = self.dyn.atoms\n",
    "        if self.dyn.nsteps == 0:\n",
    "            init_x, init_y = (atoms.cell[0] * np.random.random() + atoms.cell[1] * np.random.random())[:2]\n",
    "            mol = molecule(\"HF\")\n",
    "            mol.euler_rotate(np.random.random()*360, np.random.random()*180, np.random.random()*360)\n",
    "            mol.positions += np.array([[init_x, init_y, self.init_z]])\n",
    "            vel = (2 * self.incident_energy / mol.get_masses().sum())**0.5\n",
    "            momenta = np.zeros_like(mol.positions)\n",
    "            momenta[:, 2] = -mol.get_masses() * vel\n",
    "            mol.set_momenta(momenta)\n",
    "            atoms += mol        \n",
    "        \n",
    "\n",
    "n_insert = 10\n",
    "supercell = [2, 2, 1]\n",
    "\n",
    "for i in range(active_learning.iter, 5):\n",
    "    for _ in range(10):\n",
    "        atoms = read(\"structures/SiO2_surface.xyz\") * supercell\n",
    "        ind = atoms.positions[:, 2] < 5.0\n",
    "        fix_atoms = FixAtoms(mask=ind)\n",
    "        atoms.set_constraint(fix_atoms)\n",
    "        init_z = 40.0\n",
    "        MaxwellBoltzmannDistribution(atoms, temperature_K=300.0)\n",
    "        md0 = NVTBerendsen(atoms, units.fs, temperature_K=300.0, taut=500 * units.fs)\n",
    "        with DataCollectionContext(md=md0, interval=100, max_samples=5):\n",
    "            md0.run(1000)\n",
    "        for i in range(n_insert):\n",
    "            kinetic_energy = np.random.uniform(20, 80)\n",
    "            # Hit the surface\n",
    "            # Time step 0.2 fs\n",
    "            md1 = VelocityVerlet(atoms, 0.2 * units.fs)\n",
    "            insert_mol = InsertMol(md1, kinetic_energy, init_z)\n",
    "            md1.attach(insert_mol, interval=1)\n",
    "            with DataCollectionContext(md=md1, interval=25, max_samples=20):\n",
    "                md1.run(1000)\n",
    "            # Relax\n",
    "            md2 = NVTBerendsen(atoms, units.fs, temperature_K=300.0, taut=100 * units.fs)\n",
    "            with DataCollectionContext(md=md2, interval=50, max_samples=5):\n",
    "                md2.run(500)\n",
    "\n",
    "    active_learning.update()\n"
   ]
  },
  {
   "cell_type": "markdown",
   "id": "8e0b1eb9-2638-4dc2-8122-1dcc73350cbf",
   "metadata": {},
   "source": [
    "* 5~9 iterations\n",
    "  * It is same as above except the number of injected molecule is increased from 10 to 20.\n",
    "* Total MD steps: 310,000"
   ]
  },
  {
   "cell_type": "code",
   "execution_count": null,
   "id": "77ea8a84-a971-434c-bf0d-6dc951815cd2",
   "metadata": {},
   "outputs": [],
   "source": [
    "n_insert = 20\n",
    "supercell = [2, 2, 1]\n",
    "\n",
    "for i in range(active_learning.iter, 10):\n",
    "    for _ in range(10):\n",
    "        atoms = read(\"structures/SiO2_surface.xyz\") * supercell\n",
    "        ind = atoms.positions[:, 2] < 5.0\n",
    "        fix_atoms = FixAtoms(mask=ind)\n",
    "        atoms.set_constraint(fix_atoms)\n",
    "        init_z = 40.0\n",
    "        MaxwellBoltzmannDistribution(atoms, temperature_K=300.0)\n",
    "        md0 = NVTBerendsen(atoms, units.fs, temperature_K=300.0, taut=500 * units.fs)\n",
    "        with DataCollectionContext(md=md0, interval=100, max_samples=5):\n",
    "            md0.run(1000)\n",
    "        for i in range(n_insert):\n",
    "            kinetic_energy = np.random.uniform(20, 80)\n",
    "            # Hit the surface\n",
    "            # Time step 0.2 fs\n",
    "            md1 = VelocityVerlet(atoms, 0.2 * units.fs)\n",
    "            insert_mol = InsertMol(md1, kinetic_energy, init_z)\n",
    "            md1.attach(insert_mol, interval=1)\n",
    "            with DataCollectionContext(md=md1, interval=25, max_samples=20):\n",
    "                md1.run(1000)\n",
    "            # Relax\n",
    "            md2 = NVTBerendsen(atoms, units.fs, temperature_K=300.0, taut=100 * units.fs)\n",
    "            with DataCollectionContext(md=md2, interval=50, max_samples=5):\n",
    "                md2.run(500)\n",
    "\n",
    "    active_learning.update()"
   ]
  },
  {
   "cell_type": "markdown",
   "id": "06c65491-9889-4e68-b033-91e38eae50cb",
   "metadata": {},
   "source": [
    "* 10~14 iterations\n",
    "  * It is same as above except:\n",
    "    * The number of injected molecule is increased to 40.\n",
    "    * The size of SiO2 slab is increased.\n",
    "* Total MD steps: 305,000"
   ]
  },
  {
   "cell_type": "code",
   "execution_count": null,
   "id": "9e4dd63b-4f07-4ab3-b38c-657467291df3",
   "metadata": {},
   "outputs": [],
   "source": [
    "n_insert = 40\n",
    "supercell = [4, 4, 1]\n",
    "\n",
    "for i in range(active_learning.iter, 15):\n",
    "    for _ in range(5):\n",
    "        atoms = read(\"structures/SiO2_surface.xyz\") * supercell\n",
    "        ind = atoms.positions[:, 2] < 5.0\n",
    "        fix_atoms = FixAtoms(mask=ind)\n",
    "        atoms.set_constraint(fix_atoms)\n",
    "        init_z = 40.0\n",
    "        MaxwellBoltzmannDistribution(atoms, temperature_K=300.0)\n",
    "        md0 = NVTBerendsen(atoms, units.fs, temperature_K=300.0, taut=500 * units.fs)\n",
    "        with DataCollectionContext(md=md0, interval=100, max_samples=5):\n",
    "            md0.run(1000)\n",
    "        for i in range(n_insert):\n",
    "            kinetic_energy = np.random.uniform(20, 80)\n",
    "            # Hit the surface\n",
    "            # Time step 0.2 fs\n",
    "            md1 = VelocityVerlet(atoms, 0.2 * units.fs)\n",
    "            insert_mol = InsertMol(md1, kinetic_energy, init_z)\n",
    "            md1.attach(insert_mol, interval=1)\n",
    "            with DataCollectionContext(md=md1, interval=25, max_samples=20):\n",
    "                md1.run(1000)\n",
    "            # Relax\n",
    "            md2 = NVTBerendsen(atoms, units.fs, temperature_K=300.0, taut=100 * units.fs)\n",
    "            with DataCollectionContext(md=md2, interval=50, max_samples=5):\n",
    "                md2.run(500)\n",
    "\n",
    "    active_learning.update()"
   ]
  },
  {
   "cell_type": "code",
   "execution_count": null,
   "id": "9e91b956-1c1e-4ca7-9230-07dcf46a7267",
   "metadata": {},
   "outputs": [],
   "source": [
    "active_learning.print_md_statistics()"
   ]
  },
  {
   "cell_type": "markdown",
   "id": "68aa18e4-02df-46c4-8c65-885769261c39",
   "metadata": {},
   "source": [
    "## 4. Post training \n",
    "* Train a final LightPFP model with all the dataset collected in active learing."
   ]
  },
  {
   "cell_type": "code",
   "execution_count": null,
   "id": "80b870bb-9987-47ca-a94e-4d30d59ef74b",
   "metadata": {},
   "outputs": [],
   "source": [
    "from light_pfp_autogen.utils import submit_training_job, check_training_job_status, estimate_epoch\n",
    "\n",
    "epoch = estimate_epoch(active_learning.datasets_list, 2)\n",
    "train_config_dict = {\n",
    "    \"common_config\": {\n",
    "        \"total_epoch\": epoch,\n",
    "        \"max_forces\": 50.0\n",
    "    },\n",
    "    \"mtp_config\": {\n",
    "        \"pretrained_model\": \"ALL_ELEMENTS_SMALL_NN_6\"\n",
    "    },\n",
    "}\n",
    "\n",
    "training_config = TrainConfig.from_dict(\n",
    "    train_config_dict\n",
    ")\n",
    "\n",
    "model_id = submit_training_job(\n",
    "    training_config,\n",
    "    active_learning.datasets_list,\n",
    "    \"SiO2-HF-etching-1-final\",\n",
    ")\n",
    "\n",
    "status = check_training_job_status(model_id)\n",
    "print(f\"Training job {model_id} status: {status}\")\n",
    "\n",
    "# model_id = \"jm6mjc5ju4p2qge2\""
   ]
  },
  {
   "cell_type": "markdown",
   "id": "2f855519-062b-416c-9447-8d059da29704",
   "metadata": {},
   "source": [
    "## 5. PFP reaction path calculation\n",
    "\n",
    "* Use NEB & CINEB method to calculate a chemical reaction of HF and SiO2 cluster. The PFP calculator is used.\n",
    "* Considering the convergency of NEB is difficult to achieve, we reduce the `fmax` step by step.\n",
    "* The energy profile of PFP calculation result:\n",
    "\n",
    "<img src=\"assets/neb_pfp_19images_fmax0.07.png\" width=\"500\">\n",
    "\n",
    "* The reaction path is:\n",
    "\n",
    "<img src=\"assets/neb_pfp_19images_fmax0.07.gif\" width=\"300\">"
   ]
  },
  {
   "cell_type": "code",
   "execution_count": null,
   "id": "46211bf4-35b7-412a-a1e2-4be11b14a954",
   "metadata": {},
   "outputs": [],
   "source": [
    "from pathlib import Path\n",
    "from ase import Atoms, units\n",
    "from ase.io import read, write\n",
    "from ase.optimize import LBFGS\n",
    "from ase.data import atomic_numbers, chemical_symbols\n",
    "from ase.mep import NEB, idpp_interpolate, interpolate, NEBTools\n",
    "\n",
    "import matplotlib.pyplot as plt\n",
    "\n",
    "from matlantis_features.utils.calculators import get_calculator, pfp_estimator_fn\n",
    "from matlantis_features.features.common import FireLBFGSASEOptFeature\n",
    "from pfp_api_client import Estimator, EstimatorCalcMode, ASECalculator\n",
    "from pfcc_extras import view_ngl, SurfaceEditor\n",
    "from pfcc_extras.visualize.povray import traj_to_gif\n",
    "\n",
    "from IPython.display import Image\n",
    "\n",
    "estimator_fn = pfp_estimator_fn(model_version='v7.0.0', calc_mode='crystal_u0_plus_d3')"
   ]
  },
  {
   "cell_type": "code",
   "execution_count": null,
   "id": "185d4e4e-29cf-472a-9c6f-eac5c57b8d91",
   "metadata": {},
   "outputs": [],
   "source": [
    "inputdir = Path('inputs')\n",
    "outputdir = Path('./output-pfp')\n",
    "for _dir in (inputdir, outputdir):\n",
    "    _dir.mkdir(exist_ok=True)"
   ]
  },
  {
   "cell_type": "code",
   "execution_count": null,
   "id": "86754fc5-bae4-4c55-981a-9c69f0702b9d",
   "metadata": {},
   "outputs": [],
   "source": [
    "IS = read(inputdir/'IS.cif')\n",
    "FS = read(inputdir/'FS.cif')\n",
    "opt = FireLBFGSASEOptFeature(fmax=0.02, estimator_fn=estimator_fn)\n",
    "IS = opt(IS).atoms.ase_atoms\n",
    "FS = opt(FS).atoms.ase_atoms"
   ]
  },
  {
   "cell_type": "code",
   "execution_count": null,
   "id": "430b4877-64b7-4252-b610-2ee71508b57f",
   "metadata": {},
   "outputs": [],
   "source": [
    "num_images = 7\n",
    "images = [IS.copy() for i in range(num_images-1)] + [FS]\n",
    "idpp_interpolate(images)\n",
    "neb = NEB(images, k=5.0)\n",
    "for atoms in neb.images:\n",
    "    atoms.calc = get_calculator(estimator_fn)\n",
    "    \n",
    "opt = LBFGS(neb)\n",
    "opt.run(fmax=0.2, steps=1000)\n",
    "display(view_ngl(neb.images))\n",
    "nebt = NEBTools(neb.images)\n",
    "view = nebt.plot_band()"
   ]
  },
  {
   "cell_type": "code",
   "execution_count": null,
   "id": "30be0953-f775-48e3-b1f5-be4422cfb7ed",
   "metadata": {},
   "outputs": [],
   "source": [
    "neb = NEB(images_new, k=5.0)\n",
    "for atoms in neb.images:\n",
    "    atoms.calc = get_calculator(estimator_fn)\n",
    "    \n",
    "opt = LBFGS(neb)\n",
    "opt.run(fmax=0.1, steps=1000)\n",
    "display(view_ngl(neb.images, ['ball+stick'], replace_structure=True))\n",
    "nebt = NEBTools(neb.images)\n",
    "view = nebt.plot_band()"
   ]
  },
  {
   "cell_type": "code",
   "execution_count": null,
   "id": "49075fee-f5df-4542-890b-b1e92aae8ec4",
   "metadata": {},
   "outputs": [],
   "source": [
    "fmax = 0.07\n",
    "k = 5.0\n",
    "neb = NEB(images_new, k=k)\n",
    "for atoms in neb.images:\n",
    "    atoms.calc = get_calculator(estimator_fn)\n",
    "    \n",
    "opt = LBFGS(neb)\n",
    "opt.run(fmax=fmax, steps=1000)\n",
    "display(view_ngl(neb.images, ['ball+stick'], replace_structure=True))\n",
    "nebt = NEBTools(neb.images)\n",
    "view = nebt.plot_band()"
   ]
  },
  {
   "cell_type": "code",
   "execution_count": null,
   "id": "a8de53e0-c14a-46e3-83eb-dfba7e9103f1",
   "metadata": {},
   "outputs": [],
   "source": [
    "images = [image.copy() for image in neb.images]\n",
    "neb_ci = NEB(images, k=k, climb=True)\n",
    "for atoms in neb_ci.images:\n",
    "    atoms.calc = get_calculator(estimator_fn)\n",
    "    \n",
    "opt = LBFGS(neb_ci)\n",
    "opt.run(fmax=fmax, steps=2000)\n",
    "display(view_ngl(neb_ci.images, ['ball+stick'], replace_structure=True))\n",
    "nebt = NEBTools(neb_ci.images)\n",
    "view = nebt.plot_band()"
   ]
  },
  {
   "cell_type": "code",
   "execution_count": null,
   "id": "4ad73b0a-6e0c-4f94-848b-cfb42b829530",
   "metadata": {},
   "outputs": [],
   "source": [
    "basename = outputdir/f'neb_{len(neb_ci.images)}images_fmax{fmax}'\n",
    "trajfile = f'{basename}.traj'\n",
    "print(trajfile)\n",
    "write(trajfile, neb_ci.images)"
   ]
  },
  {
   "cell_type": "code",
   "execution_count": null,
   "id": "4786cfe6-ae6e-419e-a0ed-8c6b0c206400",
   "metadata": {},
   "outputs": [],
   "source": [
    "pngfile = f'{basename}.png'\n",
    "print(pngfile)\n",
    "fig, ax = plt.subplots(figsize=(8,6))\n",
    "NEBTools(neb_ci.images).plot_band(ax=ax)\n",
    "fig.savefig(pngfile)"
   ]
  },
  {
   "cell_type": "code",
   "execution_count": null,
   "id": "6ce6bdb7-f6ee-4636-be50-164b78362d41",
   "metadata": {},
   "outputs": [],
   "source": [
    "giffile = f'{basename}.gif'\n",
    "images = read(trajfile, index=':')\n",
    "for a in images:\n",
    "    a.rotate(140, 'z')\n",
    "#    a.rotate(-30, 'x')\n",
    "    a.rotate(100, 'y')\n",
    "\n",
    "traj_to_gif(\n",
    "    images,\n",
    "    gif_filepath=giffile,\n",
    "    povdir=outputdir / \"pov\",\n",
    "    pngdir=outputdir / \"png\",\n",
    "    clean=False,\n",
    ")\n",
    "Image(giffile)"
   ]
  },
  {
   "cell_type": "markdown",
   "id": "93f23d62-1eb9-4e59-884d-6ec5b02b83a0",
   "metadata": {},
   "source": [
    "## 6. LightPFP reaction path calculation\n",
    "* The reaction path is calculated with the same method as above using the LightPFP model.\n",
    "* The energy profile is\n",
    "\n",
    "<img src=\"assets/neb_lpfp_19images_fmax0.07.png\" width=\"500\">\n",
    "\n",
    "* The reaction path is\n",
    "\n",
    "<img src=\"assets/neb_lpfp_19images_fmax0.07.gif\" width=\"300\">\n",
    "\n",
    "* Comparison of reaction barrier energy between PFP and LightPFP\n",
    "\n",
    "| | Ef | Er |\n",
    "|-|-|-|\n",
    "| PFP | 1.029 | 1.561 |\n",
    "| LightPFP | 0.844 | 1.560 |\n",
    "\n",
    "* LightPFP model basically reproduced the same reaction pathway with similar barrier energies, even only MD frames are used for training."
   ]
  },
  {
   "cell_type": "code",
   "execution_count": null,
   "id": "16dbd429-f241-4547-babf-9a3d1aa85a20",
   "metadata": {},
   "outputs": [],
   "source": [
    "from pathlib import Path\n",
    "from ase import Atoms, units\n",
    "from ase.io import read, write\n",
    "from ase.optimize import LBFGS, FIRE\n",
    "from ase.data import atomic_numbers, chemical_symbols\n",
    "from ase.mep import NEB, idpp_interpolate, interpolate, NEBTools\n",
    "\n",
    "import matplotlib.pyplot as plt\n",
    "\n",
    "from matlantis_features.utils.calculators import get_calculator\n",
    "from matlantis_features.features.common import FireLBFGSASEOptFeature\n",
    "from light_pfp_client.ase_calculator import ASECalculator\n",
    "from light_pfp_client.estimator import Estimator\n",
    "from light_pfp_client.estimator_fn import light_pfp_estimator_fn\n",
    "from pfcc_extras import view_ngl, SurfaceEditor\n",
    "from pfcc_extras.visualize.povray import traj_to_gif\n",
    "\n",
    "from IPython.display import Image\n",
    "\n",
    "estimator_fn = light_pfp_estimator_fn(model_id=model_id)"
   ]
  },
  {
   "cell_type": "code",
   "execution_count": null,
   "id": "26c85860-fd01-4eaa-99c8-034fa4a7ae75",
   "metadata": {},
   "outputs": [],
   "source": [
    "inputdir = Path('inputs')\n",
    "outputdir = Path('./output-lpfp')\n",
    "for _dir in (inputdir, outputdir):\n",
    "    _dir.mkdir(exist_ok=True)"
   ]
  },
  {
   "cell_type": "code",
   "execution_count": null,
   "id": "f091d1c1-6a36-4305-8434-20024a7d83b5",
   "metadata": {},
   "outputs": [],
   "source": [
    "IS = read(inputdir/'IS.cif')\n",
    "FS = read(inputdir/'FS.cif')\n",
    "opt = FireLBFGSASEOptFeature(fmax=0.02, estimator_fn=estimator_fn)\n",
    "IS = opt(IS).atoms.ase_atoms\n",
    "FS = opt(FS).atoms.ase_atoms"
   ]
  },
  {
   "cell_type": "code",
   "execution_count": null,
   "id": "bc0f94a9-5ecc-4603-8186-f9b6b52a2f22",
   "metadata": {},
   "outputs": [],
   "source": [
    "num_images = 7\n",
    "images = [IS.copy() for i in range(num_images-1)] + [FS]\n",
    "idpp_interpolate(images)\n",
    "neb = NEB(images, k=5.0)\n",
    "for atoms in neb.images:\n",
    "    atoms.calc = get_calculator(estimator_fn)\n",
    "\n",
    "opt = FIRE(neb)\n",
    "opt.run(fmax=0.2, steps=500)\n",
    "display(view_ngl(neb.images))\n",
    "nebt = NEBTools(neb.images)\n",
    "view = nebt.plot_band()"
   ]
  },
  {
   "cell_type": "code",
   "execution_count": null,
   "id": "8ef67f58-b0f7-4d97-b8a7-bbdd785cf37b",
   "metadata": {},
   "outputs": [],
   "source": [
    "neb = NEB(images_new, k=5.0)\n",
    "for atoms in neb.images:\n",
    "    atoms.calc = get_calculator(estimator_fn)\n",
    "    \n",
    "opt = LBFGS(neb)\n",
    "opt.run(fmax=0.1, steps=1000)\n",
    "display(view_ngl(neb.images, ['ball+stick'], replace_structure=True))\n",
    "nebt = NEBTools(neb.images)\n",
    "view = nebt.plot_band()"
   ]
  },
  {
   "cell_type": "code",
   "execution_count": null,
   "id": "8d673bc1-2d51-4bfe-9767-4c81de9a8ea9",
   "metadata": {},
   "outputs": [],
   "source": [
    "fmax = 0.07\n",
    "k = 5.0\n",
    "neb = NEB(images_new, k=k)\n",
    "for atoms in neb.images:\n",
    "    atoms.calc = get_calculator(estimator_fn)\n",
    "    \n",
    "opt = LBFGS(neb)\n",
    "opt.run(fmax=fmax, steps=1000)\n",
    "display(view_ngl(neb.images, ['ball+stick'], replace_structure=True))\n",
    "nebt = NEBTools(neb.images)\n",
    "view = nebt.plot_band()"
   ]
  },
  {
   "cell_type": "code",
   "execution_count": null,
   "id": "1f86196e-c350-4c06-84a9-f51f5351b580",
   "metadata": {},
   "outputs": [],
   "source": [
    "images = [image.copy() for image in neb.images]\n",
    "neb_ci = NEB(images, k=k, climb=True)\n",
    "for atoms in neb_ci.images:\n",
    "    atoms.calc = get_calculator(estimator_fn)\n",
    "    \n",
    "opt = LBFGS(neb_ci)\n",
    "opt.run(fmax=fmax, steps=2000)\n",
    "display(view_ngl(neb_ci.images, ['ball+stick'], replace_structure=True))\n",
    "nebt = NEBTools(neb_ci.images)\n",
    "view = nebt.plot_band()"
   ]
  },
  {
   "cell_type": "code",
   "execution_count": null,
   "id": "16ab551c-5b4f-41a9-9d20-887c490ffe20",
   "metadata": {},
   "outputs": [],
   "source": [
    "basename = outputdir/f'neb_{len(neb_ci.images)}images_fmax{fmax}'\n",
    "trajfile = f'{basename}.traj'\n",
    "print(trajfile)\n",
    "write(trajfile, neb_ci.images)"
   ]
  },
  {
   "cell_type": "code",
   "execution_count": null,
   "id": "8e5c5bdd-19c6-43a4-b168-f9de031b7ec3",
   "metadata": {},
   "outputs": [],
   "source": [
    "pngfile = f'{basename}.png'\n",
    "print(pngfile)\n",
    "fig, ax = plt.subplots(figsize=(8,6))\n",
    "NEBTools(neb_ci.images).plot_band(ax=ax)\n",
    "fig.savefig(pngfile)"
   ]
  },
  {
   "cell_type": "code",
   "execution_count": null,
   "id": "edaea98d-1750-4305-b15e-c3670fbc526d",
   "metadata": {},
   "outputs": [],
   "source": [
    "giffile = f'{basename}.gif'\n",
    "images = read(trajfile, index=':')\n",
    "for a in images:\n",
    "    a.rotate(140, 'z')\n",
    "#    a.rotate(-30, 'x')\n",
    "    a.rotate(100, 'y')\n",
    "\n",
    "traj_to_gif(\n",
    "    images,\n",
    "    gif_filepath=giffile,\n",
    "    povdir=outputdir / \"pov\",\n",
    "    pngdir=outputdir / \"png\",\n",
    "    clean=False,\n",
    ")\n",
    "Image(giffile)"
   ]
  },
  {
   "cell_type": "markdown",
   "id": "d89926a2-a538-4aff-a4fa-7a44fa785a59",
   "metadata": {},
   "source": [
    "## 6. Real-size etching simulation\n",
    "\n",
    "* I use the LightPFP model for simulate the etching process on a large SiO2 slab.\n",
    "* SiO2 slab size: ~ 10nm x 10nm x 10nm, with 72000 atoms.\n",
    "* 1000 HF molecule is injected. The kinetic energy is 40 eV.\n",
    "* HF molecules etch only the central area (2nm x 2nm) of slab.\n",
    "* The simulation cost about 45 hours.\n",
    "\n",
    "* Here, the slice of SiO2 slab after etching is presented. A clear etching hole with depth more than 2 nm is observed.\n",
    "\n",
    "**Depth 0~1 nm**\n",
    "\n",
    "<img src=\"assets/top_1.png\" width=\"300\">\n",
    "\n",
    "**Depth 1~2 nm**\n",
    "\n",
    "<img src=\"assets/top_2.png\" width=\"300\">\n",
    "\n",
    "**Depth 2~3 nm**\n",
    "\n",
    "<img src=\"assets/top_3.png\" width=\"300\">\n",
    "\n"
   ]
  },
  {
   "cell_type": "code",
   "execution_count": null,
   "id": "20c070df-fef0-4828-81a7-5838fa16d24f",
   "metadata": {},
   "outputs": [],
   "source": [
    "import os\n",
    "import numpy as np\n",
    "from time import perf_counter\n",
    "\n",
    "from ase import units\n",
    "from ase.io import read\n",
    "from ase.constraints import FixAtoms\n",
    "from ase.build import molecule\n",
    "from ase.md.nvtberendsen import NVTBerendsen\n",
    "from ase.md.verlet import VelocityVerlet\n",
    "from ase.md.velocitydistribution import MaxwellBoltzmannDistribution\n",
    "\n",
    "from light_pfp_client.estimator import Estimator\n",
    "from light_pfp_client.ase_calculator import ASECalculator"
   ]
  },
  {
   "cell_type": "code",
   "execution_count": null,
   "id": "0d56b1b7-d536-414b-8e94-3756a364316f",
   "metadata": {},
   "outputs": [],
   "source": [
    "# model_id = \"\"  # Please use the last LightPFP model generated from active learning\n",
    "estimator = Estimator(model_id=model_id, book_keeping=True)\n",
    "calc = ASECalculator(estimator)"
   ]
  },
  {
   "cell_type": "code",
   "execution_count": null,
   "id": "17400347-1d91-4dc8-b716-ef515cb40547",
   "metadata": {},
   "outputs": [],
   "source": [
    "class InsertMol:\n",
    "    def __init__(self, dyn, incident_energy, init_z, xrange, yrange):\n",
    "        self.dyn = dyn\n",
    "        self.incident_energy = incident_energy\n",
    "        self.init_z = init_z\n",
    "        self.xrange = xrange\n",
    "        self.yrange = yrange\n",
    "    \n",
    "    def _init_pos(self):\n",
    "        init_x = self.xrange[0] + np.random.random() * (self.xrange[1] - self.xrange[0])\n",
    "        init_y = self.yrange[0] + np.random.random() * (self.yrange[1] - self.yrange[0])\n",
    "        return init_x, init_y\n",
    "        \n",
    "    def __call__(self):\n",
    "        atoms = self.dyn.atoms\n",
    "        if self.dyn.nsteps == 0:\n",
    "            init_x, init_y = self._init_pos()\n",
    "            mol = molecule(\"HF\")\n",
    "            mol.euler_rotate(np.random.random()*360, np.random.random()*180, np.random.random()*360)\n",
    "            mol.positions += np.array([[init_x, init_y, self.init_z]])\n",
    "            vel = (2 * self.incident_energy / mol.get_masses().sum())**0.5\n",
    "            momenta = np.zeros_like(mol.positions)\n",
    "            momenta[:, 2] = -mol.get_masses() * vel\n",
    "            mol.set_momenta(momenta)\n",
    "            atoms += mol        \n",
    "        "
   ]
  },
  {
   "cell_type": "code",
   "execution_count": null,
   "id": "06bd1ed4-a614-4283-8525-3b44641b51f5",
   "metadata": {},
   "outputs": [],
   "source": [
    "# From intial state\n",
    "n_init = -1\n",
    "atoms = read(\"structures/SiO2_surface_20x20x20.xyz\")\n",
    "\n",
    "atoms.calc = calc"
   ]
  },
  {
   "cell_type": "code",
   "execution_count": null,
   "id": "cbaa3195-5c1b-4cd5-89b5-be257c02c738",
   "metadata": {},
   "outputs": [],
   "source": [
    "n_iter = 1000\n",
    "kinetic_energy = 40.0\n",
    "init_z = 150.0\n",
    "xrange = [15, 35]\n",
    "yrange = [35, 55]"
   ]
  },
  {
   "cell_type": "code",
   "execution_count": null,
   "id": "bb2dc697-cb17-4f1a-bc30-adca968a6b78",
   "metadata": {},
   "outputs": [],
   "source": [
    "snapshot_dir = Path(\"snapshot\")\n",
    "snapshot_dir.mkdir(exist_ok=True)"
   ]
  },
  {
   "cell_type": "code",
   "execution_count": null,
   "id": "8707b0eb-e5dc-437f-a20d-60bc55954b12",
   "metadata": {},
   "outputs": [],
   "source": [
    "class PrintDyn:\n",
    "    def __init__(self, dyn, logfile=None):\n",
    "        self.dyn = dyn\n",
    "        self.st = perf_counter()\n",
    "        self.logfile = logfile\n",
    "        if self.logfile is not None:\n",
    "            with open(self.logfile, \"w\") as fd:\n",
    "                fd.write(\"# step E_tot E_pot density T elapsed_time\\n\")\n",
    "    def __call__(self):\n",
    "        dyn = self.dyn\n",
    "        msg = (\n",
    "            f\"{dyn.get_number_of_steps(): 6d} {atoms.get_total_energy():.3f} {atoms.get_potential_energy():.3f} \"\n",
    "            f\"{atoms.get_masses().sum() / units.kg / atoms.get_volume() * 1e27:.5f} \"\n",
    "            f\"{atoms.get_temperature():.1f} {perf_counter() - self.st:.2f}\"\n",
    "        )\n",
    "        print(msg)\n",
    "        if self.logfile is not None:\n",
    "            with open(self.logfile, \"a\") as fd:\n",
    "                fd.write(msg+\"\\n\")"
   ]
  },
  {
   "cell_type": "code",
   "execution_count": null,
   "id": "543efcbb-6804-41d9-81fd-ff42eab2defc",
   "metadata": {},
   "outputs": [],
   "source": [
    "logger = PrintDyn(None, snapshot_dir / \"md.log\")\n",
    "\n",
    "# Fix the bottom 10 A\n",
    "ind = atoms.positions[:, 2] < 10.0\n",
    "fix_atoms = FixAtoms(mask=ind)\n",
    "atoms.set_constraint(fix_atoms)\n",
    "\n",
    "# Initial MD simulation\n",
    "MaxwellBoltzmannDistribution(atoms, temperature_K=300.0)\n",
    "md0 = NVTBerendsen(atoms, units.fs, temperature_K=300.0, taut=500 * units.fs)\n",
    "logger.dyn = md0\n",
    "md0.attach(logger, interval=100)\n",
    "md0.run(steps = 5000)\n",
    "\n",
    "for n in range(n_init+1, n_iter):\n",
    "    md1 = VelocityVerlet(atoms, 0.5 * units.fs)\n",
    "    insert_mol = InsertMol(md1, kinetic_energy, init_z, xrange, yrange)\n",
    "    md1.attach(insert_mol, interval=1)\n",
    "    logger.dyn = md1\n",
    "    md1.attach(logger, interval=100)\n",
    "    md1.run(400)\n",
    "    md2 = NVTBerendsen(atoms, units.fs, temperature_K=300.0, taut=500 * units.fs)\n",
    "    logger.dyn = md2\n",
    "    md2.attach(logger, interval=100)\n",
    "    md2.run(300)\n",
    "    atoms.wrap()\n",
    "    atoms.write(snapshot_dir / f\"snapshot_{n}.xyz\")"
   ]
  },
  {
   "cell_type": "code",
   "execution_count": null,
   "id": "09266f59-6d61-4524-b110-af8baaa3f0a2",
   "metadata": {},
   "outputs": [],
   "source": [
    "init = read(\"structures/SiO2_surface_20x20x20.xyz\")\n",
    "final = read(\"snapshot/snapshot_999.xyz\")\n",
    "z_top = init.positions[:,2].max()"
   ]
  },
  {
   "cell_type": "code",
   "execution_count": null,
   "id": "59c4fe51-9b26-4d8d-a2b1-334714783a2f",
   "metadata": {},
   "outputs": [],
   "source": [
    "from ase.visualize import view\n",
    "\n",
    "ind = (final.positions[:,2] < z_top+5.0) & (final.positions[:,2] > z_top-10.0)\n",
    "view(final[ind], viewer=\"ngl\")"
   ]
  },
  {
   "cell_type": "code",
   "execution_count": null,
   "id": "5ecb5356-144f-4ae6-b945-296c0822390b",
   "metadata": {},
   "outputs": [],
   "source": [
    "ind = (final.positions[:,2] < z_top-10.0) & (final.positions[:,2] > z_top-20.0)\n",
    "view(final[ind], viewer=\"ngl\")"
   ]
  },
  {
   "cell_type": "code",
   "execution_count": null,
   "id": "6cc8dbca-fbcc-4249-98a4-7b73628e21cc",
   "metadata": {},
   "outputs": [],
   "source": [
    "ind = (final.positions[:,2] < z_top-20.0) & (final.positions[:,2] > z_top-30.0)\n",
    "view(final[ind], viewer=\"ngl\")"
   ]
  },
  {
   "cell_type": "code",
   "execution_count": null,
   "id": "3a16e535-e729-434a-8f41-80924c7486e0",
   "metadata": {},
   "outputs": [],
   "source": []
  }
 ],
 "metadata": {
  "kernelspec": {
   "display_name": "1: Python 3.9",
   "language": "python",
   "name": "python39"
  },
  "language_info": {
   "codemirror_mode": {
    "name": "ipython",
    "version": 3
   },
   "file_extension": ".py",
   "mimetype": "text/x-python",
   "name": "python",
   "nbconvert_exporter": "python",
   "pygments_lexer": "ipython3",
   "version": "3.9.16"
  },
  "widgets": {
   "application/vnd.jupyter.widget-state+json": {
    "state": {},
    "version_major": 2,
    "version_minor": 0
   }
  }
 },
 "nbformat": 4,
 "nbformat_minor": 5
}
